{
 "cells": [
  {
   "cell_type": "code",
   "execution_count": 1,
   "id": "c1070317-3ed9-4659-abe3-828943230e03",
   "metadata": {},
   "outputs": [],
   "source": [
    "from dotenv import load_dotenv\n",
    "from IPython.display import Markdown, display, update_display\n",
    "from openai import OpenAI\n",
    "import ollama"
   ]
  },
  {
   "cell_type": "code",
   "execution_count": 2,
   "id": "4a456906-915a-4bfd-bb9d-57e505c5093f",
   "metadata": {},
   "outputs": [],
   "source": [
    "MODEL_GPT = 'gpt-4o-mini'\n",
    "MODEL_LLAMA = 'llama3.2'"
   ]
  },
  {
   "cell_type": "code",
   "execution_count": 3,
   "id": "a8d7923c-5f28-4c30-8556-342d7c8497c1",
   "metadata": {},
   "outputs": [],
   "source": [
    "load_dotenv()\n",
    "openai = OpenAI()"
   ]
  },
  {
   "cell_type": "code",
   "execution_count": 4,
   "id": "3f0d0137-52b0-47a8-81a8-11a90a010798",
   "metadata": {},
   "outputs": [],
   "source": [
    "question = \"\"\"\n",
    "Please explain what this code does and why:\n",
    "yield from {book.get(\"author\") for book in books if book.get(\"author\")}\n",
    "\"\"\""
   ]
  },
  {
   "cell_type": "code",
   "execution_count": 5,
   "id": "8595807b-8ae2-4e1b-95d9-e8532142e8bb",
   "metadata": {},
   "outputs": [],
   "source": [
    "system_prompt = \"You are a helpful technical tutor who answers questions about python code, software engineering, data science and LLMs\"\n",
    "user_prompt = \"Please give a detailed explanation to the following question: \" + question"
   ]
  },
  {
   "cell_type": "code",
   "execution_count": 6,
   "id": "9605cbb6-3d3f-4969-b420-7f4cae0b9328",
   "metadata": {},
   "outputs": [
    {
     "data": {
      "text/plain": [
       "[{'role': 'system',\n",
       "  'content': 'You are a helpful technical tutor who answers questions about python code, software engineering, data science and LLMs'},\n",
       " {'role': 'user',\n",
       "  'content': 'Please give a detailed explanation to the following question: \\nPlease explain what this code does and why:\\nyield from {book.get(\"author\") for book in books if book.get(\"author\")}\\n'}]"
      ]
     },
     "execution_count": 6,
     "metadata": {},
     "output_type": "execute_result"
    }
   ],
   "source": [
    "messages = [\n",
    "    {\"role\": \"system\", \"content\": system_prompt},\n",
    "    {\"role\": \"user\", \"content\": user_prompt}\n",
    "]\n",
    "# print(messages)\n",
    "messages"
   ]
  },
  {
   "cell_type": "code",
   "execution_count": 7,
   "id": "60ce7000-a4a5-4cce-a261-e75ef45063b4",
   "metadata": {},
   "outputs": [
    {
     "data": {
      "text/markdown": [
       "The code snippet you provided is using a **generator** expression along with **set comprehension** to yield authors from a collection of books. Let's break down the code step by step to understand its structure, functionality, and the reasons behind its components.\n",
       "\n",
       "### Breakdown of the Code\n",
       "\n",
       "1. **Context**: \n",
       "   - This line would typically be found inside a generator function (defined using the `def` keyword and containing the `yield` statement). It will yield values when called.\n",
       "\n",
       "2. **Yield Statement**: \n",
       "   - The `yield` keyword is used to produce a value from a generator function. When called, a generator function returns a generator iterator that produces a sequence of values over time, instead of computing them all at once and returning them in a list. This is useful for saving memory, especially when working with large datasets.\n",
       "\n",
       "3. **`from` Keyword**: \n",
       "   - The `yield from` syntax is a way to yield all values from an iterable (in this case, a set) directly from a generator function. It’s beneficial for delegating part of your generator’s responsibilities to another iterable, which makes your generator cleaner and easier to read.\n",
       "\n",
       "4. **Set Comprehension**:\n",
       "   - `{book.get(\"author\") for book in books if book.get(\"author\")}` is a set comprehension, which constructs a set from an iterable. \n",
       "\n",
       "5. **Iteration and Filtering**:\n",
       "   - The expression `for book in books` iterates over each `book` in a collection named `books`.\n",
       "   - `book.get(\"author\")` is trying to access the \"author\" key in each `book` dictionary (assuming `books` is a list of dictionaries, where each dictionary represents a book).\n",
       "   - `if book.get(\"author\")` is a filter that only includes the author's name if it is defined (i.e., not `None` or an empty string). The use of `book.get(\"author\")` is preferred over `book[\"author\"]` because `get` doesn't raise a `KeyError` if the key is missing; instead, it returns `None`.\n",
       "\n",
       "6. **Set Construction**:\n",
       "   - The entire set comprehension produces a set of unique authors because sets automatically discard duplicate entries. Thus, if a single author is associated with multiple books in the `books` collection, they will only appear once in the final set.\n",
       "\n",
       "### What the Code Does\n",
       "Thus, the code:\n",
       "\n",
       "- Iterates through each book in the `books` list,\n",
       "- Retrieves the author's name if it exists,\n",
       "- Filters out any books that do not have an author,\n",
       "- Constructs a set of unique author names,\n",
       "- And yields each unique author from the set one by one.\n",
       "\n",
       "### Why Use This Code?\n",
       "1. **Efficiency**: By using `yield from`, the code efficiently **yields** one author at a time without constructing a large intermediate list in memory. This is particularly useful for iterating through large datasets where you might not want to keep all authors in memory simultaneously.\n",
       "\n",
       "2. **Deduplication**: Using a set comprehension automatically handles the need to avoid duplicate authors, ensuring that each author is only yielded once.\n",
       "\n",
       "3. **Simplicity**: The structure of the code is clean and expresses the intent clearly—to gather and yield unique authors of books.\n",
       "\n",
       "### Example Usage\n",
       "Here is a hypothetical usage example for better clarity:\n",
       "\n",
       "python\n",
       "def unique_authors(books):\n",
       "    yield from {book.get(\"author\") for book in books if book.get(\"author\")}\n",
       "\n",
       "# Example book collection\n",
       "books = [\n",
       "    {\"title\": \"Book 1\", \"author\": \"Author A\"},\n",
       "    {\"title\": \"Book 2\", \"author\": \"Author B\"},\n",
       "    {\"title\": \"Book 3\", \"author\": \"Author A\"},  # Duplicate Author\n",
       "    {\"title\": \"Book 4\", \"author\": None},        # No Author\n",
       "    {\"title\": \"Book 5\", \"author\": \"Author C\"},\n",
       "]\n",
       "\n",
       "# Create a generator for unique authors\n",
       "authors = unique_authors(books)\n",
       "\n",
       "# Iterate through unique authors\n",
       "for author in authors:\n",
       "    print(author)\n",
       "\n",
       "\n",
       "In this hypothetical scenario, running the code would yield:\n",
       "\n",
       "Author A\n",
       "Author B\n",
       "Author C\n",
       "\n",
       "Each unique author is printed once, demonstrating the effectiveness of the original code."
      ],
      "text/plain": [
       "<IPython.core.display.Markdown object>"
      ]
     },
     "metadata": {},
     "output_type": "display_data"
    }
   ],
   "source": [
    "stream = openai.chat.completions.create(model=MODEL_GPT, messages=messages, stream=True)\n",
    "    \n",
    "response = \"\"\n",
    "display_handle = display(Markdown(\"\"), display_id=True)\n",
    "for chunk in stream:\n",
    "    response += chunk.choices[0].delta.content or ''\n",
    "    response = response.replace(\"```\",\"\").replace(\"markdown\", \"\")\n",
    "    update_display(Markdown(response), display_id=display_handle.display_id)"
   ]
  },
  {
   "cell_type": "code",
   "execution_count": 8,
   "id": "8f7c8ea8-4082-4ad0-8751-3301adcf6538",
   "metadata": {},
   "outputs": [
    {
     "data": {
      "text/markdown": [
       "**Delegating Generator Expression with `yield from`**\n",
       "\n",
       "The given code snippet is using Python's generator expression and the `yield from` keyword to create a delegating iterator that retrieves authors from a list of books.\n",
       "\n",
       "Here's a breakdown of what each part does:\n",
       "\n",
       "1. `{book.get(\"author\") for book in books if book.get(\"author\")}`:\n",
       "\t* This is an iterator expression, which generates values on-the-fly without storing them in memory.\n",
       "\t* `for book in books` iterates over the list of books (`books`).\n",
       "\t* `if book.get(\"author\")` filters out books that don't have an `\"author\"` key (i.e., missing or empty authors).\n",
       "\t* `book.get(\"author\")` extracts the author's name from each book dictionary.\n",
       "2. `yield from ...`:\n",
       "\t* This is a special syntax in Python 3.3+ for delegating control to another iterator.\n",
       "\t* When used with an iterator expression, it yields values directly from that iterator without creating a new one.\n",
       "\n",
       "So, when you put it all together:\n",
       "\n",
       "```python\n",
       "yield from {book.get(\"author\") for book in books if book.get(\"author\")}\n",
       "```\n",
       "\n",
       "This code creates a delegating generator that iterates over the `books` list and filters out books with missing authors. It then yields the author's name directly from each valid book dictionary.\n",
       "\n",
       "**Why is this useful?**\n",
       "\n",
       "Delegating iterators like this one are particularly helpful when:\n",
       "\n",
       "* You need to process a large dataset, but some data points may be filtered out due to missing information.\n",
       "* You want to avoid loading the entire dataset into memory at once.\n",
       "* You can't modify the original list of books (e.g., it's a read-only collection).\n",
       "\n",
       "In this case, the delegating generator expression allows you to iterate over the authors without having to create an intermediate iterator or collect all author names in memory.\n",
       "\n",
       "Example usage:\n",
       "\n",
       "```python\n",
       "books = [\n",
       "    {\"title\": \"Book 1\", \"author\": \"John Doe\"},\n",
       "    {\"title\": \"Book 2\", \"missing_author\"},\n",
       "    {\"title\": \"Book 3\", \"author\": \"Jane Smith\"}\n",
       "]\n",
       "\n",
       "for author in yield from {book.get(\"author\") for book in books if book.get(\"author\")}:\n",
       "    print(author)\n",
       "```\n",
       "\n",
       "Output:\n",
       "\n",
       "```\n",
       "John Doe\n",
       "Jane Smith\n",
       "```"
      ],
      "text/plain": [
       "<IPython.core.display.Markdown object>"
      ]
     },
     "metadata": {},
     "output_type": "display_data"
    }
   ],
   "source": [
    "response = ollama.chat(model=MODEL_LLAMA, messages=messages)\n",
    "reply = response['message']['content']\n",
    "display(Markdown(reply))"
   ]
  }
 ],
 "metadata": {
  "kernelspec": {
   "display_name": "Python 3 (ipykernel)",
   "language": "python",
   "name": "python3"
  },
  "language_info": {
   "codemirror_mode": {
    "name": "ipython",
    "version": 3
   },
   "file_extension": ".py",
   "mimetype": "text/x-python",
   "name": "python",
   "nbconvert_exporter": "python",
   "pygments_lexer": "ipython3",
   "version": "3.11.11"
  }
 },
 "nbformat": 4,
 "nbformat_minor": 5
}
