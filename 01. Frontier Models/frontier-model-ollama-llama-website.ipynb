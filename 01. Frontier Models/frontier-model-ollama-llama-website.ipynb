{
 "cells": [
  {
   "cell_type": "code",
   "execution_count": 1,
   "id": "4e2a9393-7767-488e-a8bf-27c12dca35bd",
   "metadata": {},
   "outputs": [],
   "source": [
    "import requests\n",
    "from bs4 import BeautifulSoup\n",
    "from IPython.display import Markdown, display\n",
    "import ollama"
   ]
  },
  {
   "cell_type": "code",
   "execution_count": 2,
   "id": "29ddd15d-a3c5-4f4e-a678-873f56162724",
   "metadata": {},
   "outputs": [],
   "source": [
    "MODEL = \"llama3.2\""
   ]
  },
  {
   "cell_type": "code",
   "execution_count": 3,
   "id": "c5e793b2-6775-426a-a139-4848291d0463",
   "metadata": {},
   "outputs": [],
   "source": [
    "class Website:\n",
    "    \"\"\"\n",
    "    A utility class to represent a Website that we have scraped\n",
    "    \"\"\"\n",
    "    url: str\n",
    "    title: str\n",
    "    text: str\n",
    "\n",
    "    def __init__(self, url):\n",
    "        \"\"\"\n",
    "        Create this Website object from the given url using the BeautifulSoup library\n",
    "        \"\"\"\n",
    "        self.url = url\n",
    "        response = requests.get(url)\n",
    "        soup = BeautifulSoup(response.content, 'html.parser')\n",
    "        self.title = soup.title.string if soup.title else \"No title found\"\n",
    "        for irrelevant in soup.body([\"script\", \"style\", \"img\", \"input\"]):\n",
    "            irrelevant.decompose()\n",
    "        self.text = soup.body.get_text(separator=\"\\n\", strip=True)"
   ]
  },
  {
   "cell_type": "code",
   "execution_count": 4,
   "id": "2ef960cf-6dc2-4cda-afb3-b38be12f4c97",
   "metadata": {},
   "outputs": [
    {
     "name": "stdout",
     "output_type": "stream",
     "text": [
      "Home - Edward Donner\n",
      "Home\n",
      "Outsmart\n",
      "An arena that pits LLMs against each other in a battle of diplomacy and deviousness\n",
      "About\n",
      "Posts\n",
      "Well, hi there.\n",
      "I’m Ed. I like writing code and experimenting with LLMs, and hopefully you’re here because you do too. I also enjoy DJing (but I’m badly out of practice), amateur electronic music production (\n",
      "very\n",
      "amateur) and losing myself in\n",
      "Hacker News\n",
      ", nodding my head sagely to things I only half understand.\n",
      "I’m the co-founder and CTO of\n",
      "Nebula.io\n",
      ". We’re applying AI to a field where it can make a massive, positive impact: helping people discover their potential and pursue their reason for being. Recruiters use our product today to source, understand, engage and manage talent. I’m previously the founder and CEO of AI startup untapt,\n",
      "acquired in 2021\n",
      ".\n",
      "We work with groundbreaking, proprietary LLMs verticalized for talent, we’ve\n",
      "patented\n",
      "our matching model, and our award-winning platform has happy customers and tons of press coverage.\n",
      "Connect\n",
      "with me for more!\n",
      "November 13, 2024\n",
      "Mastering AI and LLM Engineering – Resources\n",
      "October 16, 2024\n",
      "From Software Engineer to AI Data Scientist – resources\n",
      "August 6, 2024\n",
      "Outsmart LLM Arena – a battle of diplomacy and deviousness\n",
      "June 26, 2024\n",
      "Choosing the Right LLM: Toolkit and Resources\n",
      "Navigation\n",
      "Home\n",
      "Outsmart\n",
      "An arena that pits LLMs against each other in a battle of diplomacy and deviousness\n",
      "About\n",
      "Posts\n",
      "Get in touch\n",
      "ed [at] edwarddonner [dot] com\n",
      "www.edwarddonner.com\n",
      "Follow me\n",
      "LinkedIn\n",
      "Twitter\n",
      "Facebook\n",
      "Subscribe to newsletter\n",
      "Type your email…\n",
      "Subscribe\n"
     ]
    }
   ],
   "source": [
    "ed = Website(\"https://edwarddonner.com\")\n",
    "print(ed.title)\n",
    "print(ed.text)"
   ]
  },
  {
   "cell_type": "code",
   "execution_count": 5,
   "id": "abdb8417-c5dc-44bc-9bee-2e059d162699",
   "metadata": {},
   "outputs": [],
   "source": [
    "system_prompt = \"You are an assistant that analyzes the contents of a website \\\n",
    "and provides a short summary, ignoring text that might be navigation related. \\\n",
    "Respond in markdown.\""
   ]
  },
  {
   "cell_type": "code",
   "execution_count": 6,
   "id": "f0275b1b-7cfe-4f9d-abfa-7650d378da0c",
   "metadata": {},
   "outputs": [],
   "source": [
    "def user_prompt_for(website):\n",
    "    user_prompt = f\"You are looking at a website titled {website.title}\"\n",
    "    user_prompt += \"The contents of this website is as follows; \\\n",
    "please provide a short summary of this website in markdown. \\\n",
    "If it includes news or announcements, then summarize these too.\\n\\n\"\n",
    "    user_prompt += website.text\n",
    "    return user_prompt"
   ]
  },
  {
   "cell_type": "code",
   "execution_count": 7,
   "id": "0134dfa4-8299-48b5-b444-f2a8c3403c88",
   "metadata": {},
   "outputs": [],
   "source": [
    "def messages_for(website):\n",
    "    return [\n",
    "        {\"role\": \"system\", \"content\": system_prompt},\n",
    "        {\"role\": \"user\", \"content\": user_prompt_for(website)}\n",
    "    ]"
   ]
  },
  {
   "cell_type": "code",
   "execution_count": 8,
   "id": "905b9919-aba7-45b5-ae65-81b3d1d78e34",
   "metadata": {},
   "outputs": [],
   "source": [
    "def summarize(url):\n",
    "    website = Website(url)\n",
    "    messages = messages_for(website)\n",
    "    response = ollama.chat(model=MODEL, messages=messages)\n",
    "    return response['message']['content']"
   ]
  },
  {
   "cell_type": "code",
   "execution_count": 9,
   "id": "05e38d41-dfa4-4b20-9c96-c46ea75d9fb5",
   "metadata": {},
   "outputs": [
    {
     "data": {
      "text/plain": [
       "'**Summary of Edward Donner\\'s Website**\\n=====================================\\n\\n### About the Author\\n\\n*Edward Donner is a tech enthusiast and entrepreneur, with expertise in artificial intelligence and machine learning.*\\n\\n### Recent Announcements and News\\n\\n* **Mastering AI and LLM Engineering – Resources**: A collection of resources for mastering AI and large language models (LLMs).\\n* **From Software Engineer to AI Data Scientist – resources**: Resources to help transition from a software engineer to an AI data scientist.\\n* **Outsmart LLM Arena – a battle of diplomacy and deviousness**: An arena where LLMs compete against each other in a battle of wits, with the goal of developing more sophisticated AI systems.\\n* **Choosing the Right LLM: Toolkit and Resources**: A toolkit for choosing the right large language model (LLM) for a specific use case.\\n\\n### Website Overview\\n\\nThe website is a personal blog written by Edward Donner, where he shares his thoughts on artificial intelligence, machine learning, and related topics. The site includes various sections, including \"About\", \"Posts\", and \"Connect\", as well as links to social media profiles and a newsletter subscription form.'"
      ]
     },
     "execution_count": 9,
     "metadata": {},
     "output_type": "execute_result"
    }
   ],
   "source": [
    "summarize(\"https://edwarddonner.com\")"
   ]
  },
  {
   "cell_type": "code",
   "execution_count": 10,
   "id": "3d926d59-450e-4609-92ba-2d6f244f1342",
   "metadata": {},
   "outputs": [],
   "source": [
    "def display_summary(url):\n",
    "    summary = summarize(url)\n",
    "    display(Markdown(summary))"
   ]
  },
  {
   "cell_type": "code",
   "execution_count": 11,
   "id": "3018853a-445f-41ff-9560-d925d1774b2f",
   "metadata": {},
   "outputs": [
    {
     "data": {
      "text/markdown": [
       "# Summary of Edward Donner's Website\n",
       "\n",
       "### Overview\n",
       "Edward Donner is a writer, DJ, and entrepreneur who is passionate about Artificial Intelligence (AI) and Language Models (LLMs). He co-founded Nebula.io, an AI startup that applies AI to help people discover their potential.\n",
       "\n",
       "### Key Points\n",
       "\n",
       "* **About**: Ed shares his interests in writing code, DJing, and experimenting with LLMs. He also mentions his experience as the founder and CEO of AI startup untapt.\n",
       "* **Work**: He currently leads Nebula.io, applying AI to talent management and sourcing.\n",
       "* **Expertise**: He has patented their matching model and developed a platform using groundbreaking proprietary LLMs.\n",
       "\n",
       "### Recent Announcements\n",
       "\n",
       "* November 13, 2024: Mastering AI and LLM Engineering – Resources\n",
       "* October 16, 2024: From Software Engineer to AI Data Scientist – resources\n",
       "* August 6, 2024: Outsmart LLM Arena – a battle of diplomacy and deviousness\n",
       "* June 26, 2024: Choosing the Right LLM: Toolkit and Resources\n",
       "\n",
       "### Contact Information\n",
       "Edward Donner can be reached at ed [at] edwarddonner [dot] com or on his social media profiles:\n",
       "\n",
       "* LinkedIn: \n",
       "* Twitter:\n",
       "* Facebook:"
      ],
      "text/plain": [
       "<IPython.core.display.Markdown object>"
      ]
     },
     "metadata": {},
     "output_type": "display_data"
    }
   ],
   "source": [
    "display_summary(\"https://edwarddonner.com\")"
   ]
  },
  {
   "cell_type": "code",
   "execution_count": 12,
   "id": "45d83403-a24c-44b5-84ac-961449b4008f",
   "metadata": {},
   "outputs": [
    {
     "data": {
      "text/markdown": [
       "This appears to be a sample CNN website, and it includes various news articles, videos, and features on a wide range of topics, including politics, business, sports, entertainment, and more.\n",
       "\n",
       "If you're interested in finding specific information or topics, here are some suggestions:\n",
       "\n",
       "1. **Search the site**: You can use the search bar at the top of the page to find specific articles, videos, or features.\n",
       "2. **Browse categories**: Click on the \"Categories\" dropdown menu to explore news articles and features organized by topic, such as politics, business, sports, entertainment, and more.\n",
       "3. **Watch live TV**: CNN offers 24/7 live coverage of various news events, including politics, business, sports, and more. You can watch live TV on the \"Live\" tab or click on specific channels (e.g., \"CNN News\").\n",
       "4. **Listen to podcasts**: CNN has a range of audio podcasts covering topics such as science, space, entertainment, and more.\n",
       "5. **Explore sections**: Click on individual sections, such as \"World,\" \"Business,\" \"Sports,\" or \"Entertainment,\" to find relevant articles, videos, and features.\n",
       "\n",
       "Some specific article titles and links included in the sample website are:\n",
       "\n",
       "* \"A price too high to pay? Pollution from Ghana’s gold rush sparks maternal health fears\"\n",
       "* \"Nearly 1,000 endangered animals repatriated to Madagascar in anti-trafficking landmark\"\n",
       "* \"The most delicious Turkish dishes\"\n",
       "* \"Przewalski’s horse: Back from the brink\"\n",
       "\n",
       "Feel free to explore and find more content of interest!"
      ],
      "text/plain": [
       "<IPython.core.display.Markdown object>"
      ]
     },
     "metadata": {},
     "output_type": "display_data"
    }
   ],
   "source": [
    "display_summary(\"https://cnn.com\")"
   ]
  },
  {
   "cell_type": "code",
   "execution_count": 13,
   "id": "75e9fd40-b354-4341-991e-863ef2e59db7",
   "metadata": {},
   "outputs": [
    {
     "data": {
      "text/markdown": [
       "**Summary of Anthropic Website**\n",
       "==========================\n",
       "\n",
       "### Mission and Values\n",
       "\n",
       "* Anthropic is an AI safety and research company based in San Francisco.\n",
       "* The company aims to create reliable, beneficial AI systems through interdisciplinary research.\n",
       "\n",
       "### Products and Research\n",
       "\n",
       "* Claude: An intelligent AI model with various products, including Claude 3.5 Sonnet and Haiku.\n",
       "* Constitutional AI: Harmlessness from AI Feedback (research article).\n",
       "* Core Views on AI Safety: When, Why, What, and How (announcements).\n",
       "\n",
       "### Company Information\n",
       "\n",
       "* Anthropic is a pioneer in AI safety research and development.\n",
       "\n",
       "### News and Announcements\n",
       "\n",
       "* **Introducing computer use**: A new update to Claude 3.5 Sonnet and Haiku.\n",
       "* **Alignment**: Research on Constitutional AI: Harmlessness from AI Feedback was published (December 15, 2022).\n",
       "* **Core Views on AI Safety**: The company shared its core views on AI safety in March 2023.\n",
       "\n",
       "### About Anthropic\n",
       "\n",
       "* The company is led by an interdisciplinary team with experience across ML, physics, policy, and product.\n",
       "* See open roles for career opportunities."
      ],
      "text/plain": [
       "<IPython.core.display.Markdown object>"
      ]
     },
     "metadata": {},
     "output_type": "display_data"
    }
   ],
   "source": [
    "display_summary(\"https://anthropic.com\")"
   ]
  },
  {
   "cell_type": "code",
   "execution_count": 14,
   "id": "a145943f-847b-4e8a-8bb3-fe1bc4c2f94a",
   "metadata": {},
   "outputs": [
    {
     "data": {
      "text/markdown": [
       "**Resumen del sitio web**\n",
       "=====================================\n",
       "\n",
       "El sitio web de Edward Donner se centra en la aplicación de inteligencia artificial (IA) y lenguaje natural (LLM), con un énfasis en el desarrollo de tecnologías para ayudar a las personas a descubrir su potencial.\n",
       "\n",
       "**Noticias e información reciente**\n",
       "---------------------------------\n",
       "\n",
       "*   Se lanzó \"Outsmart LLM Arena\", una arena donde los modelos de lenguaje artificiales compiten en un duelo de diplomacia y astucia.\n",
       "*   En octubre del 2024 se publicaron recursos para \"Maestros de AI y Ingeniería de LLM\".\n",
       "*   En agosto del 2024 se lanzó una serie de recursos para los ingenieros de software que buscan convertirse en expertos en datos de IA.\n",
       "*   El sitio web tiene un blog donde se comparten actualizaciones sobre las últimas noticias e innovaciones relacionadas con la IA y LLM.\n",
       "\n",
       "**Información general**\n",
       "----------------------\n",
       "\n",
       "El sitio web es propiedad de Edward Donner, quien es el co-fundador y CTO de Nebula.io. La empresa está trabajando en aplicar la IA para ayudar a las personas a descubrir su potencial y pursuing sus razones de ser."
      ],
      "text/plain": [
       "<IPython.core.display.Markdown object>"
      ]
     },
     "metadata": {},
     "output_type": "display_data"
    }
   ],
   "source": [
    "system_prompt = \"You are an assistant that analyzes the contents of a website \\\n",
    "and provides a short summary, ignoring text that might be navigation related. \\\n",
    "Respond in markdown in Spanish.\"\n",
    "\n",
    "display_summary(\"https://edwarddonner.com\")"
   ]
  }
 ],
 "metadata": {
  "kernelspec": {
   "display_name": "Python 3 (ipykernel)",
   "language": "python",
   "name": "python3"
  },
  "language_info": {
   "codemirror_mode": {
    "name": "ipython",
    "version": 3
   },
   "file_extension": ".py",
   "mimetype": "text/x-python",
   "name": "python",
   "nbconvert_exporter": "python",
   "pygments_lexer": "ipython3",
   "version": "3.11.11"
  }
 },
 "nbformat": 4,
 "nbformat_minor": 5
}
