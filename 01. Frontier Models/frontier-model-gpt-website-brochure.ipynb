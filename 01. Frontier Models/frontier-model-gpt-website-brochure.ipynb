{
 "cells": [
  {
   "cell_type": "code",
   "execution_count": 1,
   "id": "d5b08506-dc8b-4443-9201-5f1848161363",
   "metadata": {},
   "outputs": [],
   "source": [
    "import os\n",
    "import requests\n",
    "import json\n",
    "from typing import List\n",
    "from dotenv import load_dotenv\n",
    "from bs4 import BeautifulSoup\n",
    "from IPython.display import Markdown, display, update_display\n",
    "from openai import OpenAI"
   ]
  },
  {
   "cell_type": "code",
   "execution_count": 2,
   "id": "fc5d8880-f2ee-4c06-af16-ecbc0262af61",
   "metadata": {},
   "outputs": [
    {
     "name": "stdout",
     "output_type": "stream",
     "text": [
      "API key looks good so far\n"
     ]
    }
   ],
   "source": [
    "load_dotenv()\n",
    "api_key = os.getenv('OPENAI_API_KEY')\n",
    "# print(api_key)\n",
    "\n",
    "if api_key and api_key.startswith('sk-proj-') and len(api_key)>10:\n",
    "    print(\"API key looks good so far\")\n",
    "else:\n",
    "    print(\"There might be a problem with your API key? Please visit the troubleshooting notebook!\")\n",
    "    \n",
    "MODEL = 'gpt-4o-mini'\n",
    "openai = OpenAI()"
   ]
  },
  {
   "cell_type": "code",
   "execution_count": 3,
   "id": "106dd65e-90af-4ca8-86b6-23a41840645b",
   "metadata": {},
   "outputs": [],
   "source": [
    "class Website:\n",
    "    \"\"\"\n",
    "    A utility class to represent a Website that we have scraped, now with links\n",
    "    \"\"\"\n",
    "\n",
    "    def __init__(self, url):\n",
    "        self.url = url\n",
    "        response = requests.get(url)\n",
    "        self.body = response.content\n",
    "        soup = BeautifulSoup(self.body, 'html.parser')\n",
    "        self.title = soup.title.string if soup.title else \"No title found\"\n",
    "        if soup.body:\n",
    "            for irrelevant in soup.body([\"script\", \"style\", \"img\", \"input\"]):\n",
    "                irrelevant.decompose()\n",
    "            self.text = soup.body.get_text(separator=\"\\n\", strip=True)\n",
    "        else:\n",
    "            self.text = \"\"\n",
    "        links = [link.get('href') for link in soup.find_all('a')]\n",
    "        self.links = [link for link in links if link]\n",
    "\n",
    "    def get_contents(self):\n",
    "        return f\"Webpage Title:\\n{self.title}\\nWebpage Contents:\\n{self.text}\\n\\n\""
   ]
  },
  {
   "cell_type": "code",
   "execution_count": 4,
   "id": "e30d8128-933b-44cc-81c8-ab4c9d86589a",
   "metadata": {},
   "outputs": [
    {
     "data": {
      "text/plain": [
       "['https://edwarddonner.com/',\n",
       " 'https://edwarddonner.com/outsmart/',\n",
       " 'https://edwarddonner.com/about-me-and-about-nebula/',\n",
       " 'https://edwarddonner.com/posts/',\n",
       " 'https://edwarddonner.com/',\n",
       " 'https://news.ycombinator.com',\n",
       " 'https://nebula.io/?utm_source=ed&utm_medium=referral',\n",
       " 'https://www.prnewswire.com/news-releases/wynden-stark-group-acquires-nyc-venture-backed-tech-startup-untapt-301269512.html',\n",
       " 'https://patents.google.com/patent/US20210049536A1/',\n",
       " 'https://www.linkedin.com/in/eddonner/',\n",
       " 'https://edwarddonner.com/2024/11/13/llm-engineering-resources/',\n",
       " 'https://edwarddonner.com/2024/11/13/llm-engineering-resources/',\n",
       " 'https://edwarddonner.com/2024/10/16/from-software-engineer-to-ai-data-scientist-resources/',\n",
       " 'https://edwarddonner.com/2024/10/16/from-software-engineer-to-ai-data-scientist-resources/',\n",
       " 'https://edwarddonner.com/2024/08/06/outsmart/',\n",
       " 'https://edwarddonner.com/2024/08/06/outsmart/',\n",
       " 'https://edwarddonner.com/2024/06/26/choosing-the-right-llm-resources/',\n",
       " 'https://edwarddonner.com/2024/06/26/choosing-the-right-llm-resources/',\n",
       " 'https://edwarddonner.com/',\n",
       " 'https://edwarddonner.com/outsmart/',\n",
       " 'https://edwarddonner.com/about-me-and-about-nebula/',\n",
       " 'https://edwarddonner.com/posts/',\n",
       " 'mailto:hello@mygroovydomain.com',\n",
       " 'https://www.linkedin.com/in/eddonner/',\n",
       " 'https://twitter.com/edwarddonner',\n",
       " 'https://www.facebook.com/edward.donner.52']"
      ]
     },
     "execution_count": 4,
     "metadata": {},
     "output_type": "execute_result"
    }
   ],
   "source": [
    "ed = Website(\"https://edwarddonner.com\")\n",
    "ed.links\n",
    "# print(ed.links)"
   ]
  },
  {
   "cell_type": "code",
   "execution_count": 5,
   "id": "55467e06-b5d4-4e8b-861b-b85d72ae84c2",
   "metadata": {},
   "outputs": [
    {
     "name": "stdout",
     "output_type": "stream",
     "text": [
      "Webpage Title:\n",
      "Home - Edward Donner\n",
      "Webpage Contents:\n",
      "Home\n",
      "Outsmart\n",
      "An arena that pits LLMs against each other in a battle of diplomacy and deviousness\n",
      "About\n",
      "Posts\n",
      "Well, hi there.\n",
      "I’m Ed. I like writing code and experimenting with LLMs, and hopefully you’re here because you do too. I also enjoy DJing (but I’m badly out of practice), amateur electronic music production (\n",
      "very\n",
      "amateur) and losing myself in\n",
      "Hacker News\n",
      ", nodding my head sagely to things I only half understand.\n",
      "I’m the co-founder and CTO of\n",
      "Nebula.io\n",
      ". We’re applying AI to a field where it can make a massive, positive impact: helping people discover their potential and pursue their reason for being. Recruiters use our product today to source, understand, engage and manage talent. I’m previously the founder and CEO of AI startup untapt,\n",
      "acquired in 2021\n",
      ".\n",
      "We work with groundbreaking, proprietary LLMs verticalized for talent, we’ve\n",
      "patented\n",
      "our matching model, and our award-winning platform has happy customers and tons of press coverage.\n",
      "Connect\n",
      "with me for more!\n",
      "November 13, 2024\n",
      "Mastering AI and LLM Engineering – Resources\n",
      "October 16, 2024\n",
      "From Software Engineer to AI Data Scientist – resources\n",
      "August 6, 2024\n",
      "Outsmart LLM Arena – a battle of diplomacy and deviousness\n",
      "June 26, 2024\n",
      "Choosing the Right LLM: Toolkit and Resources\n",
      "Navigation\n",
      "Home\n",
      "Outsmart\n",
      "An arena that pits LLMs against each other in a battle of diplomacy and deviousness\n",
      "About\n",
      "Posts\n",
      "Get in touch\n",
      "ed [at] edwarddonner [dot] com\n",
      "www.edwarddonner.com\n",
      "Follow me\n",
      "LinkedIn\n",
      "Twitter\n",
      "Facebook\n",
      "Subscribe to newsletter\n",
      "Type your email…\n",
      "Subscribe\n",
      "\n",
      "\n"
     ]
    }
   ],
   "source": [
    "# ed.get_contents()\n",
    "print(ed.get_contents())"
   ]
  },
  {
   "cell_type": "code",
   "execution_count": 6,
   "id": "6957b079-0d96-45f7-a26a-3487510e9b35",
   "metadata": {},
   "outputs": [],
   "source": [
    "link_system_prompt = \"You are provided with a list of links found on a webpage. \\\n",
    "You are able to decide which of the links would be most relevant to include in a brochure about the company, \\\n",
    "such as links to an About page, or a Company page, or Careers/Jobs pages.\\n\"\n",
    "link_system_prompt += \"You should respond in JSON as in this example:\"\n",
    "link_system_prompt += \"\"\"\n",
    "{\n",
    "    \"links\": [\n",
    "        {\"type\": \"about page\", \"url\": \"https://full.url/goes/here/about\"},\n",
    "        {\"type\": \"careers page\": \"url\": \"https://another.full.url/careers\"}\n",
    "    ]\n",
    "}\n",
    "\"\"\""
   ]
  },
  {
   "cell_type": "code",
   "execution_count": 7,
   "id": "b97e4068-97ed-4120-beae-c42105e4d59a",
   "metadata": {},
   "outputs": [
    {
     "name": "stdout",
     "output_type": "stream",
     "text": [
      "You are provided with a list of links found on a webpage. You are able to decide which of the links would be most relevant to include in a brochure about the company, such as links to an About page, or a Company page, or Careers/Jobs pages.\n",
      "You should respond in JSON as in this example:\n",
      "{\n",
      "    \"links\": [\n",
      "        {\"type\": \"about page\", \"url\": \"https://full.url/goes/here/about\"},\n",
      "        {\"type\": \"careers page\": \"url\": \"https://another.full.url/careers\"}\n",
      "    ]\n",
      "}\n",
      "\n"
     ]
    }
   ],
   "source": [
    "print(link_system_prompt)"
   ]
  },
  {
   "cell_type": "code",
   "execution_count": 8,
   "id": "8e1f601b-2eaf-499d-b6b8-c99050c9d6b3",
   "metadata": {},
   "outputs": [],
   "source": [
    "def get_links_user_prompt(website):\n",
    "    user_prompt = f\"Here is the list of links on the website of {website.url} - \"\n",
    "    user_prompt += \"please decide which of these are relevant web links for a brochure about the company, respond with the full https URL in JSON format. \\\n",
    "Do not include Terms of Service, Privacy, email links.\\n\"\n",
    "    user_prompt += \"Links (some might be relative links):\\n\"\n",
    "    user_prompt += \"\\n\".join(website.links)\n",
    "    return user_prompt"
   ]
  },
  {
   "cell_type": "code",
   "execution_count": 9,
   "id": "6bcbfa78-6395-4685-b92c-22d592050fd7",
   "metadata": {},
   "outputs": [
    {
     "name": "stdout",
     "output_type": "stream",
     "text": [
      "Here is the list of links on the website of https://edwarddonner.com - please decide which of these are relevant web links for a brochure about the company, respond with the full https URL in JSON format. Do not include Terms of Service, Privacy, email links.\n",
      "Links (some might be relative links):\n",
      "https://edwarddonner.com/\n",
      "https://edwarddonner.com/outsmart/\n",
      "https://edwarddonner.com/about-me-and-about-nebula/\n",
      "https://edwarddonner.com/posts/\n",
      "https://edwarddonner.com/\n",
      "https://news.ycombinator.com\n",
      "https://nebula.io/?utm_source=ed&utm_medium=referral\n",
      "https://www.prnewswire.com/news-releases/wynden-stark-group-acquires-nyc-venture-backed-tech-startup-untapt-301269512.html\n",
      "https://patents.google.com/patent/US20210049536A1/\n",
      "https://www.linkedin.com/in/eddonner/\n",
      "https://edwarddonner.com/2024/11/13/llm-engineering-resources/\n",
      "https://edwarddonner.com/2024/11/13/llm-engineering-resources/\n",
      "https://edwarddonner.com/2024/10/16/from-software-engineer-to-ai-data-scientist-resources/\n",
      "https://edwarddonner.com/2024/10/16/from-software-engineer-to-ai-data-scientist-resources/\n",
      "https://edwarddonner.com/2024/08/06/outsmart/\n",
      "https://edwarddonner.com/2024/08/06/outsmart/\n",
      "https://edwarddonner.com/2024/06/26/choosing-the-right-llm-resources/\n",
      "https://edwarddonner.com/2024/06/26/choosing-the-right-llm-resources/\n",
      "https://edwarddonner.com/\n",
      "https://edwarddonner.com/outsmart/\n",
      "https://edwarddonner.com/about-me-and-about-nebula/\n",
      "https://edwarddonner.com/posts/\n",
      "mailto:hello@mygroovydomain.com\n",
      "https://www.linkedin.com/in/eddonner/\n",
      "https://twitter.com/edwarddonner\n",
      "https://www.facebook.com/edward.donner.52\n"
     ]
    }
   ],
   "source": [
    "print(get_links_user_prompt(ed))"
   ]
  },
  {
   "cell_type": "code",
   "execution_count": 10,
   "id": "a29aca19-ca13-471c-a4b4-5abbfa813f69",
   "metadata": {},
   "outputs": [],
   "source": [
    "def get_links(url):\n",
    "    website = Website(url)\n",
    "    response = openai.chat.completions.create(\n",
    "        model=MODEL,\n",
    "        messages=[\n",
    "            {\"role\": \"system\", \"content\": link_system_prompt},\n",
    "            {\"role\": \"user\", \"content\": get_links_user_prompt(website)}\n",
    "      ],\n",
    "        response_format={\"type\": \"json_object\"}\n",
    "    )\n",
    "    result = response.choices[0].message.content\n",
    "    return json.loads(result)"
   ]
  },
  {
   "cell_type": "code",
   "execution_count": 11,
   "id": "74a827a0-2782-4ae5-b210-4a242a8b4cc2",
   "metadata": {},
   "outputs": [
    {
     "data": {
      "text/plain": [
       "['/',\n",
       " '/claude',\n",
       " '/team',\n",
       " '/enterprise',\n",
       " '/api',\n",
       " '/pricing',\n",
       " '/research',\n",
       " '/company',\n",
       " '/careers',\n",
       " '/news',\n",
       " 'https://www.anthropic.com/research#entry:8@1:url',\n",
       " 'https://www.anthropic.com/claude',\n",
       " 'https://claude.ai/',\n",
       " '/api',\n",
       " '/news/3-5-models-and-computer-use',\n",
       " '/claude/sonnet',\n",
       " '/claude/haiku',\n",
       " '/news/claude-for-enterprise',\n",
       " '/research/constitutional-ai-harmlessness-from-ai-feedback',\n",
       " '/news/core-views-on-ai-safety',\n",
       " '/jobs',\n",
       " '/',\n",
       " '/claude',\n",
       " '/api',\n",
       " '/team',\n",
       " '/pricing',\n",
       " '/research',\n",
       " '/company',\n",
       " '/customers',\n",
       " '/news',\n",
       " '/careers',\n",
       " 'mailto:press@anthropic.com',\n",
       " 'https://support.anthropic.com/',\n",
       " 'https://status.anthropic.com/',\n",
       " '/supported-countries',\n",
       " 'https://twitter.com/AnthropicAI',\n",
       " 'https://www.linkedin.com/company/anthropicresearch',\n",
       " 'https://www.youtube.com/@anthropic-ai',\n",
       " '/legal/consumer-terms',\n",
       " '/legal/commercial-terms',\n",
       " '/legal/privacy',\n",
       " '/legal/aup',\n",
       " '/responsible-disclosure-policy',\n",
       " 'https://trust.anthropic.com/']"
      ]
     },
     "execution_count": 11,
     "metadata": {},
     "output_type": "execute_result"
    }
   ],
   "source": [
    "anthropic = Website(\"https://anthropic.com\")\n",
    "anthropic.links"
   ]
  },
  {
   "cell_type": "code",
   "execution_count": 12,
   "id": "d3d583e2-dcc4-40cc-9b28-1e8dbf402924",
   "metadata": {},
   "outputs": [
    {
     "data": {
      "text/plain": [
       "{'links': [{'type': 'about page', 'url': 'https://anthropic.com/company'},\n",
       "  {'type': 'careers page', 'url': 'https://anthropic.com/careers'},\n",
       "  {'type': 'team page', 'url': 'https://anthropic.com/team'},\n",
       "  {'type': 'research page', 'url': 'https://anthropic.com/research'},\n",
       "  {'type': 'news page', 'url': 'https://anthropic.com/news'}]}"
      ]
     },
     "execution_count": 12,
     "metadata": {},
     "output_type": "execute_result"
    }
   ],
   "source": [
    "get_links(\"https://anthropic.com\")"
   ]
  },
  {
   "cell_type": "code",
   "execution_count": 13,
   "id": "85a5b6e2-e7ef-44a9-bc7f-59ede71037b5",
   "metadata": {},
   "outputs": [],
   "source": [
    "def get_all_details(url):\n",
    "    result = \"Landing page:\\n\"\n",
    "    result += Website(url).get_contents()\n",
    "    links = get_links(url)\n",
    "    print(\"Found links:\", links)\n",
    "    for link in links[\"links\"]:\n",
    "        result += f\"\\n\\n{link['type']}\\n\"\n",
    "        result += Website(link[\"url\"]).get_contents()\n",
    "    return result"
   ]
  },
  {
   "cell_type": "code",
   "execution_count": 14,
   "id": "5099bd14-076d-4745-baf3-dac08d8e5ab2",
   "metadata": {},
   "outputs": [],
   "source": [
    "# print(get_all_details(\"https://anthropic.com\"))"
   ]
  },
  {
   "cell_type": "code",
   "execution_count": 15,
   "id": "9b863a55-f86c-4e3f-8a79-94e24c1a8cf2",
   "metadata": {},
   "outputs": [],
   "source": [
    "system_prompt = \"You are an assistant that analyzes the contents of several relevant pages from a company website \\\n",
    "and creates a short brochure about the company for prospective customers, investors and recruits. Respond in markdown.\\\n",
    "Include details of company culture, customers and careers/jobs if you have the information.\"\n",
    "\n",
    "# Or uncomment the lines below for a more humorous brochure - this demonstrates how easy it is to incorporate 'tone':\n",
    "\n",
    "# system_prompt = \"You are an assistant that analyzes the contents of several relevant pages from a company website \\\n",
    "# and creates a short humorous, entertaining, jokey brochure about the company for prospective customers, investors and recruits. Respond in markdown.\\\n",
    "# Include details of company culture, customers and careers/jobs if you have the information.\"\n"
   ]
  },
  {
   "cell_type": "code",
   "execution_count": 16,
   "id": "6ab83d92-d36b-4ce0-8bcc-5bb4c2f8ff23",
   "metadata": {},
   "outputs": [],
   "source": [
    "def get_brochure_user_prompt(company_name, url):\n",
    "    user_prompt = f\"You are looking at a company called: {company_name}\\n\"\n",
    "    user_prompt += f\"Here are the contents of its landing page and other relevant pages; use this information to build a short brochure of the company in markdown.\\n\"\n",
    "    user_prompt += get_all_details(url)\n",
    "    user_prompt = user_prompt[:20_000] # Truncate if more than 20,000 characters\n",
    "    return user_prompt"
   ]
  },
  {
   "cell_type": "code",
   "execution_count": 17,
   "id": "cd909e0b-1312-4ce2-a553-821e795d7572",
   "metadata": {},
   "outputs": [],
   "source": [
    "# get_brochure_user_prompt(\"Anthropic\", \"https://anthropic.com\")"
   ]
  },
  {
   "cell_type": "code",
   "execution_count": 18,
   "id": "e44de579-4a1a-4e6a-a510-20ea3e4b8d46",
   "metadata": {},
   "outputs": [],
   "source": [
    "def create_brochure(company_name, url):\n",
    "    response = openai.chat.completions.create(\n",
    "        model=MODEL,\n",
    "        messages=[\n",
    "            {\"role\": \"system\", \"content\": system_prompt},\n",
    "            {\"role\": \"user\", \"content\": get_brochure_user_prompt(company_name, url)}\n",
    "          ],\n",
    "    )\n",
    "    result = response.choices[0].message.content\n",
    "    display(Markdown(result))"
   ]
  },
  {
   "cell_type": "code",
   "execution_count": 19,
   "id": "e093444a-9407-42ae-924a-145730591a39",
   "metadata": {},
   "outputs": [],
   "source": [
    "# create_brochure(\"Anthropic\", \"https://anthropic.com\")"
   ]
  },
  {
   "cell_type": "code",
   "execution_count": 20,
   "id": "51db0e49-f261-4137-aabe-92dd601f7725",
   "metadata": {},
   "outputs": [],
   "source": [
    "def stream_brochure(company_name, url):\n",
    "    stream = openai.chat.completions.create(\n",
    "        model=MODEL,\n",
    "        messages=[\n",
    "            {\"role\": \"system\", \"content\": system_prompt},\n",
    "            {\"role\": \"user\", \"content\": get_brochure_user_prompt(company_name, url)}\n",
    "          ],\n",
    "        stream=True\n",
    "    )\n",
    "\n",
    "    # for chunk in stream:\n",
    "    #     print(chunk.choices[0].delta.content or '', end='')\n",
    "    \n",
    "    response = \"\"\n",
    "    display_handle = display(Markdown(\"\"), display_id=True)\n",
    "    for chunk in stream:\n",
    "        response += chunk.choices[0].delta.content or ''\n",
    "        response = response.replace(\"```\",\"\").replace(\"markdown\", \"\")\n",
    "        update_display(Markdown(response), display_id=display_handle.display_id)"
   ]
  },
  {
   "cell_type": "code",
   "execution_count": 21,
   "id": "56bf0ae3-ee9d-4a72-9cd6-edcac67ceb6d",
   "metadata": {},
   "outputs": [
    {
     "name": "stdout",
     "output_type": "stream",
     "text": [
      "Found links: {'links': [{'type': 'about page', 'url': 'https://anthropic.com/company'}, {'type': 'careers page', 'url': 'https://anthropic.com/careers'}, {'type': 'team page', 'url': 'https://anthropic.com/team'}, {'type': 'enterprise page', 'url': 'https://anthropic.com/enterprise'}, {'type': 'api page', 'url': 'https://anthropic.com/api'}, {'type': 'pricing page', 'url': 'https://anthropic.com/pricing'}, {'type': 'research page', 'url': 'https://anthropic.com/research'}, {'type': 'news page', 'url': 'https://anthropic.com/news'}]}\n"
     ]
    },
    {
     "data": {
      "text/markdown": [
       "# Welcome to Anthropic\n",
       "\n",
       "**Your Partner in Safe and Reliable AI**\n",
       "\n",
       "---\n",
       "\n",
       "## About Us\n",
       "\n",
       "At **Anthropic**, we are committed to advancing the field of artificial intelligence while ensuring safety and reliability. Based in **San Francisco**, we are an interdisciplinary team composed of researchers, engineers, policy experts, and operational leaders, dedicated to building AI systems that prioritize human wellbeing.\n",
       "\n",
       "### Our Mission\n",
       "\n",
       "Our core mission is to develop AI systems that are:\n",
       "- **Reliable**: Designed to perform consistently under various conditions.\n",
       "- **Interpretable**: Easy to understand and explain.\n",
       "- **Steerable**: Capable of being directed towards specific tasks or goals.\n",
       "\n",
       "We believe that AI will significantly impact the world, and we approach this transformative technology with an unwavering focus on safety.\n",
       "\n",
       "---\n",
       "\n",
       "## Company Culture\n",
       "\n",
       "### Values that Drive Us\n",
       "\n",
       "1. **Here for the Mission**: We exist to ensure that transformative AI helps society flourish, collaborating broadly to achieve this objective.\n",
       "2. **Unusually High Trust**: Our environment promotes good faith, kindness, and honesty among team members.\n",
       "3. **One Big Team**: Collaboration is central to our ethos; all teams work together towards shared goals.\n",
       "4. **Do the Simple Thing that Works**: We embrace practical approaches, preferring empirical evidence over cleverness when addressing challenges.\n",
       "\n",
       "### Team Collaboration\n",
       "\n",
       "We champion a culture of teamwork, allowing individuals from various backgrounds to contribute to our common mission efficiently. Our structure encourages cross-team collaboration, ensuring that our collective expertise is leveraged in AI development.\n",
       "\n",
       "---\n",
       "\n",
       "## Our Products\n",
       "\n",
       "### Claude - Your AI Assistant\n",
       "\n",
       "Meet **Claude 3.5 Sonnet**, our intelligent AI model that assists in various tasks, enhancing productivity across teams. With Claude, organizations can:\n",
       "- Collaborate better and achieve more efficient outcomes.\n",
       "- Automate routine tasks and focus on creative and strategic work.\n",
       "- Secure sensitive data while formulating projects and sharing knowledge.\n",
       "\n",
       "---\n",
       "\n",
       "## Our Customers\n",
       "\n",
       "   We work with diverse customers spanning various sectors, such as:\n",
       "   - **Businesses**: Enhance internal workflows and customer interactions.\n",
       "   - **Nonprofits**: Drive impactful societal initiatives.\n",
       "   - **Governments**: Implement reliable AI systems for public service enhancements.\n",
       "\n",
       "---\n",
       "\n",
       "## Join Our Team\n",
       "\n",
       "### Your Career at Anthropic\n",
       "\n",
       "At Anthropic, we offer more than just jobs; we provide opportunities to contribute to groundbreaking research and product development in AI safety. Our comprehensive benefits include:\n",
       "- Health, dental, and vision insurance.\n",
       "- Generous parental leave and flexible paid time off.\n",
       "- Competitive salaries and equity packages.\n",
       "\n",
       "### What We Look For\n",
       "\n",
       "We welcome applicants from diverse backgrounds and experiences. Our hiring process is designed to be inclusive, assessing candidates based on their skills and how they align with our mission:\n",
       "\n",
       "1. **Exploratory Chat**: Discuss your career interests with our staff.\n",
       "2. **Skills Assessment**: Depending on the role, you may complete a take-home assignment or technical screening.\n",
       "3. **Team Screen**: Talk with potential team members.\n",
       "4. **Final Interviews**: Engage in deeper discussions, including culture-focused interviews.\n",
       "\n",
       "---\n",
       "\n",
       "## Why Anthropic?\n",
       "\n",
       "We’re not just focused on building AI; we’re dedicated to ensuring it’s safe, reliable, and beneficial for humanity. Join us as we shape the future of AI with your unique perspective and expertise!\n",
       "\n",
       "---\n",
       "\n",
       "For more information or to view open positions, visit our website at [Anthropic.com](https://www.anthropic.com).\n",
       "\n",
       "---\n",
       "\n",
       "*Together, let's build a future where AI empowers individuals and society.*"
      ],
      "text/plain": [
       "<IPython.core.display.Markdown object>"
      ]
     },
     "metadata": {},
     "output_type": "display_data"
    }
   ],
   "source": [
    "stream_brochure(\"Anthropic\", \"https://anthropic.com\")"
   ]
  },
  {
   "cell_type": "code",
   "execution_count": 22,
   "id": "5f503c68-13d7-42ae-9ed9-97912ad7e702",
   "metadata": {},
   "outputs": [
    {
     "name": "stdout",
     "output_type": "stream",
     "text": [
      "Found links: {'links': [{'type': 'about page', 'url': 'https://huggingface.co/huggingface'}, {'type': 'careers page', 'url': 'https://apply.workable.com/huggingface/'}, {'type': 'company page', 'url': 'https://huggingface.co/enterprise'}, {'type': 'blog page', 'url': 'https://huggingface.co/blog'}, {'type': 'community page', 'url': 'https://discuss.huggingface.co'}, {'type': 'GitHub page', 'url': 'https://github.com/huggingface'}, {'type': 'LinkedIn page', 'url': 'https://www.linkedin.com/company/huggingface/'}]}\n"
     ]
    },
    {
     "data": {
      "text/markdown": [
       "\n",
       "# Welcome to Hugging Face\n",
       "\n",
       "## About Us\n",
       "Hugging Face is a pioneering AI and machine learning (ML) community dedicated to building the future of intelligent solutions through collaborative efforts. Our mission is to democratize good machine learning one commit at a time. We create tools that simplify the process of developing, sharing, and utilizing machine learning models, data, and applications.\n",
       "\n",
       "## Our Services\n",
       "- **Models**: Access over **400,000 models** tailored for various applications including text, image, video, and audio processing.\n",
       "- **Datasets**: Explore more than **100,000 datasets** that facilitate training and evaluation of machine learning algorithms.\n",
       "- **Spaces**: Create and host applications that leverage our cutting-edge tools and models using our collaboration platform.\n",
       "- **Enterprise Solutions**: We offer enterprise-grade features with advanced security, dedicated support, and pricing starting from **$20/user/month**.\n",
       "\n",
       "## Community\n",
       "At Hugging Face, we are proud to support a vibrant community of over **50,000 organizations** utilizing our resources, including prominent names like Meta, Amazon Web Services, Google, and Microsoft. Our platform encourages users to contribute, engage, and collaborate on projects that enhance the field of AI.\n",
       "\n",
       "## Company Culture\n",
       "We believe in fostering an open, inclusive environment that nurtures innovation and creativity. Our team comprises diverse talents and perspectives, all working towards a common goal of advancing machine learning technologies safely and responsibly. Our culture promotes continuous learning and collaboration, encouraging members to share insights and expertise.\n",
       "\n",
       "## Careers at Hugging Face\n",
       "We are always looking for talented individuals eager to contribute to the field of AI and machine learning. If you are passionate about open-source contributions and pushing the boundaries of technology, consider joining our team. Check our current job openings on our careers page and help us in shaping the future of AI!\n",
       "\n",
       "## Connect With Us\n",
       "Join our community discussions and stay updated with the latest advancements through our blogs, forums, and social media channels.\n",
       "- [GitHub](https://github.com/huggingface)\n",
       "- [Twitter](https://twitter.com/huggingface)\n",
       "- [LinkedIn](https://www.linkedin.com/company/hugging-face/)\n",
       "- [Discord](https://discord.gg/huggingface)\n",
       "\n",
       "### Contact Us\n",
       "For press inquiries or general information, feel free to reach out to our team. Explore, collaborate, and innovate with us at Hugging Face as we build the future together!\n",
       "\n",
       "--- \n",
       "**Hugging Face**: The AI community building the future.\n",
       "\n"
      ],
      "text/plain": [
       "<IPython.core.display.Markdown object>"
      ]
     },
     "metadata": {},
     "output_type": "display_data"
    }
   ],
   "source": [
    "stream_brochure(\"HuggingFace\", \"https://huggingface.co\")"
   ]
  },
  {
   "cell_type": "code",
   "execution_count": 23,
   "id": "fdb3f8d8-a3eb-41c8-b1aa-9f60686a653b",
   "metadata": {},
   "outputs": [
    {
     "name": "stdout",
     "output_type": "stream",
     "text": [
      "Found links: {'links': [{'type': 'about page', 'url': 'https://huggingface.co/huggingface'}, {'type': 'careers page', 'url': 'https://apply.workable.com/huggingface/'}, {'type': 'blog', 'url': 'https://huggingface.co/blog'}, {'type': 'enterprise page', 'url': 'https://huggingface.co/enterprise'}, {'type': 'pricing page', 'url': 'https://huggingface.co/pricing'}, {'type': 'documentation page', 'url': 'https://huggingface.co/docs'}]}\n"
     ]
    },
    {
     "data": {
      "text/markdown": [
       "\n",
       "# Welcome to Hugging Face: The Fuzzy Frontier of AI!\n",
       "\n",
       "🎈 **Join the AI Community Building the Future, One Commit at a Time!** 🎈\n",
       "\n",
       "### Who Are We?\n",
       "\n",
       "At Hugging Face, we’re not just a tech company; we're the warm, cuddly embrace of AI innovation. Whether it's machine learning models, datasets, or simply spreading joy, we have something for everyone (including your cat—sorry, no actual cat models yet)!\n",
       "\n",
       "### What We Do\n",
       "\n",
       "- **Models Galore:** With over **400k models** at your fingertips, you could model just about anything—like the number of times you’ve said \"just one more episode\" when watching your favorite show. \n",
       "- **Dataset Heaven:** Need data? We have a staggering **100k datasets**! Whether it's blue-sky posts or linguistic datasets to optimize your cat meme strategy.\n",
       "- **Spaces for Everyone:** Create and showcase your models in our lush **Spaces**. We encourage creativity, unless your creativity involves untrained AI plotting world domination.\n",
       "  \n",
       "### Join the Fun!\n",
       "\n",
       "- **Become a Pro:** Join our club for just **$9/month**! You'll unlock advanced features and even get a shiny Pro badge. Because let’s be honest, we all look good in badges. \n",
       "- **Enterprise Solutions:** Big teams? No problem! Get enterprise-grade security, priority support, and a touch of pedagogy (yes, vocabulary is our future)! All starting at **$20/user/month**. \n",
       "\n",
       "### Meet Our Community \n",
       "\n",
       "With over **50,000 organizations** including titans like Google, Amazon Web Services, and even your neighbor's startup, we’re transforming industries. Our community's so cool that even the cool kids are joining in!\n",
       "\n",
       "### Careers at Hugging Face\n",
       "\n",
       "Looking for a job where you can hug robots all day? You’re in luck! Join our delightful team of 224 fuzzy innovators. Experience a culture where memes and ML thrive (your chance to convince everyone that your cat’s face is a valid experimental model!). Curious? Check out our current openings on our careers page.\n",
       "\n",
       "### So Why HUG Us?\n",
       "\n",
       "1. **Collaboration** feels cozy; we host unlimited models, datasets, and a delightful community.\n",
       "2. **Learning together** (and maybe stumbling through mistakes) makes us stronger—like yoga for your brain!\n",
       "3. **Be part of something BIG:** We’re on a mission to democratize good machine learning. It's not just about the tech; it’s about making the world a friendlier place.\n",
       "\n",
       "### In Closing\n",
       "\n",
       "As we continue our mission at Hugging Face, remember: in a world full of chaos, become someone’s comforting algorithm. Join us on this journey—where every day is a chance to innovate and every model is a hug waiting to happen! \n",
       "\n",
       "**Follow us for updates** because who wouldn’t want more AI puns in their lives? \n",
       "\n",
       "💌 **Hugging Face—The Snuggly Space Where AI Dreams Come True!** 💌\n",
       "\n",
       "Just remember: at Hugging Face, we might not be able to predict the future, but we sure can make it a lot cozier! Enjoy this journey into the world of AI with us!"
      ],
      "text/plain": [
       "<IPython.core.display.Markdown object>"
      ]
     },
     "metadata": {},
     "output_type": "display_data"
    }
   ],
   "source": [
    "# Try changing the system prompt to the humorous version when you make the Brochure for Hugging Face:\n",
    "\n",
    "system_prompt = \"You are an assistant that analyzes the contents of several relevant pages from a company website \\\n",
    "and creates a short humorous, entertaining, jokey brochure about the company for prospective customers, investors and recruits. Respond in markdown.\\\n",
    "Include details of company culture, customers and careers/jobs if you have the information.\"\n",
    "\n",
    "stream_brochure(\"HuggingFace\", \"https://huggingface.co\")"
   ]
  }
 ],
 "metadata": {
  "kernelspec": {
   "display_name": "Python 3 (ipykernel)",
   "language": "python",
   "name": "python3"
  },
  "language_info": {
   "codemirror_mode": {
    "name": "ipython",
    "version": 3
   },
   "file_extension": ".py",
   "mimetype": "text/x-python",
   "name": "python",
   "nbconvert_exporter": "python",
   "pygments_lexer": "ipython3",
   "version": "3.11.11"
  }
 },
 "nbformat": 4,
 "nbformat_minor": 5
}
