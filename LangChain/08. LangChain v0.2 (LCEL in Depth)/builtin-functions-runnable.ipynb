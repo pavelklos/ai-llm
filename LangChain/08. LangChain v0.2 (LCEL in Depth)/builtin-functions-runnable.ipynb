{
 "cells": [
  {
   "cell_type": "markdown",
   "id": "465c003a-29cf-4cfe-a0c6-d36c04ae2b37",
   "metadata": {},
   "source": [
    "# Main built-in LCEL functions for runnables"
   ]
  },
  {
   "cell_type": "markdown",
   "id": "2d46ff75-72ab-4391-904f-459bae77fc7a",
   "metadata": {},
   "source": [
    "## Contents\n",
    "* .bind()\n",
    "* .assign()"
   ]
  },
  {
   "cell_type": "code",
   "execution_count": 1,
   "id": "fecd39d0-e72e-4bc2-8a68-2fa4008ea365",
   "metadata": {},
   "outputs": [],
   "source": [
    "import os\n",
    "from dotenv import load_dotenv, find_dotenv\n",
    "_ = load_dotenv(find_dotenv())\n",
    "openai_api_key = os.environ[\"OPENAI_API_KEY\"]"
   ]
  },
  {
   "cell_type": "code",
   "execution_count": 2,
   "id": "261d95f9-33d4-4fef-bb87-4fe8bdee118b",
   "metadata": {},
   "outputs": [],
   "source": [
    "MODEL_GPT = 'gpt-4o-mini'"
   ]
  },
  {
   "cell_type": "code",
   "execution_count": 3,
   "id": "6ae8595e-5c07-4b02-8a79-db55fd357527",
   "metadata": {},
   "outputs": [],
   "source": [
    "from langchain_openai import ChatOpenAI\n",
    "\n",
    "# model = ChatOpenAI(model=\"gpt-3.5-turbo-0125\")\n",
    "model = ChatOpenAI(model=MODEL_GPT)"
   ]
  },
  {
   "cell_type": "markdown",
   "id": "190b5d23-5d09-4c88-b32f-3299795cd91b",
   "metadata": {},
   "source": [
    "## LCEL Chain"
   ]
  },
  {
   "cell_type": "code",
   "execution_count": 4,
   "id": "b5a34484-0981-4edc-8ba2-7c8521d28c48",
   "metadata": {},
   "outputs": [],
   "source": [
    "from langchain_core.output_parsers import StrOutputParser\n",
    "from langchain_core.prompts import ChatPromptTemplate"
   ]
  },
  {
   "cell_type": "code",
   "execution_count": 5,
   "id": "181ba6bd-cf77-43e0-8eb9-0c8e274b3051",
   "metadata": {},
   "outputs": [],
   "source": [
    "prompt = ChatPromptTemplate.from_template(\"tell me a curious fact about {soccer_player}\")\n",
    "\n",
    "output_parser = StrOutputParser()"
   ]
  },
  {
   "cell_type": "code",
   "execution_count": 6,
   "id": "246e32f8-4380-41d2-b33a-04ff4085569b",
   "metadata": {},
   "outputs": [
    {
     "data": {
      "text/plain": [
       "'One curious fact about Cristiano Ronaldo is that he has a unique habit of celebrating goals by performing a specific jump and spin move, often referred to as the \"Sii!\" celebration. This celebration has become iconic among fans and is characterized by Ronaldo jumping into the air, turning, and landing with his arms outstretched while shouting \"Sii!\" (which means \"Yes!\" in Spanish). Interestingly, he developed this celebration as a way to express his joy and excitement for scoring, and it has become a signature move that fans around the world associate with him. Additionally, Ronaldo\\'s dedication to fitness and his rigorous training regime have allowed him to maintain peak performance, even into his late 30s, making him one of the most enduring athletes in football history.'"
      ]
     },
     "execution_count": 6,
     "metadata": {},
     "output_type": "execute_result"
    }
   ],
   "source": [
    "chain = prompt | model | output_parser\n",
    "\n",
    "chain.invoke({\"soccer_player\": \"Ronaldo\"})"
   ]
  },
  {
   "cell_type": "markdown",
   "id": "584cbddb-7adc-44c2-847a-bfd6e0907b10",
   "metadata": {},
   "source": [
    "## Use of .bind() to add arguments to Runnable in LCEL Chain"
   ]
  },
  {
   "cell_type": "code",
   "execution_count": 7,
   "id": "fd686bcb-b128-4bdb-b34e-a585c1f2ed8a",
   "metadata": {},
   "outputs": [],
   "source": [
    "chain = prompt | model.bind(stop=[\"Ronaldo\"]) | output_parser"
   ]
  },
  {
   "cell_type": "code",
   "execution_count": 8,
   "id": "3f9c195f-2c4e-4b36-ba44-c4b1ec1f7d78",
   "metadata": {},
   "outputs": [
    {
     "data": {
      "text/plain": [
       "'One curious fact about Cristiano '"
      ]
     },
     "execution_count": 8,
     "metadata": {},
     "output_type": "execute_result"
    }
   ],
   "source": [
    "chain.invoke({\"soccer_player\": \"Ronaldo\"})"
   ]
  },
  {
   "cell_type": "markdown",
   "id": "37a148eb-565d-4dfe-9d3c-062ed2c67468",
   "metadata": {},
   "source": [
    "## Use of .bind() to call OpenAI Function in LCEL Chain"
   ]
  },
  {
   "cell_type": "code",
   "execution_count": 9,
   "id": "56716892-6b51-4f03-949d-c770a6832ba0",
   "metadata": {},
   "outputs": [],
   "source": [
    "functions = [\n",
    "    {\n",
    "      \"name\": \"soccerfacts\",\n",
    "      \"description\": \"Curious facts about a soccer player\",\n",
    "      \"parameters\": {\n",
    "        \"type\": \"object\",\n",
    "        \"properties\": {\n",
    "          \"question\": {\n",
    "            \"type\": \"string\",\n",
    "            \"description\": \"The question for the curious facts about a soccer player\"\n",
    "          },\n",
    "          \"answer\": {\n",
    "            \"type\": \"string\",\n",
    "            \"description\": \"The answer to the question\"\n",
    "          }\n",
    "        },\n",
    "        \"required\": [\"question\", \"answer\"]\n",
    "      }\n",
    "    }\n",
    "  ]"
   ]
  },
  {
   "cell_type": "code",
   "execution_count": 10,
   "id": "70e498d3-3cf0-4948-85a3-65ea358015d4",
   "metadata": {},
   "outputs": [],
   "source": [
    "from langchain.output_parsers.openai_functions import JsonOutputFunctionsParser\n",
    "chain = (\n",
    "    prompt\n",
    "    | model.bind(function_call={\"name\": \"soccerfacts\"}, functions= functions)\n",
    "    | JsonOutputFunctionsParser()\n",
    ")"
   ]
  },
  {
   "cell_type": "code",
   "execution_count": 11,
   "id": "e60ea942-ce8a-4f9e-99f2-6e5d45ca0edd",
   "metadata": {},
   "outputs": [
    {
     "data": {
      "text/plain": [
       "{'question': 'What is a curious fact about Kylian Mbappé?',\n",
       " 'answer': 'Kylian Mbappé was only 19 years old when he became the second youngest player to score in a World Cup match, doing so in the 2018 World Cup.'}"
      ]
     },
     "execution_count": 11,
     "metadata": {},
     "output_type": "execute_result"
    }
   ],
   "source": [
    "chain.invoke(input={\"soccer_player\": \"Mbappe\"})"
   ]
  },
  {
   "cell_type": "markdown",
   "id": "7e6cb212-3a91-479a-829e-c17d12d76e85",
   "metadata": {},
   "source": [
    "## The assign() function allows adding keys to chain"
   ]
  },
  {
   "cell_type": "code",
   "execution_count": 12,
   "id": "b7335550-2628-468a-b687-d9aa96294d46",
   "metadata": {},
   "outputs": [],
   "source": [
    "from langchain_core.runnables import RunnableParallel, RunnablePassthrough, RunnableLambda\n",
    "\n",
    "chain = RunnableParallel({\"original_input\": RunnablePassthrough()})"
   ]
  },
  {
   "cell_type": "code",
   "execution_count": 13,
   "id": "1ff74a9e-ef49-4a98-b5a9-3da5b5c21d96",
   "metadata": {},
   "outputs": [
    {
     "data": {
      "text/plain": [
       "{'original_input': 'whatever'}"
      ]
     },
     "execution_count": 13,
     "metadata": {},
     "output_type": "execute_result"
    }
   ],
   "source": [
    "chain.invoke(\"whatever\")"
   ]
  },
  {
   "cell_type": "code",
   "execution_count": 14,
   "id": "5498c91c-548f-4bb3-acca-90927ab5d4be",
   "metadata": {},
   "outputs": [],
   "source": [
    "def make_uppercase(arg):\n",
    "    return arg[\"original_input\"].upper()"
   ]
  },
  {
   "cell_type": "code",
   "execution_count": 15,
   "id": "7a69f270-a09d-48ea-8787-c313d1f88e85",
   "metadata": {},
   "outputs": [],
   "source": [
    "chain = RunnableParallel({\"original_input\": RunnablePassthrough()}).assign(uppercase=RunnableLambda(make_uppercase))"
   ]
  },
  {
   "cell_type": "code",
   "execution_count": 16,
   "id": "99e646ef-8e1f-450f-b5cd-395affae83b0",
   "metadata": {},
   "outputs": [
    {
     "data": {
      "text/plain": [
       "{'original_input': 'whatever', 'uppercase': 'WHATEVER'}"
      ]
     },
     "execution_count": 16,
     "metadata": {},
     "output_type": "execute_result"
    }
   ],
   "source": [
    "chain.invoke(\"whatever\")"
   ]
  }
 ],
 "metadata": {
  "kernelspec": {
   "display_name": "Python 3 (ipykernel)",
   "language": "python",
   "name": "python3"
  },
  "language_info": {
   "codemirror_mode": {
    "name": "ipython",
    "version": 3
   },
   "file_extension": ".py",
   "mimetype": "text/x-python",
   "name": "python",
   "nbconvert_exporter": "python",
   "pygments_lexer": "ipython3",
   "version": "3.11.11"
  }
 },
 "nbformat": 4,
 "nbformat_minor": 5
}
