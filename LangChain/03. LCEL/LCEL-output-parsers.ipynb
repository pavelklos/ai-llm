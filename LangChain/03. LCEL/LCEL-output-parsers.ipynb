{
 "cells": [
  {
   "cell_type": "code",
   "execution_count": 1,
   "id": "9263bba4-f318-4ce3-b887-8d5abe94f935",
   "metadata": {},
   "outputs": [],
   "source": [
    "import os\n",
    "from dotenv import load_dotenv, find_dotenv\n",
    "_ = load_dotenv(find_dotenv())\n",
    "openai_api_key = os.environ[\"OPENAI_API_KEY\"]"
   ]
  },
  {
   "cell_type": "markdown",
   "id": "5f85e0e2-a83a-4627-970c-41ae335d80a4",
   "metadata": {},
   "source": [
    "## Output Parsers: Classic Way"
   ]
  },
  {
   "cell_type": "code",
   "execution_count": 2,
   "id": "07b8b36c-550e-41a1-afc2-8cc20cf50f22",
   "metadata": {},
   "outputs": [],
   "source": [
    "from langchain.prompts import ChatPromptTemplate\n",
    "from langchain_openai import ChatOpenAI\n",
    "from langchain.chains import LLMChain\n",
    "from langchain.schema.output_parser import StrOutputParser"
   ]
  },
  {
   "cell_type": "code",
   "execution_count": 3,
   "id": "9b939744-4e23-49a6-9cb4-92475329ec69",
   "metadata": {},
   "outputs": [],
   "source": [
    "MODEL_GPT = 'gpt-4o-mini'"
   ]
  },
  {
   "cell_type": "code",
   "execution_count": 4,
   "id": "c6d48f0f-8534-4ee2-8491-4fda461c4a14",
   "metadata": {},
   "outputs": [],
   "source": [
    "# llm = ChatOpenAI()\n",
    "llm = ChatOpenAI(model=MODEL_GPT)"
   ]
  },
  {
   "cell_type": "code",
   "execution_count": 5,
   "id": "f9bf923b-e1ca-4f88-86d4-2bef5402cb8f",
   "metadata": {},
   "outputs": [],
   "source": [
    "prompt = ChatPromptTemplate.from_template(\n",
    "    \"Who won the soccer world cup of {year}?\"\n",
    ")"
   ]
  },
  {
   "cell_type": "code",
   "execution_count": 6,
   "id": "951e76e4-2554-4713-b3b4-59e9305f4248",
   "metadata": {},
   "outputs": [],
   "source": [
    "output_parser = StrOutputParser()"
   ]
  },
  {
   "cell_type": "code",
   "execution_count": 7,
   "id": "770dea7d-6fab-4517-9e7c-35ecfb0455cc",
   "metadata": {},
   "outputs": [
    {
     "name": "stderr",
     "output_type": "stream",
     "text": [
      "C:\\Users\\Pavel\\AppData\\Local\\Temp\\ipykernel_8040\\3066984713.py:1: LangChainDeprecationWarning: The class `LLMChain` was deprecated in LangChain 0.1.17 and will be removed in 1.0. Use :meth:`~RunnableSequence, e.g., `prompt | llm`` instead.\n",
      "  chain = LLMChain(\n"
     ]
    },
    {
     "data": {
      "text/plain": [
       "'Spain won the FIFA World Cup in 2010. They defeated the Netherlands 1-0 in the final match, which took place on July 11, 2010, in Johannesburg, South Africa. The winning goal was scored by Andrés Iniesta during extra time.'"
      ]
     },
     "execution_count": 7,
     "metadata": {},
     "output_type": "execute_result"
    }
   ],
   "source": [
    "chain = LLMChain(\n",
    "    llm=llm, \n",
    "    prompt=prompt,\n",
    "    output_parser=output_parser\n",
    ")\n",
    "chain.predict(year=\"2010\")"
   ]
  },
  {
   "cell_type": "markdown",
   "id": "d0d3a0e7-5e9f-4698-92f9-981ff18f4972",
   "metadata": {},
   "source": [
    "## Output Parsers: New LCEL Way"
   ]
  },
  {
   "cell_type": "code",
   "execution_count": 8,
   "id": "e97565a9-7301-47e8-9279-ea2cb0e9cd58",
   "metadata": {},
   "outputs": [
    {
     "data": {
      "text/plain": [
       "'Spain won the 2010 FIFA World Cup. They defeated the Netherlands 1-0 in the final match, which took place in Johannesburg, South Africa. The only goal of the match was scored by Andrés Iniesta during extra time.'"
      ]
     },
     "execution_count": 8,
     "metadata": {},
     "output_type": "execute_result"
    }
   ],
   "source": [
    "new_chain = prompt | llm | StrOutputParser()\n",
    "new_chain.invoke({\"year\": \"2010\"})"
   ]
  }
 ],
 "metadata": {
  "kernelspec": {
   "display_name": "Python 3 (ipykernel)",
   "language": "python",
   "name": "python3"
  },
  "language_info": {
   "codemirror_mode": {
    "name": "ipython",
    "version": 3
   },
   "file_extension": ".py",
   "mimetype": "text/x-python",
   "name": "python",
   "nbconvert_exporter": "python",
   "pygments_lexer": "ipython3",
   "version": "3.11.11"
  }
 },
 "nbformat": 4,
 "nbformat_minor": 5
}
