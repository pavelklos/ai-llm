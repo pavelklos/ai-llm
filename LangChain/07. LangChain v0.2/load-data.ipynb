{
 "cells": [
  {
   "cell_type": "markdown",
   "id": "465c003a-29cf-4cfe-a0c6-d36c04ae2b37",
   "metadata": {},
   "source": [
    "# Load Data"
   ]
  },
  {
   "cell_type": "markdown",
   "id": "5a2f9501-fa9e-4830-95e2-537dff951cf1",
   "metadata": {},
   "source": [
    "## LangChain documentation on Document Loaders\n",
    "* [version v0.1](https://python.langchain.com/v0.1/docs/modules/data_connection/document_loaders/)\n",
    "* [latest version](https://python.langchain.com/docs/how_to/#document-loaders)"
   ]
  },
  {
   "cell_type": "code",
   "execution_count": 1,
   "id": "fecd39d0-e72e-4bc2-8a68-2fa4008ea365",
   "metadata": {},
   "outputs": [],
   "source": [
    "import os\n",
    "from dotenv import load_dotenv, find_dotenv\n",
    "_ = load_dotenv(find_dotenv())\n",
    "openai_api_key = os.environ[\"OPENAI_API_KEY\"]"
   ]
  },
  {
   "cell_type": "code",
   "execution_count": 2,
   "id": "158d5613-cd7a-4229-aec8-4ea8592beb05",
   "metadata": {},
   "outputs": [],
   "source": [
    "MODEL_GPT = 'gpt-4o-mini'"
   ]
  },
  {
   "cell_type": "markdown",
   "id": "3f639b09-de0e-43ff-826c-03deb85605b9",
   "metadata": {},
   "source": [
    "## Simple data loading"
   ]
  },
  {
   "cell_type": "markdown",
   "id": "17c5afd8-9c16-4d5e-97da-4c59f1460b15",
   "metadata": {},
   "source": [
    "### Loading TXT file"
   ]
  },
  {
   "cell_type": "code",
   "execution_count": 3,
   "id": "b14d27c3-0b1b-4b11-a883-8da2734f21a7",
   "metadata": {},
   "outputs": [],
   "source": [
    "from langchain_openai import ChatOpenAI\n",
    "\n",
    "# chatModel = ChatOpenAI(model=\"gpt-3.5-turbo-0125\")\n",
    "chatModel = ChatOpenAI(model=MODEL_GPT)"
   ]
  },
  {
   "cell_type": "code",
   "execution_count": 4,
   "id": "438c93f3-a1ff-41de-af09-bc67729ad271",
   "metadata": {},
   "outputs": [],
   "source": [
    "from langchain_community.document_loaders import TextLoader\n",
    "\n",
    "# loader = TextLoader(\"./data/be-good.txt\")\n",
    "loader = TextLoader(\"../../data/be-good.txt\")\n",
    "\n",
    "loaded_data = loader.load()"
   ]
  },
  {
   "cell_type": "code",
   "execution_count": 5,
   "id": "8e6bc045-56d3-4e1d-b822-85c40a2e9609",
   "metadata": {},
   "outputs": [],
   "source": [
    "#loaded_data"
   ]
  },
  {
   "cell_type": "markdown",
   "id": "b39dc7c6-3386-43ff-a0a6-c3abe54897c5",
   "metadata": {},
   "source": [
    "### Loading CSV file"
   ]
  },
  {
   "cell_type": "code",
   "execution_count": 6,
   "id": "4fa559db-8f5a-4ffd-a9c2-541f6099c8cd",
   "metadata": {},
   "outputs": [],
   "source": [
    "from langchain_community.document_loaders import CSVLoader\n",
    "\n",
    "# loader = CSVLoader('./data/Street_Tree_List.csv')\n",
    "loader = CSVLoader('../../data/Street_Tree_List.csv')\n",
    "\n",
    "loaded_data = loader.load()"
   ]
  },
  {
   "cell_type": "code",
   "execution_count": 7,
   "id": "864441c6-4a4c-4b38-ab38-f51517b2af45",
   "metadata": {},
   "outputs": [],
   "source": [
    "#loaded_data"
   ]
  },
  {
   "cell_type": "markdown",
   "id": "cfb26c9d-0813-4877-846d-ea022a345709",
   "metadata": {},
   "source": [
    "### Loading HTML file"
   ]
  },
  {
   "cell_type": "code",
   "execution_count": 10,
   "id": "b62f5922-747d-48e3-94d3-319cb0fbb96c",
   "metadata": {},
   "outputs": [],
   "source": [
    "from langchain_community.document_loaders import BSHTMLLoader\n",
    "\n",
    "# loader = CSVLoader('./data/100-startups.html')\n",
    "loader = CSVLoader('../../data/100-startups.html')\n",
    "\n",
    "loaded_data = loader.load()"
   ]
  },
  {
   "cell_type": "code",
   "execution_count": 11,
   "id": "ac9b265a-4b91-420a-a9c1-b9f352095458",
   "metadata": {},
   "outputs": [],
   "source": [
    "#loaded_data"
   ]
  },
  {
   "cell_type": "markdown",
   "id": "9612386a-60df-4e83-9804-a4f0a6b4086e",
   "metadata": {},
   "source": [
    "### Loading PDF file"
   ]
  },
  {
   "cell_type": "code",
   "execution_count": 12,
   "id": "587e4158-d2f3-423f-a481-438aa0822432",
   "metadata": {},
   "outputs": [],
   "source": [
    "#!pip install pypdf"
   ]
  },
  {
   "cell_type": "code",
   "execution_count": 13,
   "id": "fb50f45f-e6b7-4623-84d5-d121e33a4387",
   "metadata": {},
   "outputs": [],
   "source": [
    "from langchain_community.document_loaders import PyPDFLoader\n",
    "\n",
    "# loader = PyPDFLoader('./data/5pages.pdf')\n",
    "loader = PyPDFLoader('../../data/5pages.pdf')\n",
    "\n",
    "loaded_data = loader.load_and_split()"
   ]
  },
  {
   "cell_type": "code",
   "execution_count": 14,
   "id": "ca3c2412-1de3-4224-ac11-21765dc2e723",
   "metadata": {},
   "outputs": [],
   "source": [
    "#loaded_data[0].page_content"
   ]
  },
  {
   "cell_type": "markdown",
   "id": "b168178e-7730-4427-b43c-4e2321d216d7",
   "metadata": {},
   "source": [
    "### Loading Wikipedia page and asking questions about it"
   ]
  },
  {
   "cell_type": "code",
   "execution_count": 15,
   "id": "b6b67dd6-19d6-4b15-a153-12b5297cffa6",
   "metadata": {},
   "outputs": [],
   "source": [
    "# !pip install wikipedia"
   ]
  },
  {
   "cell_type": "code",
   "execution_count": 16,
   "id": "c4af0a00-1afa-456e-951d-15fe8ba2c763",
   "metadata": {},
   "outputs": [],
   "source": [
    "from langchain_community.document_loaders import WikipediaLoader\n",
    "\n",
    "loader = WikipediaLoader('query=name, load_max_docs=1')\n",
    "\n",
    "loaded_data = loader.load()[0].page_content"
   ]
  },
  {
   "cell_type": "code",
   "execution_count": 17,
   "id": "74c6b0be-9dd0-43b9-bd3e-d0a551987998",
   "metadata": {},
   "outputs": [],
   "source": [
    "from langchain_core.prompts import ChatPromptTemplate\n",
    "\n",
    "chat_template = ChatPromptTemplate.from_messages(\n",
    "    [\n",
    "        (\"human\", \"Answer this {question}, here is some extra {context}\"),\n",
    "    ]\n",
    ")\n",
    "\n",
    "messages = chat_template.format_messages(\n",
    "    name=\"JFK\",\n",
    "    question=\"Where was JFK born?\",\n",
    "    context=loaded_data\n",
    ")"
   ]
  },
  {
   "cell_type": "code",
   "execution_count": 18,
   "id": "e618700d-8a5a-4837-adbe-818f3d639497",
   "metadata": {},
   "outputs": [],
   "source": [
    "response = chatModel.invoke(messages)"
   ]
  },
  {
   "cell_type": "code",
   "execution_count": 19,
   "id": "2dfd54fe-8aa6-427e-8011-1190b1a2fc8c",
   "metadata": {},
   "outputs": [
    {
     "data": {
      "text/plain": [
       "AIMessage(content='John F. Kennedy (JFK) was born in Brookline, Massachusetts, on May 29, 1917.', additional_kwargs={'refusal': None}, response_metadata={'token_usage': {'completion_tokens': 26, 'prompt_tokens': 800, 'total_tokens': 826, 'completion_tokens_details': {'accepted_prediction_tokens': 0, 'audio_tokens': 0, 'reasoning_tokens': 0, 'rejected_prediction_tokens': 0}, 'prompt_tokens_details': {'audio_tokens': 0, 'cached_tokens': 0}}, 'model_name': 'gpt-4o-mini-2024-07-18', 'system_fingerprint': 'fp_06737a9306', 'finish_reason': 'stop', 'logprobs': None}, id='run-5c3543eb-dfde-4410-813d-2bef0ed2ce13-0', usage_metadata={'input_tokens': 800, 'output_tokens': 26, 'total_tokens': 826, 'input_token_details': {'audio': 0, 'cache_read': 0}, 'output_token_details': {'audio': 0, 'reasoning': 0}})"
      ]
     },
     "execution_count": 19,
     "metadata": {},
     "output_type": "execute_result"
    }
   ],
   "source": [
    "response"
   ]
  },
  {
   "cell_type": "markdown",
   "id": "04f6786d-16d2-4894-b8ef-95a7ebd19a94",
   "metadata": {},
   "source": [
    "## Splitters (divide loaded document in small chunks of text)"
   ]
  },
  {
   "cell_type": "markdown",
   "id": "b8de5c1e-1426-4cc8-8588-4ab7f1ffbcd0",
   "metadata": {},
   "source": [
    "### Simple splitting by character"
   ]
  },
  {
   "cell_type": "code",
   "execution_count": 20,
   "id": "aba8ec6a-9988-493f-9bc2-a1d72eb095b6",
   "metadata": {},
   "outputs": [],
   "source": [
    "from langchain_community.document_loaders import TextLoader\n",
    "\n",
    "# loader = TextLoader(\"./data/be-good.txt\")\n",
    "loader = TextLoader(\"../../data/be-good.txt\")\n",
    "\n",
    "loaded_data = loader.load()"
   ]
  },
  {
   "cell_type": "code",
   "execution_count": 21,
   "id": "9080df7c-9e81-4d2d-8713-9345e2ac8c54",
   "metadata": {},
   "outputs": [
    {
     "data": {
      "text/plain": [
       "[Document(metadata={'source': '../../data/be-good.txt'}, page_content='Be good\\n\\nApril 2008(This essay is derived from a talk at the 2008 Startup School.)About a month after we started Y Combinator we came up with the\\nphrase that became our motto: Make something people want.  We\\'ve\\nlearned a lot since then, but if I were choosing now that\\'s still\\nthe one I\\'d pick.Another thing we tell founders is not to worry too much about the\\nbusiness model, at least at first.  Not because making money is\\nunimportant, but because it\\'s so much easier than building something\\ngreat.A couple weeks ago I realized that if you put those two ideas\\ntogether, you get something surprising.  Make something people want.\\nDon\\'t worry too much about making money.  What you\\'ve got is a\\ndescription of a charity.When you get an unexpected result like this, it could either be a\\nbug or a new discovery.  Either businesses aren\\'t supposed to be\\nlike charities, and we\\'ve proven by reductio ad absurdum that one\\nor both of the principles we began with is false.  Or we have a new\\nidea.I suspect it\\'s the latter, because as soon as this thought occurred\\nto me, a whole bunch of other things fell into place.ExamplesFor example, Craigslist.  It\\'s not a charity, but they run it like\\none.  And they\\'re astoundingly successful.  When you scan down the\\nlist of most popular web sites, the number of employees at Craigslist\\nlooks like a misprint. Their revenues aren\\'t as high as they could\\nbe, but most startups would be happy to trade places with them.In Patrick O\\'Brian\\'s novels, his captains always try to get upwind\\nof their opponents.  If you\\'re upwind, you decide when and if to\\nengage the other ship.  Craigslist is effectively upwind of enormous\\nrevenues.  They\\'d face some challenges if they wanted to make more,\\nbut not the sort you face when you\\'re tacking upwind, trying to\\nforce a crappy product on ambivalent users by spending ten times\\nas much on sales as on development.  [1]I\\'m not saying startups should aim to end up like Craigslist.\\nThey\\'re a product of unusual circumstances.  But they\\'re a good\\nmodel for the early phases.Google looked a lot like a charity in the beginning. They didn\\'t\\nhave ads for over a year.  At year 1, Google was indistinguishable\\nfrom a nonprofit.  If a nonprofit or government organization had\\nstarted a project to index the web, Google at year 1 is the limit\\nof what they\\'d have produced.Back when I was working on spam filters I thought it would be a\\ngood idea to have a web-based email service with good spam filtering.\\nI wasn\\'t thinking of it as a company.  I just wanted to keep people\\nfrom getting spammed.  But as I thought more about this project, I\\nrealized it would probably have to be a company.  It would cost\\nsomething to run, and it would be a pain to fund with grants and\\ndonations.That was a surprising realization.  Companies often claim to be\\nbenevolent, but it was surprising to realize there were purely\\nbenevolent projects that had to be embodied as companies to work.I didn\\'t want to start another company, so I didn\\'t do it.  But if\\nsomeone had, they\\'d probably be quite rich now.  There was a window\\nof about two years when spam was increasing rapidly but all the big\\nemail services had terrible filters.  If someone had launched a\\nnew, spam-free mail service, users would have flocked to it.Notice the pattern here?  From either direction we get to the same\\nspot.  If you start from successful startups, you find they often\\nbehaved like nonprofits.  And if you start from ideas for nonprofits,\\nyou find they\\'d often make good startups.PowerHow wide is this territory?  Would all good nonprofits be good\\ncompanies?  Possibly not.  What makes Google so valuable is that\\ntheir users have money.  If you make people with money love you,\\nyou can probably get some of it.  But could you also base a successful\\nstartup on behaving like a nonprofit to people who don\\'t have money?\\nCould you, for example, grow a successful startup out of curing an\\nunfashionable but deadly disease like malaria?I\\'m not sure, but I suspect that if you pushed this idea, you\\'d be\\nsurprised how far it would go.  For example, people who apply to Y\\nCombinator don\\'t generally have much money, and yet we can profit\\nby helping them, because with our help they could make money.  Maybe\\nthe situation is similar with malaria.  Maybe an organization that\\nhelped lift its weight off a country could benefit from the resulting\\ngrowth.I\\'m not proposing this is a serious idea.  I don\\'t know anything\\nabout malaria.  But I\\'ve been kicking ideas around long enough to\\nknow when I come across a powerful one.One way to guess how far an idea extends is to ask yourself at what\\npoint you\\'d bet against it.  The thought of betting against benevolence\\nis alarming in the same way as saying that something is technically\\nimpossible.  You\\'re just asking to be made a fool of, because these\\nare such powerful forces.  [2]For example, initially I thought maybe this principle only applied\\nto Internet startups.  Obviously it worked for Google, but what\\nabout Microsoft?  Surely Microsoft isn\\'t benevolent?  But when I\\nthink back to the beginning, they were.  Compared to IBM they were\\nlike Robin Hood.  When IBM introduced the PC, they thought they\\nwere going to make money selling hardware at high prices.  But by\\ngaining control of the PC standard, Microsoft opened up the market\\nto any manufacturer.  Hardware prices plummeted, and lots of people\\ngot to have computers who couldn\\'t otherwise have afforded them.\\nIt\\'s the sort of thing you\\'d expect Google to do.Microsoft isn\\'t so benevolent now.  Now when one thinks of what\\nMicrosoft does to users, all the verbs that come to mind begin with\\nF.  [3] And yet it doesn\\'t seem to pay.\\nTheir stock price has been flat for years.  Back when they were\\nRobin Hood, their stock price rose like Google\\'s.  Could there be\\na connection?You can see how there would be.  When you\\'re small, you can\\'t bully\\ncustomers, so you have to charm them.  Whereas when you\\'re big you\\ncan maltreat them at will, and you tend to, because it\\'s easier\\nthan satisfying them.  You grow big by being nice, but you can stay\\nbig by being mean.You get away with it till the underlying conditions change, and\\nthen all your victims escape.  So \"Don\\'t be evil\" may be the most\\nvaluable thing Paul Buchheit made for Google, because it may turn\\nout to be an elixir of corporate youth.  I\\'m sure they find it\\nconstraining, but think how valuable it will be if it saves them\\nfrom lapsing into the fatal laziness that afflicted Microsoft and\\nIBM.The curious thing is, this elixir is freely available to any other\\ncompany.  Anyone can adopt \"Don\\'t be evil.\"  The catch is that\\npeople will hold you to it.  So I don\\'t think you\\'re going to see\\nrecord labels or tobacco companies using this discovery.MoraleThere\\'s a lot of external evidence that benevolence works.  But how\\ndoes it work?  One advantage of investing in a large number of\\nstartups is that you get a lot of data about how they work.  From\\nwhat we\\'ve seen, being good seems to help startups in three ways:\\nit improves their morale, it makes other people want to help them,\\nand above all, it helps them be decisive.Morale is tremendously important to a startupâ€”so important\\nthat morale alone is almost enough to determine success.  Startups\\nare often described as emotional roller-coasters. One minute you\\'re\\ngoing to take over the world, and the next you\\'re doomed.  The\\nproblem with feeling you\\'re doomed is not just that it makes you\\nunhappy, but that it makes you stop working.  So the downhills\\nof the roller-coaster are more of a self fulfilling prophecy than\\nthe uphills.  If feeling you\\'re going to succeed makes you work\\nharder, that probably improves your chances of succeeding, but if\\nfeeling you\\'re going to fail makes you stop working, that practically\\nguarantees you\\'ll fail.Here\\'s where benevolence comes in.  If you feel you\\'re really helping\\npeople, you\\'ll keep working even when it seems like your startup\\nis doomed.  Most of us have some amount of natural benevolence.\\nThe mere fact that someone needs you makes you want to help them.\\nSo if you start the kind of startup where users come back each day,\\nyou\\'ve basically built yourself a giant tamagotchi.  You\\'ve made\\nsomething you need to take care of.Blogger is a famous example of a startup that went through really\\nlow lows and survived.  At one point they ran out of money and\\neveryone left. Evan Williams came in to work the next day, and there\\nwas no one but him.  What kept him going?  Partly that users needed\\nhim.  He was hosting thousands of people\\'s blogs. He couldn\\'t just\\nlet the site die.There are many advantages of launching quickly, but the most important\\nmay be that once you have users, the tamagotchi effect kicks in.\\nOnce you have users to take care of, you\\'re forced to figure out\\nwhat will make them happy, and that\\'s actually very valuable\\ninformation.The added confidence that comes from trying to help people can\\nalso help you with investors. One of the founders of \\nChatterous told \\nme recently that he and his cofounder had decided that this service\\nwas something the world needed, so they were going to keep working\\non it no matter what, even if they had to move back to Canada and live\\nin their parents\\' basements.Once they realized this, they stopped caring so much what investors thought\\nabout them.  They still met with them, but they weren\\'t going to\\ndie if they didn\\'t get their money.  And you know what?  The investors\\ngot a lot more interested.  They could sense that the Chatterouses\\nwere going to do this startup with or without them.If you\\'re really committed and your startup is cheap to run, you\\nbecome very hard to kill.  And practically all startups, even the\\nmost successful, come close to death at some point.  So if doing\\ngood for people gives you a sense of mission that makes you harder\\nto kill, that alone more than compensates for whatever you lose by\\nnot choosing a more selfish project.HelpAnother advantage of being good is that it makes other people want\\nto help you.  This too seems to be an inborn trait in humans.One of the startups we\\'ve funded, Octopart, is currently locked in\\na classic battle of good versus evil.  They\\'re a search site for\\nindustrial components.  A lot of people need to search for components,\\nand before Octopart there was no good way to do it.  That, it turned\\nout, was no coincidence.Octopart built the right way to search for components.  Users like\\nit and they\\'ve been growing rapidly.  And yet for most of Octopart\\'s\\nlife, the biggest distributor, Digi-Key, has been trying to force\\nthem take their prices off the site.  Octopart is sending them\\ncustomers for free, and yet Digi-Key is trying to make that traffic\\nstop.  Why?  Because their current business model depends on\\novercharging people who have incomplete information about prices.\\nThey don\\'t want search to work.The Octoparts are the nicest guys in the world.  They dropped out\\nof the PhD program in physics at Berkeley to do this.  They just\\nwanted to fix a problem they encountered in their research.  Imagine\\nhow much time you could save the world\\'s engineers if they could\\ndo searches online.  So when I hear that a big, evil company is\\ntrying to stop them in order to keep search broken, it makes me\\nreally want to help them. It makes me spend more time on the Octoparts\\nthan I do with most of the other startups we\\'ve funded.  It just\\nmade me spend several minutes telling you how great they are.  Why?\\nBecause they\\'re good guys and they\\'re trying to help the world.If you\\'re benevolent, people will rally around you: investors,\\ncustomers, other companies, and potential employees.  In the long\\nterm the most important may be the potential employees.  I think\\neveryone knows now that \\ngood hackers are much better than mediocre\\nones.  If you can attract the best hackers to work for you, as\\nGoogle has, you have a big advantage.  And the very best hackers\\ntend to be idealistic.  They\\'re not desperate for a job.  They can\\nwork wherever they want.  So most want to work on things that will\\nmake the world better.CompassBut the most important advantage of being good is that it acts as\\na compass.  One of the hardest parts of doing a startup is that you\\nhave so many choices.  There are just two or three of you, and a\\nthousand things you could do. How do you decide?Here\\'s the answer: Do whatever\\'s best for your users.  You can hold\\nonto this like a rope in a hurricane, and it will save you if\\nanything can.  Follow it and it will take you through everything\\nyou need to do.It\\'s even the answer to questions that seem unrelated, like how to\\nconvince investors to give you money.  If you\\'re a good salesman,\\nyou could try to just talk them into it.  But the more reliable\\nroute is to convince them through your users: if you make something\\nusers love enough to tell their friends, you grow exponentially,\\nand that will convince any investor.Being good is a particularly useful strategy for making decisions\\nin complex situations because it\\'s stateless.  It\\'s like telling\\nthe truth.  The trouble with lying is that you have to remember\\neverything you\\'ve said in the past to make sure you don\\'t contradict\\nyourself.  If you tell the truth you don\\'t have to remember anything,\\nand that\\'s a really useful property in domains where things happen\\nfast.For example, Y Combinator has now invested in 80 startups, 57 of\\nwhich are still alive.  (The rest have died or merged or been\\nacquired.)  When you\\'re trying to advise 57 startups, it turns out\\nyou have to have a stateless algorithm.  You can\\'t have ulterior\\nmotives when you have 57 things going on at once, because you can\\'t\\nremember them.  So our rule is just to do whatever\\'s best for the\\nfounders.  Not because we\\'re particularly benevolent, but because\\nit\\'s the only algorithm that works on that scale.When you write something telling people to be good, you seem to be\\nclaiming to be good yourself.  So I want to say explicitly that I\\nam not a particularly good person.  When I was a kid I was firmly\\nin the camp of bad.  The way adults used the word good, it seemed\\nto be synonymous with quiet, so I grew up very suspicious of it.You know how there are some people whose names come up in conversation\\nand everyone says \"He\\'s such a great guy?\"  People never say\\nthat about me.  The best I get is \"he means well.\"  I am not claiming\\nto be good.  At best I speak good as a second language.So I\\'m not suggesting you be good in the usual sanctimonious way.\\nI\\'m suggesting it because it works.  It will work not just as a\\nstatement of \"values,\" but as a guide to strategy,\\nand even a design spec for software.  Don\\'t just not be evil.  Be\\ngood.Notes[1] Fifty years ago\\nit would have seemed shocking for a public company not to pay\\ndividends.  Now many tech companies don\\'t.  The markets seem to\\nhave figured out how to value potential dividends.  Maybe that isn\\'t\\nthe last step in this evolution.  Maybe markets will eventually get\\ncomfortable with potential earnings. (VCs already are, and at least\\nsome of them consistently make money.)I realize this sounds like the stuff one used to hear about the\\n\"new economy\" during the Bubble.  Believe me, I was not drinking\\nthat kool-aid at the time.  But I\\'m convinced there were some \\ngood\\nideas buried in Bubble thinking.  For example, it\\'s ok to focus on\\ngrowth instead of profitsâ€”but only if the growth is genuine.\\nYou can\\'t be buying users; that\\'s a pyramid scheme.   But a company\\nwith rapid, genuine growth is valuable, and eventually markets learn\\nhow to value valuable things.[2] The idea of starting\\na company with benevolent aims is currently undervalued, because\\nthe kind of people who currently make that their explicit goal don\\'t\\nusually do a very good job.It\\'s one of the standard career paths of trustafarians to start\\nsome vaguely benevolent business.  The problem with most of them\\nis that they either have a bogus political agenda or are feebly\\nexecuted.  The trustafarians\\' ancestors didn\\'t get rich by preserving\\ntheir traditional culture; maybe people in Bolivia don\\'t want to\\neither.  And starting an organic farm, though it\\'s at least\\nstraightforwardly benevolent, doesn\\'t help people on the scale that\\nGoogle does.Most explicitly benevolent projects don\\'t hold themselves sufficiently\\naccountable.  They act as if having good intentions were enough to\\nguarantee good effects.[3] Users dislike their\\nnew operating system so much that they\\'re starting petitions to\\nsave the old one.  And the old one was nothing special.  The hackers\\nwithin Microsoft must know in their hearts that if the company\\nreally cared about users they\\'d just advise them to switch to OSX.Thanks to Trevor Blackwell, Paul Buchheit, Jessica Livingston,\\nand Robert Morris for reading drafts of this.')]"
      ]
     },
     "execution_count": 21,
     "metadata": {},
     "output_type": "execute_result"
    }
   ],
   "source": [
    "loaded_data"
   ]
  },
  {
   "cell_type": "code",
   "execution_count": 22,
   "id": "7ecb63be-4c91-4bec-ba71-5d05dc962722",
   "metadata": {},
   "outputs": [
    {
     "data": {
      "text/plain": [
       "'Be good\\n\\nApril 2008(This essay is derived from a talk at the 2008 Startup School.)About a month after we started Y Combinator we came up with the\\nphrase that became our motto: Make something people want.  We\\'ve\\nlearned a lot since then, but if I were choosing now that\\'s still\\nthe one I\\'d pick.Another thing we tell founders is not to worry too much about the\\nbusiness model, at least at first.  Not because making money is\\nunimportant, but because it\\'s so much easier than building something\\ngreat.A couple weeks ago I realized that if you put those two ideas\\ntogether, you get something surprising.  Make something people want.\\nDon\\'t worry too much about making money.  What you\\'ve got is a\\ndescription of a charity.When you get an unexpected result like this, it could either be a\\nbug or a new discovery.  Either businesses aren\\'t supposed to be\\nlike charities, and we\\'ve proven by reductio ad absurdum that one\\nor both of the principles we began with is false.  Or we have a new\\nidea.I suspect it\\'s the latter, because as soon as this thought occurred\\nto me, a whole bunch of other things fell into place.ExamplesFor example, Craigslist.  It\\'s not a charity, but they run it like\\none.  And they\\'re astoundingly successful.  When you scan down the\\nlist of most popular web sites, the number of employees at Craigslist\\nlooks like a misprint. Their revenues aren\\'t as high as they could\\nbe, but most startups would be happy to trade places with them.In Patrick O\\'Brian\\'s novels, his captains always try to get upwind\\nof their opponents.  If you\\'re upwind, you decide when and if to\\nengage the other ship.  Craigslist is effectively upwind of enormous\\nrevenues.  They\\'d face some challenges if they wanted to make more,\\nbut not the sort you face when you\\'re tacking upwind, trying to\\nforce a crappy product on ambivalent users by spending ten times\\nas much on sales as on development.  [1]I\\'m not saying startups should aim to end up like Craigslist.\\nThey\\'re a product of unusual circumstances.  But they\\'re a good\\nmodel for the early phases.Google looked a lot like a charity in the beginning. They didn\\'t\\nhave ads for over a year.  At year 1, Google was indistinguishable\\nfrom a nonprofit.  If a nonprofit or government organization had\\nstarted a project to index the web, Google at year 1 is the limit\\nof what they\\'d have produced.Back when I was working on spam filters I thought it would be a\\ngood idea to have a web-based email service with good spam filtering.\\nI wasn\\'t thinking of it as a company.  I just wanted to keep people\\nfrom getting spammed.  But as I thought more about this project, I\\nrealized it would probably have to be a company.  It would cost\\nsomething to run, and it would be a pain to fund with grants and\\ndonations.That was a surprising realization.  Companies often claim to be\\nbenevolent, but it was surprising to realize there were purely\\nbenevolent projects that had to be embodied as companies to work.I didn\\'t want to start another company, so I didn\\'t do it.  But if\\nsomeone had, they\\'d probably be quite rich now.  There was a window\\nof about two years when spam was increasing rapidly but all the big\\nemail services had terrible filters.  If someone had launched a\\nnew, spam-free mail service, users would have flocked to it.Notice the pattern here?  From either direction we get to the same\\nspot.  If you start from successful startups, you find they often\\nbehaved like nonprofits.  And if you start from ideas for nonprofits,\\nyou find they\\'d often make good startups.PowerHow wide is this territory?  Would all good nonprofits be good\\ncompanies?  Possibly not.  What makes Google so valuable is that\\ntheir users have money.  If you make people with money love you,\\nyou can probably get some of it.  But could you also base a successful\\nstartup on behaving like a nonprofit to people who don\\'t have money?\\nCould you, for example, grow a successful startup out of curing an\\nunfashionable but deadly disease like malaria?I\\'m not sure, but I suspect that if you pushed this idea, you\\'d be\\nsurprised how far it would go.  For example, people who apply to Y\\nCombinator don\\'t generally have much money, and yet we can profit\\nby helping them, because with our help they could make money.  Maybe\\nthe situation is similar with malaria.  Maybe an organization that\\nhelped lift its weight off a country could benefit from the resulting\\ngrowth.I\\'m not proposing this is a serious idea.  I don\\'t know anything\\nabout malaria.  But I\\'ve been kicking ideas around long enough to\\nknow when I come across a powerful one.One way to guess how far an idea extends is to ask yourself at what\\npoint you\\'d bet against it.  The thought of betting against benevolence\\nis alarming in the same way as saying that something is technically\\nimpossible.  You\\'re just asking to be made a fool of, because these\\nare such powerful forces.  [2]For example, initially I thought maybe this principle only applied\\nto Internet startups.  Obviously it worked for Google, but what\\nabout Microsoft?  Surely Microsoft isn\\'t benevolent?  But when I\\nthink back to the beginning, they were.  Compared to IBM they were\\nlike Robin Hood.  When IBM introduced the PC, they thought they\\nwere going to make money selling hardware at high prices.  But by\\ngaining control of the PC standard, Microsoft opened up the market\\nto any manufacturer.  Hardware prices plummeted, and lots of people\\ngot to have computers who couldn\\'t otherwise have afforded them.\\nIt\\'s the sort of thing you\\'d expect Google to do.Microsoft isn\\'t so benevolent now.  Now when one thinks of what\\nMicrosoft does to users, all the verbs that come to mind begin with\\nF.  [3] And yet it doesn\\'t seem to pay.\\nTheir stock price has been flat for years.  Back when they were\\nRobin Hood, their stock price rose like Google\\'s.  Could there be\\na connection?You can see how there would be.  When you\\'re small, you can\\'t bully\\ncustomers, so you have to charm them.  Whereas when you\\'re big you\\ncan maltreat them at will, and you tend to, because it\\'s easier\\nthan satisfying them.  You grow big by being nice, but you can stay\\nbig by being mean.You get away with it till the underlying conditions change, and\\nthen all your victims escape.  So \"Don\\'t be evil\" may be the most\\nvaluable thing Paul Buchheit made for Google, because it may turn\\nout to be an elixir of corporate youth.  I\\'m sure they find it\\nconstraining, but think how valuable it will be if it saves them\\nfrom lapsing into the fatal laziness that afflicted Microsoft and\\nIBM.The curious thing is, this elixir is freely available to any other\\ncompany.  Anyone can adopt \"Don\\'t be evil.\"  The catch is that\\npeople will hold you to it.  So I don\\'t think you\\'re going to see\\nrecord labels or tobacco companies using this discovery.MoraleThere\\'s a lot of external evidence that benevolence works.  But how\\ndoes it work?  One advantage of investing in a large number of\\nstartups is that you get a lot of data about how they work.  From\\nwhat we\\'ve seen, being good seems to help startups in three ways:\\nit improves their morale, it makes other people want to help them,\\nand above all, it helps them be decisive.Morale is tremendously important to a startupâ€”so important\\nthat morale alone is almost enough to determine success.  Startups\\nare often described as emotional roller-coasters. One minute you\\'re\\ngoing to take over the world, and the next you\\'re doomed.  The\\nproblem with feeling you\\'re doomed is not just that it makes you\\nunhappy, but that it makes you stop working.  So the downhills\\nof the roller-coaster are more of a self fulfilling prophecy than\\nthe uphills.  If feeling you\\'re going to succeed makes you work\\nharder, that probably improves your chances of succeeding, but if\\nfeeling you\\'re going to fail makes you stop working, that practically\\nguarantees you\\'ll fail.Here\\'s where benevolence comes in.  If you feel you\\'re really helping\\npeople, you\\'ll keep working even when it seems like your startup\\nis doomed.  Most of us have some amount of natural benevolence.\\nThe mere fact that someone needs you makes you want to help them.\\nSo if you start the kind of startup where users come back each day,\\nyou\\'ve basically built yourself a giant tamagotchi.  You\\'ve made\\nsomething you need to take care of.Blogger is a famous example of a startup that went through really\\nlow lows and survived.  At one point they ran out of money and\\neveryone left. Evan Williams came in to work the next day, and there\\nwas no one but him.  What kept him going?  Partly that users needed\\nhim.  He was hosting thousands of people\\'s blogs. He couldn\\'t just\\nlet the site die.There are many advantages of launching quickly, but the most important\\nmay be that once you have users, the tamagotchi effect kicks in.\\nOnce you have users to take care of, you\\'re forced to figure out\\nwhat will make them happy, and that\\'s actually very valuable\\ninformation.The added confidence that comes from trying to help people can\\nalso help you with investors. One of the founders of \\nChatterous told \\nme recently that he and his cofounder had decided that this service\\nwas something the world needed, so they were going to keep working\\non it no matter what, even if they had to move back to Canada and live\\nin their parents\\' basements.Once they realized this, they stopped caring so much what investors thought\\nabout them.  They still met with them, but they weren\\'t going to\\ndie if they didn\\'t get their money.  And you know what?  The investors\\ngot a lot more interested.  They could sense that the Chatterouses\\nwere going to do this startup with or without them.If you\\'re really committed and your startup is cheap to run, you\\nbecome very hard to kill.  And practically all startups, even the\\nmost successful, come close to death at some point.  So if doing\\ngood for people gives you a sense of mission that makes you harder\\nto kill, that alone more than compensates for whatever you lose by\\nnot choosing a more selfish project.HelpAnother advantage of being good is that it makes other people want\\nto help you.  This too seems to be an inborn trait in humans.One of the startups we\\'ve funded, Octopart, is currently locked in\\na classic battle of good versus evil.  They\\'re a search site for\\nindustrial components.  A lot of people need to search for components,\\nand before Octopart there was no good way to do it.  That, it turned\\nout, was no coincidence.Octopart built the right way to search for components.  Users like\\nit and they\\'ve been growing rapidly.  And yet for most of Octopart\\'s\\nlife, the biggest distributor, Digi-Key, has been trying to force\\nthem take their prices off the site.  Octopart is sending them\\ncustomers for free, and yet Digi-Key is trying to make that traffic\\nstop.  Why?  Because their current business model depends on\\novercharging people who have incomplete information about prices.\\nThey don\\'t want search to work.The Octoparts are the nicest guys in the world.  They dropped out\\nof the PhD program in physics at Berkeley to do this.  They just\\nwanted to fix a problem they encountered in their research.  Imagine\\nhow much time you could save the world\\'s engineers if they could\\ndo searches online.  So when I hear that a big, evil company is\\ntrying to stop them in order to keep search broken, it makes me\\nreally want to help them. It makes me spend more time on the Octoparts\\nthan I do with most of the other startups we\\'ve funded.  It just\\nmade me spend several minutes telling you how great they are.  Why?\\nBecause they\\'re good guys and they\\'re trying to help the world.If you\\'re benevolent, people will rally around you: investors,\\ncustomers, other companies, and potential employees.  In the long\\nterm the most important may be the potential employees.  I think\\neveryone knows now that \\ngood hackers are much better than mediocre\\nones.  If you can attract the best hackers to work for you, as\\nGoogle has, you have a big advantage.  And the very best hackers\\ntend to be idealistic.  They\\'re not desperate for a job.  They can\\nwork wherever they want.  So most want to work on things that will\\nmake the world better.CompassBut the most important advantage of being good is that it acts as\\na compass.  One of the hardest parts of doing a startup is that you\\nhave so many choices.  There are just two or three of you, and a\\nthousand things you could do. How do you decide?Here\\'s the answer: Do whatever\\'s best for your users.  You can hold\\nonto this like a rope in a hurricane, and it will save you if\\nanything can.  Follow it and it will take you through everything\\nyou need to do.It\\'s even the answer to questions that seem unrelated, like how to\\nconvince investors to give you money.  If you\\'re a good salesman,\\nyou could try to just talk them into it.  But the more reliable\\nroute is to convince them through your users: if you make something\\nusers love enough to tell their friends, you grow exponentially,\\nand that will convince any investor.Being good is a particularly useful strategy for making decisions\\nin complex situations because it\\'s stateless.  It\\'s like telling\\nthe truth.  The trouble with lying is that you have to remember\\neverything you\\'ve said in the past to make sure you don\\'t contradict\\nyourself.  If you tell the truth you don\\'t have to remember anything,\\nand that\\'s a really useful property in domains where things happen\\nfast.For example, Y Combinator has now invested in 80 startups, 57 of\\nwhich are still alive.  (The rest have died or merged or been\\nacquired.)  When you\\'re trying to advise 57 startups, it turns out\\nyou have to have a stateless algorithm.  You can\\'t have ulterior\\nmotives when you have 57 things going on at once, because you can\\'t\\nremember them.  So our rule is just to do whatever\\'s best for the\\nfounders.  Not because we\\'re particularly benevolent, but because\\nit\\'s the only algorithm that works on that scale.When you write something telling people to be good, you seem to be\\nclaiming to be good yourself.  So I want to say explicitly that I\\nam not a particularly good person.  When I was a kid I was firmly\\nin the camp of bad.  The way adults used the word good, it seemed\\nto be synonymous with quiet, so I grew up very suspicious of it.You know how there are some people whose names come up in conversation\\nand everyone says \"He\\'s such a great guy?\"  People never say\\nthat about me.  The best I get is \"he means well.\"  I am not claiming\\nto be good.  At best I speak good as a second language.So I\\'m not suggesting you be good in the usual sanctimonious way.\\nI\\'m suggesting it because it works.  It will work not just as a\\nstatement of \"values,\" but as a guide to strategy,\\nand even a design spec for software.  Don\\'t just not be evil.  Be\\ngood.Notes[1] Fifty years ago\\nit would have seemed shocking for a public company not to pay\\ndividends.  Now many tech companies don\\'t.  The markets seem to\\nhave figured out how to value potential dividends.  Maybe that isn\\'t\\nthe last step in this evolution.  Maybe markets will eventually get\\ncomfortable with potential earnings. (VCs already are, and at least\\nsome of them consistently make money.)I realize this sounds like the stuff one used to hear about the\\n\"new economy\" during the Bubble.  Believe me, I was not drinking\\nthat kool-aid at the time.  But I\\'m convinced there were some \\ngood\\nideas buried in Bubble thinking.  For example, it\\'s ok to focus on\\ngrowth instead of profitsâ€”but only if the growth is genuine.\\nYou can\\'t be buying users; that\\'s a pyramid scheme.   But a company\\nwith rapid, genuine growth is valuable, and eventually markets learn\\nhow to value valuable things.[2] The idea of starting\\na company with benevolent aims is currently undervalued, because\\nthe kind of people who currently make that their explicit goal don\\'t\\nusually do a very good job.It\\'s one of the standard career paths of trustafarians to start\\nsome vaguely benevolent business.  The problem with most of them\\nis that they either have a bogus political agenda or are feebly\\nexecuted.  The trustafarians\\' ancestors didn\\'t get rich by preserving\\ntheir traditional culture; maybe people in Bolivia don\\'t want to\\neither.  And starting an organic farm, though it\\'s at least\\nstraightforwardly benevolent, doesn\\'t help people on the scale that\\nGoogle does.Most explicitly benevolent projects don\\'t hold themselves sufficiently\\naccountable.  They act as if having good intentions were enough to\\nguarantee good effects.[3] Users dislike their\\nnew operating system so much that they\\'re starting petitions to\\nsave the old one.  And the old one was nothing special.  The hackers\\nwithin Microsoft must know in their hearts that if the company\\nreally cared about users they\\'d just advise them to switch to OSX.Thanks to Trevor Blackwell, Paul Buchheit, Jessica Livingston,\\nand Robert Morris for reading drafts of this.'"
      ]
     },
     "execution_count": 22,
     "metadata": {},
     "output_type": "execute_result"
    }
   ],
   "source": [
    "loaded_data[0].page_content"
   ]
  },
  {
   "cell_type": "code",
   "execution_count": 23,
   "id": "063a35f4-da0c-4915-978d-be3d9f70befa",
   "metadata": {},
   "outputs": [],
   "source": [
    "from langchain_text_splitters import CharacterTextSplitter\n",
    "\n",
    "text_splitter = CharacterTextSplitter(\n",
    "    separator=\"\\n\\n\",\n",
    "    chunk_size=1000,\n",
    "    chunk_overlap=200,\n",
    "    length_function=len,\n",
    "    is_separator_regex=False,\n",
    ")"
   ]
  },
  {
   "cell_type": "code",
   "execution_count": 24,
   "id": "1a1f58df-c7b1-491c-93a1-c065591b28e4",
   "metadata": {},
   "outputs": [],
   "source": [
    "texts = text_splitter.create_documents([loaded_data[0].page_content])"
   ]
  },
  {
   "cell_type": "code",
   "execution_count": 25,
   "id": "8c2bf32e-3cc8-4b59-bc8d-5617b37a62fb",
   "metadata": {},
   "outputs": [
    {
     "data": {
      "text/plain": [
       "2"
      ]
     },
     "execution_count": 25,
     "metadata": {},
     "output_type": "execute_result"
    }
   ],
   "source": [
    "len(texts)"
   ]
  },
  {
   "cell_type": "code",
   "execution_count": 26,
   "id": "97c9e310-597b-46aa-accf-69eeda77f7f5",
   "metadata": {},
   "outputs": [
    {
     "data": {
      "text/plain": [
       "Document(metadata={}, page_content='Be good')"
      ]
     },
     "execution_count": 26,
     "metadata": {},
     "output_type": "execute_result"
    }
   ],
   "source": [
    "texts[0]"
   ]
  },
  {
   "cell_type": "code",
   "execution_count": 27,
   "id": "297dd163-7d2c-476b-b332-c2bf232461d5",
   "metadata": {},
   "outputs": [],
   "source": [
    "# texts[1]"
   ]
  },
  {
   "cell_type": "markdown",
   "id": "b8c9b427-4002-4995-9db4-63d5afa9403c",
   "metadata": {},
   "source": [
    "### Splitting with metadata"
   ]
  },
  {
   "cell_type": "code",
   "execution_count": 28,
   "id": "becc89c4-ec8c-468a-af28-711184d9c75c",
   "metadata": {},
   "outputs": [],
   "source": [
    "metadatas = [{\"chunk\": 0}, {\"chunk\": 1}]\n",
    "\n",
    "documents = text_splitter.create_documents(\n",
    "    [loaded_data[0].page_content, loaded_data[0].page_content], \n",
    "    metadatas=metadatas\n",
    ")"
   ]
  },
  {
   "cell_type": "code",
   "execution_count": 29,
   "id": "2f32ee1a-dcbc-4906-9e26-ff1c00f43e30",
   "metadata": {},
   "outputs": [
    {
     "data": {
      "text/plain": [
       "Document(metadata={'chunk': 0}, page_content='Be good')"
      ]
     },
     "execution_count": 29,
     "metadata": {},
     "output_type": "execute_result"
    }
   ],
   "source": [
    "documents[0]"
   ]
  },
  {
   "cell_type": "code",
   "execution_count": 30,
   "id": "a892bfb2-d1ab-4e9d-a4b2-25a4a6319577",
   "metadata": {},
   "outputs": [
    {
     "name": "stdout",
     "output_type": "stream",
     "text": [
      "page_content='Be good' metadata={'chunk': 0}\n"
     ]
    }
   ],
   "source": [
    "print(documents[0])"
   ]
  },
  {
   "cell_type": "markdown",
   "id": "c9e6edae-a834-4142-ad7f-5691743149de",
   "metadata": {},
   "source": [
    "## Embeddings (transform chunks of text in chunks of numbers)"
   ]
  },
  {
   "cell_type": "code",
   "execution_count": 31,
   "id": "05cb4bba-e086-4548-ad45-b5e49a4c0a47",
   "metadata": {},
   "outputs": [],
   "source": [
    "from langchain_openai import OpenAIEmbeddings\n",
    "\n",
    "embeddings_model = OpenAIEmbeddings()"
   ]
  },
  {
   "cell_type": "code",
   "execution_count": 32,
   "id": "930877dc-b2e3-4052-8302-52d1244deb98",
   "metadata": {},
   "outputs": [],
   "source": [
    "chunks_of_text =     [\n",
    "        \"Hi there!\",\n",
    "        \"Oh, hello!\",\n",
    "        \"What's your name?\",\n",
    "        \"My friends call me World\",\n",
    "        \"Hello World!\"\n",
    "    ]"
   ]
  },
  {
   "cell_type": "code",
   "execution_count": 33,
   "id": "525199a0-8229-4b86-aec3-3c5fb0dc19b2",
   "metadata": {},
   "outputs": [],
   "source": [
    "embeddings = embeddings_model.embed_documents(chunks_of_text)"
   ]
  },
  {
   "cell_type": "code",
   "execution_count": 34,
   "id": "c2ce6168-3e42-4689-8d90-316aa4934959",
   "metadata": {},
   "outputs": [
    {
     "data": {
      "text/plain": [
       "5"
      ]
     },
     "execution_count": 34,
     "metadata": {},
     "output_type": "execute_result"
    }
   ],
   "source": [
    "len(embeddings)"
   ]
  },
  {
   "cell_type": "code",
   "execution_count": 35,
   "id": "5c2798ac-951f-4e54-b95c-e33494ff436c",
   "metadata": {},
   "outputs": [
    {
     "data": {
      "text/plain": [
       "1536"
      ]
     },
     "execution_count": 35,
     "metadata": {},
     "output_type": "execute_result"
    }
   ],
   "source": [
    "len(embeddings[0])"
   ]
  },
  {
   "cell_type": "code",
   "execution_count": 36,
   "id": "9db5e4bd-9373-4b02-8116-26949113dbf6",
   "metadata": {},
   "outputs": [
    {
     "name": "stdout",
     "output_type": "stream",
     "text": [
      "[-0.020325319841504097, -0.007096723187714815, -0.022839006036520004, -0.026279456913471222, -0.037527572363615036]\n"
     ]
    }
   ],
   "source": [
    "print(embeddings[0][:5])"
   ]
  },
  {
   "cell_type": "code",
   "execution_count": 37,
   "id": "eeb48ccb-346a-4394-893e-dca63af4317d",
   "metadata": {},
   "outputs": [],
   "source": [
    "embedded_query = embeddings_model.embed_query(\"What was the name mentioned in the conversation?\")"
   ]
  },
  {
   "cell_type": "code",
   "execution_count": 38,
   "id": "2327893b-c3f2-444c-acd9-d44459e9a26d",
   "metadata": {},
   "outputs": [
    {
     "data": {
      "text/plain": [
       "1536"
      ]
     },
     "execution_count": 38,
     "metadata": {},
     "output_type": "execute_result"
    }
   ],
   "source": [
    "len(embedded_query)"
   ]
  },
  {
   "cell_type": "markdown",
   "id": "c573cdd8-3aff-488b-8649-4050a42e26c4",
   "metadata": {},
   "source": [
    "## Vector databases (vector stores) store and search embeddings"
   ]
  },
  {
   "cell_type": "code",
   "execution_count": 39,
   "id": "8e0c5a1d-10d3-4813-a5e3-765c2127e174",
   "metadata": {},
   "outputs": [],
   "source": [
    "from langchain_community.document_loaders import TextLoader\n",
    "from langchain_openai import OpenAIEmbeddings\n",
    "from langchain_text_splitters import CharacterTextSplitter\n",
    "from langchain_chroma import Chroma\n",
    "\n",
    "# Load the document, split it into chunks, embed each chunk and load it into the vector store.\n",
    "# loaded_document = TextLoader('./data/state_of_the_union.txt').load()\n",
    "loaded_document = TextLoader('../../data/state_of_the_union.txt').load()\n",
    "\n",
    "text_splitter = CharacterTextSplitter(chunk_size=1000, chunk_overlap=0)\n",
    "\n",
    "chunks_of_text = text_splitter.split_documents(loaded_document)\n",
    "\n",
    "vector_db = Chroma.from_documents(chunks_of_text, OpenAIEmbeddings())"
   ]
  },
  {
   "cell_type": "code",
   "execution_count": 40,
   "id": "bdbd14f2-a3ca-40db-887b-b86d65d0b22e",
   "metadata": {},
   "outputs": [
    {
     "name": "stdout",
     "output_type": "stream",
     "text": [
      "Repeal the liability shield that makes gun manufacturers the only industry in America that canâ€™t be sued. \n",
      "\n",
      "These laws donâ€™t infringe on the Second Amendment. They save lives. \n",
      "\n",
      "The most fundamental right in America is the right to vote â€“ and to have it counted. And itâ€™s under assault. \n",
      "\n",
      "In state after state, new laws have been passed, not only to suppress the vote, but to subvert entire elections. \n",
      "\n",
      "We cannot let this happen. \n",
      "\n",
      "Tonight. I call on the Senate to: Pass the Freedom to Vote Act. Pass the John Lewis Voting Rights Act. And while youâ€™re at it, pass the Disclose Act so Americans can know who is funding our elections. \n",
      "\n",
      "Tonight, Iâ€™d like to honor someone who has dedicated his life to serve this country: Justice Stephen Breyerâ€”an Army veteran, Constitutional scholar, and retiring Justice of the United States Supreme Court. Justice Breyer, thank you for your service.\n"
     ]
    }
   ],
   "source": [
    "question = \"What did the president say about the John Lewis Voting Rights Act?\"\n",
    "\n",
    "response = vector_db.similarity_search(question)\n",
    "\n",
    "print(response[0].page_content)"
   ]
  },
  {
   "cell_type": "markdown",
   "id": "9ef75d01-9170-4c07-9a3d-7f936067e85c",
   "metadata": {},
   "source": [
    "## Retriever (returns response given question)"
   ]
  },
  {
   "cell_type": "markdown",
   "id": "28fc3da7-111f-428c-b897-7d4737ad4d19",
   "metadata": {},
   "source": [
    "### Vector store as retriever"
   ]
  },
  {
   "cell_type": "code",
   "execution_count": 41,
   "id": "47b42931-75c5-465d-a615-7e57531a18de",
   "metadata": {},
   "outputs": [],
   "source": [
    "from langchain_community.document_loaders import TextLoader\n",
    "\n",
    "# loader = TextLoader(\"./data/state_of_the_union.txt\")\n",
    "loader = TextLoader(\"../../data/state_of_the_union.txt\")"
   ]
  },
  {
   "cell_type": "code",
   "execution_count": 42,
   "id": "43f10cb2-7093-4674-b430-ed3b132e9817",
   "metadata": {},
   "outputs": [],
   "source": [
    "#!pip install faiss-cpu"
   ]
  },
  {
   "cell_type": "code",
   "execution_count": 43,
   "id": "f5dfeb82-ac3c-4d75-895f-c4e099feedcd",
   "metadata": {},
   "outputs": [],
   "source": [
    "from langchain_community.vectorstores import FAISS\n",
    "from langchain_openai import OpenAIEmbeddings\n",
    "from langchain_text_splitters import CharacterTextSplitter\n",
    "\n",
    "loaded_document = loader.load()\n",
    "\n",
    "text_splitter = CharacterTextSplitter(chunk_size=1000, chunk_overlap=0)\n",
    "\n",
    "chunks_of_text = text_splitter.split_documents(loaded_document)\n",
    "\n",
    "embeddings = OpenAIEmbeddings()\n",
    "\n",
    "vector_db = FAISS.from_documents(chunks_of_text, embeddings)"
   ]
  },
  {
   "cell_type": "code",
   "execution_count": 44,
   "id": "b5915c97-525d-4091-a6e7-e12ed91e7d70",
   "metadata": {},
   "outputs": [],
   "source": [
    "retriever = vector_db.as_retriever()"
   ]
  },
  {
   "cell_type": "markdown",
   "id": "f999f074-13c2-4fb5-b04f-9d0c7eb93cc4",
   "metadata": {},
   "source": [
    "### Simple use without LCEL"
   ]
  },
  {
   "cell_type": "code",
   "execution_count": 45,
   "id": "bfbe3f81-a42e-4638-862a-1875bca182d9",
   "metadata": {},
   "outputs": [],
   "source": [
    "response = retriever.invoke(\"what did he say about ketanji brown jackson?\")"
   ]
  },
  {
   "cell_type": "code",
   "execution_count": 46,
   "id": "aea950f3-26eb-496b-8561-303c78c53604",
   "metadata": {},
   "outputs": [
    {
     "data": {
      "text/plain": [
       "4"
      ]
     },
     "execution_count": 46,
     "metadata": {},
     "output_type": "execute_result"
    }
   ],
   "source": [
    "len(response)"
   ]
  },
  {
   "cell_type": "code",
   "execution_count": 47,
   "id": "22e24601-0892-4e50-b616-e9ed23b927c6",
   "metadata": {},
   "outputs": [
    {
     "data": {
      "text/plain": [
       "Document(id='144c6543-c865-4ae5-b5ea-194a5c965597', metadata={'source': '../../data/state_of_the_union.txt'}, page_content='One of the most serious constitutional responsibilities a President has is nominating someone to serve on the United States Supreme Court. \\n\\nAnd I did that 4 days ago, when I nominated Circuit Court of Appeals Judge Ketanji Brown Jackson. One of our nationâ€™s top legal minds, who will continue Justice Breyerâ€™s legacy of excellence. \\n\\nA former top litigator in private practice. A former federal public defender. And from a family of public school educators and police officers. A consensus builder. Since sheâ€™s been nominated, sheâ€™s received a broad range of supportâ€”from the Fraternal Order of Police to former judges appointed by Democrats and Republicans. \\n\\nAnd if we are to advance liberty and justice, we need to secure the Border and fix the immigration system. \\n\\nWe can do both. At our border, weâ€™ve installed new technology like cutting-edge scanners to better detect drug smuggling.  \\n\\nWeâ€™ve set up joint patrols with Mexico and Guatemala to catch more human traffickers.')"
      ]
     },
     "execution_count": 47,
     "metadata": {},
     "output_type": "execute_result"
    }
   ],
   "source": [
    "response[0]"
   ]
  },
  {
   "cell_type": "markdown",
   "id": "aae059e7-8d45-4499-b776-b8516f244728",
   "metadata": {},
   "source": [
    "### Specifying top k"
   ]
  },
  {
   "cell_type": "code",
   "execution_count": 48,
   "id": "f0b16801-329e-4e75-9efc-06cdaac5ad0a",
   "metadata": {},
   "outputs": [],
   "source": [
    "retriever = vector_db.as_retriever(search_kwargs={\"k\": 1})"
   ]
  },
  {
   "cell_type": "code",
   "execution_count": 49,
   "id": "95a8e852-e4a9-4bc3-9411-2832beb27b79",
   "metadata": {},
   "outputs": [],
   "source": [
    "response = retriever.invoke(\"what did he say about ketanji brown jackson?\")"
   ]
  },
  {
   "cell_type": "code",
   "execution_count": 50,
   "id": "b5127a22-dbb4-49c8-8c67-bf0030e48276",
   "metadata": {},
   "outputs": [
    {
     "data": {
      "text/plain": [
       "1"
      ]
     },
     "execution_count": 50,
     "metadata": {},
     "output_type": "execute_result"
    }
   ],
   "source": [
    "len(response)"
   ]
  },
  {
   "cell_type": "code",
   "execution_count": 51,
   "id": "ed662402-06a1-428b-8800-6e7d1c8c8afb",
   "metadata": {},
   "outputs": [
    {
     "data": {
      "text/plain": [
       "[Document(id='144c6543-c865-4ae5-b5ea-194a5c965597', metadata={'source': '../../data/state_of_the_union.txt'}, page_content='One of the most serious constitutional responsibilities a President has is nominating someone to serve on the United States Supreme Court. \\n\\nAnd I did that 4 days ago, when I nominated Circuit Court of Appeals Judge Ketanji Brown Jackson. One of our nationâ€™s top legal minds, who will continue Justice Breyerâ€™s legacy of excellence. \\n\\nA former top litigator in private practice. A former federal public defender. And from a family of public school educators and police officers. A consensus builder. Since sheâ€™s been nominated, sheâ€™s received a broad range of supportâ€”from the Fraternal Order of Police to former judges appointed by Democrats and Republicans. \\n\\nAnd if we are to advance liberty and justice, we need to secure the Border and fix the immigration system. \\n\\nWe can do both. At our border, weâ€™ve installed new technology like cutting-edge scanners to better detect drug smuggling.  \\n\\nWeâ€™ve set up joint patrols with Mexico and Guatemala to catch more human traffickers.')]"
      ]
     },
     "execution_count": 51,
     "metadata": {},
     "output_type": "execute_result"
    }
   ],
   "source": [
    "response"
   ]
  },
  {
   "cell_type": "markdown",
   "id": "eca5a05a-8e92-4fde-a67f-b740634d4f17",
   "metadata": {},
   "source": [
    "### Simple use with LCEL and input and output formatters"
   ]
  },
  {
   "cell_type": "code",
   "execution_count": 52,
   "id": "39a59adc-5e4e-47e1-b643-0d4b8970528a",
   "metadata": {},
   "outputs": [],
   "source": [
    "from langchain_openai import ChatOpenAI\n",
    "from langchain_core.prompts import ChatPromptTemplate\n",
    "from langchain_core.output_parsers import StrOutputParser\n",
    "from langchain_core.runnables import RunnablePassthrough\n",
    "\n",
    "template = \"\"\"Answer the question based only on the following context:\n",
    "\n",
    "{context}\n",
    "\n",
    "Question: {question}\n",
    "\"\"\"\n",
    "\n",
    "prompt = ChatPromptTemplate.from_template(template)\n",
    "\n",
    "# model = ChatOpenAI()\n",
    "model = ChatOpenAI(model=MODEL_GPT)\n",
    "\n",
    "def format_docs(docs):\n",
    "    return \"\\n\\n\".join([d.page_content for d in docs])\n",
    "\n",
    "chain = (\n",
    "    {\"context\": retriever | format_docs, \"question\": RunnablePassthrough()}\n",
    "    | prompt\n",
    "    | model\n",
    "    | StrOutputParser()\n",
    ")\n",
    "\n",
    "response = chain.invoke(\"what did he say about ketanji brown jackson?\")"
   ]
  },
  {
   "cell_type": "code",
   "execution_count": 53,
   "id": "d303dd24-f146-42fa-9a1c-c42cc536f122",
   "metadata": {},
   "outputs": [
    {
     "data": {
      "text/plain": [
       "\"He described Ketanji Brown Jackson as one of the nation's top legal minds who will continue Justice Breyer's legacy of excellence. He noted her background as a former top litigator in private practice, a former federal public defender, and her roots in a family of public school educators and police officers. He also emphasized her ability as a consensus builder and mentioned that she has received a broad range of support from various organizations and individuals, including the Fraternal Order of Police and former judges appointed by both Democrats and Republicans.\""
      ]
     },
     "execution_count": 53,
     "metadata": {},
     "output_type": "execute_result"
    }
   ],
   "source": [
    "response"
   ]
  },
  {
   "cell_type": "markdown",
   "id": "ba2b6167-7075-42b6-88f6-e2c9d57ce26e",
   "metadata": {
    "jp-MarkdownHeadingCollapsed": true
   },
   "source": [
    "## Indexing\n",
    "* [version v0.1](https://python.langchain.com/v0.1/docs/modules/data_connection/indexing/)\n",
    "* [latest version](https://python.langchain.com/docs/how_to/indexing/)"
   ]
  }
 ],
 "metadata": {
  "kernelspec": {
   "display_name": "Python 3 (ipykernel)",
   "language": "python",
   "name": "python3"
  },
  "language_info": {
   "codemirror_mode": {
    "name": "ipython",
    "version": 3
   },
   "file_extension": ".py",
   "mimetype": "text/x-python",
   "name": "python",
   "nbconvert_exporter": "python",
   "pygments_lexer": "ipython3",
   "version": "3.11.11"
  }
 },
 "nbformat": 4,
 "nbformat_minor": 5
}
