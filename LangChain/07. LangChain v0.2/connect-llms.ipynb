{
 "cells": [
  {
   "cell_type": "markdown",
   "id": "465c003a-29cf-4cfe-a0c6-d36c04ae2b37",
   "metadata": {},
   "source": [
    "# Connecting with the LLM"
   ]
  },
  {
   "cell_type": "markdown",
   "id": "5a2f9501-fa9e-4830-95e2-537dff951cf1",
   "metadata": {},
   "source": [
    "## List of LLMs that can work with LangChain\n",
    "* [LLMs for version v0.1](https://python.langchain.com/v0.1/docs/integrations/llms/)\n",
    "* [LLMs for latest version](https://python.langchain.com/docs/integrations/llms/)\n",
    "* [text completion models](https://python.langchain.com/docs/concepts/text_llms/)\n",
    "* [chat completion models](https://python.langchain.com/docs/concepts/chat_models/)\n",
    "* [advanced prompting techniques](https://python.langchain.com/docs/integrations/chat/)"
   ]
  },
  {
   "cell_type": "code",
   "execution_count": 1,
   "id": "fecd39d0-e72e-4bc2-8a68-2fa4008ea365",
   "metadata": {},
   "outputs": [],
   "source": [
    "import os\n",
    "from dotenv import load_dotenv, find_dotenv\n",
    "_ = load_dotenv(find_dotenv())\n",
    "openai_api_key = os.environ[\"OPENAI_API_KEY\"]"
   ]
  },
  {
   "cell_type": "code",
   "execution_count": 2,
   "id": "f7cbee09-9246-499a-a987-41e752d856b3",
   "metadata": {},
   "outputs": [],
   "source": [
    "MODEL_GPT = 'gpt-4o-mini'"
   ]
  },
  {
   "cell_type": "markdown",
   "id": "fbf1d17b-6d15-423b-b554-26d6d977ca27",
   "metadata": {},
   "source": [
    "## LLM Model"
   ]
  },
  {
   "cell_type": "code",
   "execution_count": 3,
   "id": "e92628f2-62e8-436c-92d4-e849de7744ad",
   "metadata": {},
   "outputs": [],
   "source": [
    "from langchain_openai import OpenAI\n",
    "\n",
    "llmModel = OpenAI()\n",
    "# llmModel = OpenAI(model=MODEL_GPT)  # ERROR (This is a chat model and not supported in the v1/completions endpoint)"
   ]
  },
  {
   "cell_type": "markdown",
   "id": "bdeaf300-5cb6-4df8-bcb9-1fe3c82e4b22",
   "metadata": {},
   "source": [
    "### Invoke (all text of reponse is printed at once)"
   ]
  },
  {
   "cell_type": "code",
   "execution_count": 4,
   "id": "93ade5fa-b487-4f32-bda7-0f9c41b096b5",
   "metadata": {},
   "outputs": [],
   "source": [
    "response = llmModel.invoke(\n",
    "    \"Tell me one fun fact about the Kennedy family.\"\n",
    ")"
   ]
  },
  {
   "cell_type": "code",
   "execution_count": 5,
   "id": "a33285ef-4bb5-4fd6-9894-790c07a5468c",
   "metadata": {},
   "outputs": [
    {
     "data": {
      "text/plain": [
       "'\\n\\nOne fun fact about the Kennedy family is that the family has a tradition of playing touch football on Thanksgiving Day. This tradition started with President John F. Kennedy and his brothers and continued for generations with the family members and their friends.'"
      ]
     },
     "execution_count": 5,
     "metadata": {},
     "output_type": "execute_result"
    }
   ],
   "source": [
    "response"
   ]
  },
  {
   "cell_type": "code",
   "execution_count": 6,
   "id": "3aa71043-4707-44b4-8d1f-8540d5d139b2",
   "metadata": {},
   "outputs": [
    {
     "name": "stdout",
     "output_type": "stream",
     "text": [
      "\n",
      "\n",
      "One fun fact about the Kennedy family is that the family has a tradition of playing touch football on Thanksgiving Day. This tradition started with President John F. Kennedy and his brothers and continued for generations with the family members and their friends.\n"
     ]
    }
   ],
   "source": [
    "print(response)"
   ]
  },
  {
   "cell_type": "markdown",
   "id": "9b4c29ae-d60a-44c7-925c-20084c0b941e",
   "metadata": {},
   "source": [
    "### Streaming (printing one chunk of text at time)"
   ]
  },
  {
   "cell_type": "code",
   "execution_count": 7,
   "id": "158aa111-9167-444c-9b10-90b095eac390",
   "metadata": {},
   "outputs": [
    {
     "name": "stdout",
     "output_type": "stream",
     "text": [
      "\n",
      "\n",
      "One fun fact about the Kennedy family is that they have a history of competitive sailing. John F. Kennedy and his siblings were all avid sailors, and JFK even skippered his own boat in the 1930s. JFK's brother Ted Kennedy was also a successful sailor, winning the prestigious America's Cup in 1962. The Kennedy family's love for sailing continues to this day, with many family members participating in regattas and races together."
     ]
    }
   ],
   "source": [
    "for chunk in llmModel.stream(\n",
    "    \"Tell me one fun fact about the Kennedy family.\"\n",
    "):\n",
    "    print(chunk, end=\"\", flush=True)"
   ]
  },
  {
   "cell_type": "markdown",
   "id": "98101f10-6349-4f98-9fb7-a1400166cedc",
   "metadata": {},
   "source": [
    "### Temperature (more or less creativity)"
   ]
  },
  {
   "cell_type": "code",
   "execution_count": 8,
   "id": "ac12473a-1ffd-4a22-852a-92e1e6374914",
   "metadata": {},
   "outputs": [],
   "source": [
    "creativeLlmModel = OpenAI(temperature=0.9)\n",
    "# creativeLlmModel = OpenAI(model=MODEL_GPT, temperature=0.9)  # ERROR (This is a chat model and not supported in the v1/completions endpoint)"
   ]
  },
  {
   "cell_type": "code",
   "execution_count": 9,
   "id": "325b9b2a-c61d-4264-81bf-71090f9b0151",
   "metadata": {},
   "outputs": [],
   "source": [
    "response = llmModel.invoke(\n",
    "    \"Write a short 5 line poem about JFK\"\n",
    ")"
   ]
  },
  {
   "cell_type": "code",
   "execution_count": 10,
   "id": "679c1220-13ed-4251-ba4b-f8f1ba350f2d",
   "metadata": {},
   "outputs": [
    {
     "name": "stdout",
     "output_type": "stream",
     "text": [
      "\n",
      "\n",
      "A charismatic leader, full of grace\n",
      "His vision for a brighter future, we embrace\n",
      "With words that inspired and actions bold\n",
      "JFK's legacy will never grow old\n",
      "Forever remembered, a president of gold\n"
     ]
    }
   ],
   "source": [
    "print(response)"
   ]
  },
  {
   "cell_type": "markdown",
   "id": "31346a0c-ee9c-4a80-8e8a-85ef682df7c3",
   "metadata": {},
   "source": [
    "## Chat Model"
   ]
  },
  {
   "cell_type": "code",
   "execution_count": 11,
   "id": "b14d27c3-0b1b-4b11-a883-8da2734f21a7",
   "metadata": {},
   "outputs": [],
   "source": [
    "from langchain_openai import ChatOpenAI\n",
    "\n",
    "# chatModel = ChatOpenAI(model=\"gpt-3.5-turbo-0125\")\n",
    "chatModel = ChatOpenAI(model=MODEL_GPT)"
   ]
  },
  {
   "cell_type": "code",
   "execution_count": 12,
   "id": "0eaa967e-067f-4574-8cbc-b1e5b7956fa2",
   "metadata": {},
   "outputs": [],
   "source": [
    "messages = [\n",
    "    (\"system\", \"You are an historian expert in the Kennedy family.\"),\n",
    "    (\"human\", \"Tell me one curious thing about JFK.\"),\n",
    "]\n",
    "response = chatModel.invoke(messages)"
   ]
  },
  {
   "cell_type": "code",
   "execution_count": 13,
   "id": "2f567f5a-c4ea-4234-84e6-422bf6104589",
   "metadata": {},
   "outputs": [
    {
     "data": {
      "text/plain": [
       "AIMessage(content='One curious thing about John F. Kennedy (JFK) is that he was a prolific reader and had a deep interest in literature. Despite his busy political career, he reportedly read about a book a day. He often had a personal library filled with a wide range of genres, from history and philosophy to fiction. JFK even enjoyed reading to his children and would often discuss the books he read with them, fostering a love for literature within his family. His affinity for literature was reflected in his speeches as well, where he often quoted famous authors and historical figures, showcasing his belief in the power of words and ideas.', additional_kwargs={'refusal': None}, response_metadata={'token_usage': {'completion_tokens': 124, 'prompt_tokens': 29, 'total_tokens': 153, 'completion_tokens_details': {'accepted_prediction_tokens': 0, 'audio_tokens': 0, 'reasoning_tokens': 0, 'rejected_prediction_tokens': 0}, 'prompt_tokens_details': {'audio_tokens': 0, 'cached_tokens': 0}}, 'model_name': 'gpt-4o-mini-2024-07-18', 'system_fingerprint': 'fp_06737a9306', 'finish_reason': 'stop', 'logprobs': None}, id='run-fcee2aa6-f4f1-4e26-b7aa-5b93065e5762-0', usage_metadata={'input_tokens': 29, 'output_tokens': 124, 'total_tokens': 153, 'input_token_details': {'audio': 0, 'cache_read': 0}, 'output_token_details': {'audio': 0, 'reasoning': 0}})"
      ]
     },
     "execution_count": 13,
     "metadata": {},
     "output_type": "execute_result"
    }
   ],
   "source": [
    "response"
   ]
  },
  {
   "cell_type": "code",
   "execution_count": 14,
   "id": "19a6abd4-a072-47ea-ae60-7959def9b602",
   "metadata": {},
   "outputs": [
    {
     "data": {
      "text/plain": [
       "'One curious thing about John F. Kennedy (JFK) is that he was a prolific reader and had a deep interest in literature. Despite his busy political career, he reportedly read about a book a day. He often had a personal library filled with a wide range of genres, from history and philosophy to fiction. JFK even enjoyed reading to his children and would often discuss the books he read with them, fostering a love for literature within his family. His affinity for literature was reflected in his speeches as well, where he often quoted famous authors and historical figures, showcasing his belief in the power of words and ideas.'"
      ]
     },
     "execution_count": 14,
     "metadata": {},
     "output_type": "execute_result"
    }
   ],
   "source": [
    "response.content"
   ]
  },
  {
   "cell_type": "code",
   "execution_count": 15,
   "id": "47927ac1-13bc-40eb-9917-9d39418f0f7d",
   "metadata": {},
   "outputs": [
    {
     "data": {
      "text/plain": [
       "{'token_usage': {'completion_tokens': 124,\n",
       "  'prompt_tokens': 29,\n",
       "  'total_tokens': 153,\n",
       "  'completion_tokens_details': {'accepted_prediction_tokens': 0,\n",
       "   'audio_tokens': 0,\n",
       "   'reasoning_tokens': 0,\n",
       "   'rejected_prediction_tokens': 0},\n",
       "  'prompt_tokens_details': {'audio_tokens': 0, 'cached_tokens': 0}},\n",
       " 'model_name': 'gpt-4o-mini-2024-07-18',\n",
       " 'system_fingerprint': 'fp_06737a9306',\n",
       " 'finish_reason': 'stop',\n",
       " 'logprobs': None}"
      ]
     },
     "execution_count": 15,
     "metadata": {},
     "output_type": "execute_result"
    }
   ],
   "source": [
    "response.response_metadata"
   ]
  },
  {
   "cell_type": "code",
   "execution_count": 16,
   "id": "7847143f-3179-423e-b499-a6e494967741",
   "metadata": {},
   "outputs": [
    {
     "name": "stderr",
     "output_type": "stream",
     "text": [
      "C:\\Users\\Pavel\\AppData\\Local\\Temp\\ipykernel_9548\\4004604031.py:1: PydanticDeprecatedSince20: The `schema` method is deprecated; use `model_json_schema` instead. Deprecated in Pydantic V2.0 to be removed in V3.0. See Pydantic V2 Migration Guide at https://errors.pydantic.dev/2.10/migration/\n",
      "  response.schema()\n"
     ]
    },
    {
     "data": {
      "text/plain": [
       "{'$defs': {'InputTokenDetails': {'description': 'Breakdown of input token counts.\\n\\nDoes *not* need to sum to full input token count. Does *not* need to have all keys.\\n\\nExample:\\n\\n    .. code-block:: python\\n\\n        {\\n            \"audio\": 10,\\n            \"cache_creation\": 200,\\n            \"cache_read\": 100,\\n        }\\n\\n.. versionadded:: 0.3.9',\n",
       "   'properties': {'audio': {'title': 'Audio', 'type': 'integer'},\n",
       "    'cache_creation': {'title': 'Cache Creation', 'type': 'integer'},\n",
       "    'cache_read': {'title': 'Cache Read', 'type': 'integer'}},\n",
       "   'title': 'InputTokenDetails',\n",
       "   'type': 'object'},\n",
       "  'InvalidToolCall': {'description': 'Allowance for errors made by LLM.\\n\\nHere we add an `error` key to surface errors made during generation\\n(e.g., invalid JSON arguments.)',\n",
       "   'properties': {'name': {'anyOf': [{'type': 'string'}, {'type': 'null'}],\n",
       "     'title': 'Name'},\n",
       "    'args': {'anyOf': [{'type': 'string'}, {'type': 'null'}], 'title': 'Args'},\n",
       "    'id': {'anyOf': [{'type': 'string'}, {'type': 'null'}], 'title': 'Id'},\n",
       "    'error': {'anyOf': [{'type': 'string'}, {'type': 'null'}],\n",
       "     'title': 'Error'},\n",
       "    'type': {'const': 'invalid_tool_call', 'title': 'Type', 'type': 'string'}},\n",
       "   'required': ['name', 'args', 'id', 'error'],\n",
       "   'title': 'InvalidToolCall',\n",
       "   'type': 'object'},\n",
       "  'OutputTokenDetails': {'description': 'Breakdown of output token counts.\\n\\nDoes *not* need to sum to full output token count. Does *not* need to have all keys.\\n\\nExample:\\n\\n    .. code-block:: python\\n\\n        {\\n            \"audio\": 10,\\n            \"reasoning\": 200,\\n        }\\n\\n.. versionadded:: 0.3.9',\n",
       "   'properties': {'audio': {'title': 'Audio', 'type': 'integer'},\n",
       "    'reasoning': {'title': 'Reasoning', 'type': 'integer'}},\n",
       "   'title': 'OutputTokenDetails',\n",
       "   'type': 'object'},\n",
       "  'ToolCall': {'description': 'Represents a request to call a tool.\\n\\nExample:\\n\\n    .. code-block:: python\\n\\n        {\\n            \"name\": \"foo\",\\n            \"args\": {\"a\": 1},\\n            \"id\": \"123\"\\n        }\\n\\n    This represents a request to call the tool named \"foo\" with arguments {\"a\": 1}\\n    and an identifier of \"123\".',\n",
       "   'properties': {'name': {'title': 'Name', 'type': 'string'},\n",
       "    'args': {'title': 'Args', 'type': 'object'},\n",
       "    'id': {'anyOf': [{'type': 'string'}, {'type': 'null'}], 'title': 'Id'},\n",
       "    'type': {'const': 'tool_call', 'title': 'Type', 'type': 'string'}},\n",
       "   'required': ['name', 'args', 'id'],\n",
       "   'title': 'ToolCall',\n",
       "   'type': 'object'},\n",
       "  'UsageMetadata': {'description': 'Usage metadata for a message, such as token counts.\\n\\nThis is a standard representation of token usage that is consistent across models.\\n\\nExample:\\n\\n    .. code-block:: python\\n\\n        {\\n            \"input_tokens\": 350,\\n            \"output_tokens\": 240,\\n            \"total_tokens\": 590,\\n            \"input_token_details\": {\\n                \"audio\": 10,\\n                \"cache_creation\": 200,\\n                \"cache_read\": 100,\\n            },\\n            \"output_token_details\": {\\n                \"audio\": 10,\\n                \"reasoning\": 200,\\n            }\\n        }\\n\\n.. versionchanged:: 0.3.9\\n\\n    Added ``input_token_details`` and ``output_token_details``.',\n",
       "   'properties': {'input_tokens': {'title': 'Input Tokens', 'type': 'integer'},\n",
       "    'output_tokens': {'title': 'Output Tokens', 'type': 'integer'},\n",
       "    'total_tokens': {'title': 'Total Tokens', 'type': 'integer'},\n",
       "    'input_token_details': {'$ref': '#/$defs/InputTokenDetails'},\n",
       "    'output_token_details': {'$ref': '#/$defs/OutputTokenDetails'}},\n",
       "   'required': ['input_tokens', 'output_tokens', 'total_tokens'],\n",
       "   'title': 'UsageMetadata',\n",
       "   'type': 'object'}},\n",
       " 'additionalProperties': True,\n",
       " 'description': 'Message from an AI.\\n\\nAIMessage is returned from a chat model as a response to a prompt.\\n\\nThis message represents the output of the model and consists of both\\nthe raw output as returned by the model together standardized fields\\n(e.g., tool calls, usage metadata) added by the LangChain framework.',\n",
       " 'properties': {'content': {'anyOf': [{'type': 'string'},\n",
       "    {'items': {'anyOf': [{'type': 'string'}, {'type': 'object'}]},\n",
       "     'type': 'array'}],\n",
       "   'title': 'Content'},\n",
       "  'additional_kwargs': {'title': 'Additional Kwargs', 'type': 'object'},\n",
       "  'response_metadata': {'title': 'Response Metadata', 'type': 'object'},\n",
       "  'type': {'const': 'ai', 'default': 'ai', 'title': 'Type', 'type': 'string'},\n",
       "  'name': {'anyOf': [{'type': 'string'}, {'type': 'null'}],\n",
       "   'default': None,\n",
       "   'title': 'Name'},\n",
       "  'id': {'anyOf': [{'type': 'string'}, {'type': 'null'}],\n",
       "   'default': None,\n",
       "   'title': 'Id'},\n",
       "  'example': {'default': False, 'title': 'Example', 'type': 'boolean'},\n",
       "  'tool_calls': {'default': [],\n",
       "   'items': {'$ref': '#/$defs/ToolCall'},\n",
       "   'title': 'Tool Calls',\n",
       "   'type': 'array'},\n",
       "  'invalid_tool_calls': {'default': [],\n",
       "   'items': {'$ref': '#/$defs/InvalidToolCall'},\n",
       "   'title': 'Invalid Tool Calls',\n",
       "   'type': 'array'},\n",
       "  'usage_metadata': {'anyOf': [{'$ref': '#/$defs/UsageMetadata'},\n",
       "    {'type': 'null'}],\n",
       "   'default': None}},\n",
       " 'required': ['content'],\n",
       " 'title': 'AIMessage',\n",
       " 'type': 'object'}"
      ]
     },
     "execution_count": 16,
     "metadata": {},
     "output_type": "execute_result"
    }
   ],
   "source": [
    "response.schema()"
   ]
  },
  {
   "cell_type": "markdown",
   "id": "54631efb-dbe2-4bd7-b588-324f19a28b2c",
   "metadata": {},
   "source": [
    "### Before previous one, old way (but still very popular) of doing this was"
   ]
  },
  {
   "cell_type": "code",
   "execution_count": 17,
   "id": "a20ba943-ce6b-45e2-9dbb-351c48421069",
   "metadata": {},
   "outputs": [],
   "source": [
    "from langchain_core.messages import HumanMessage, SystemMessage\n",
    "from langchain_core.prompts import ChatPromptTemplate"
   ]
  },
  {
   "cell_type": "code",
   "execution_count": 18,
   "id": "b879a5f4-2250-4a70-b065-7796c4fe9f06",
   "metadata": {},
   "outputs": [],
   "source": [
    "messages = [\n",
    "    SystemMessage(content=\"You are an historian expert on the Kennedy Family.\"),\n",
    "    HumanMessage(content=\"How many children had Joseph P. Kennedy?\"),\n",
    "]\n",
    "\n",
    "response = chatModel.invoke(messages)"
   ]
  },
  {
   "cell_type": "code",
   "execution_count": 19,
   "id": "78f9b26b-e7e1-4613-8e3e-0c81f8b54da6",
   "metadata": {},
   "outputs": [
    {
     "data": {
      "text/plain": [
       "AIMessage(content='Joseph P. Kennedy and his wife, Rose Fitzgerald Kennedy, had nine children. Their children are:\\n\\n1. Joseph P. Kennedy Jr.\\n2. John F. Kennedy\\n3. Rosemary Kennedy\\n4. Kathleen \"Kick\" Kennedy\\n5. Eunice Kennedy Shriver\\n6. Patricia Kennedy Lawford\\n7. Robert F. Kennedy\\n8. Jean Kennedy Smith\\n9. Edward \"Ted\" Kennedy\\n\\nEach of these children played significant roles in American society and politics, particularly during the mid-20th century.', additional_kwargs={'refusal': None}, response_metadata={'token_usage': {'completion_tokens': 107, 'prompt_tokens': 30, 'total_tokens': 137, 'completion_tokens_details': {'accepted_prediction_tokens': 0, 'audio_tokens': 0, 'reasoning_tokens': 0, 'rejected_prediction_tokens': 0}, 'prompt_tokens_details': {'audio_tokens': 0, 'cached_tokens': 0}}, 'model_name': 'gpt-4o-mini-2024-07-18', 'system_fingerprint': 'fp_06737a9306', 'finish_reason': 'stop', 'logprobs': None}, id='run-b2d8295b-fe43-495f-b081-cdbe3a627be0-0', usage_metadata={'input_tokens': 30, 'output_tokens': 107, 'total_tokens': 137, 'input_token_details': {'audio': 0, 'cache_read': 0}, 'output_token_details': {'audio': 0, 'reasoning': 0}})"
      ]
     },
     "execution_count": 19,
     "metadata": {},
     "output_type": "execute_result"
    }
   ],
   "source": [
    "response"
   ]
  },
  {
   "cell_type": "markdown",
   "id": "e41204f4-0cec-4039-a18d-2a25b9dd5efd",
   "metadata": {},
   "source": [
    "### Streaming"
   ]
  },
  {
   "cell_type": "code",
   "execution_count": 20,
   "id": "83d9f1d0-bba8-4885-9ac1-01fc273732b1",
   "metadata": {},
   "outputs": [
    {
     "name": "stdout",
     "output_type": "stream",
     "text": [
      "Joseph P. Kennedy and his wife, Rose Fitzgerald Kennedy, had nine children. Their children are:\n",
      "\n",
      "1. Joseph P. Kennedy Jr.\n",
      "2. John F. Kennedy\n",
      "3. Rosemary Kennedy\n",
      "4. Kathleen \"Kick\" Kennedy\n",
      "5. Eunice Kennedy Shriver\n",
      "6. Patricia \"Pat\" Kennedy Lawford\n",
      "7. Robert F. Kennedy\n",
      "8. Jean Ann Kennedy\n",
      "9. Edward \"Ted\" Kennedy\n",
      "\n",
      "These children played significant roles in American politics, public service, and social causes throughout the 20th century."
     ]
    }
   ],
   "source": [
    "for chunk in chatModel.stream(messages):\n",
    "    print(chunk.content, end=\"\", flush=True)"
   ]
  },
  {
   "cell_type": "markdown",
   "id": "acd276b9-494a-47c2-8455-2ff33fc4f221",
   "metadata": {},
   "source": [
    "### Another old way, similar results"
   ]
  },
  {
   "cell_type": "code",
   "execution_count": 21,
   "id": "4bc0210b-27e0-41ed-8ad8-ff1c75c9bef4",
   "metadata": {},
   "outputs": [],
   "source": [
    "prompt = ChatPromptTemplate.from_messages(\n",
    "    [\n",
    "        (\n",
    "            \"system\",\n",
    "            \"You are expert {profession} in {topic}.\",\n",
    "        ),\n",
    "        (\"human\", \"{input}\"),\n",
    "    ]\n",
    ")\n",
    "\n",
    "chain = prompt | chatModel\n",
    "\n",
    "response = chain.invoke(\n",
    "    {\n",
    "        \"profession\": \"Historian\",\n",
    "        \"topic\": \"Kennedy Family\",\n",
    "        \"input\": \"Tell me one fun fact about JFK.\",\n",
    "    }\n",
    ")"
   ]
  },
  {
   "cell_type": "code",
   "execution_count": 22,
   "id": "cc436d53-b372-43eb-ac00-ee39c9fa491a",
   "metadata": {},
   "outputs": [
    {
     "data": {
      "text/plain": [
       "AIMessage(content='One fun fact about John F. Kennedy is that he was a prolific writer and had a strong interest in literature. He authored the Pulitzer Prize-winning book \"Profiles in Courage,\" published in 1956, which highlights acts of bravery by American senators throughout history. This book not only showcased his writing skills but also reflected his deep appreciation for public service and moral courage.', additional_kwargs={'refusal': None}, response_metadata={'token_usage': {'completion_tokens': 74, 'prompt_tokens': 28, 'total_tokens': 102, 'completion_tokens_details': {'accepted_prediction_tokens': 0, 'audio_tokens': 0, 'reasoning_tokens': 0, 'rejected_prediction_tokens': 0}, 'prompt_tokens_details': {'audio_tokens': 0, 'cached_tokens': 0}}, 'model_name': 'gpt-4o-mini-2024-07-18', 'system_fingerprint': 'fp_06737a9306', 'finish_reason': 'stop', 'logprobs': None}, id='run-f95e7145-42a5-4f5d-b060-6c20b6e69130-0', usage_metadata={'input_tokens': 28, 'output_tokens': 74, 'total_tokens': 102, 'input_token_details': {'audio': 0, 'cache_read': 0}, 'output_token_details': {'audio': 0, 'reasoning': 0}})"
      ]
     },
     "execution_count": 22,
     "metadata": {},
     "output_type": "execute_result"
    }
   ],
   "source": [
    "response"
   ]
  },
  {
   "cell_type": "markdown",
   "id": "c2f91601-8594-41d3-9316-d51791fc54e8",
   "metadata": {},
   "source": [
    "## Prompts"
   ]
  },
  {
   "cell_type": "code",
   "execution_count": 23,
   "id": "a5383c7e-7e62-46d0-8bef-17ff45a88495",
   "metadata": {},
   "outputs": [
    {
     "data": {
      "text/plain": [
       "\"\\n\\nIn 1953, John F. Kennedy and his wife Jacqueline were invited to a dinner at Buckingham Palace with Queen Elizabeth II. However, due to a mix-up with the seating arrangements, Kennedy was seated next to the Queen's sister, Princess Margaret, instead of next to the Queen herself.\\n\\nDuring the dinner, Kennedy and Princess Margaret hit it off and spent the evening talking and laughing together. They even danced together during the after-dinner entertainment. This caused quite a stir as it was against the royal protocol for a princess to dance with a foreign leader.\\n\\nThe next day, the British press ran headlines about the scandalous dance and the Queen was reportedly quite upset. She even sent a letter to her sister, scolding her for breaking protocol.\\n\\nHowever, it was later revealed that the whole incident was a set-up by Kennedy's father, Joseph Kennedy. He had arranged for the seating mix-up and instructed his son to charm Princess Margaret in an effort to improve relations between the US and UK.\\n\\nThis curious story not only showcases the Kennedys' charm and political savvy but also their willingness to bend the rules for their own gain. It also sheds light on the behind-the-scenes maneuverings of the powerful Kennedy family.\""
      ]
     },
     "execution_count": 23,
     "metadata": {},
     "output_type": "execute_result"
    }
   ],
   "source": [
    "from langchain_core.prompts import PromptTemplate\n",
    "\n",
    "prompt_template = PromptTemplate.from_template(\n",
    "    \"Tell me a {adjective} story about {topic}.\"\n",
    ")\n",
    "\n",
    "llmModelPrompt = prompt_template.format(\n",
    "    adjective=\"curious\", \n",
    "    topic=\"the Kennedy family\"\n",
    ")\n",
    "\n",
    "llmModel.invoke(llmModelPrompt)"
   ]
  },
  {
   "cell_type": "code",
   "execution_count": 24,
   "id": "beb7dbcd-524c-4acc-9b65-0b209a170ad7",
   "metadata": {},
   "outputs": [],
   "source": [
    "from langchain_core.prompts import ChatPromptTemplate\n",
    "\n",
    "chat_template = ChatPromptTemplate.from_messages(\n",
    "    [\n",
    "        (\"system\", \"You are an {profession} expert on {topic}.\"),\n",
    "        (\"human\", \"Hello, Mr. {profession}, can you please answer a question?\"),\n",
    "        (\"ai\", \"Sure!\"),\n",
    "        (\"human\", \"{user_input}\"),\n",
    "    ]\n",
    ")\n",
    "\n",
    "messages = chat_template.format_messages(\n",
    "    profession=\"Historian\",\n",
    "    topic=\"The Kennedy family\",\n",
    "    user_input=\"How many grandchildren had Joseph P. Kennedy?\"\n",
    ")\n",
    "\n",
    "response = chatModel.invoke(messages)"
   ]
  },
  {
   "cell_type": "code",
   "execution_count": 25,
   "id": "7585be48-9a19-43ab-a275-8ef6a04246a7",
   "metadata": {},
   "outputs": [
    {
     "data": {
      "text/plain": [
       "AIMessage(content='Joseph P. Kennedy, the patriarch of the Kennedy family, had a total of 29 grandchildren. These grandchildren are the children of his nine children, which include notable figures such as John F. Kennedy, Robert F. Kennedy, and Edward M. Kennedy. If you have any more questions about the Kennedy family, feel free to ask!', additional_kwargs={'refusal': None}, response_metadata={'token_usage': {'completion_tokens': 69, 'prompt_tokens': 55, 'total_tokens': 124, 'completion_tokens_details': {'accepted_prediction_tokens': 0, 'audio_tokens': 0, 'reasoning_tokens': 0, 'rejected_prediction_tokens': 0}, 'prompt_tokens_details': {'audio_tokens': 0, 'cached_tokens': 0}}, 'model_name': 'gpt-4o-mini-2024-07-18', 'system_fingerprint': 'fp_06737a9306', 'finish_reason': 'stop', 'logprobs': None}, id='run-e528dbe4-4950-4dbf-9894-19255f2fa22c-0', usage_metadata={'input_tokens': 55, 'output_tokens': 69, 'total_tokens': 124, 'input_token_details': {'audio': 0, 'cache_read': 0}, 'output_token_details': {'audio': 0, 'reasoning': 0}})"
      ]
     },
     "execution_count": 25,
     "metadata": {},
     "output_type": "execute_result"
    }
   ],
   "source": [
    "response"
   ]
  },
  {
   "cell_type": "code",
   "execution_count": 26,
   "id": "1373ca0b-342f-4ac6-a697-5e2ad30bfa8c",
   "metadata": {},
   "outputs": [
    {
     "name": "stdout",
     "output_type": "stream",
     "text": [
      "content='Joseph P. Kennedy, the patriarch of the Kennedy family, had a total of 29 grandchildren. These grandchildren are the children of his nine children, which include notable figures such as John F. Kennedy, Robert F. Kennedy, and Edward M. Kennedy. If you have any more questions about the Kennedy family, feel free to ask!' additional_kwargs={'refusal': None} response_metadata={'token_usage': {'completion_tokens': 69, 'prompt_tokens': 55, 'total_tokens': 124, 'completion_tokens_details': {'accepted_prediction_tokens': 0, 'audio_tokens': 0, 'reasoning_tokens': 0, 'rejected_prediction_tokens': 0}, 'prompt_tokens_details': {'audio_tokens': 0, 'cached_tokens': 0}}, 'model_name': 'gpt-4o-mini-2024-07-18', 'system_fingerprint': 'fp_06737a9306', 'finish_reason': 'stop', 'logprobs': None} id='run-e528dbe4-4950-4dbf-9894-19255f2fa22c-0' usage_metadata={'input_tokens': 55, 'output_tokens': 69, 'total_tokens': 124, 'input_token_details': {'audio': 0, 'cache_read': 0}, 'output_token_details': {'audio': 0, 'reasoning': 0}}\n"
     ]
    }
   ],
   "source": [
    "print(response)"
   ]
  },
  {
   "cell_type": "code",
   "execution_count": 27,
   "id": "6f6a5e25-e177-4d7a-ba29-6834a6a8152b",
   "metadata": {},
   "outputs": [
    {
     "name": "stdout",
     "output_type": "stream",
     "text": [
      "Joseph P. Kennedy, the patriarch of the Kennedy family, had a total of 29 grandchildren. These grandchildren are the children of his nine children, which include notable figures such as John F. Kennedy, Robert F. Kennedy, and Edward M. Kennedy. If you have any more questions about the Kennedy family, feel free to ask!\n"
     ]
    }
   ],
   "source": [
    "print(response.content)"
   ]
  },
  {
   "cell_type": "markdown",
   "id": "a6d770b4-80c5-49a6-a925-de3a800d19f2",
   "metadata": {},
   "source": [
    "### Old way"
   ]
  },
  {
   "cell_type": "code",
   "execution_count": 28,
   "id": "c6dafd17-47a2-4169-992e-76ffb9702d89",
   "metadata": {},
   "outputs": [],
   "source": [
    "from langchain_core.messages import SystemMessage\n",
    "from langchain_core.prompts import HumanMessagePromptTemplate\n",
    "\n",
    "chat_template = ChatPromptTemplate.from_messages(\n",
    "    [\n",
    "        SystemMessage(\n",
    "            content=(\n",
    "                \"You are an Historian expert on the Kennedy family.\"\n",
    "            )\n",
    "        ),\n",
    "        HumanMessagePromptTemplate.from_template(\"{user_input}\"),\n",
    "    ]\n",
    ")\n",
    "\n",
    "messages = chat_template.format_messages(\n",
    "    user_input=\"Name the children and grandchildren of Joseph P. Kennedy?\"\n",
    ")\n",
    "\n",
    "response = chatModel.invoke(messages)"
   ]
  },
  {
   "cell_type": "code",
   "execution_count": 29,
   "id": "2a4d5a5a-c3a3-48be-8b31-40b0881faa9a",
   "metadata": {},
   "outputs": [
    {
     "name": "stdout",
     "output_type": "stream",
     "text": [
      "Joseph P. Kennedy and his wife, Rose Fitzgerald Kennedy, had nine children. Here are their names:\n",
      "\n",
      "1. Joseph P. Kennedy Jr. (1915–1944)\n",
      "2. John F. Kennedy (1917–1963)\n",
      "3. Rosemary Kennedy (1918–2005)\n",
      "4. Kathleen \"Kick\" Kennedy (1920–1948)\n",
      "5. Eunice Kennedy Shriver (1921–2009)\n",
      "6. Patricia \"Pat\" Kennedy Lawford (1924–2006)\n",
      "7. Robert F. Kennedy (1925–1968)\n",
      "8. Jean Kennedy Smith (1928–2020)\n",
      "9. Edward \"Ted\" Kennedy (1932–2009)\n",
      "\n",
      "As for their grandchildren, the Kennedy family has a large number of them across the various branches. Here are the grandchildren from each of the Kennedy siblings:\n",
      "\n",
      "- **Joseph P. Kennedy Jr.**: Had no children.\n",
      "  \n",
      "- **John F. Kennedy**: \n",
      "  - Caroline Kennedy (b. 1957)\n",
      "  - John F. Kennedy Jr. (1960–1999)\n",
      "  - Patrick Bouvier Kennedy (1963) – died shortly after birth.\n",
      "  \n",
      "- **Rosemary Kennedy**: Had no children.\n",
      "\n",
      "- **Kathleen \"Kick\" Kennedy**: \n",
      "  - Had three children: \n",
      "    - Joseph Patrick Kennedy (b. 1948) \n",
      "    - Kathleen \"Kick\" Kennedy (1949–2021) \n",
      "    - David Kennedy (b. 1951)\n",
      "\n",
      "- **Eunice Kennedy Shriver**: \n",
      "  - Had five children: \n",
      "    - Robert Sargent Shriver III (b. 1965)\n",
      "    - Maria Shriver (b. 1955)\n",
      "    - Timothy Shriver (b. 1959)\n",
      "    - Mark Shriver (b. 1964)\n",
      "    - Anthony Shriver (b. 1965)\n",
      "\n",
      "- **Patricia \"Pat\" Kennedy Lawford**: \n",
      "  - Had four children: \n",
      "    - Sydney Lawford (b. 1960)\n",
      "    - Robin Lawford (b. 1961)\n",
      "    - Katherine Lawford (b. 1963)\n",
      "    - Christopher Lawford (1955–2018)\n",
      "\n",
      "- **Robert F. Kennedy**: \n",
      "  - Had eleven children: \n",
      "    - Kathleen Hartington Kennedy (b. 1951)\n",
      "    - Joseph P. Kennedy II (b. 1952)\n",
      "    - Robert F. Kennedy Jr. (b. 1954)\n",
      "    - David Anthony Kennedy (1955–1984)\n",
      "    - Courtney Kennedy Hill (b. 1956)\n",
      "    - Michael LeMoyne Kennedy (1958–1997)\n",
      "    - Matthew Maxwell Taylor Kennedy (b. 1965)\n",
      "    - Jennifer Anne Kennedy (b. 1966)\n",
      "    - Rory Elizabeth Katherine Kennedy (b. 1968)\n",
      "    - Kathleen \"Kick\" Kennedy (b. 1970)\n",
      "    - David Lee Kennedy (b. 1970)\n",
      "\n",
      "- **Jean Kennedy Smith**: \n",
      "  - Had three children: \n",
      "    - William Kennedy Smith (b. 1964)\n",
      "    - Kym Marie Kennedy (b. 1967)\n",
      "    - Amanda Kennedy (b. 1972)\n",
      "\n",
      "- **Edward \"Ted\" Kennedy**: \n",
      "  - Had three children: \n",
      "    - Kara Anne Kennedy (1960–2011)\n",
      "    - Edward M. Kennedy Jr. (b. 1961)\n",
      "    - Patrick Joseph Kennedy (b. 1967)\n",
      "\n",
      "The Kennedy family is known for its significant involvement in American politics, public service, and philanthropy. Please note that the number of grandchildren may vary slightly, as there could be additional grandchildren from marriages and other branches of the family.\n"
     ]
    }
   ],
   "source": [
    "print(response.content)"
   ]
  },
  {
   "cell_type": "markdown",
   "id": "d9f8be09-99fc-491e-babb-0b8ad5bc74c2",
   "metadata": {},
   "source": [
    "## Few-shot examples"
   ]
  },
  {
   "cell_type": "code",
   "execution_count": 30,
   "id": "301ae08a-e223-4239-8eca-8468ceb1e0d3",
   "metadata": {},
   "outputs": [],
   "source": [
    "from langchain_core.prompts import FewShotChatMessagePromptTemplate"
   ]
  },
  {
   "cell_type": "code",
   "execution_count": 31,
   "id": "b882accd-e3e7-4e8a-9d85-55ebaa945837",
   "metadata": {},
   "outputs": [],
   "source": [
    "examples = [\n",
    "    {\"input\": \"hi!\", \"output\": \"¡hola!\"},\n",
    "    {\"input\": \"bye!\", \"output\": \"¡adiós!\"},\n",
    "]"
   ]
  },
  {
   "cell_type": "code",
   "execution_count": 32,
   "id": "b973d828-0f47-4c43-98ab-e3db306d41e8",
   "metadata": {},
   "outputs": [
    {
     "data": {
      "text/plain": [
       "AIMessage(content='John Fitzgerald Kennedy (JFK) was the 35th President of the United States, serving from January 20, 1961, until his assassination on November 22, 1963. Born on May 29, 1917, in Brookline, Massachusetts, he was a member of the Democratic Party and came from a prominent political family. Before his presidency, he served as a U.S. Senator from Massachusetts.\\n\\nKennedy is known for several significant events during his presidency, including the Cuban Missile Crisis, the establishment of the Peace Corps, and his advocacy for civil rights. He famously set the goal of landing a man on the Moon by the end of the 1960s, which was achieved in 1969. His presidency is often remembered for its idealism and the phrase \"Ask not what your country can do for you—ask what you can do for your country.\"\\n\\nJFK was assassinated in Dallas, Texas, in 1963, which shocked the nation and the world. His death led to numerous conspiracy theories and investigations, but the official conclusion is that Lee Harvey Oswald acted alone in the assassination. Kennedy\\'s legacy continues to influence American politics and culture.', additional_kwargs={'refusal': None}, response_metadata={'token_usage': {'completion_tokens': 242, 'prompt_tokens': 50, 'total_tokens': 292, 'completion_tokens_details': {'accepted_prediction_tokens': 0, 'audio_tokens': 0, 'reasoning_tokens': 0, 'rejected_prediction_tokens': 0}, 'prompt_tokens_details': {'audio_tokens': 0, 'cached_tokens': 0}}, 'model_name': 'gpt-4o-mini-2024-07-18', 'system_fingerprint': 'fp_06737a9306', 'finish_reason': 'stop', 'logprobs': None}, id='run-beb532ae-5293-4a8e-a8f4-77db2846c56d-0', usage_metadata={'input_tokens': 50, 'output_tokens': 242, 'total_tokens': 292, 'input_token_details': {'audio': 0, 'cache_read': 0}, 'output_token_details': {'audio': 0, 'reasoning': 0}})"
      ]
     },
     "execution_count": 32,
     "metadata": {},
     "output_type": "execute_result"
    }
   ],
   "source": [
    "example_prompt = ChatPromptTemplate.from_messages(\n",
    "    [\n",
    "        (\"human\", \"{input}\"),\n",
    "        (\"ai\", \"{output}\"),\n",
    "    ]\n",
    ")\n",
    "\n",
    "few_shot_prompt = FewShotChatMessagePromptTemplate(\n",
    "    example_prompt=example_prompt,\n",
    "    examples=examples,\n",
    ")\n",
    "\n",
    "final_prompt = ChatPromptTemplate.from_messages(\n",
    "    [\n",
    "        (\"system\", \"You are an English-Spanish translator.\"),\n",
    "        few_shot_prompt,\n",
    "        (\"human\", \"{input}\"),\n",
    "    ]\n",
    ")\n",
    "\n",
    "chain = final_prompt | chatModel\n",
    "\n",
    "chain.invoke({\"input\": \"Who was JFK?\"})"
   ]
  },
  {
   "cell_type": "markdown",
   "id": "4721c4a4-56d6-48e2-b9db-0de0309c492a",
   "metadata": {},
   "source": [
    "## Parsing Outputs"
   ]
  },
  {
   "cell_type": "code",
   "execution_count": 33,
   "id": "177b19be-ea45-4ecb-a4dc-914da7958de8",
   "metadata": {},
   "outputs": [],
   "source": [
    "from langchain.output_parsers.json import SimpleJsonOutputParser\n",
    "\n",
    "json_prompt = PromptTemplate.from_template(\n",
    "    \"Return a JSON object with an `answer` key that answers the following question: {question}\"\n",
    ")\n",
    "\n",
    "json_parser = SimpleJsonOutputParser()\n",
    "\n",
    "json_chain = json_prompt | llmModel | json_parser"
   ]
  },
  {
   "cell_type": "markdown",
   "id": "33eb4ed2-f174-4177-b38d-b03397e4f2a7",
   "metadata": {},
   "source": [
    "### Previous prompt template includes parser instructions"
   ]
  },
  {
   "cell_type": "code",
   "execution_count": 34,
   "id": "047f7986-5502-4205-9a7a-e7e7e26f51a3",
   "metadata": {},
   "outputs": [
    {
     "data": {
      "text/plain": [
       "'Return a JSON object.'"
      ]
     },
     "execution_count": 34,
     "metadata": {},
     "output_type": "execute_result"
    }
   ],
   "source": [
    "json_parser.get_format_instructions()"
   ]
  },
  {
   "cell_type": "code",
   "execution_count": 35,
   "id": "ecb755d4-4a0f-486a-99dd-ea1873eb7c78",
   "metadata": {},
   "outputs": [
    {
     "data": {
      "text/plain": [
       "{'answer': 'Russia, Canada, and China are the three biggest countries in the world by land area.'}"
      ]
     },
     "execution_count": 35,
     "metadata": {},
     "output_type": "execute_result"
    }
   ],
   "source": [
    "json_chain.invoke({\"question\": \"List the 3 biggest countries\"})"
   ]
  },
  {
   "cell_type": "markdown",
   "id": "f1181d87-13df-4abf-9910-0b44618642de",
   "metadata": {},
   "source": [
    "### Optionally, we can use Pydantic to define custom output format"
   ]
  },
  {
   "cell_type": "code",
   "execution_count": 36,
   "id": "cdcf2860-9b94-46f9-94f8-81ce173b8ca4",
   "metadata": {},
   "outputs": [],
   "source": [
    "from langchain_core.output_parsers import JsonOutputParser\n",
    "from langchain_core.prompts import PromptTemplate\n",
    "# from langchain_core.pydantic_v1 import BaseModel, Field\n",
    "from pydantic import BaseModel, Field\n",
    "from langchain_openai import ChatOpenAI"
   ]
  },
  {
   "cell_type": "code",
   "execution_count": 37,
   "id": "873de824-c105-4e36-b4a7-d4bb498efc00",
   "metadata": {},
   "outputs": [],
   "source": [
    "# Define your desired data structure.\n",
    "class Joke(BaseModel):\n",
    "    setup: str = Field(description=\"question to set up a joke\")\n",
    "    punchline: str = Field(description=\"answer to resolve the joke\")"
   ]
  },
  {
   "cell_type": "code",
   "execution_count": 38,
   "id": "c7006219-e78f-4f1f-8d8a-559679f84845",
   "metadata": {},
   "outputs": [
    {
     "data": {
      "text/plain": [
       "{'setup': \"Why don't scientists trust atoms?\",\n",
       " 'punchline': 'Because they make up everything!'}"
      ]
     },
     "execution_count": 38,
     "metadata": {},
     "output_type": "execute_result"
    }
   ],
   "source": [
    "# Set up a parser\n",
    "parser = JsonOutputParser(pydantic_object=Joke)\n",
    "\n",
    "# Inject parser instructions into the prompt template.\n",
    "prompt = PromptTemplate(\n",
    "    template=\"Answer the user query.\\n{format_instructions}\\n{query}\\n\",\n",
    "    input_variables=[\"query\"],\n",
    "    partial_variables={\"format_instructions\": parser.get_format_instructions()},\n",
    ")\n",
    "\n",
    "# Create a chain with the prompt and the parser\n",
    "chain = prompt | chatModel | parser\n",
    "\n",
    "chain.invoke({\"query\": \"Tell me a joke.\"})"
   ]
  }
 ],
 "metadata": {
  "kernelspec": {
   "display_name": "Python 3 (ipykernel)",
   "language": "python",
   "name": "python3"
  },
  "language_info": {
   "codemirror_mode": {
    "name": "ipython",
    "version": 3
   },
   "file_extension": ".py",
   "mimetype": "text/x-python",
   "name": "python",
   "nbconvert_exporter": "python",
   "pygments_lexer": "ipython3",
   "version": "3.11.11"
  }
 },
 "nbformat": 4,
 "nbformat_minor": 5
}
