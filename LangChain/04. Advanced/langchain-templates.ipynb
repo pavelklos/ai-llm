{
 "cells": [
  {
   "cell_type": "markdown",
   "id": "9d176fd0-ef83-4d1c-8347-ca5c56eb0443",
   "metadata": {},
   "source": [
    "## LangChain Templates\n",
    "- https://python.langchain.com/v0.1/docs/templates/\n",
    "- https://templates.langchain.com/\n",
    "- [Demo video from LangChain](https://www.youtube.com/watch?v=o7C9ld6Ln-M)"
   ]
  },
  {
   "cell_type": "markdown",
   "id": "5a3b4a71-8aa7-4d03-8b80-ccff5d2f3014",
   "metadata": {},
   "source": [
    "### Install LangChain Client in terminal"
   ]
  },
  {
   "cell_type": "code",
   "execution_count": 2,
   "id": "59670325-0edc-4914-b0cc-5440252569d7",
   "metadata": {},
   "outputs": [],
   "source": [
    "# pip install -U \"langchain-cli[serve]\"\n",
    "# pip install -U langchain-cli"
   ]
  },
  {
   "cell_type": "markdown",
   "id": "113b9f8f-498d-4964-a64f-5c015b7ccf1d",
   "metadata": {},
   "source": [
    "### Create new LangChain app from terminal with the rag-conversation template"
   ]
  },
  {
   "cell_type": "code",
   "execution_count": 1,
   "id": "a1730031-bf6f-41b3-bbf9-f94eb1bdd357",
   "metadata": {},
   "outputs": [],
   "source": [
    "#langchain app new my_app --package rag-conversation"
   ]
  },
  {
   "cell_type": "markdown",
   "id": "65a5f007-3730-4c82-a787-3ebb535cbfd0",
   "metadata": {},
   "source": [
    "### This will create my_app folder with the following\n",
    "* app folder\n",
    "    * server.py: this has langserve preinstalled \n",
    "* packages folder\n",
    "    * rag-conversation\n",
    "        * rag-conversation\n",
    "        * test \n",
    "* pyproject.toml\n",
    "* readme.md"
   ]
  },
  {
   "cell_type": "markdown",
   "id": "294973b8-011b-4b70-bae0-e8b04bf508f5",
   "metadata": {},
   "source": [
    "**When we confirm in teminal to run installation, we will be presented with piece of code we need to add to server.py file. This seems to be temporary way of doing things.**"
   ]
  },
  {
   "cell_type": "markdown",
   "id": "f1780dd9-2a05-47fe-9428-c22fe7acce11",
   "metadata": {},
   "source": [
    "**cd to my_app folder and run: langchain serve**"
   ]
  }
 ],
 "metadata": {
  "kernelspec": {
   "display_name": "Python 3 (ipykernel)",
   "language": "python",
   "name": "python3"
  },
  "language_info": {
   "codemirror_mode": {
    "name": "ipython",
    "version": 3
   },
   "file_extension": ".py",
   "mimetype": "text/x-python",
   "name": "python",
   "nbconvert_exporter": "python",
   "pygments_lexer": "ipython3",
   "version": "3.11.11"
  }
 },
 "nbformat": 4,
 "nbformat_minor": 5
}
