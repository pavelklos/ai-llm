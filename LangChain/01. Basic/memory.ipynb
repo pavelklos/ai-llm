{
 "cells": [
  {
   "cell_type": "code",
   "execution_count": 1,
   "id": "7c4b3ec4-20fb-46b1-8f25-1f51d1bc32e2",
   "metadata": {},
   "outputs": [],
   "source": [
    "import os\n",
    "from dotenv import load_dotenv, find_dotenv\n",
    "_ = load_dotenv(find_dotenv())\n",
    "openai_api_key = os.environ[\"OPENAI_API_KEY\"]"
   ]
  },
  {
   "cell_type": "markdown",
   "id": "d553e10f-426e-496e-8245-7b6f343e2931",
   "metadata": {},
   "source": [
    "## Conversation Buffer Memory"
   ]
  },
  {
   "cell_type": "code",
   "execution_count": 2,
   "id": "97d4236e-bfc1-4826-be26-bd6ded0e806f",
   "metadata": {},
   "outputs": [],
   "source": [
    "# from langchain_openai import OpenAI\n",
    "from langchain_openai import ChatOpenAI\n",
    "from langchain.chains import ConversationChain\n",
    "from langchain.memory import ConversationBufferMemory"
   ]
  },
  {
   "cell_type": "code",
   "execution_count": 3,
   "id": "121b3d84-cce1-4df7-8ae8-213131bc88b6",
   "metadata": {},
   "outputs": [],
   "source": [
    "MODEL_GPT = 'gpt-4o-mini'"
   ]
  },
  {
   "cell_type": "code",
   "execution_count": 4,
   "id": "d2746978-a5ca-46df-8573-77473eb4f979",
   "metadata": {},
   "outputs": [],
   "source": [
    "# llm = OpenAI()\n",
    "llm = ChatOpenAI(model=MODEL_GPT)"
   ]
  },
  {
   "cell_type": "code",
   "execution_count": 5,
   "id": "381693c5-5e3d-4bb1-9eae-daf11ca66928",
   "metadata": {},
   "outputs": [
    {
     "name": "stderr",
     "output_type": "stream",
     "text": [
      "C:\\Users\\Pavel\\AppData\\Local\\Temp\\ipykernel_24992\\804431864.py:1: LangChainDeprecationWarning: Please see the migration guide at: https://python.langchain.com/docs/versions/migrating_memory/\n",
      "  buffer_memory = ConversationBufferMemory()\n",
      "C:\\Users\\Pavel\\AppData\\Local\\Temp\\ipykernel_24992\\804431864.py:2: LangChainDeprecationWarning: The class `ConversationChain` was deprecated in LangChain 0.2.7 and will be removed in 1.0. Use :meth:`~RunnableWithMessageHistory: https://python.langchain.com/v0.2/api_reference/core/runnables/langchain_core.runnables.history.RunnableWithMessageHistory.html` instead.\n",
      "  conversation = ConversationChain(\n"
     ]
    }
   ],
   "source": [
    "buffer_memory = ConversationBufferMemory()\n",
    "conversation = ConversationChain(\n",
    "    llm=llm, \n",
    "    memory = buffer_memory,\n",
    "    verbose=True\n",
    ")"
   ]
  },
  {
   "cell_type": "code",
   "execution_count": 6,
   "id": "5822ec8c-6039-4ce0-a794-54dd63f1c83c",
   "metadata": {},
   "outputs": [
    {
     "name": "stdout",
     "output_type": "stream",
     "text": [
      "\n",
      "\n",
      "\u001b[1m> Entering new ConversationChain chain...\u001b[0m\n",
      "Prompt after formatting:\n",
      "\u001b[32;1m\u001b[1;3mThe following is a friendly conversation between a human and an AI. The AI is talkative and provides lots of specific details from its context. If the AI does not know the answer to a question, it truthfully says it does not know.\n",
      "\n",
      "Current conversation:\n",
      "\n",
      "Human: Hi, my name is Julio and I have moved 33 times.\n",
      "AI:\u001b[0m\n",
      "\n",
      "\u001b[1m> Finished chain.\u001b[0m\n"
     ]
    },
    {
     "data": {
      "text/plain": [
       "\"Hi Julio! Wow, 33 times is quite a lot of moving! That must mean you've had a lot of different experiences and probably lived in various places. What has been your favorite location so far? Or do you have a specific memory from one of those moves that stands out to you?\""
      ]
     },
     "execution_count": 6,
     "metadata": {},
     "output_type": "execute_result"
    }
   ],
   "source": [
    "conversation.predict(input=\"Hi, my name is Julio and I have moved 33 times.\")"
   ]
  },
  {
   "cell_type": "code",
   "execution_count": 7,
   "id": "3755d1b3-7c7c-4e83-ae82-bb44e510cafd",
   "metadata": {},
   "outputs": [
    {
     "name": "stdout",
     "output_type": "stream",
     "text": [
      "\n",
      "\n",
      "\u001b[1m> Entering new ConversationChain chain...\u001b[0m\n",
      "Prompt after formatting:\n",
      "\u001b[32;1m\u001b[1;3mThe following is a friendly conversation between a human and an AI. The AI is talkative and provides lots of specific details from its context. If the AI does not know the answer to a question, it truthfully says it does not know.\n",
      "\n",
      "Current conversation:\n",
      "Human: Hi, my name is Julio and I have moved 33 times.\n",
      "AI: Hi Julio! Wow, 33 times is quite a lot of moving! That must mean you've had a lot of different experiences and probably lived in various places. What has been your favorite location so far? Or do you have a specific memory from one of those moves that stands out to you?\n",
      "Human: Sure. If my average moving distance was 100 miles, how many miles took all my moves?\n",
      "AI:\u001b[0m\n",
      "\n",
      "\u001b[1m> Finished chain.\u001b[0m\n"
     ]
    },
    {
     "data": {
      "text/plain": [
       "\"If your average moving distance was 100 miles and you've moved 33 times, you would multiply the number of moves by the average distance. So, 33 moves multiplied by 100 miles gives you a total of 3,300 miles! That’s quite a journey! Have you ever thought about how many different places you could have explored with all that traveling?\""
      ]
     },
     "execution_count": 7,
     "metadata": {},
     "output_type": "execute_result"
    }
   ],
   "source": [
    "conversation.predict(input=\"Sure. If my average moving distance was 100 miles, how many miles took all my moves?\")"
   ]
  },
  {
   "cell_type": "code",
   "execution_count": 8,
   "id": "1bd536cc-7ceb-4837-8dda-5c26d9b77fb0",
   "metadata": {},
   "outputs": [
    {
     "name": "stdout",
     "output_type": "stream",
     "text": [
      "\n",
      "\n",
      "\u001b[1m> Entering new ConversationChain chain...\u001b[0m\n",
      "Prompt after formatting:\n",
      "\u001b[32;1m\u001b[1;3mThe following is a friendly conversation between a human and an AI. The AI is talkative and provides lots of specific details from its context. If the AI does not know the answer to a question, it truthfully says it does not know.\n",
      "\n",
      "Current conversation:\n",
      "Human: Hi, my name is Julio and I have moved 33 times.\n",
      "AI: Hi Julio! Wow, 33 times is quite a lot of moving! That must mean you've had a lot of different experiences and probably lived in various places. What has been your favorite location so far? Or do you have a specific memory from one of those moves that stands out to you?\n",
      "Human: Sure. If my average moving distance was 100 miles, how many miles took all my moves?\n",
      "AI: If your average moving distance was 100 miles and you've moved 33 times, you would multiply the number of moves by the average distance. So, 33 moves multiplied by 100 miles gives you a total of 3,300 miles! That’s quite a journey! Have you ever thought about how many different places you could have explored with all that traveling?\n",
      "Human: Do you remember my name?\n",
      "AI:\u001b[0m\n",
      "\n",
      "\u001b[1m> Finished chain.\u001b[0m\n"
     ]
    },
    {
     "data": {
      "text/plain": [
       "\"Yes, I remember your name, Julio! It's nice to chat with you. If you have more stories or questions about your moves, I’d love to hear them!\""
      ]
     },
     "execution_count": 8,
     "metadata": {},
     "output_type": "execute_result"
    }
   ],
   "source": [
    "conversation.predict(input=\"Do you remember my name?\")"
   ]
  },
  {
   "cell_type": "code",
   "execution_count": 9,
   "id": "9b967bca-18cd-4037-ac43-d8663052ab8f",
   "metadata": {},
   "outputs": [
    {
     "name": "stdout",
     "output_type": "stream",
     "text": [
      "Human: Hi, my name is Julio and I have moved 33 times.\n",
      "AI: Hi Julio! Wow, 33 times is quite a lot of moving! That must mean you've had a lot of different experiences and probably lived in various places. What has been your favorite location so far? Or do you have a specific memory from one of those moves that stands out to you?\n",
      "Human: Sure. If my average moving distance was 100 miles, how many miles took all my moves?\n",
      "AI: If your average moving distance was 100 miles and you've moved 33 times, you would multiply the number of moves by the average distance. So, 33 moves multiplied by 100 miles gives you a total of 3,300 miles! That’s quite a journey! Have you ever thought about how many different places you could have explored with all that traveling?\n",
      "Human: Do you remember my name?\n",
      "AI: Yes, I remember your name, Julio! It's nice to chat with you. If you have more stories or questions about your moves, I’d love to hear them!\n"
     ]
    }
   ],
   "source": [
    "print(buffer_memory.buffer)"
   ]
  },
  {
   "cell_type": "code",
   "execution_count": 10,
   "id": "e0b501ee-27c6-4172-8d59-22a0c97f4ed0",
   "metadata": {},
   "outputs": [
    {
     "data": {
      "text/plain": [
       "{'history': \"Human: Hi, my name is Julio and I have moved 33 times.\\nAI: Hi Julio! Wow, 33 times is quite a lot of moving! That must mean you've had a lot of different experiences and probably lived in various places. What has been your favorite location so far? Or do you have a specific memory from one of those moves that stands out to you?\\nHuman: Sure. If my average moving distance was 100 miles, how many miles took all my moves?\\nAI: If your average moving distance was 100 miles and you've moved 33 times, you would multiply the number of moves by the average distance. So, 33 moves multiplied by 100 miles gives you a total of 3,300 miles! That’s quite a journey! Have you ever thought about how many different places you could have explored with all that traveling?\\nHuman: Do you remember my name?\\nAI: Yes, I remember your name, Julio! It's nice to chat with you. If you have more stories or questions about your moves, I’d love to hear them!\"}"
      ]
     },
     "execution_count": 10,
     "metadata": {},
     "output_type": "execute_result"
    }
   ],
   "source": [
    "buffer_memory.load_memory_variables({})"
   ]
  },
  {
   "cell_type": "markdown",
   "id": "ecbcae7b-85c9-41b6-9eab-1fa4d2809cbf",
   "metadata": {},
   "source": [
    "## Conversation Buffer Window Memory"
   ]
  },
  {
   "cell_type": "code",
   "execution_count": 11,
   "id": "a996bb6a-d19f-46e4-bfc0-b9d1e0e1d8a4",
   "metadata": {},
   "outputs": [],
   "source": [
    "from langchain.memory import ConversationBufferWindowMemory"
   ]
  },
  {
   "cell_type": "code",
   "execution_count": 12,
   "id": "196bb156-b7d6-4da0-a9ef-b22a53b16cdb",
   "metadata": {},
   "outputs": [
    {
     "name": "stderr",
     "output_type": "stream",
     "text": [
      "C:\\Users\\Pavel\\AppData\\Local\\Temp\\ipykernel_24992\\3645135692.py:1: LangChainDeprecationWarning: Please see the migration guide at: https://python.langchain.com/docs/versions/migrating_memory/\n",
      "  window_memory = ConversationBufferWindowMemory(k=3)\n"
     ]
    }
   ],
   "source": [
    "window_memory = ConversationBufferWindowMemory(k=3)"
   ]
  },
  {
   "cell_type": "code",
   "execution_count": 13,
   "id": "a2bba27a-96d2-4480-a37b-96787e75034f",
   "metadata": {},
   "outputs": [],
   "source": [
    "conversation_window = ConversationChain(\n",
    "    llm=llm, \n",
    "    memory = window_memory,\n",
    "    verbose=True\n",
    ")"
   ]
  },
  {
   "cell_type": "code",
   "execution_count": 14,
   "id": "abc95f84-478b-47d2-8a5f-9da426b09e90",
   "metadata": {},
   "outputs": [
    {
     "name": "stdout",
     "output_type": "stream",
     "text": [
      "\n",
      "\n",
      "\u001b[1m> Entering new ConversationChain chain...\u001b[0m\n",
      "Prompt after formatting:\n",
      "\u001b[32;1m\u001b[1;3mThe following is a friendly conversation between a human and an AI. The AI is talkative and provides lots of specific details from its context. If the AI does not know the answer to a question, it truthfully says it does not know.\n",
      "\n",
      "Current conversation:\n",
      "\n",
      "Human: The lead singer of Nirvana had 3 cars\n",
      "AI:\u001b[0m\n",
      "\n",
      "\u001b[1m> Finished chain.\u001b[0m\n"
     ]
    },
    {
     "data": {
      "text/plain": [
       "\"That's right! Kurt Cobain, the lead singer of Nirvana, had a few notable cars during his lifetime. One of them was a 1965 Ford Mustang, which was a classic and reflected his love for vintage styles. He also owned a 1993 Honda Civic, which was more practical and suited for everyday use. Additionally, there was a 1967 Dodge Dart that he was fond of. Cobain's car choices often reflected his laid-back personality and his preference for a more unassuming lifestyle, despite his massive fame. Do you have a favorite Nirvana song?\""
      ]
     },
     "execution_count": 14,
     "metadata": {},
     "output_type": "execute_result"
    }
   ],
   "source": [
    "conversation_window.predict(input=\"The lead singer of Nirvana had 3 cars\")"
   ]
  },
  {
   "cell_type": "code",
   "execution_count": 15,
   "id": "c06a9752-6b95-4bae-b155-eec554607ebc",
   "metadata": {},
   "outputs": [
    {
     "name": "stdout",
     "output_type": "stream",
     "text": [
      "\n",
      "\n",
      "\u001b[1m> Entering new ConversationChain chain...\u001b[0m\n",
      "Prompt after formatting:\n",
      "\u001b[32;1m\u001b[1;3mThe following is a friendly conversation between a human and an AI. The AI is talkative and provides lots of specific details from its context. If the AI does not know the answer to a question, it truthfully says it does not know.\n",
      "\n",
      "Current conversation:\n",
      "Human: The lead singer of Nirvana had 3 cars\n",
      "AI: That's right! Kurt Cobain, the lead singer of Nirvana, had a few notable cars during his lifetime. One of them was a 1965 Ford Mustang, which was a classic and reflected his love for vintage styles. He also owned a 1993 Honda Civic, which was more practical and suited for everyday use. Additionally, there was a 1967 Dodge Dart that he was fond of. Cobain's car choices often reflected his laid-back personality and his preference for a more unassuming lifestyle, despite his massive fame. Do you have a favorite Nirvana song?\n",
      "Human: The lead singer of Nirvana was Kurt Cobain\n",
      "AI:\u001b[0m\n",
      "\n",
      "\u001b[1m> Finished chain.\u001b[0m\n"
     ]
    },
    {
     "data": {
      "text/plain": [
       "'Absolutely! Kurt Cobain was the iconic frontman of Nirvana, a band that played a pivotal role in the grunge movement of the early \\'90s. He co-founded the band in 1987 with Krist Novoselic, and they later added drummer Dave Grohl. Cobain was not only known for his distinct voice and songwriting skills but also for his often introspective and sometimes dark lyrics. Some of Nirvana\\'s most famous songs include \"Smells Like Teen Spirit,\" \"Come As You Are,\" and \"Heart-Shaped Box.\" Do you have a favorite album or song by Nirvana?'"
      ]
     },
     "execution_count": 15,
     "metadata": {},
     "output_type": "execute_result"
    }
   ],
   "source": [
    "conversation_window.predict(input=\"The lead singer of Nirvana was Kurt Cobain\")"
   ]
  },
  {
   "cell_type": "code",
   "execution_count": 16,
   "id": "bd086520-388b-435b-a93b-b408ea349a7b",
   "metadata": {},
   "outputs": [
    {
     "name": "stdout",
     "output_type": "stream",
     "text": [
      "Human: The lead singer of Nirvana had 3 cars\n",
      "AI: That's right! Kurt Cobain, the lead singer of Nirvana, had a few notable cars during his lifetime. One of them was a 1965 Ford Mustang, which was a classic and reflected his love for vintage styles. He also owned a 1993 Honda Civic, which was more practical and suited for everyday use. Additionally, there was a 1967 Dodge Dart that he was fond of. Cobain's car choices often reflected his laid-back personality and his preference for a more unassuming lifestyle, despite his massive fame. Do you have a favorite Nirvana song?\n",
      "Human: The lead singer of Nirvana was Kurt Cobain\n",
      "AI: Absolutely! Kurt Cobain was the iconic frontman of Nirvana, a band that played a pivotal role in the grunge movement of the early '90s. He co-founded the band in 1987 with Krist Novoselic, and they later added drummer Dave Grohl. Cobain was not only known for his distinct voice and songwriting skills but also for his often introspective and sometimes dark lyrics. Some of Nirvana's most famous songs include \"Smells Like Teen Spirit,\" \"Come As You Are,\" and \"Heart-Shaped Box.\" Do you have a favorite album or song by Nirvana?\n"
     ]
    }
   ],
   "source": [
    "print(window_memory.buffer)"
   ]
  },
  {
   "cell_type": "code",
   "execution_count": 17,
   "id": "8a053ebd-4729-4489-95eb-ee0001ac1ac4",
   "metadata": {},
   "outputs": [
    {
     "name": "stdout",
     "output_type": "stream",
     "text": [
      "\n",
      "\n",
      "\u001b[1m> Entering new ConversationChain chain...\u001b[0m\n",
      "Prompt after formatting:\n",
      "\u001b[32;1m\u001b[1;3mThe following is a friendly conversation between a human and an AI. The AI is talkative and provides lots of specific details from its context. If the AI does not know the answer to a question, it truthfully says it does not know.\n",
      "\n",
      "Current conversation:\n",
      "Human: The lead singer of Nirvana had 3 cars\n",
      "AI: That's right! Kurt Cobain, the lead singer of Nirvana, had a few notable cars during his lifetime. One of them was a 1965 Ford Mustang, which was a classic and reflected his love for vintage styles. He also owned a 1993 Honda Civic, which was more practical and suited for everyday use. Additionally, there was a 1967 Dodge Dart that he was fond of. Cobain's car choices often reflected his laid-back personality and his preference for a more unassuming lifestyle, despite his massive fame. Do you have a favorite Nirvana song?\n",
      "Human: The lead singer of Nirvana was Kurt Cobain\n",
      "AI: Absolutely! Kurt Cobain was the iconic frontman of Nirvana, a band that played a pivotal role in the grunge movement of the early '90s. He co-founded the band in 1987 with Krist Novoselic, and they later added drummer Dave Grohl. Cobain was not only known for his distinct voice and songwriting skills but also for his often introspective and sometimes dark lyrics. Some of Nirvana's most famous songs include \"Smells Like Teen Spirit,\" \"Come As You Are,\" and \"Heart-Shaped Box.\" Do you have a favorite album or song by Nirvana?\n",
      "Human: One Corvett, one Proche and one Mercedes\n",
      "AI:\u001b[0m\n",
      "\n",
      "\u001b[1m> Finished chain.\u001b[0m\n"
     ]
    },
    {
     "data": {
      "text/plain": [
       "\"It sounds like you're referring to a different set of cars! While Kurt Cobain had some classic vehicles, if you're mentioning a Corvette, Porsche, and Mercedes, those are more associated with luxury and performance. The Chevrolet Corvette is known for its powerful engine and sporty design, the Porsche is famous for its precision engineering and performance, and Mercedes-Benz is synonymous with luxury and advanced technology. If you’re talking about another musician or celebrity who owned those cars, I’d love to hear more! Who are you thinking of?\""
      ]
     },
     "execution_count": 17,
     "metadata": {},
     "output_type": "execute_result"
    }
   ],
   "source": [
    "conversation_window.predict(input=\"One Corvett, one Proche and one Mercedes\")"
   ]
  },
  {
   "cell_type": "code",
   "execution_count": 18,
   "id": "ec110ae9-01db-4449-a6fc-eff9027e54e1",
   "metadata": {},
   "outputs": [
    {
     "name": "stdout",
     "output_type": "stream",
     "text": [
      "\n",
      "\n",
      "\u001b[1m> Entering new ConversationChain chain...\u001b[0m\n",
      "Prompt after formatting:\n",
      "\u001b[32;1m\u001b[1;3mThe following is a friendly conversation between a human and an AI. The AI is talkative and provides lots of specific details from its context. If the AI does not know the answer to a question, it truthfully says it does not know.\n",
      "\n",
      "Current conversation:\n",
      "Human: The lead singer of Nirvana had 3 cars\n",
      "AI: That's right! Kurt Cobain, the lead singer of Nirvana, had a few notable cars during his lifetime. One of them was a 1965 Ford Mustang, which was a classic and reflected his love for vintage styles. He also owned a 1993 Honda Civic, which was more practical and suited for everyday use. Additionally, there was a 1967 Dodge Dart that he was fond of. Cobain's car choices often reflected his laid-back personality and his preference for a more unassuming lifestyle, despite his massive fame. Do you have a favorite Nirvana song?\n",
      "Human: The lead singer of Nirvana was Kurt Cobain\n",
      "AI: Absolutely! Kurt Cobain was the iconic frontman of Nirvana, a band that played a pivotal role in the grunge movement of the early '90s. He co-founded the band in 1987 with Krist Novoselic, and they later added drummer Dave Grohl. Cobain was not only known for his distinct voice and songwriting skills but also for his often introspective and sometimes dark lyrics. Some of Nirvana's most famous songs include \"Smells Like Teen Spirit,\" \"Come As You Are,\" and \"Heart-Shaped Box.\" Do you have a favorite album or song by Nirvana?\n",
      "Human: One Corvett, one Proche and one Mercedes\n",
      "AI: It sounds like you're referring to a different set of cars! While Kurt Cobain had some classic vehicles, if you're mentioning a Corvette, Porsche, and Mercedes, those are more associated with luxury and performance. The Chevrolet Corvette is known for its powerful engine and sporty design, the Porsche is famous for its precision engineering and performance, and Mercedes-Benz is synonymous with luxury and advanced technology. If you’re talking about another musician or celebrity who owned those cars, I’d love to hear more! Who are you thinking of?\n",
      "Human: The thing he liked the most was to show off\n",
      "AI:\u001b[0m\n",
      "\n",
      "\u001b[1m> Finished chain.\u001b[0m\n"
     ]
    },
    {
     "data": {
      "text/plain": [
       "\"It seems like you're describing a different aspect of a musician's personality! While Kurt Cobain was known for his anti-establishment views and often shunned the idea of fame and materialism, there are many artists who enjoy showcasing their luxury cars and possessions. For example, artists like Jay-Z or Kanye West often flaunt their impressive car collections. If you're thinking of someone specific who loved to show off their cars, let me know! What do you think drives that desire to showcase such luxury?\""
      ]
     },
     "execution_count": 18,
     "metadata": {},
     "output_type": "execute_result"
    }
   ],
   "source": [
    "conversation_window.predict(input=\"The thing he liked the most was to show off\")"
   ]
  },
  {
   "cell_type": "code",
   "execution_count": 19,
   "id": "0e7753f3-ee17-4af8-86b6-76ee32927777",
   "metadata": {},
   "outputs": [
    {
     "name": "stdout",
     "output_type": "stream",
     "text": [
      "Human: The lead singer of Nirvana was Kurt Cobain\n",
      "AI: Absolutely! Kurt Cobain was the iconic frontman of Nirvana, a band that played a pivotal role in the grunge movement of the early '90s. He co-founded the band in 1987 with Krist Novoselic, and they later added drummer Dave Grohl. Cobain was not only known for his distinct voice and songwriting skills but also for his often introspective and sometimes dark lyrics. Some of Nirvana's most famous songs include \"Smells Like Teen Spirit,\" \"Come As You Are,\" and \"Heart-Shaped Box.\" Do you have a favorite album or song by Nirvana?\n",
      "Human: One Corvett, one Proche and one Mercedes\n",
      "AI: It sounds like you're referring to a different set of cars! While Kurt Cobain had some classic vehicles, if you're mentioning a Corvette, Porsche, and Mercedes, those are more associated with luxury and performance. The Chevrolet Corvette is known for its powerful engine and sporty design, the Porsche is famous for its precision engineering and performance, and Mercedes-Benz is synonymous with luxury and advanced technology. If you’re talking about another musician or celebrity who owned those cars, I’d love to hear more! Who are you thinking of?\n",
      "Human: The thing he liked the most was to show off\n",
      "AI: It seems like you're describing a different aspect of a musician's personality! While Kurt Cobain was known for his anti-establishment views and often shunned the idea of fame and materialism, there are many artists who enjoy showcasing their luxury cars and possessions. For example, artists like Jay-Z or Kanye West often flaunt their impressive car collections. If you're thinking of someone specific who loved to show off their cars, let me know! What do you think drives that desire to showcase such luxury?\n"
     ]
    }
   ],
   "source": [
    "print(window_memory.buffer)"
   ]
  },
  {
   "cell_type": "markdown",
   "id": "c9ba145e-6e1a-40e1-9575-e164ab95fe34",
   "metadata": {},
   "source": [
    "## Conversation Token Buffer Memory"
   ]
  },
  {
   "cell_type": "code",
   "execution_count": 20,
   "id": "2e5083b9-603f-478b-acf6-731ffc62ed2b",
   "metadata": {},
   "outputs": [],
   "source": [
    "#!pip install tiktoken"
   ]
  },
  {
   "cell_type": "code",
   "execution_count": 21,
   "id": "5ce22e1e-643c-4f51-99a3-93ad7f9bfd7d",
   "metadata": {},
   "outputs": [],
   "source": [
    "from langchain.memory import ConversationTokenBufferMemory"
   ]
  },
  {
   "cell_type": "code",
   "execution_count": 22,
   "id": "efa35270-e9f6-4b83-8e02-5bbfa77dfeea",
   "metadata": {},
   "outputs": [
    {
     "name": "stderr",
     "output_type": "stream",
     "text": [
      "C:\\Users\\Pavel\\AppData\\Local\\Temp\\ipykernel_24992\\130807733.py:1: LangChainDeprecationWarning: Please see the migration guide at: https://python.langchain.com/docs/versions/migrating_memory/\n",
      "  token_memory = ConversationTokenBufferMemory(\n"
     ]
    }
   ],
   "source": [
    "token_memory = ConversationTokenBufferMemory(\n",
    "    llm=llm,\n",
    "    max_token_limit=50\n",
    ")"
   ]
  },
  {
   "cell_type": "code",
   "execution_count": 23,
   "id": "7354bef7-fd3e-4fa1-be03-6d3c208cc228",
   "metadata": {},
   "outputs": [],
   "source": [
    "conversation_token = ConversationChain(\n",
    "    llm=llm, \n",
    "    memory = token_memory,\n",
    "    verbose=True\n",
    ")"
   ]
  },
  {
   "cell_type": "markdown",
   "id": "d9aca9ef-e7bd-4881-852f-c49e53a52323",
   "metadata": {},
   "source": [
    "## Conversation Summary Buffer Memory"
   ]
  },
  {
   "cell_type": "code",
   "execution_count": 24,
   "id": "6f7af856-89cb-49f4-831f-8749047598f4",
   "metadata": {},
   "outputs": [],
   "source": [
    "from langchain.memory import ConversationSummaryBufferMemory"
   ]
  },
  {
   "cell_type": "code",
   "execution_count": 25,
   "id": "8bcac341-3518-428a-889c-b7ef4177b307",
   "metadata": {},
   "outputs": [
    {
     "name": "stderr",
     "output_type": "stream",
     "text": [
      "C:\\Users\\Pavel\\AppData\\Local\\Temp\\ipykernel_24992\\3597302779.py:1: LangChainDeprecationWarning: Please see the migration guide at: https://python.langchain.com/docs/versions/migrating_memory/\n",
      "  summary_memory = ConversationSummaryBufferMemory(\n"
     ]
    }
   ],
   "source": [
    "summary_memory = ConversationSummaryBufferMemory(\n",
    "    llm=llm,\n",
    "    max_token_limit=100\n",
    ")"
   ]
  },
  {
   "cell_type": "code",
   "execution_count": 26,
   "id": "9ca45767-26c1-4495-a495-d075969b06f5",
   "metadata": {},
   "outputs": [],
   "source": [
    "conversation_summary = ConversationChain(\n",
    "    llm=llm, \n",
    "    memory = summary_memory,\n",
    "    verbose=True\n",
    ")"
   ]
  },
  {
   "cell_type": "code",
   "execution_count": 27,
   "id": "a8525488-6d3d-4eed-b3ba-ad40d18ae215",
   "metadata": {},
   "outputs": [
    {
     "name": "stdout",
     "output_type": "stream",
     "text": [
      "\n",
      "\n",
      "\u001b[1m> Entering new ConversationChain chain...\u001b[0m\n",
      "Prompt after formatting:\n",
      "\u001b[32;1m\u001b[1;3mThe following is a friendly conversation between a human and an AI. The AI is talkative and provides lots of specific details from its context. If the AI does not know the answer to a question, it truthfully says it does not know.\n",
      "\n",
      "Current conversation:\n",
      "\n",
      "Human: \n",
      "Kurt Cobain dropped out of high school, then worked there as \n",
      "a janitor Even though he was by all accounts a slob, Kurt Cobain \n",
      "worked as a janitor at Weatherwax High School, not long after \n",
      "dropping out of that very school. The dancing janitor in the \n",
      "\"Smells Like Teen Spirit\" music video was an inside joke for \n",
      "those who knew of Cobain's old job.\n",
      "\n",
      "AI:\u001b[0m\n",
      "\n",
      "\u001b[1m> Finished chain.\u001b[0m\n"
     ]
    },
    {
     "data": {
      "text/plain": [
       "'That\\'s right! Kurt Cobain\\'s time as a janitor at Weatherwax High School is quite a fascinating part of his backstory. He dropped out during his sophomore year, but he did return to the school in that role, which is a unique twist considering his later fame. The music video for \"Smells Like Teen Spirit,\" directed by Samuel Bayer, features a chaotic atmosphere that perfectly captures the rebellious spirit of youth, and the dancing janitor adds an ironic nod to Cobain\\'s own past. Cobain often reflected on his feelings of being an outsider, and that playful yet chaotic energy in the video resonates with his experiences. \\n\\nIf you\\'re interested, I can share more about the making of the video or other elements of Nirvana\\'s history!'"
      ]
     },
     "execution_count": 27,
     "metadata": {},
     "output_type": "execute_result"
    }
   ],
   "source": [
    "conversation_summary.predict(input=\"\"\"\n",
    "Kurt Cobain dropped out of high school, then worked there as \n",
    "a janitor Even though he was by all accounts a slob, Kurt Cobain \n",
    "worked as a janitor at Weatherwax High School, not long after \n",
    "dropping out of that very school. The dancing janitor in the \n",
    "\"Smells Like Teen Spirit\" music video was an inside joke for \n",
    "those who knew of Cobain's old job.\n",
    "\"\"\")"
   ]
  },
  {
   "cell_type": "code",
   "execution_count": 28,
   "id": "8091c886-d5bc-4503-9796-2ad77ef6349a",
   "metadata": {},
   "outputs": [
    {
     "name": "stdout",
     "output_type": "stream",
     "text": [
      "\n",
      "\n",
      "\u001b[1m> Entering new ConversationChain chain...\u001b[0m\n",
      "Prompt after formatting:\n",
      "\u001b[32;1m\u001b[1;3mThe following is a friendly conversation between a human and an AI. The AI is talkative and provides lots of specific details from its context. If the AI does not know the answer to a question, it truthfully says it does not know.\n",
      "\n",
      "Current conversation:\n",
      "System: The human shares details about Kurt Cobain, noting that he dropped out of high school and later worked as a janitor at Weatherwax High School, referencing the dancing janitor in the \"Smells Like Teen Spirit\" music video as an inside joke related to Cobain's past. The AI agrees and elaborates on Cobain's unique backstory, highlighting how his time as a janitor contrasts with his later fame and connects to the video's chaotic and rebellious spirit, which mirrors Cobain's feelings of being an outsider. The AI also offers to share more about the video or Nirvana's history.\n",
      "Human: \n",
      "There were at least five different drummers in the band \n",
      "before Dave Grohl. Cobain and Novoselic were always members \n",
      "of Nirvana—formerly known as Skid Row, Pen Cap Chew, Bliss, \n",
      "and Ted Ed Fred—but finding a permanent drummer proved to be \n",
      "even harder than coming up with a decent band name. In the \n",
      "beginning, there was trivia answer Aaron Burckhard, who pissed \n",
      "off Cobain by getting Kurt's car impounded after being arrested \n",
      "for fighting with a police officer. Then there was Melvins \n",
      "drummer Dale Crover, who pounded the skins for Cobain and \n",
      "Novoselic on their first demo tape before moving to San Francisco. \n",
      "Next came Dave Foster, who got arrested for assaulting the \n",
      "son of the mayor of Cosmopolis, Washington. Burckhard briefly \n",
      "returned before announcing he was too hungover to practice one day. \n",
      "Then a mutual friend introduced Cobain and Novoselic to Chad \n",
      "Channing, who hung around for two years before the group's \n",
      "co-founders decided he wasn't cutting it anymore. Mudhoney \n",
      "drummer Dan Peters played on the \"Sliver\" single.\n",
      "\n",
      "AI:\u001b[0m\n",
      "\n",
      "\u001b[1m> Finished chain.\u001b[0m\n"
     ]
    },
    {
     "data": {
      "text/plain": [
       "'That\\'s a fascinating rundown of Nirvana\\'s early lineup! It really illustrates the tumultuous beginnings of the band and how they struggled to find the right fit for their sound. Each of those drummers brought their own style, but it seems like none quite matched the chemistry that Cobain and Novoselic were looking for until they found Dave Grohl. \\n\\nGrohl\\'s arrival in 1990 marked a turning point for Nirvana. His powerful drumming and energetic presence really helped shape the band\\'s sound on albums like \"Nevermind.\" It’s interesting to think about how different Nirvana’s trajectory might have been if any of those earlier drummers had stuck around. \\n\\nIf you\\'re interested, we could dive deeper into how Grohl\\'s drumming influenced songs like \"Smells Like Teen Spirit\" or even explore the band\\'s dynamics and songwriting process during those formative years! What do you think?'"
      ]
     },
     "execution_count": 28,
     "metadata": {},
     "output_type": "execute_result"
    }
   ],
   "source": [
    "conversation_summary.predict(input=\"\"\"\n",
    "There were at least five different drummers in the band \n",
    "before Dave Grohl. Cobain and Novoselic were always members \n",
    "of Nirvana—formerly known as Skid Row, Pen Cap Chew, Bliss, \n",
    "and Ted Ed Fred—but finding a permanent drummer proved to be \n",
    "even harder than coming up with a decent band name. In the \n",
    "beginning, there was trivia answer Aaron Burckhard, who pissed \n",
    "off Cobain by getting Kurt's car impounded after being arrested \n",
    "for fighting with a police officer. Then there was Melvins \n",
    "drummer Dale Crover, who pounded the skins for Cobain and \n",
    "Novoselic on their first demo tape before moving to San Francisco. \n",
    "Next came Dave Foster, who got arrested for assaulting the \n",
    "son of the mayor of Cosmopolis, Washington. Burckhard briefly \n",
    "returned before announcing he was too hungover to practice one day. \n",
    "Then a mutual friend introduced Cobain and Novoselic to Chad \n",
    "Channing, who hung around for two years before the group's \n",
    "co-founders decided he wasn't cutting it anymore. Mudhoney \n",
    "drummer Dan Peters played on the \"Sliver\" single.\n",
    "\"\"\")"
   ]
  },
  {
   "cell_type": "code",
   "execution_count": 29,
   "id": "819f2b96-1e9a-4581-a29a-9e8f5794f6bd",
   "metadata": {},
   "outputs": [
    {
     "name": "stdout",
     "output_type": "stream",
     "text": [
      "\n",
      "\n",
      "\u001b[1m> Entering new ConversationChain chain...\u001b[0m\n",
      "Prompt after formatting:\n",
      "\u001b[32;1m\u001b[1;3mThe following is a friendly conversation between a human and an AI. The AI is talkative and provides lots of specific details from its context. If the AI does not know the answer to a question, it truthfully says it does not know.\n",
      "\n",
      "Current conversation:\n",
      "System: The human discusses the various drummers who played with Nirvana before Dave Grohl, detailing their tumultuous history, including incidents involving arrests and performance issues. The AI finds this fascinating, noting how the struggle to find the right drummer illustrates the band's early challenges and emphasizes that Grohl's arrival in 1990 was a turning point that shaped Nirvana's sound, particularly on albums like \"Nevermind.\" The AI suggests further exploration of Grohl's influence on specific songs and the band's dynamics during those formative years.\n",
      "Human: \n",
      "Back in Washington, Crover performed with Cobain and Novoselic \n",
      "on a seven date tour with Sonic Youth in August 1990, before \n",
      "Dave Grohl's band Scream broke up and Melvins frontman Buzz \n",
      "Osbourne introduced Grohl to Cobain and Novoselic, ending the \n",
      "vicious cycle of rotating drummers.\n",
      "\n",
      "AI:\u001b[0m\n",
      "\n",
      "\u001b[1m> Finished chain.\u001b[0m\n"
     ]
    },
    {
     "data": {
      "text/plain": [
       "'That\\'s a really interesting point! The connection between Grohl, Cobain, and Novoselic really did mark a significant shift for Nirvana. Before Grohl joined, they went through several drummers, including Chad Channing and Dan Peters, which often led to instability in their sound and performances. Each drummer brought a different style, but it wasn’t until Grohl came on board that they found a cohesive rhythm that complemented Cobain\\'s songwriting.\\n\\nGrohl\\'s background in punk with Scream and his drumming style, which was both powerful and melodic, really enhanced the band\\'s dynamic. His drumming on tracks like \"Smells Like Teen Spirit\" and \"Come As You Are\" is iconic and helped define the grunge sound of the early \\'90s. Plus, the chemistry he developed with Kurt and Krist was palpable, as they became a tight-knit trio that could create music that resonated with a generation.\\n\\nIt\\'s also fascinating to think about how Grohl\\'s musical influences and experiences shaped his approach to drumming in Nirvana. Do you want to dive deeper into any specific songs or moments from that era?'"
      ]
     },
     "execution_count": 29,
     "metadata": {},
     "output_type": "execute_result"
    }
   ],
   "source": [
    "conversation_summary.predict(input=\"\"\"\n",
    "Back in Washington, Crover performed with Cobain and Novoselic \n",
    "on a seven date tour with Sonic Youth in August 1990, before \n",
    "Dave Grohl's band Scream broke up and Melvins frontman Buzz \n",
    "Osbourne introduced Grohl to Cobain and Novoselic, ending the \n",
    "vicious cycle of rotating drummers.\n",
    "\"\"\")"
   ]
  },
  {
   "cell_type": "code",
   "execution_count": 30,
   "id": "621a5520-9bdc-450c-b47f-0a29f34dc10b",
   "metadata": {},
   "outputs": [
    {
     "name": "stdout",
     "output_type": "stream",
     "text": [
      "System: The human discusses the various drummers who played with Nirvana before Dave Grohl, detailing their tumultuous history, including incidents involving arrests and performance issues. The AI finds this fascinating, noting how the struggle to find the right drummer illustrates the band's early challenges and emphasizes that Grohl's arrival in 1990 was a turning point that shaped Nirvana's sound, particularly on albums like \"Nevermind.\" The AI suggests further exploration of Grohl's influence on specific songs and the band's dynamics during those formative years. The human mentions that Crover performed with Cobain and Novoselic on a tour before Grohl's introduction, which ended the cycle of rotating drummers. The AI agrees, highlighting how Grohl's powerful and melodic drumming enhanced Nirvana's dynamic and defined their sound, particularly on iconic tracks. The AI also notes the importance of the chemistry between Grohl, Cobain, and Novoselic and invites further discussion on specific songs or moments from that era.\n"
     ]
    }
   ],
   "source": [
    "print(summary_memory.buffer)"
   ]
  },
  {
   "cell_type": "code",
   "execution_count": 31,
   "id": "78721fa3-3912-4f4e-b622-831ffc72f109",
   "metadata": {},
   "outputs": [
    {
     "data": {
      "text/plain": [
       "{'history': 'System: The human discusses the various drummers who played with Nirvana before Dave Grohl, detailing their tumultuous history, including incidents involving arrests and performance issues. The AI finds this fascinating, noting how the struggle to find the right drummer illustrates the band\\'s early challenges and emphasizes that Grohl\\'s arrival in 1990 was a turning point that shaped Nirvana\\'s sound, particularly on albums like \"Nevermind.\" The AI suggests further exploration of Grohl\\'s influence on specific songs and the band\\'s dynamics during those formative years. The human mentions that Crover performed with Cobain and Novoselic on a tour before Grohl\\'s introduction, which ended the cycle of rotating drummers. The AI agrees, highlighting how Grohl\\'s powerful and melodic drumming enhanced Nirvana\\'s dynamic and defined their sound, particularly on iconic tracks. The AI also notes the importance of the chemistry between Grohl, Cobain, and Novoselic and invites further discussion on specific songs or moments from that era.'}"
      ]
     },
     "execution_count": 31,
     "metadata": {},
     "output_type": "execute_result"
    }
   ],
   "source": [
    "summary_memory.load_memory_variables({})"
   ]
  }
 ],
 "metadata": {
  "kernelspec": {
   "display_name": "Python 3 (ipykernel)",
   "language": "python",
   "name": "python3"
  },
  "language_info": {
   "codemirror_mode": {
    "name": "ipython",
    "version": 3
   },
   "file_extension": ".py",
   "mimetype": "text/x-python",
   "name": "python",
   "nbconvert_exporter": "python",
   "pygments_lexer": "ipython3",
   "version": "3.11.11"
  }
 },
 "nbformat": 4,
 "nbformat_minor": 5
}
