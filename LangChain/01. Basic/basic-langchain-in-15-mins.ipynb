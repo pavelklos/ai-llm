{
 "cells": [
  {
   "cell_type": "code",
   "execution_count": 1,
   "id": "96b8500b-f5c4-4826-81c9-4dfdd6580755",
   "metadata": {},
   "outputs": [],
   "source": [
    "import os\n",
    "from dotenv import load_dotenv, find_dotenv\n",
    "_ = load_dotenv(find_dotenv())\n",
    "openai_api_key = os.environ[\"OPENAI_API_KEY\"]"
   ]
  },
  {
   "cell_type": "markdown",
   "id": "d939f8ed-fa66-4f43-9486-9c653a89c8a1",
   "metadata": {},
   "source": [
    "## Connect with LM"
   ]
  },
  {
   "cell_type": "code",
   "execution_count": 2,
   "id": "200545d3-0f14-43f5-b749-06f2dc13a453",
   "metadata": {},
   "outputs": [],
   "source": [
    "from langchain_openai import ChatOpenAI"
   ]
  },
  {
   "cell_type": "code",
   "execution_count": 3,
   "id": "0e921a17-ebb2-45db-a9db-c67e65271355",
   "metadata": {},
   "outputs": [],
   "source": [
    "MODEL = 'gpt-4o-mini'"
   ]
  },
  {
   "cell_type": "code",
   "execution_count": 4,
   "id": "eea210b4-28f3-4060-ae77-8bba410e437a",
   "metadata": {},
   "outputs": [],
   "source": [
    "my_creative_llm = ChatOpenAI(model=MODEL, temperature=0.9)\n",
    "my_no_creative_llm = ChatOpenAI(model=MODEL, temperature=0)"
   ]
  },
  {
   "cell_type": "code",
   "execution_count": 5,
   "id": "e605a626-24e9-4c1f-9829-21c059722342",
   "metadata": {},
   "outputs": [],
   "source": [
    "question = \"What are the 5 best things to do in life?\""
   ]
  },
  {
   "cell_type": "code",
   "execution_count": 6,
   "id": "12624519-5a4c-4b26-ac9c-db8dd3639a0a",
   "metadata": {},
   "outputs": [
    {
     "name": "stdout",
     "output_type": "stream",
     "text": [
      "content='The \"best\" things to do in life can be subjective and vary greatly from person to person, depending on values, interests, and personal goals. However, here are five universally appreciated pursuits that many people find enriching:\\n\\n1. **Cultivate Relationships**: Building and maintaining meaningful relationships with family, friends, and community can provide love, support, and fulfillment. Engaging in deep connections helps foster a sense of belonging and emotional well-being.\\n\\n2. **Pursue Personal Growth**: Continuously seek personal development through education, new experiences, and self-reflection. This could involve learning new skills, pursuing hobbies, or engaging in spiritual practices that foster growth and understanding.\\n\\n3. **Contribute to Others**: Giving back to the community or helping those in need can bring a sense of purpose and satisfaction. This could be through volunteering, mentorship, or simply acts of kindness in everyday life.\\n\\n4. **Embrace Experiences**: Travel, adventure, and exploring different cultures can broaden perspectives and create lasting memories. Experiencing life outside of your comfort zone can foster personal growth and enrich your understanding of the world.\\n\\n5. **Take Care of Your Well-being**: Prioritize both physical and mental health through regular exercise, a balanced diet, mindfulness practices, and adequate rest. Taking care of yourself is essential for enjoying life to the fullest and being able to effectively support others.\\n\\nEngaging in these pursuits can lead to a more fulfilling and meaningful life, but it\\'s important to tailor them to your own unique aspirations and values.' additional_kwargs={'refusal': None} response_metadata={'token_usage': {'completion_tokens': 309, 'prompt_tokens': 19, 'total_tokens': 328, 'completion_tokens_details': {'accepted_prediction_tokens': 0, 'audio_tokens': 0, 'reasoning_tokens': 0, 'rejected_prediction_tokens': 0}, 'prompt_tokens_details': {'audio_tokens': 0, 'cached_tokens': 0}}, 'model_name': 'gpt-4o-mini-2024-07-18', 'system_fingerprint': 'fp_06737a9306', 'finish_reason': 'stop', 'logprobs': None} id='run-8fe50c41-eae3-4293-a585-b2b8a7a8acca-0' usage_metadata={'input_tokens': 19, 'output_tokens': 309, 'total_tokens': 328, 'input_token_details': {'audio': 0, 'cache_read': 0}, 'output_token_details': {'audio': 0, 'reasoning': 0}}\n"
     ]
    }
   ],
   "source": [
    "print(my_creative_llm.invoke(question))"
   ]
  },
  {
   "cell_type": "markdown",
   "id": "d3a2e891-f448-482c-bd11-172fd6df4069",
   "metadata": {},
   "source": [
    "## Create prompt template to wrap user input"
   ]
  },
  {
   "cell_type": "code",
   "execution_count": 7,
   "id": "59a1af92-3067-4e15-8ce9-e160e099db4b",
   "metadata": {},
   "outputs": [],
   "source": [
    "from langchain_core.prompts import PromptTemplate"
   ]
  },
  {
   "cell_type": "code",
   "execution_count": 8,
   "id": "ce0ec015-83bd-4912-85f3-5c4ee2e9a131",
   "metadata": {},
   "outputs": [],
   "source": [
    "my_prompt_template = PromptTemplate(\n",
    "    input_variables = [\"destination\"],\n",
    "    template = \"What are the 3 best things to do in {destination}?\"\n",
    ")"
   ]
  },
  {
   "cell_type": "code",
   "execution_count": 9,
   "id": "619ad98a-48b2-4630-8079-cb5eb7f2944f",
   "metadata": {},
   "outputs": [],
   "source": [
    "user_input = \"Barcelona\""
   ]
  },
  {
   "cell_type": "code",
   "execution_count": 10,
   "id": "26e558c0-d6b4-4363-b3d9-2f925dcb81aa",
   "metadata": {},
   "outputs": [
    {
     "name": "stdout",
     "output_type": "stream",
     "text": [
      "content=\"Barcelona is a vibrant city with a rich cultural heritage, stunning architecture, and beautiful landscapes. Here are three of the best things to do when visiting Barcelona:\\n\\n1. **Visit the Sagrada Família**: Antoni Gaudí's iconic basilica is a must-see. Its unique architectural style combines Gothic and Art Nouveau elements, and it has been under construction since 1882. The intricate facades and stunning interior, filled with colorful stained glass windows, make it a remarkable site. Be sure to book tickets in advance to avoid long lines.\\n\\n2. **Explore Park Güell**: Another masterpiece by Gaudí, Park Güell is a colorful park filled with artistic structures, mosaics, and beautiful gardens. It offers panoramic views of the city and is a lovely place to stroll and enjoy the creative designs. The park's whimsical architecture and natural surroundings create a magical atmosphere.\\n\\n3. **Wander through the Gothic Quarter (Barri Gòtic)**: This historic neighborhood is the heart of Barcelona, featuring narrow medieval streets, charming squares, and ancient buildings. Highlights include the Barcelona Cathedral, Plaça del Rei, and the remnants of the Roman walls. The area is also home to numerous shops, cafes, and tapas bars, making it perfect for exploring and enjoying local cuisine.\\n\\nThese activities provide a blend of architecture, history, and local culture, making them essential stops on any visit to Barcelona.\" additional_kwargs={'refusal': None} response_metadata={'token_usage': {'completion_tokens': 282, 'prompt_tokens': 19, 'total_tokens': 301, 'completion_tokens_details': {'accepted_prediction_tokens': 0, 'audio_tokens': 0, 'reasoning_tokens': 0, 'rejected_prediction_tokens': 0}, 'prompt_tokens_details': {'audio_tokens': 0, 'cached_tokens': 0}}, 'model_name': 'gpt-4o-mini-2024-07-18', 'system_fingerprint': 'fp_06737a9306', 'finish_reason': 'stop', 'logprobs': None} id='run-12e8e0c1-7d93-47dd-87b3-b07ab8b8ce3e-0' usage_metadata={'input_tokens': 19, 'output_tokens': 282, 'total_tokens': 301, 'input_token_details': {'audio': 0, 'cache_read': 0}, 'output_token_details': {'audio': 0, 'reasoning': 0}}\n"
     ]
    }
   ],
   "source": [
    "print(my_creative_llm.invoke(my_prompt_template.format(destination=user_input)))"
   ]
  },
  {
   "cell_type": "markdown",
   "id": "e0d21a34-be14-40b8-9447-d034368569d8",
   "metadata": {},
   "source": [
    "## Combine instructions in chains (LLMChain)"
   ]
  },
  {
   "cell_type": "code",
   "execution_count": 11,
   "id": "9eaba1e0-6217-49bd-8fb3-e413576ce566",
   "metadata": {},
   "outputs": [],
   "source": [
    "from langchain_core.prompts import PromptTemplate\n",
    "from langchain_openai import ChatOpenAI\n",
    "from langchain.chains import LLMChain"
   ]
  },
  {
   "cell_type": "code",
   "execution_count": 12,
   "id": "4fc23d0b-cc3e-4ff0-bcb3-3dff94613145",
   "metadata": {},
   "outputs": [],
   "source": [
    "my_prompt_template = PromptTemplate(\n",
    "    input_variables = [\"politician\"],\n",
    "    template = \"What are the 3 most remarkable achievements of {politician}?\",\n",
    ")"
   ]
  },
  {
   "cell_type": "code",
   "execution_count": 13,
   "id": "175c8c74-5c85-4b41-8b9c-0a66ebc63e21",
   "metadata": {},
   "outputs": [
    {
     "name": "stderr",
     "output_type": "stream",
     "text": [
      "C:\\Users\\Pavel\\AppData\\Local\\Temp\\ipykernel_21704\\3362124309.py:1: LangChainDeprecationWarning: The class `LLMChain` was deprecated in LangChain 0.1.17 and will be removed in 1.0. Use :meth:`~RunnableSequence, e.g., `prompt | llm`` instead.\n",
      "  my_chain = LLMChain(llm=my_no_creative_llm, prompt=my_prompt_template)\n"
     ]
    }
   ],
   "source": [
    "my_chain = LLMChain(llm=my_no_creative_llm, prompt=my_prompt_template)"
   ]
  },
  {
   "cell_type": "code",
   "execution_count": 14,
   "id": "d934b520-89af-4f95-b1a6-ce7f90b73222",
   "metadata": {},
   "outputs": [
    {
     "name": "stdout",
     "output_type": "stream",
     "text": [
      "{'politician': 'Churchill', 'text': 'Winston Churchill, the British statesman and Prime Minister, is renowned for several significant achievements throughout his career. Here are three of the most remarkable:\\n\\n1. **Leadership During World War II**: Churchill\\'s most notable achievement was his leadership of the United Kingdom during World War II. As Prime Minister from 1940 to 1945, he inspired the British people with his speeches and unwavering resolve in the face of adversity. His ability to rally the nation and maintain morale during the darkest days of the war, particularly during the Blitz, was crucial in sustaining the Allied effort against Nazi Germany.\\n\\n2. **The Formation of the Allied Coalition**: Churchill played a pivotal role in forging and maintaining the alliance between the United Kingdom, the United States, and the Soviet Union. His relationship with President Franklin D. Roosevelt was instrumental in securing American support for the war effort through initiatives like Lend-Lease. This coalition was vital for the eventual defeat of the Axis powers.\\n\\n3. **Post-War Vision and the Iron Curtain Speech**: After the war, Churchill was a key figure in advocating for a united Europe and warning against the spread of Soviet communism. His \"Iron Curtain\" speech in 1946, delivered in Fulton, Missouri, is credited with highlighting the division of Europe and the onset of the Cold War. This speech helped shape Western perceptions of the Soviet threat and underscored the need for a collective response, influencing post-war geopolitics.\\n\\nThese achievements reflect Churchill\\'s significant impact on both British and global history during a tumultuous period.'}\n"
     ]
    }
   ],
   "source": [
    "print(my_chain.invoke(\"Churchill\"))"
   ]
  },
  {
   "cell_type": "markdown",
   "id": "832be4f0-4e20-469c-aca0-4af855676f01",
   "metadata": {},
   "source": [
    "## Add memory (ConversationChain)"
   ]
  },
  {
   "cell_type": "code",
   "execution_count": 15,
   "id": "9db87c29-77ce-4d52-8e9a-d88b7ed0da37",
   "metadata": {},
   "outputs": [],
   "source": [
    "from langchain import ConversationChain"
   ]
  },
  {
   "cell_type": "code",
   "execution_count": 16,
   "id": "8224f7cf-c1ea-41df-b2f5-4ed903eb4a2d",
   "metadata": {},
   "outputs": [
    {
     "name": "stderr",
     "output_type": "stream",
     "text": [
      "C:\\Users\\Pavel\\AppData\\Local\\Temp\\ipykernel_21704\\2451889189.py:1: LangChainDeprecationWarning: The class `ConversationChain` was deprecated in LangChain 0.2.7 and will be removed in 1.0. Use :meth:`~RunnableWithMessageHistory: https://python.langchain.com/v0.2/api_reference/core/runnables/langchain_core.runnables.history.RunnableWithMessageHistory.html` instead.\n",
      "  my_conversation = ConversationChain(llm=my_no_creative_llm, verbose=True)\n",
      "C:\\Users\\Pavel\\miniconda3\\envs\\llms\\Lib\\site-packages\\pydantic\\main.py:214: LangChainDeprecationWarning: Please see the migration guide at: https://python.langchain.com/docs/versions/migrating_memory/\n",
      "  validated_self = self.__pydantic_validator__.validate_python(data, self_instance=self)\n"
     ]
    }
   ],
   "source": [
    "my_conversation = ConversationChain(llm=my_no_creative_llm, verbose=True)"
   ]
  },
  {
   "cell_type": "code",
   "execution_count": 17,
   "id": "89d8a833-7941-4beb-bac1-c5386e49480e",
   "metadata": {},
   "outputs": [
    {
     "name": "stdout",
     "output_type": "stream",
     "text": [
      "\n",
      "\n",
      "\u001b[1m> Entering new ConversationChain chain...\u001b[0m\n",
      "Prompt after formatting:\n",
      "\u001b[32;1m\u001b[1;3mThe following is a friendly conversation between a human and an AI. The AI is talkative and provides lots of specific details from its context. If the AI does not know the answer to a question, it truthfully says it does not know.\n",
      "\n",
      "Current conversation:\n",
      "\n",
      "Human: hi there!\n",
      "AI:\u001b[0m\n",
      "\n",
      "\u001b[1m> Finished chain.\u001b[0m\n"
     ]
    },
    {
     "data": {
      "text/plain": [
       "{'input': 'hi there!',\n",
       " 'history': '',\n",
       " 'response': \"Hello! How are you doing today? I'm here to chat about anything on your mind, whether it's a question, a topic you're interested in, or just some friendly banter. What’s up?\"}"
      ]
     },
     "execution_count": 17,
     "metadata": {},
     "output_type": "execute_result"
    }
   ],
   "source": [
    "my_conversation.invoke(\"hi there!\")"
   ]
  },
  {
   "cell_type": "code",
   "execution_count": 18,
   "id": "f0203b4c-e619-4ffa-bcd2-df135c0377b8",
   "metadata": {},
   "outputs": [
    {
     "name": "stdout",
     "output_type": "stream",
     "text": [
      "\n",
      "\n",
      "\u001b[1m> Entering new ConversationChain chain...\u001b[0m\n",
      "Prompt after formatting:\n",
      "\u001b[32;1m\u001b[1;3mThe following is a friendly conversation between a human and an AI. The AI is talkative and provides lots of specific details from its context. If the AI does not know the answer to a question, it truthfully says it does not know.\n",
      "\n",
      "Current conversation:\n",
      "Human: hi there!\n",
      "AI: Hello! How are you doing today? I'm here to chat about anything on your mind, whether it's a question, a topic you're interested in, or just some friendly banter. What’s up?\n",
      "Human: My name is Julio. What is your name?\n",
      "AI:\u001b[0m\n",
      "\n",
      "\u001b[1m> Finished chain.\u001b[0m\n"
     ]
    },
    {
     "data": {
      "text/plain": [
       "{'input': 'My name is Julio. What is your name?',\n",
       " 'history': \"Human: hi there!\\nAI: Hello! How are you doing today? I'm here to chat about anything on your mind, whether it's a question, a topic you're interested in, or just some friendly banter. What’s up?\",\n",
       " 'response': 'Nice to meet you, Julio! I don’t have a personal name like you do, but you can call me AI or whatever name you prefer. I’m here to help and chat with you! What would you like to talk about today?'}"
      ]
     },
     "execution_count": 18,
     "metadata": {},
     "output_type": "execute_result"
    }
   ],
   "source": [
    "my_conversation.invoke(\"My name is Julio. What is your name?\")"
   ]
  },
  {
   "cell_type": "code",
   "execution_count": 19,
   "id": "fea2dd07-0b84-4f02-8814-b685f4a793ab",
   "metadata": {},
   "outputs": [
    {
     "name": "stdout",
     "output_type": "stream",
     "text": [
      "\n",
      "\n",
      "\u001b[1m> Entering new ConversationChain chain...\u001b[0m\n",
      "Prompt after formatting:\n",
      "\u001b[32;1m\u001b[1;3mThe following is a friendly conversation between a human and an AI. The AI is talkative and provides lots of specific details from its context. If the AI does not know the answer to a question, it truthfully says it does not know.\n",
      "\n",
      "Current conversation:\n",
      "Human: hi there!\n",
      "AI: Hello! How are you doing today? I'm here to chat about anything on your mind, whether it's a question, a topic you're interested in, or just some friendly banter. What’s up?\n",
      "Human: My name is Julio. What is your name?\n",
      "AI: Nice to meet you, Julio! I don’t have a personal name like you do, but you can call me AI or whatever name you prefer. I’m here to help and chat with you! What would you like to talk about today?\n",
      "Human: Do you remember my name?\n",
      "AI:\u001b[0m\n",
      "\n",
      "\u001b[1m> Finished chain.\u001b[0m\n"
     ]
    },
    {
     "data": {
      "text/plain": [
       "\"Yes, I remember your name, Julio! It's great to have a name to associate with our conversation. What would you like to discuss today?\""
      ]
     },
     "execution_count": 19,
     "metadata": {},
     "output_type": "execute_result"
    }
   ],
   "source": [
    "my_conversation.predict(input=\"Do you remember my name?\")"
   ]
  },
  {
   "cell_type": "code",
   "execution_count": 20,
   "id": "07b3da01-bfd8-4e80-bc08-34003f05e6c1",
   "metadata": {},
   "outputs": [
    {
     "name": "stdout",
     "output_type": "stream",
     "text": [
      "memory=ConversationBufferMemory(chat_memory=InMemoryChatMessageHistory(messages=[HumanMessage(content='hi there!', additional_kwargs={}, response_metadata={}), AIMessage(content=\"Hello! How are you doing today? I'm here to chat about anything on your mind, whether it's a question, a topic you're interested in, or just some friendly banter. What’s up?\", additional_kwargs={}, response_metadata={}), HumanMessage(content='My name is Julio. What is your name?', additional_kwargs={}, response_metadata={}), AIMessage(content='Nice to meet you, Julio! I don’t have a personal name like you do, but you can call me AI or whatever name you prefer. I’m here to help and chat with you! What would you like to talk about today?', additional_kwargs={}, response_metadata={}), HumanMessage(content='Do you remember my name?', additional_kwargs={}, response_metadata={}), AIMessage(content=\"Yes, I remember your name, Julio! It's great to have a name to associate with our conversation. What would you like to discuss today?\", additional_kwargs={}, response_metadata={})])) verbose=True llm=ChatOpenAI(client=<openai.resources.chat.completions.Completions object at 0x0000021E9F612D50>, async_client=<openai.resources.chat.completions.AsyncCompletions object at 0x0000021E9F61ECD0>, root_client=<openai.OpenAI object at 0x0000021E9F5F3290>, root_async_client=<openai.AsyncOpenAI object at 0x0000021E9F612F10>, model_name='gpt-4o-mini', temperature=0.0, model_kwargs={}, openai_api_key=SecretStr('**********')) output_parser=StrOutputParser() llm_kwargs={}\n"
     ]
    }
   ],
   "source": [
    "print(my_conversation)"
   ]
  }
 ],
 "metadata": {
  "kernelspec": {
   "display_name": "Python 3 (ipykernel)",
   "language": "python",
   "name": "python3"
  },
  "language_info": {
   "codemirror_mode": {
    "name": "ipython",
    "version": 3
   },
   "file_extension": ".py",
   "mimetype": "text/x-python",
   "name": "python",
   "nbconvert_exporter": "python",
   "pygments_lexer": "ipython3",
   "version": "3.11.11"
  }
 },
 "nbformat": 4,
 "nbformat_minor": 5
}
