{
 "cells": [
  {
   "cell_type": "markdown",
   "id": "c0bd4ac6-a050-4dad-b294-d7bd3bff1e05",
   "metadata": {},
   "source": [
    "## Agents and Tools"
   ]
  },
  {
   "cell_type": "code",
   "execution_count": 1,
   "id": "ab490b79-079e-471f-b788-9b848731c214",
   "metadata": {},
   "outputs": [],
   "source": [
    "# TODO: Complex QA\n",
    "# question = \"Who is the current leader of Japan? What is the largest prime number that is smaller than their age?\"\n",
    "# question = \"Find the current population of Japan and then multiply it by 2\""
   ]
  },
  {
   "cell_type": "code",
   "execution_count": 2,
   "id": "2b5d905c-5976-4d80-bb07-ad5830428806",
   "metadata": {},
   "outputs": [],
   "source": [
    "# !pip install langchain langchain-community langchain-openai python-dotenv google-search-results"
   ]
  },
  {
   "cell_type": "code",
   "execution_count": 3,
   "id": "294b591a-4865-4f5e-ae7c-07ef1424e094",
   "metadata": {},
   "outputs": [],
   "source": [
    "import os\n",
    "from dotenv import load_dotenv, find_dotenv\n",
    "_ = load_dotenv(find_dotenv())\n",
    "openai_api_key = os.environ[\"OPENAI_API_KEY\"]\n",
    "serpapi_api_key = os.environ[\"SERPAPI_API_KEY\"]\n",
    "\n",
    "MODEL = \"gpt-4o-mini\""
   ]
  },
  {
   "cell_type": "code",
   "execution_count": 4,
   "id": "07659243-3e19-451b-84ed-5749f8610f8c",
   "metadata": {},
   "outputs": [],
   "source": [
    "import os\n",
    "from typing import Dict, Any, List\n",
    "\n",
    "from dotenv import load_dotenv\n",
    "from langchain_core.messages import HumanMessage, AIMessage\n",
    "from langchain_core.prompts import ChatPromptTemplate\n",
    "from langchain_core.output_parsers import StrOutputParser\n",
    "from langchain_core.runnables import RunnablePassthrough, RunnableLambda\n",
    "from langchain_openai import ChatOpenAI\n",
    "\n",
    "# from langchain_community.tools.serpapi import SerpAPIWrapper\n",
    "# from langchain.tools import CalculatorTool"
   ]
  },
  {
   "cell_type": "markdown",
   "id": "32996951-201a-48cc-a3e6-674a1d85b8c8",
   "metadata": {},
   "source": [
    "### Define tool 'Calculator'"
   ]
  },
  {
   "cell_type": "code",
   "execution_count": 5,
   "id": "af0498fa-b35c-43c3-af8c-0230f546710a",
   "metadata": {},
   "outputs": [],
   "source": [
    "import math\n",
    "import numexpr\n",
    "\n",
    "def calculator(expression: str) -> str:\n",
    "    \"\"\"Calculate expression using Python's numexpr library.\n",
    "\n",
    "    Expression should be a single line mathematical expression\n",
    "    that solves the problem.\n",
    "\n",
    "    Examples:\n",
    "        \"37593 * 67\" for \"37593 times 67\"\n",
    "        \"37593**(1/5)\" for \"37593^(1/5)\"\n",
    "    \"\"\"\n",
    "    local_dict = {\"pi\": math.pi, \"e\": math.e}\n",
    "    return str(\n",
    "        numexpr.evaluate(\n",
    "            expression.strip(),\n",
    "            global_dict={},  # restrict access to globals\n",
    "            local_dict=local_dict,  # add common mathematical functions\n",
    "        )\n",
    "    )"
   ]
  },
  {
   "cell_type": "markdown",
   "id": "39eb6c08-6caf-4aef-ab89-79ce7d92f19b",
   "metadata": {},
   "source": [
    "### Define tool 'Web Search'"
   ]
  },
  {
   "cell_type": "code",
   "execution_count": 6,
   "id": "8923239b-bbbe-4a0c-8608-f3133c29a27d",
   "metadata": {},
   "outputs": [],
   "source": [
    "from langchain_community.utilities import SerpAPIWrapper\n",
    "\n",
    "def web_search(query: str) -> str:\n",
    "    \"\"\"Perform a web search using SerpAPI and return search results.\"\"\"\n",
    "    search = SerpAPIWrapper()\n",
    "    return search.run(query)"
   ]
  },
  {
   "cell_type": "markdown",
   "id": "d6471a98-a849-494a-bdb5-fa9a4f4bce26",
   "metadata": {},
   "source": [
    "### Create tools and Initialize agent"
   ]
  },
  {
   "cell_type": "code",
   "execution_count": 7,
   "id": "220a8565-ab2d-4f36-884b-3638dcf5d166",
   "metadata": {},
   "outputs": [
    {
     "name": "stderr",
     "output_type": "stream",
     "text": [
      "C:\\Users\\Pavel\\AppData\\Local\\Temp\\ipykernel_27372\\1935553255.py:18: LangChainDeprecationWarning: LangChain agents will continue to be supported, but it is recommended for new use cases to be built with LangGraph. LangGraph offers a more flexible and full-featured framework for building agents, including support for tool-calling, persistence of state, and human-in-the-loop workflows. See LangGraph documentation for more details: https://langchain-ai.github.io/langgraph/. Refer here for its pre-built ReAct agent: https://langchain-ai.github.io/langgraph/how-tos/create-react-agent/\n",
      "  agent = initialize_agent(tools, llm, agent=\"zero-shot-react-description\", verbose=True)\n"
     ]
    }
   ],
   "source": [
    "from langchain.agents import initialize_agent, Tool\n",
    "from langchain.tools import tool\n",
    "from langchain.llms import OpenAI\n",
    "from langchain_openai import ChatOpenAI\n",
    "import requests\n",
    "from sympy import prevprime\n",
    "\n",
    "# Create tools list\n",
    "tools = [\n",
    "    Tool(name=\"Web Search\", func=web_search, description=\"Searches the web for information.\"),\n",
    "    Tool(name=\"Calculator\", func=calculator, description=\"Evaluates mathematical expressions.\"),\n",
    "]\n",
    "\n",
    "# Initialize the agent\n",
    "# - Zero-shot means the agent functions on the current action only - it has no memory.\n",
    "#   It uses the ReAct framework to decide which tool to use, based solely on the tool's description.\n",
    "llm = ChatOpenAI(model=MODEL, temperature=0)\n",
    "agent = initialize_agent(tools, llm, agent=\"zero-shot-react-description\", verbose=True)"
   ]
  },
  {
   "cell_type": "markdown",
   "id": "ecf4f204-597e-4772-b577-00cf944a24fd",
   "metadata": {},
   "source": [
    "### QA without tool"
   ]
  },
  {
   "cell_type": "code",
   "execution_count": 8,
   "id": "b90c6dee-c41c-4f90-8618-d5d2014af616",
   "metadata": {},
   "outputs": [
    {
     "name": "stdout",
     "output_type": "stream",
     "text": [
      "\n",
      "\n",
      "\u001b[1m> Entering new AgentExecutor chain...\u001b[0m\n",
      "\u001b[32;1m\u001b[1;3mThe term \"easy-peasy\" is an informal expression used to describe something that is very easy or simple to do. It often conveys a sense of lightheartedness or playfulness. To provide a more detailed explanation, I might need to look up its origins or usage examples. \n",
      "\n",
      "Action: Web Search  \n",
      "Action Input: \"easy-peasy meaning and origin\"  \u001b[0m\n",
      "Observation: \u001b[36;1m\u001b[1;3mEasy peasy lemon squeezy is an elaboration on easy-peasy, likewise meaning “extremely easy or simple.” One of the earliest documented instances of easy-peasy appears in the 1940 American film The Long Voyage Home, used to advise a character to handle a suspicious box with care.\u001b[0m\n",
      "\u001b[32;1m\u001b[1;3mI have gathered information about the term \"easy-peasy,\" including its meaning and some historical context. \n",
      "\n",
      "Final Answer: The term \"easy-peasy\" is an informal expression meaning something that is very easy or simple to do. It is often used in a lighthearted or playful manner. The phrase \"easy peasy lemon squeezy\" is a variation that conveys the same meaning. One of the earliest documented uses of \"easy-peasy\" was in the 1940 American film \"The Long Voyage Home.\"\u001b[0m\n",
      "\n",
      "\u001b[1m> Finished chain.\u001b[0m\n",
      "{'input': \"Explain to me the word 'easy-peasy' briefly?\", 'output': 'The term \"easy-peasy\" is an informal expression meaning something that is very easy or simple to do. It is often used in a lighthearted or playful manner. The phrase \"easy peasy lemon squeezy\" is a variation that conveys the same meaning. One of the earliest documented uses of \"easy-peasy\" was in the 1940 American film \"The Long Voyage Home.\"'}\n",
      "The term \"easy-peasy\" is an informal expression meaning something that is very easy or simple to do. It is often used in a lighthearted or playful manner. The phrase \"easy peasy lemon squeezy\" is a variation that conveys the same meaning. One of the earliest documented uses of \"easy-peasy\" was in the 1940 American film \"The Long Voyage Home.\"\n"
     ]
    }
   ],
   "source": [
    "question = \"Explain to me the word 'easy-peasy' briefly?\"\n",
    "response = agent.invoke(question)\n",
    "print(response)\n",
    "print(response['output'])"
   ]
  },
  {
   "cell_type": "markdown",
   "id": "032c3b2d-346f-4fa2-a15a-fbedb08044bf",
   "metadata": {},
   "source": [
    "### QA wit tool 'Calculator'"
   ]
  },
  {
   "cell_type": "code",
   "execution_count": 9,
   "id": "417010f3-50b7-41fa-8861-dbbef53d47f4",
   "metadata": {},
   "outputs": [
    {
     "name": "stdout",
     "output_type": "stream",
     "text": [
      "\n",
      "\n",
      "\u001b[1m> Entering new AgentExecutor chain...\u001b[0m\n",
      "\u001b[32;1m\u001b[1;3mI need to calculate the product of 37593 and 67. \n",
      "Action: Calculator\n",
      "Action Input: 37593 * 67\u001b[0m\n",
      "Observation: \u001b[33;1m\u001b[1;3m2518731\u001b[0m\n",
      "\u001b[32;1m\u001b[1;3mI now know the final answer.  \n",
      "Final Answer: 2518731\u001b[0m\n",
      "\n",
      "\u001b[1m> Finished chain.\u001b[0m\n",
      "{'input': '37593 times 67', 'output': '2518731'}\n",
      "2518731\n"
     ]
    }
   ],
   "source": [
    "question = \"37593 times 67\"\n",
    "# question = \"37593**(1/5)\" for \"37593^(1/5)\"\n",
    "# question = \"What is 256 multiplied by 13, then divided by 4?\"\n",
    "response = agent.invoke(question)\n",
    "print(response)\n",
    "print(response['output'])"
   ]
  },
  {
   "cell_type": "markdown",
   "id": "2777a75d-b9df-4ae7-b9fc-850c39ccdc60",
   "metadata": {},
   "source": [
    "### QA wit tool 'Web Search'"
   ]
  },
  {
   "cell_type": "code",
   "execution_count": 10,
   "id": "ad7f8b89-e1f9-4d2d-93a0-711b452ff7fb",
   "metadata": {},
   "outputs": [
    {
     "name": "stdout",
     "output_type": "stream",
     "text": [
      "\n",
      "\n",
      "\u001b[1m> Entering new AgentExecutor chain...\u001b[0m\n",
      "\u001b[32;1m\u001b[1;3mI need to find out who the current leader of Japan is, which is likely the Prime Minister. I'll perform a web search to get the most up-to-date information.  \n",
      "Action: Web Search  \n",
      "Action Input: \"current Prime Minister of Japan 2023\"  \u001b[0m\n",
      "Observation: \u001b[36;1m\u001b[1;3m['Fumio Kishida type: Member of the House of Representatives of Japan.', 'Fumio Kishida kgmid: /m/03c7pxm.', 'Fumio Kishida born: 1957 (age 67 years), Shibuya, Tokyo, Japan.', 'Fumio Kishida office: Member of the House of Representatives of Japan since 1996.', 'Fumio Kishida party: Liberal Democratic Party.', 'Fumio Kishida children: Shotaro Kishida.', 'Fumio Kishida education: School of Law, Waseda University (1978–1982).', 'Fumio Kishida nationality: Japanese.', 'The current prime minister is Shigeru Ishiba, who succeeded Fumio Kishida on 1 October 2024, following the 2024 Liberal Democratic Party presidential election.', 'Fumio Kishida is a Japanese politician who served as Prime Minister of Japan and President of the Liberal Democratic Party (LDP) from 2021 to 2024.', 'Date of birth: July 29, 1957 ; Birthplace: Tokyo ; Political party: Liberal Democratic Party of Japan (LDP) ; Affiliation: Member of the House of Representatives ...', \"The official SNS accounts of the Prime Minister's Office provide information on important policies that the Cabinet is pursuing and information on the Prime ...\", \"Japan's parliament on Tuesday formally elected Shigeru Ishiba, head of the governing Liberal Democratic Party, as the country's new prime minister.\", \"Shigeru Ishiba's determination to lead Japan has never been in question, and now the veteran MP is poised to achieve that goal at the fifth time ...\", 'KISHIDA Yuko, the spouse of the Prime Minister of Japan, visited the White House for approximately 2 hours at the invitation of Dr. Jill Biden, the First Lady ...', \"#PMinAction: On February 28, 2025 Prime Minister Ishiba convened a ministerial meeting at the Prime Minister's Office regarding the forest fire in Ofunato, ...\", 'Fumio Kishida (born July 29, 1957, Tokyo, Japan) is a Japanese politician who served as leader of the Liberal-Democratic Party of Japan ...']\u001b[0m\n",
      "\u001b[32;1m\u001b[1;3mI have found that the current Prime Minister of Japan is Shigeru Ishiba, who took office on October 1, 2024, succeeding Fumio Kishida. \n",
      "\n",
      "Final Answer: The current leader of Japan is Shigeru Ishiba.\u001b[0m\n",
      "\n",
      "\u001b[1m> Finished chain.\u001b[0m\n",
      "{'input': 'Who is the current leader of Japan?', 'output': 'The current leader of Japan is Shigeru Ishiba.'}\n",
      "The current leader of Japan is Shigeru Ishiba.\n"
     ]
    }
   ],
   "source": [
    "question = \"Who is the current leader of Japan?\"\n",
    "# question = \"What is the latest breakthrough in AI?\"\n",
    "response = agent.invoke(question)\n",
    "print(response)\n",
    "print(response['output'])"
   ]
  },
  {
   "cell_type": "markdown",
   "id": "7da7a1c8-3093-42ca-be7f-9ee36125ad7e",
   "metadata": {},
   "source": [
    "### Complex QA"
   ]
  },
  {
   "cell_type": "code",
   "execution_count": 11,
   "id": "654c5370-f322-4edd-b146-b2c139c38729",
   "metadata": {},
   "outputs": [
    {
     "name": "stdout",
     "output_type": "stream",
     "text": [
      "\n",
      "\n",
      "\u001b[1m> Entering new AgentExecutor chain...\u001b[0m\n",
      "\u001b[32;1m\u001b[1;3mI need to find out who the current leader of Japan is and their age. I'll start by searching for the current Prime Minister of Japan. \n",
      "\n",
      "Action: Web Search  \n",
      "Action Input: \"current Prime Minister of Japan 2023\"  \u001b[0m\n",
      "Observation: \u001b[36;1m\u001b[1;3m['Fumio Kishida type: Member of the House of Representatives of Japan.', 'Fumio Kishida kgmid: /m/03c7pxm.', 'Fumio Kishida born: 1957 (age 67 years), Shibuya, Tokyo, Japan.', 'Fumio Kishida office: Member of the House of Representatives of Japan since 1996.', 'Fumio Kishida party: Liberal Democratic Party.', 'Fumio Kishida children: Shotaro Kishida.', 'Fumio Kishida education: School of Law, Waseda University (1978–1982).', 'Fumio Kishida nationality: Japanese.', 'The current prime minister is Shigeru Ishiba, who succeeded Fumio Kishida on 1 October 2024, following the 2024 Liberal Democratic Party presidential election.', 'Fumio Kishida is a Japanese politician who served as Prime Minister of Japan and President of the Liberal Democratic Party (LDP) from 2021 to 2024.', 'Date of birth: July 29, 1957 ; Birthplace: Tokyo ; Political party: Liberal Democratic Party of Japan (LDP) ; Affiliation: Member of the House of Representatives ...', \"The official SNS accounts of the Prime Minister's Office provide information on important policies that the Cabinet is pursuing and information on the Prime ...\", \"Japan's parliament on Tuesday formally elected Shigeru Ishiba, head of the governing Liberal Democratic Party, as the country's new prime minister.\", \"Shigeru Ishiba's determination to lead Japan has never been in question, and now the veteran MP is poised to achieve that goal at the fifth time ...\", 'KISHIDA Yuko, the spouse of the Prime Minister of Japan, visited the White House for approximately 2 hours at the invitation of Dr. Jill Biden, the First Lady ...', \"#PMinAction: On February 28, 2025 Prime Minister Ishiba convened a ministerial meeting at the Prime Minister's Office regarding the forest fire in Ofunato, ...\", 'Fumio Kishida (born July 29, 1957, Tokyo, Japan) is a Japanese politician who served as leader of the Liberal-Democratic Party of Japan ...']\u001b[0m\n",
      "\u001b[32;1m\u001b[1;3mI found that Fumio Kishida was the Prime Minister of Japan until October 1, 2024, when Shigeru Ishiba took over. Fumio Kishida was born on July 29, 1957, which makes him 67 years old as of now. However, I need to confirm the current Prime Minister's age since the search results indicate a transition in leadership.\n",
      "\n",
      "Action: Web Search  \n",
      "Action Input: \"Shigeru Ishiba date of birth\"  \u001b[0m\n",
      "Observation: \u001b[36;1m\u001b[1;3mFebruary 4, 1957\u001b[0m\n",
      "\u001b[32;1m\u001b[1;3mShigeru Ishiba was born on February 4, 1957, which means he is currently 67 years old. \n",
      "\n",
      "Final Answer: The current leader of Japan is Shigeru Ishiba, and he is 67 years old.\u001b[0m\n",
      "\n",
      "\u001b[1m> Finished chain.\u001b[0m\n",
      "{'input': 'Who is the current leader of Japan? How old is?', 'output': 'The current leader of Japan is Shigeru Ishiba, and he is 67 years old.'}\n",
      "The current leader of Japan is Shigeru Ishiba, and he is 67 years old.\n"
     ]
    }
   ],
   "source": [
    "question = \"Who is the current leader of Japan? How old is?\"\n",
    "# question = \"Who is the current leader of Japan? What is the largest prime number that is smaller than their age?\"\n",
    "# question = \"Find the current population of Japan and then multiply it by 2\"\n",
    "response = agent.invoke(question)\n",
    "print(response)\n",
    "print(response['output'])"
   ]
  },
  {
   "cell_type": "markdown",
   "id": "29888d87-f152-4b14-871c-a32416ffb789",
   "metadata": {},
   "source": [
    "## Links"
   ]
  },
  {
   "cell_type": "markdown",
   "id": "eabf8981-9ad6-49d8-954f-ae8034fd1f81",
   "metadata": {},
   "source": [
    "### ReAct (Create agent that uses ReAct prompting)"
   ]
  },
  {
   "cell_type": "code",
   "execution_count": 12,
   "id": "87ca27a5-8994-4079-a406-256db9df35c2",
   "metadata": {},
   "outputs": [],
   "source": [
    "# https://python.langchain.com/v0.1/docs/modules/agents/agent_types/react/\n",
    "# https://api.python.langchain.com/en/latest/agents/langchain.agents.react.agent.create_react_agent.html"
   ]
  },
  {
   "cell_type": "markdown",
   "id": "f4c92713-6c6d-4d95-972c-cdc425c6b5c6",
   "metadata": {},
   "source": [
    "### How to migrate from legacy LangChain agents to LangGraph"
   ]
  },
  {
   "cell_type": "code",
   "execution_count": 13,
   "id": "0443d328-7b1f-4787-a179-8b0655de2862",
   "metadata": {},
   "outputs": [],
   "source": [
    "# https://python.langchain.com/docs/how_to/migrate_agent/"
   ]
  }
 ],
 "metadata": {
  "kernelspec": {
   "display_name": "Python 3 (ipykernel)",
   "language": "python",
   "name": "python3"
  },
  "language_info": {
   "codemirror_mode": {
    "name": "ipython",
    "version": 3
   },
   "file_extension": ".py",
   "mimetype": "text/x-python",
   "name": "python",
   "nbconvert_exporter": "python",
   "pygments_lexer": "ipython3",
   "version": "3.11.11"
  }
 },
 "nbformat": 4,
 "nbformat_minor": 5
}
