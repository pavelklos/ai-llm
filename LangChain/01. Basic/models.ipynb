{
 "cells": [
  {
   "cell_type": "code",
   "execution_count": 1,
   "id": "70e7ed53-d278-4529-b4fe-c817ac7c2e27",
   "metadata": {},
   "outputs": [],
   "source": [
    "import os\n",
    "from dotenv import load_dotenv, find_dotenv\n",
    "_ = load_dotenv(find_dotenv())\n",
    "openai_api_key = os.environ[\"OPENAI_API_KEY\"]"
   ]
  },
  {
   "cell_type": "code",
   "execution_count": 2,
   "id": "60a1eb0e-2eb4-4c5a-a791-aec5a88aec32",
   "metadata": {},
   "outputs": [],
   "source": [
    "from langchain_openai import OpenAI"
   ]
  },
  {
   "cell_type": "code",
   "execution_count": 3,
   "id": "48d40937-4f04-461d-88f9-2a974b6264f3",
   "metadata": {},
   "outputs": [],
   "source": [
    "my_llm = OpenAI()"
   ]
  },
  {
   "cell_type": "code",
   "execution_count": 4,
   "id": "f305167d-41c6-4a16-970e-2704d4ad95ed",
   "metadata": {},
   "outputs": [],
   "source": [
    "question = \"Name the most popular 4 U.S. presidents\""
   ]
  },
  {
   "cell_type": "code",
   "execution_count": 5,
   "id": "9e4c8210-94ff-499a-9600-8f702fe2c1aa",
   "metadata": {},
   "outputs": [
    {
     "name": "stderr",
     "output_type": "stream",
     "text": [
      "C:\\Users\\Pavel\\AppData\\Local\\Temp\\ipykernel_17368\\3307927262.py:1: LangChainDeprecationWarning: The method `BaseLLM.__call__` was deprecated in langchain-core 0.1.7 and will be removed in 1.0. Use :meth:`~invoke` instead.\n",
      "  response = my_llm(question)\n"
     ]
    }
   ],
   "source": [
    "response = my_llm(question)"
   ]
  },
  {
   "cell_type": "code",
   "execution_count": 6,
   "id": "cc5ff391-5cf6-44c3-ab78-a315b7c67635",
   "metadata": {},
   "outputs": [
    {
     "name": "stdout",
     "output_type": "stream",
     "text": [
      "\n",
      "\n",
      "1. George Washington\n",
      "2. Abraham Lincoln\n",
      "3. Franklin D. Roosevelt\n",
      "4. John F. Kennedy\n"
     ]
    }
   ],
   "source": [
    "print(response)"
   ]
  },
  {
   "cell_type": "code",
   "execution_count": 7,
   "id": "78aa4af7-ea39-42fd-8f30-ee96e4c47620",
   "metadata": {},
   "outputs": [
    {
     "name": "stdout",
     "output_type": "stream",
     "text": [
      "<class 'str'>\n"
     ]
    }
   ],
   "source": [
    "print(type(response))"
   ]
  },
  {
   "cell_type": "code",
   "execution_count": 8,
   "id": "df12c8c3-b182-4f6a-90b3-03a5e2690579",
   "metadata": {},
   "outputs": [
    {
     "name": "stderr",
     "output_type": "stream",
     "text": [
      "C:\\Users\\Pavel\\AppData\\Local\\Temp\\ipykernel_17368\\211939971.py:1: LangChainDeprecationWarning: The method `BaseLLM.predict` was deprecated in langchain-core 0.1.7 and will be removed in 1.0. Use :meth:`~invoke` instead.\n",
      "  response_variation_1 = my_llm.predict(question)\n"
     ]
    }
   ],
   "source": [
    "response_variation_1 = my_llm.predict(question)"
   ]
  },
  {
   "cell_type": "code",
   "execution_count": 9,
   "id": "062822e2-2a12-45d2-8008-f2cdb08a9406",
   "metadata": {},
   "outputs": [],
   "source": [
    "response_variation_2 = my_llm.invoke(question)"
   ]
  },
  {
   "cell_type": "code",
   "execution_count": 10,
   "id": "544cc1dc-cbc2-4cf9-b635-492c9d672625",
   "metadata": {},
   "outputs": [
    {
     "name": "stdout",
     "output_type": "stream",
     "text": [
      " (in no particular order)\n",
      "\n",
      "1. George Washington\n",
      "2. Abraham Lincoln\n",
      "3. Franklin D. Roosevelt\n",
      "4. John F. Kennedy\n"
     ]
    }
   ],
   "source": [
    "print(response_variation_1)"
   ]
  },
  {
   "cell_type": "code",
   "execution_count": 11,
   "id": "74122383-c48f-4bf7-8163-41b5df0496b1",
   "metadata": {},
   "outputs": [
    {
     "name": "stdout",
     "output_type": "stream",
     "text": [
      "\n",
      "\n",
      "1. George Washington\n",
      "2. Abraham Lincoln\n",
      "3. Franklin D. Roosevelt\n",
      "4. John F. Kennedy\n"
     ]
    }
   ],
   "source": [
    "print(response_variation_2)"
   ]
  },
  {
   "cell_type": "code",
   "execution_count": 12,
   "id": "d94e725f-f380-4efc-8717-c27e095ad73b",
   "metadata": {},
   "outputs": [],
   "source": [
    "from langchain_openai import ChatOpenAI\n",
    "from langchain.schema import HumanMessage, SystemMessage"
   ]
  },
  {
   "cell_type": "code",
   "execution_count": 13,
   "id": "9c88000e-df39-4ff4-a0ae-cb7178664126",
   "metadata": {},
   "outputs": [],
   "source": [
    "my_chat = ChatOpenAI()"
   ]
  },
  {
   "cell_type": "code",
   "execution_count": 14,
   "id": "b1cbb627-1f41-4760-a9bf-fb6928f16c99",
   "metadata": {},
   "outputs": [],
   "source": [
    "chat_question = [\n",
    "    SystemMessage(\n",
    "        content=\"You are a helpful and concise assistant\"\n",
    "    ),\n",
    "    HumanMessage(\n",
    "        content=\"Name the most popular 4 U.S. First Ladies\"\n",
    "    )\n",
    "]"
   ]
  },
  {
   "cell_type": "code",
   "execution_count": 15,
   "id": "7ae1e204-c459-4818-83e4-0c0d50c6acd3",
   "metadata": {},
   "outputs": [
    {
     "name": "stderr",
     "output_type": "stream",
     "text": [
      "C:\\Users\\Pavel\\AppData\\Local\\Temp\\ipykernel_17368\\4060319197.py:1: LangChainDeprecationWarning: The method `BaseChatModel.__call__` was deprecated in langchain-core 0.1.7 and will be removed in 1.0. Use :meth:`~invoke` instead.\n",
      "  chat_response = my_chat(chat_question)\n"
     ]
    }
   ],
   "source": [
    "chat_response = my_chat(chat_question)"
   ]
  },
  {
   "cell_type": "code",
   "execution_count": 16,
   "id": "cafaa8c7-2efb-4761-bee2-33bfeb0771f2",
   "metadata": {},
   "outputs": [
    {
     "name": "stdout",
     "output_type": "stream",
     "text": [
      "content='The most popular U.S. First Ladies in history are typically considered to be Eleanor Roosevelt, Jacqueline Kennedy Onassis, Michelle Obama, and Hillary Clinton.' additional_kwargs={'refusal': None} response_metadata={'token_usage': {'completion_tokens': 31, 'prompt_tokens': 29, 'total_tokens': 60, 'completion_tokens_details': {'accepted_prediction_tokens': 0, 'audio_tokens': 0, 'reasoning_tokens': 0, 'rejected_prediction_tokens': 0}, 'prompt_tokens_details': {'audio_tokens': 0, 'cached_tokens': 0}}, 'model_name': 'gpt-3.5-turbo-0125', 'system_fingerprint': None, 'finish_reason': 'stop', 'logprobs': None} id='run-b35e4e5d-6197-41d0-b56b-703ab6477261-0' usage_metadata={'input_tokens': 29, 'output_tokens': 31, 'total_tokens': 60, 'input_token_details': {'audio': 0, 'cache_read': 0}, 'output_token_details': {'audio': 0, 'reasoning': 0}}\n"
     ]
    }
   ],
   "source": [
    "print(chat_response)"
   ]
  },
  {
   "cell_type": "code",
   "execution_count": 17,
   "id": "8aeb9092-69f0-4f3c-9c24-96a09c333934",
   "metadata": {},
   "outputs": [
    {
     "name": "stdout",
     "output_type": "stream",
     "text": [
      "<class 'langchain_core.messages.ai.AIMessage'>\n"
     ]
    }
   ],
   "source": [
    "print(type(chat_response))"
   ]
  },
  {
   "cell_type": "code",
   "execution_count": 18,
   "id": "4602f560-374e-4468-8918-16a1e62b8506",
   "metadata": {},
   "outputs": [
    {
     "name": "stdout",
     "output_type": "stream",
     "text": [
      "The most popular U.S. First Ladies in history are typically considered to be Eleanor Roosevelt, Jacqueline Kennedy Onassis, Michelle Obama, and Hillary Clinton.\n"
     ]
    }
   ],
   "source": [
    "print(chat_response.content)"
   ]
  },
  {
   "cell_type": "code",
   "execution_count": 19,
   "id": "c1514048-9527-4ccd-a466-3765a611181e",
   "metadata": {},
   "outputs": [
    {
     "name": "stderr",
     "output_type": "stream",
     "text": [
      "C:\\Users\\Pavel\\AppData\\Local\\Temp\\ipykernel_17368\\3766295751.py:1: LangChainDeprecationWarning: The method `BaseChatModel.predict_messages` was deprecated in langchain-core 0.1.7 and will be removed in 1.0. Use :meth:`~invoke` instead.\n",
      "  chat_response_variation_1 = my_chat.predict_messages(chat_question)\n"
     ]
    }
   ],
   "source": [
    "chat_response_variation_1 = my_chat.predict_messages(chat_question)"
   ]
  },
  {
   "cell_type": "code",
   "execution_count": 20,
   "id": "b56b3033-7e3a-4264-84e2-f7c06f3fed2a",
   "metadata": {},
   "outputs": [],
   "source": [
    "chat_response_variation_2 = my_chat.invoke(chat_question)"
   ]
  },
  {
   "cell_type": "code",
   "execution_count": 21,
   "id": "b2c268b5-1c89-4d9b-bd41-6617479ce568",
   "metadata": {},
   "outputs": [
    {
     "name": "stdout",
     "output_type": "stream",
     "text": [
      "content='The most popular First Ladies in U.S. history are typically considered to be Eleanor Roosevelt, Jacqueline Kennedy Onassis, Michelle Obama, and Barbara Bush.' additional_kwargs={'refusal': None} response_metadata={'token_usage': {'completion_tokens': 31, 'prompt_tokens': 29, 'total_tokens': 60, 'completion_tokens_details': {'accepted_prediction_tokens': 0, 'audio_tokens': 0, 'reasoning_tokens': 0, 'rejected_prediction_tokens': 0}, 'prompt_tokens_details': {'audio_tokens': 0, 'cached_tokens': 0}}, 'model_name': 'gpt-3.5-turbo-0125', 'system_fingerprint': None, 'finish_reason': 'stop', 'logprobs': None} id='run-6d420a06-2a6b-4827-b1c9-93bd9f4f5707-0' usage_metadata={'input_tokens': 29, 'output_tokens': 31, 'total_tokens': 60, 'input_token_details': {'audio': 0, 'cache_read': 0}, 'output_token_details': {'audio': 0, 'reasoning': 0}}\n"
     ]
    }
   ],
   "source": [
    "print(chat_response_variation_1)"
   ]
  },
  {
   "cell_type": "code",
   "execution_count": 22,
   "id": "ca73d7f5-43b0-44fe-bf3e-207e0d290f69",
   "metadata": {},
   "outputs": [
    {
     "name": "stdout",
     "output_type": "stream",
     "text": [
      "content='The most popular U.S. First Ladies, based on historical and public opinion polls, are typically considered to be Eleanor Roosevelt, Jacqueline Kennedy, Michelle Obama, and Barbara Bush.' additional_kwargs={'refusal': None} response_metadata={'token_usage': {'completion_tokens': 36, 'prompt_tokens': 29, 'total_tokens': 65, 'completion_tokens_details': {'accepted_prediction_tokens': 0, 'audio_tokens': 0, 'reasoning_tokens': 0, 'rejected_prediction_tokens': 0}, 'prompt_tokens_details': {'audio_tokens': 0, 'cached_tokens': 0}}, 'model_name': 'gpt-3.5-turbo-0125', 'system_fingerprint': None, 'finish_reason': 'stop', 'logprobs': None} id='run-b0fbb7c1-d618-4419-aea6-3f140f136aea-0' usage_metadata={'input_tokens': 29, 'output_tokens': 36, 'total_tokens': 65, 'input_token_details': {'audio': 0, 'cache_read': 0}, 'output_token_details': {'audio': 0, 'reasoning': 0}}\n"
     ]
    }
   ],
   "source": [
    "print(chat_response_variation_2)"
   ]
  }
 ],
 "metadata": {
  "kernelspec": {
   "display_name": "Python 3 (ipykernel)",
   "language": "python",
   "name": "python3"
  },
  "language_info": {
   "codemirror_mode": {
    "name": "ipython",
    "version": 3
   },
   "file_extension": ".py",
   "mimetype": "text/x-python",
   "name": "python",
   "nbconvert_exporter": "python",
   "pygments_lexer": "ipython3",
   "version": "3.11.11"
  }
 },
 "nbformat": 4,
 "nbformat_minor": 5
}
