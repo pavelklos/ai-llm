{
 "cells": [
  {
   "cell_type": "code",
   "execution_count": 1,
   "id": "6b808a56-8cec-4e47-96a0-0ea21e87c8c2",
   "metadata": {},
   "outputs": [],
   "source": [
    "# !pip install pypdf\n",
    "# !pip install yt_dlp\n",
    "# !pip install pydub\n",
    "# !pip install openai-whisper\n",
    "# !pip install unstructured\n",
    "# !pip install beautifulsoup4"
   ]
  },
  {
   "cell_type": "code",
   "execution_count": 2,
   "id": "611b1174-f956-47da-8d25-c991ed945473",
   "metadata": {},
   "outputs": [],
   "source": [
    "import os\n",
    "from dotenv import load_dotenv, find_dotenv\n",
    "_ = load_dotenv(find_dotenv())\n",
    "openai_api_key = os.environ[\"OPENAI_API_KEY\"]"
   ]
  },
  {
   "cell_type": "code",
   "execution_count": 3,
   "id": "307b3024-590a-41cc-94b7-68fab6389905",
   "metadata": {},
   "outputs": [
    {
     "name": "stdout",
     "output_type": "stream",
     "text": [
      "DefaultLangchainUserAgent\n"
     ]
    }
   ],
   "source": [
    "def get_user_agent() -> str:\n",
    "    \"\"\"Get user agent from environment variable.\"\"\"\n",
    "    env_user_agent = os.environ.get(\"USER_AGENT\")\n",
    "    if not env_user_agent:\n",
    "        log.warning(\n",
    "            \"USER_AGENT environment variable not set, \"\n",
    "            \"consider setting it to identify your requests.\"\n",
    "        )\n",
    "        return \"DefaultLangchainUserAgent\"\n",
    "    return env_user_agent\n",
    "\n",
    "print(get_user_agent())"
   ]
  },
  {
   "cell_type": "markdown",
   "id": "4eedf0e6-0a42-4c10-b3a2-b96542aee6bf",
   "metadata": {},
   "source": [
    "### Find project root by specific file, folder"
   ]
  },
  {
   "cell_type": "code",
   "execution_count": 4,
   "id": "f6f8cb8c-eb24-45e7-8d63-8035f3bf1be1",
   "metadata": {},
   "outputs": [
    {
     "name": "stdout",
     "output_type": "stream",
     "text": [
      "C:\\Users\\Pavel\\projects\\ai-llm\\LangChain\\01. Basic\n"
     ]
    }
   ],
   "source": [
    "import os\n",
    "\n",
    "print(os.getcwd())"
   ]
  },
  {
   "cell_type": "code",
   "execution_count": 5,
   "id": "c0488e97-770d-4d54-8385-81ea662ccabe",
   "metadata": {},
   "outputs": [
    {
     "name": "stdout",
     "output_type": "stream",
     "text": [
      "C:\\Users\\Pavel\\projects\\ai-llm\n"
     ]
    }
   ],
   "source": [
    "from pathlib import Path\n",
    "\n",
    "# def find_project_root(filename=\"data\"):  # existing folder\n",
    "def find_project_root(filename=\"requirements.txt\"):  # existing file\n",
    "    path = Path().resolve()\n",
    "    while path != path.root:\n",
    "        if (path / filename).exists():\n",
    "            return path\n",
    "        path = path.parent  # Move up one level\n",
    "    return None  # Return None if not found\n",
    "\n",
    "root_dir = find_project_root()\n",
    "print(root_dir)"
   ]
  },
  {
   "cell_type": "code",
   "execution_count": 6,
   "id": "27fef239-cd69-4c4f-aeef-166e94b1b31e",
   "metadata": {},
   "outputs": [
    {
     "name": "stdout",
     "output_type": "stream",
     "text": [
      "C:\\Users\\Pavel\\projects\\ai-llm\\data\\5pages.pdf\n",
      "C:\\Users\\Pavel\\projects\\ai-llm\\data\\_100 AI Startups__ 100 LLM Apps that have earned $500,000 before their first year of existence.html\n",
      "https://www.youtube.com/watch?v=Rb9Bpw8yvTg\n",
      "https://aiaccelera.com/100-ai-startups-100-llm-apps-that-have-earned-500000-before-their-first-year-of-existence/\n",
      "https://aiaccelera.com/generative-ai-consulting-for-businesses/\n",
      "C:\\Users\\Pavel\\projects\\ai-llm\\data\\youtube\n",
      "C:\\Users\\Pavel\\projects\\ai-llm\\data\\youtube\\audio4.mp3\n"
     ]
    }
   ],
   "source": [
    "import os\n",
    "\n",
    "# PATH_PDF = 'data/5pages.pdf'\n",
    "# PATH_PDF = '../../data/5pages.pdf'\n",
    "PATH_PDF = os.path.join(root_dir, 'data', '5pages.pdf')\n",
    "\n",
    "# PATH_HTML = 'data/_100 AI Startups__ 100 LLM Apps that have earned $500,000 before their first year of existence.html'\n",
    "# PATH_HTML = '../../data/_100 AI Startups__ 100 LLM Apps that have earned $500,000 before their first year of existence.html'\n",
    "PATH_HTML = os.path.join(root_dir, 'data', '_100 AI Startups__ 100 LLM Apps that have earned $500,000 before their first year of existence.html')\n",
    "\n",
    "# [AI Accelera]\n",
    "URL_YOUTUBE = 'https://www.youtube.com/watch?v=Rb9Bpw8yvTg'  # LLM Apps: Overcoming the Context Window limits\n",
    "URL_AIACCELERA_1 = 'https://aiaccelera.com/100-ai-startups-100-llm-apps-that-have-earned-500000-before-their-first-year-of-existence/'\n",
    "URL_AIACCELERA_2 = 'https://aiaccelera.com/generative-ai-consulting-for-businesses/'\n",
    "# URL_AIACCELERA_2 = 'https://aiaccelera.com/ai-consulting-for-businesses/'  # Page Not Found: 404\n",
    "\n",
    "SAVE_DIR = os.path.join(root_dir, 'data', 'youtube')\n",
    "SAVE_DIR_AUDIO_FILE = os.path.join(root_dir, 'data', 'youtube', 'audio4.mp3')\n",
    "\n",
    "print(PATH_PDF)\n",
    "print(PATH_HTML)\n",
    "print(URL_YOUTUBE)\n",
    "print(URL_AIACCELERA_1)\n",
    "print(URL_AIACCELERA_2)\n",
    "print(SAVE_DIR)\n",
    "print(SAVE_DIR_AUDIO_FILE)"
   ]
  },
  {
   "cell_type": "markdown",
   "id": "1661660b-7088-472e-ab43-da66d4cdccd4",
   "metadata": {},
   "source": [
    "## Loading PDF documents"
   ]
  },
  {
   "cell_type": "code",
   "execution_count": 7,
   "id": "7f728ffb-2e07-4ba1-8a7b-5039b8ddec9c",
   "metadata": {},
   "outputs": [],
   "source": [
    "# !pip install pypdf"
   ]
  },
  {
   "cell_type": "code",
   "execution_count": 8,
   "id": "68a4a36d-560f-445c-9f5e-b727e5420848",
   "metadata": {},
   "outputs": [],
   "source": [
    "from langchain.document_loaders import PyPDFLoader\n",
    "# loader = PyPDFLoader(\"data/5pages.pdf\")\n",
    "loader = PyPDFLoader(PATH_PDF)\n",
    "pages = loader.load()"
   ]
  },
  {
   "cell_type": "code",
   "execution_count": 9,
   "id": "a6862dae-a147-4611-bade-e9d20e0b53e6",
   "metadata": {},
   "outputs": [
    {
     "data": {
      "text/plain": [
       "4"
      ]
     },
     "execution_count": 9,
     "metadata": {},
     "output_type": "execute_result"
    }
   ],
   "source": [
    "len(pages)"
   ]
  },
  {
   "cell_type": "code",
   "execution_count": 10,
   "id": "b4d834db-06fd-41ad-8b19-361fe2cf5a3b",
   "metadata": {},
   "outputs": [],
   "source": [
    "page = pages[0]"
   ]
  },
  {
   "cell_type": "code",
   "execution_count": 11,
   "id": "4c0517db-4f09-409b-889b-2b278e3f3ea8",
   "metadata": {},
   "outputs": [
    {
     "name": "stdout",
     "output_type": "stream",
     "text": [
      "Page 1 of 4 \n",
      "PDF Files \n",
      "Scan – Create – Reduce File Size  \n",
      " \n",
      " \n",
      "It is recommended that you purchase an Adobe Acrobat product that \n",
      "allows you to read, create and manipulate PDF documents.  Go to \n",
      "http://www.adobe.com/products/acrobat/matrix.html to compare \n",
      "Adobe products and features –Adobe Acrobat Standard is sufficient. \n",
      " \n",
      " \n",
      "Scanning Documents \n",
      " \n",
      "You should only have to scan documents that are not electronic, and \n",
      "when you are unable to create a PDF using PDFMaker or the Print \n",
      "Command from th\n"
     ]
    }
   ],
   "source": [
    "print(page.page_content[0:500])"
   ]
  },
  {
   "cell_type": "code",
   "execution_count": 12,
   "id": "9b52afe1-18f8-48f0-805f-baa0ea6794e5",
   "metadata": {},
   "outputs": [
    {
     "data": {
      "text/plain": [
       "{'source': 'C:\\\\Users\\\\Pavel\\\\projects\\\\ai-llm\\\\data\\\\5pages.pdf', 'page': 0}"
      ]
     },
     "execution_count": 12,
     "metadata": {},
     "output_type": "execute_result"
    }
   ],
   "source": [
    "page.metadata"
   ]
  },
  {
   "cell_type": "markdown",
   "id": "c26ae0a8-1010-4819-9555-eab30da08d58",
   "metadata": {},
   "source": [
    "## Loading YouTube Audio"
   ]
  },
  {
   "cell_type": "code",
   "execution_count": 13,
   "id": "cf57c5a9-2489-4b3b-9a85-6eb08172092d",
   "metadata": {},
   "outputs": [],
   "source": [
    "#from langchain.document_loaders.generic import GenericLoader\n",
    "#from langchain.document_loaders.parsers import OpenAIWhisperParser\n",
    "#from langchain.document_loaders.blob_loaders.youtube_audio import YoutubeAudioLoader\n",
    "from langchain_community.document_loaders.generic import GenericLoader\n",
    "from langchain_community.document_loaders.parsers import OpenAIWhisperParser\n",
    "from langchain_community.document_loaders.blob_loaders.youtube_audio import YoutubeAudioLoader"
   ]
  },
  {
   "cell_type": "code",
   "execution_count": 14,
   "id": "960cae84",
   "metadata": {},
   "outputs": [],
   "source": [
    "# !pip install yt_dlp\n",
    "# !pip install pydub\n",
    "# !pip install openai-whisper"
   ]
  },
  {
   "cell_type": "code",
   "execution_count": 15,
   "id": "0a63962a-e42a-482b-8b2f-afd4c5a1b9b8",
   "metadata": {},
   "outputs": [
    {
     "name": "stdout",
     "output_type": "stream",
     "text": [
      "C:\\Users\\Pavel\\projects\\ai-llm\\data\\youtube\n",
      "C:\\Users\\Pavel\\projects\\ai-llm\\data\\youtube\\audio4\n",
      "[youtube] Extracting URL: https://www.youtube.com/watch?v=Rb9Bpw8yvTg\n",
      "[youtube] Rb9Bpw8yvTg: Downloading webpage\n",
      "[youtube] Rb9Bpw8yvTg: Downloading tv client config\n",
      "[youtube] Rb9Bpw8yvTg: Downloading player f6e09c70\n",
      "[youtube] Rb9Bpw8yvTg: Downloading tv player API JSON\n",
      "[youtube] Rb9Bpw8yvTg: Downloading ios player API JSON\n",
      "[youtube] Rb9Bpw8yvTg: Downloading m3u8 information\n",
      "[info] Rb9Bpw8yvTg: Downloading 1 format(s): 251\n",
      "[download] Destination: C:\\Users\\Pavel\\projects\\ai-llm\\data\\youtube\\audio4\n",
      "[download] 100% of    1.48MiB in 00:00:00 at 8.76MiB/s   \n",
      "[ExtractAudio] Destination: C:\\Users\\Pavel\\projects\\ai-llm\\data\\youtube\\audio4.mp3\n",
      "Deleting original file C:\\Users\\Pavel\\projects\\ai-llm\\data\\youtube\\audio4 (pass -k to keep)\n"
     ]
    }
   ],
   "source": [
    "import os\n",
    "from yt_dlp import YoutubeDL\n",
    "import whisper\n",
    "\n",
    "# url = \"https://www.youtube.com/watch?v=Rb9Bpw8yvTg\"\n",
    "url = URL_YOUTUBE\n",
    "# save_dir = \"data/youtube/\"\n",
    "# audio_file = os.path.join(save_dir, \"audio4.mp3\")\n",
    "save_dir = SAVE_DIR\n",
    "audio_file = os.path.join(SAVE_DIR, \"audio4\")\n",
    "\n",
    "print(save_dir)\n",
    "print(audio_file)\n",
    "\n",
    "os.makedirs(save_dir, exist_ok=True)\n",
    "\n",
    "def download_audio(url, save_path):\n",
    "    ydl_opts = {\n",
    "        'format': 'bestaudio/best',\n",
    "        'outtmpl': save_path,\n",
    "        'postprocessors': [{\n",
    "            'key': 'FFmpegExtractAudio',\n",
    "            'preferredcodec': 'mp3',\n",
    "            'preferredquality': '192',\n",
    "        }],\n",
    "    }\n",
    "\n",
    "    with YoutubeDL(ydl_opts) as ydl:\n",
    "        ydl.download([url])\n",
    "\n",
    "download_audio(url, audio_file)\n",
    "\n",
    "# def transcribe_audio(audio_path):\n",
    "#     model = whisper.load_model(\"base\")\n",
    "#     result = model.transcribe(audio_path)\n",
    "#     return result['text']\n",
    "\n",
    "# # transcription = transcribe_audio(\"data/youtube/audio4.mp3\")\n",
    "# transcription = transcribe_audio(SAVE_DIR_AUDIO_FILE)\n",
    "# print(transcription)\n"
   ]
  },
  {
   "cell_type": "code",
   "execution_count": 16,
   "id": "63f5f5c5-2d03-4001-8653-1857c0ea0210",
   "metadata": {},
   "outputs": [
    {
     "name": "stdout",
     "output_type": "stream",
     "text": [
      "[youtube] Extracting URL: https://www.youtube.com/watch?v=Rb9Bpw8yvTg\n",
      "[youtube] Rb9Bpw8yvTg: Downloading webpage\n",
      "[youtube] Rb9Bpw8yvTg: Downloading tv client config\n",
      "[youtube] Rb9Bpw8yvTg: Downloading player f6e09c70\n",
      "[youtube] Rb9Bpw8yvTg: Downloading tv player API JSON\n",
      "[youtube] Rb9Bpw8yvTg: Downloading ios player API JSON\n",
      "[youtube] Rb9Bpw8yvTg: Downloading m3u8 information\n",
      "[info] Rb9Bpw8yvTg: Downloading 1 format(s): 140\n",
      "[download] Destination: C:\\Users\\Pavel\\projects\\ai-llm\\data\\youtube\\LLM Apps： Overcoming the Context Window limits.m4a\n",
      "[download] 100% of    1.86MiB in 00:00:00 at 10.78MiB/s  \n",
      "[FixupM4a] Correcting container of \"C:\\Users\\Pavel\\projects\\ai-llm\\data\\youtube\\LLM Apps： Overcoming the Context Window limits.m4a\"\n",
      "[ExtractAudio] Not converting audio C:\\Users\\Pavel\\projects\\ai-llm\\data\\youtube\\LLM Apps： Overcoming the Context Window limits.m4a; file is already in target format m4a\n",
      "Transcribing part 1!\n"
     ]
    }
   ],
   "source": [
    "# url=\"https://www.youtube.com/watch?v=Rb9Bpw8yvTg\"\n",
    "url=URL_YOUTUBE\n",
    "# save_dir=\"data/youtube/\"\n",
    "save_dir=SAVE_DIR\n",
    "loader = GenericLoader(\n",
    "    YoutubeAudioLoader([url],save_dir),\n",
    "    OpenAIWhisperParser()\n",
    ")\n",
    "docs = loader.load()"
   ]
  },
  {
   "cell_type": "code",
   "execution_count": 17,
   "id": "1704a55f-aab7-4992-81d5-d2fe2bf5b701",
   "metadata": {},
   "outputs": [
    {
     "data": {
      "text/plain": [
       "'How to overcome the context window limits? Remember that the context window is the maximum size of the context that we can give to an LLM. For example, an LLM like ChatGPT has the following context windows. The 3.5 model, the free model, supports a context window of up to 4096 tokens, approximately 3000 words or 6 pages. The model ChatGPT4 supports a context window of up to 8000 and a little bit tokens, approximately 6000 words or 12 pages. What limits does the context window impose on us? The c'"
      ]
     },
     "execution_count": 17,
     "metadata": {},
     "output_type": "execute_result"
    }
   ],
   "source": [
    "docs[0].page_content[0:500]"
   ]
  },
  {
   "cell_type": "markdown",
   "id": "c172a2eb-b34d-4788-a9bc-2a783b7698ea",
   "metadata": {},
   "source": [
    "## Loading websites"
   ]
  },
  {
   "cell_type": "markdown",
   "id": "f0258fba-d74b-4622-8843-16c0ee242f65",
   "metadata": {},
   "source": [
    "### Option 1: Web Base Loader"
   ]
  },
  {
   "cell_type": "code",
   "execution_count": 18,
   "id": "8c1fe6e6-958e-4d91-bd3c-c9301a7d86b5",
   "metadata": {},
   "outputs": [],
   "source": [
    "from langchain.document_loaders import WebBaseLoader\n",
    "\n",
    "# loader = WebBaseLoader(\"https://aiaccelera.com/100-ai-startups-100-llm-apps-that-have-earned-500000-before-their-first-year-of-existence/\")\n",
    "loader = WebBaseLoader(URL_AIACCELERA_1)"
   ]
  },
  {
   "cell_type": "code",
   "execution_count": 19,
   "id": "15c66ac3-76ce-4ad1-8645-64f7bdd72be7",
   "metadata": {},
   "outputs": [],
   "source": [
    "docs = loader.load()"
   ]
  },
  {
   "cell_type": "code",
   "execution_count": 20,
   "id": "c671c8c2-5cc3-4bf0-85cc-5db6587fb7a0",
   "metadata": {},
   "outputs": [
    {
     "name": "stdout",
     "output_type": "stream",
     "text": [
      "\n",
      "\n",
      "\n",
      "\n",
      "\n",
      "\n",
      "\n",
      "\n",
      "\n",
      "\n",
      "\n",
      "\"100 AI Startups\": 100 LLM Apps that have earned $500,000 before their first year of existence\n",
      "\n",
      "\n",
      "\n",
      "\n",
      "\n",
      "\n",
      "\n",
      "\n",
      "\n",
      "\n",
      "\n",
      "\n",
      "\n",
      "\n",
      "\n",
      "\n",
      "\n",
      "\n",
      "\n",
      "\n",
      "\n",
      "\n",
      "\n",
      "\n",
      "\n",
      "\n",
      "\n",
      "\n",
      "\n",
      "\n",
      "\n",
      "\n",
      "\n",
      "\n",
      "\n",
      "\n",
      "\n",
      "\n",
      "\n",
      "\n",
      "\n",
      "\n",
      "\n",
      "\n",
      "\n",
      "\n",
      "\n",
      "\n",
      "\n",
      "\n",
      "\n",
      "\n",
      "\n",
      "\n",
      "\n",
      "\n",
      "\n",
      "\n",
      "\n",
      "\n",
      "\n",
      "\n",
      "\n",
      "\n",
      "\n",
      "\n",
      "\n",
      "\n",
      "\n",
      "\n",
      "\n",
      "\n",
      "\n",
      "\n",
      "\n",
      "\n",
      "\n",
      "\n",
      "\n",
      "\n",
      "\n",
      "\n",
      "\n",
      "                                    info@aiaccelera.com                                \n",
      "\n",
      "\n",
      "\n",
      "\n",
      "\n",
      "Spanish:\n",
      "  \n",
      "\n",
      "\n",
      "\n",
      "\n",
      "\n",
      "\n",
      "\n",
      "\n",
      "\n",
      "\n",
      "\n",
      "\n",
      "\n",
      "\n",
      "\n",
      "\n",
      "\n",
      "\n",
      "\n",
      "0\n",
      "\n",
      "\n",
      "\n",
      "\n",
      "\n",
      "\n",
      "\n",
      "\n",
      "Services  \n",
      "\n",
      "Online Bootcamp: Generative AI, LLM Apps, AI Agents, Cursor AI\n",
      "Generative AI Education\n",
      "Development of Generative AI Apps for the Enterprise\n",
      "Development of Generative\n"
     ]
    }
   ],
   "source": [
    "# print(docs[0].page_content[:2000])\n",
    "print(docs[0].page_content[:500])"
   ]
  },
  {
   "cell_type": "markdown",
   "id": "640143f0-c75e-4c2d-9d1d-dfc3610b1afb",
   "metadata": {},
   "source": [
    "### Option 2: Unstructured HTML Loader"
   ]
  },
  {
   "cell_type": "code",
   "execution_count": 21,
   "id": "d17828c2-1877-48ee-b216-39cfd7dc2198",
   "metadata": {},
   "outputs": [],
   "source": [
    "# !pip install unstructured"
   ]
  },
  {
   "cell_type": "code",
   "execution_count": 22,
   "id": "9f084e39-5d10-49f9-ac04-3ae75a8ff4cb",
   "metadata": {},
   "outputs": [],
   "source": [
    "from langchain.document_loaders import UnstructuredHTMLLoader"
   ]
  },
  {
   "cell_type": "code",
   "execution_count": 23,
   "id": "02a54b62-e906-4b74-ac31-b2bd06a49e5a",
   "metadata": {},
   "outputs": [],
   "source": [
    "# loader = UnstructuredHTMLLoader(\"data/_100 AI Startups__ 100 LLM Apps that have earned $500,000 before their first year of existence.html\")\n",
    "loader = UnstructuredHTMLLoader(PATH_HTML)"
   ]
  },
  {
   "cell_type": "code",
   "execution_count": 24,
   "id": "18453986-74d6-4e2b-a278-93de52638397",
   "metadata": {},
   "outputs": [],
   "source": [
    "data = loader.load()"
   ]
  },
  {
   "cell_type": "code",
   "execution_count": 25,
   "id": "1ab24514-2bca-4d7c-bf40-f5ee359df363",
   "metadata": {},
   "outputs": [
    {
     "data": {
      "text/plain": [
       "[Document(metadata={'source': 'C:\\\\Users\\\\Pavel\\\\projects\\\\ai-llm\\\\data\\\\_100 AI Startups__ 100 LLM Apps that have earned $500,000 before their first year of existence.html'}, page_content='Posted on October 5, 2023\\n\\nAI Accelera\\n\\nNo Comments\\n\\nThe new book “100 AI Startups” by Julio Colomer presents 100 new Artificial Intelligence companies that have earned at least $500,000 in their first year of existence and are radically changing how things are done in over 30 sectors, including banking, insurance, health, education, legal, logistics, marketing, sales, customer service, and even in public administration.\\n\\nThese 100 startups from Silicon Valley show how the fastest-growing area among the new Artificial Intelligence companies are the new LLM Apps (LLM Apps), which are changing every sector and areas of the company.\\n\\nIt’s not science fiction. There are already startups with LLM Applications that have earned more than $500,000 before their first year of existence by doing this:\\n\\nImproving the effectiveness of surgeons.\\n\\nCustomer service in banks.\\n\\nTutoring for students.\\n\\nLegal recommendations.\\n\\nStock analysis.\\n\\nDelivering physiotherapy sessions.\\n\\nFinding new clients.\\n\\nImmigration management.\\n\\nAudits.\\n\\nManaging contracts with Public Administration.\\n\\nManaging construction projects.\\n\\nEvent organization.\\n\\nManaging defaults.\\n\\nAnswering (yes, answering) surveys.\\n\\nGenerating news.\\n\\nNegotiating a sales contract.\\n\\nValuing a company.\\n\\nTaking notes in meetings.\\n\\n“Once again the future is being invented in Silicon Valley. And this time with an intensity not seen since the first wave of the Internet,” comments Julio Colomer.\\n\\n“In this wave, it’s not just venture capitalists, accelerators, and startups that are involved. All the major tech companies, from Microsoft to Google, including Apple, Facebook, Tesla, and Salesforce, have jumped in with multimillion-dollar investments in Generative Artificial Intelligence. We haven’t seen such unanimous interest in the last twenty years.”\\n\\nBeyond the initial interest generated by the launch of ChatGPT, little is known by the general public about how AI can be used to make money, be more productive, or live better.\\n\\n“The importance of this book is that it helps visualize what can already be done with the new Generative Artificial Intelligence. This is valuable not only for entrepreneurs looking for ideas but for executives and professionals from all sectors who want to advance in their professional careers.”\\n\\n“This book confirms the changes we announced in the previous book, Keys to Artificial Intelligence:\\n\\nFirst, that the new Artificial Intelligence inherits from Machine Learning and Data Science but is not the same. One is mistaken to think that the professional skills needed to build the new LLM Applications are the same as those needed for data analysis or a prediction model.\\n\\nSecond, that today the key is the LLM Applications, which ride on the backs of the Foundation LLMs (ChatGPT, Llama2, etc.) combining them with external data sources and APIs.\\n\\nThird, that the development of LLM Applications is experiencing exponential growth in the United States and will soon reach other countries: every company wants to have LLM Applications. This opens an excellent employment opportunity for those who enter this new field.”\\n\\nYou can see the table of contents of the book “100 AI Startups” here.\\n\\nThe books “100 AI Startups” and “Keys to Artificial Intelligence” can be found on Amazon.\\n\\n“We are in a new world. LLM Applications use methods and tools that were practically unknown three years ago: embeddings, vector databases, orchestration frameworks, LLM cache, prompt engineering, etc.”\\n\\nThe AI Accelerator (aceleradoraAI.com), with a presence in Spain, Latin America, and the United States, offers courses to learn how to create LLM Applications and other related services such as:\\n\\nDevelopment of LLM Applications for companies.\\n\\nDevelopment of LLM Applications for startups.\\n\\nArtificial Intelligence consulting services for companies.\\n\\nArtificial Intelligence training services for companies.\\n\\nStaff selection to form AI Teams in the company.\\n\\nTechnical support for entrepreneurs wanting to create an AI startup.\\n\\nAI Test Field: connecting entrepreneurs and junior developers.\\n\\nFor more information, visit the AI Accelera website.\\n\\nFor each of the 100 startups analyzed in the book “100 IA Startups“, it details:\\n\\nProblem solved.\\n\\nProposed solution.\\n\\nTechnical analysis.\\n\\nIdentifying data of the company, its website, and its founders.\\n\\nThe startup presented in the book use LLM Applications to solve the described problems. If you are interested in learning more about LLM Applications or Artificial Intelligence applied to the company, here are some interesting links:\\n\\nCourses and Bootcamps to learn to create LLM Applications.\\n\\nDevelopment of LLM Applications for your company.\\n\\nDevelopment of LLM Applications for a new startup.\\n\\nArtificial Intelligence consulting for businesses.\\n\\nIn-Company custom Artificial Intelligence training.\\n\\nSelection of Artificial Intelligence professionals, LLM Applications, Machine Learning, and Data Science for businesses.\\n\\nExperimental projects of LLM Applications: contact between entrepreneurs and junior developers.\\n\\nWe are looking for entrepreneurs interested in creating startups based on LLM Applications. We provide technical assistance and monitoring.\\n\\nWe are looking for collaborators: Do you work in a training center, a consultancy/advisory service, or in a support center for entrepreneurs? We are interested in talking to you.\\n\\nPost Tags Post TagsAIartificial intelligence\\n\\nRelated Posts\\n\\nReal Case: Your new doctor is an Artificial Intelligence Agent.\\n\\n2023\\n\\nReal Case: Your child’s new tutor is an Artificial Intelligence Agent.\\n\\n2023\\n\\nReal Case: An Artificial Intelligence Agent takes over End-to-End testing for software applications.\\n\\n2023\\n\\nReal Case: An Artificial Intelligence Agent to find opportunities to contract with the Government.\\n\\n2023\\n\\nGo to the Main Page of our Blog')]"
      ]
     },
     "execution_count": 25,
     "metadata": {},
     "output_type": "execute_result"
    }
   ],
   "source": [
    "data"
   ]
  },
  {
   "cell_type": "markdown",
   "id": "d875f549-7dd7-4a29-b4dd-ea6ed76c438e",
   "metadata": {},
   "source": [
    "### Option 3: Beautiful Soup"
   ]
  },
  {
   "cell_type": "code",
   "execution_count": 26,
   "id": "05a113e5-636c-408d-ac5a-99f7a8f5c621",
   "metadata": {},
   "outputs": [],
   "source": [
    "#!pip install beautifulsoup4"
   ]
  },
  {
   "cell_type": "code",
   "execution_count": 27,
   "id": "8b58a8b0-9526-4669-a6c7-fac7af6b3b31",
   "metadata": {},
   "outputs": [],
   "source": [
    "from langchain_community.document_loaders import WebBaseLoader"
   ]
  },
  {
   "cell_type": "code",
   "execution_count": 28,
   "id": "7685470d-e7e3-438e-b104-3cb0186cda45",
   "metadata": {},
   "outputs": [
    {
     "data": {
      "text/plain": [
       "[Document(metadata={'source': 'https://aiaccelera.com/100-ai-startups-100-llm-apps-that-have-earned-500000-before-their-first-year-of-existence/', 'title': '\"100 AI Startups\": 100 LLM Apps that have earned $500,000 before their first year of existence', 'description': 'The new book “100 AI Startups” by Julio Colomer presents 100 new Artificial Intelligence companies that have earned at least $500,000 in their first year of existence and are radically changing how things are done in over 30 sectors, including banking, insurance, health, education, legal, logistics, marketing, sales, customer service, and even in public administration.', 'language': 'en-US'}, page_content='\\n\\n\\n\\n\\n\\n\\n\\n\\n\\n\\n\"100 AI Startups\": 100 LLM Apps that have earned $500,000 before their first year of existence\\n\\n\\n\\n\\n\\n\\n\\n\\n\\n\\n\\n\\n\\n\\n\\n\\n\\n\\n\\n\\n\\n\\n\\n\\n\\n\\n\\n\\n\\n\\n\\n\\n\\n\\n\\n\\n\\n\\n\\n\\n\\n\\n\\n\\n\\n\\n\\n\\n\\n\\n\\n\\n\\n\\n\\n\\n\\n\\n\\n\\n\\n\\n\\n\\n\\n\\n\\n\\n\\n\\n\\n\\n\\n\\n\\n\\n\\n\\n\\n\\n\\n\\n\\n                                    info@aiaccelera.com                                \\n\\n\\n\\n\\n\\nSpanish:\\n  \\n\\n\\n\\n\\n\\n\\n\\n\\n\\n\\n\\n\\n\\n\\n\\n\\n\\n\\n\\n0\\n\\n\\n\\n\\n\\n\\n\\n\\nServices  \\n\\nOnline Bootcamp: Generative AI, LLM Apps, AI Agents, Cursor AI\\nGenerative AI Education\\nDevelopment of Generative AI Apps for the Enterprise\\nDevelopment of Generative AI Apps for Startups\\nGenerative AI Consulting for Businesses\\nIn-Company Generative AI Training\\nBuilding your Team of Generative AI Professionals\\nProgram Generative AI Opportunities\\nWe are looking for Generative AI Entrepreneurs\\nGenerative AI Sandbox: Developers + Entrepreneurs\\n\\n\\nUse Cases\\nResources\\nCommunity  \\n\\nTestimonials\\nManagement Team\\nGenerative AI Experts Council\\nGenerative AI Investors Council\\n\\n\\nPartners\\nJobs\\nContact\\n \\n\\n\\n\\n\\n\\n\\n\\n\\n\\n\\n\\n\\n\\n\\n \\n\\n\\n\\n“100 AI Startups”: 100 LLM Apps that have earned $500,000\\n\\nHomeblog“100 AI Startups”: 100 LLM Apps that have earned $500,000 \\n\\n\\n\\n\\n\\n\\n\\n\\n\\n\\n\\n \\n\\n\\n\\n\\nPosted on October 5, 2023\\n \\n\\nAI Accelera\\n\\n\\nNo Comments\\n\\n\\n\\n\\n\\n\\n\\n\\n\\n\\n\\n\\nThe new book “100 AI Startups” by Julio Colomer presents 100 new Artificial Intelligence companies that have earned at least $500,000 in their first year of existence and are radically changing how things are done in over 30 sectors, including banking, insurance, health, education, legal, logistics, marketing, sales, customer service, and even in public administration.\\nThese 100 startups from Silicon Valley show how the fastest-growing area among the new Artificial Intelligence companies are the new LLM Apps (LLM Apps), which are changing every sector and areas of the company.\\nIt’s not science fiction. There are already startups with LLM Applications that have earned more than $500,000 before their first year of existence by doing this:\\n\\nImproving the effectiveness of surgeons.\\nCustomer service in banks.\\nTutoring for students.\\nLegal recommendations.\\nStock analysis.\\nDelivering physiotherapy sessions.\\nFinding new clients.\\nImmigration management.\\nAudits.\\nManaging contracts with Public Administration.\\nManaging construction projects.\\nEvent organization.\\nManaging defaults.\\nAnswering (yes, answering) surveys.\\nGenerating news.\\nNegotiating a sales contract.\\nValuing a company.\\nTaking notes in meetings.\\n\\n“Once again the future is being invented in Silicon Valley. And this time with an intensity not seen since the first wave of the Internet,” comments Julio Colomer.\\n“In this wave, it’s not just venture capitalists, accelerators, and startups that are involved. All the major tech companies, from Microsoft to Google, including Apple, Facebook, Tesla, and Salesforce, have jumped in with multimillion-dollar investments in Generative Artificial Intelligence. We haven’t seen such unanimous interest in the last twenty years.”\\nBeyond the initial interest generated by the launch of ChatGPT, little is known by the general public about how AI can be used to make money, be more productive, or live better.\\n“The importance of this book is that it helps visualize what can already be done with the new Generative Artificial Intelligence. This is valuable not only for entrepreneurs looking for ideas but for executives and professionals from all sectors who want to advance in their professional careers.”\\n“This book confirms the changes we announced in the previous book, Keys to Artificial Intelligence:\\n\\nFirst, that the new Artificial Intelligence inherits from Machine Learning and Data Science but is not the same. One is mistaken to think that the professional skills needed to build the new LLM Applications are the same as those needed for data analysis or a prediction model.\\nSecond, that today the key is the LLM Applications, which ride on the backs of the Foundation LLMs (ChatGPT, Llama2, etc.) combining them with external data sources and APIs.\\nThird, that the development of LLM Applications is experiencing exponential growth in the United States and will soon reach other countries: every company wants to have LLM Applications. This opens an excellent employment opportunity for those who enter this new field.”\\n\\nYou can see the table of contents of the book “100 AI Startups” here.\\nThe books “100 AI Startups” and “Keys to Artificial Intelligence” can be found on Amazon.\\n“We are in a new world. LLM Applications use methods and tools that were practically unknown three years ago: embeddings, vector databases, orchestration frameworks, LLM cache, prompt engineering, etc.”\\nThe AI Accelerator (aceleradoraAI.com), with a presence in Spain, Latin America, and the United States, offers courses to learn how to create LLM Applications and other related services such as:\\n\\nDevelopment of LLM Applications for companies.\\nDevelopment of LLM Applications for startups.\\nArtificial Intelligence consulting services for companies.\\nArtificial Intelligence training services for companies.\\nStaff selection to form AI Teams in the company.\\nTechnical support for entrepreneurs wanting to create an AI startup.\\nAI Test Field: connecting entrepreneurs and junior developers.\\n\\nFor more information, visit the AI Accelera website.\\n \\n\\n\\n\\n\\n\\n\\n\\n\\n\\n\\n\\nFor each of the 100 startups analyzed in the book “100 IA Startups“, it details:\\n\\nProblem solved.\\nProposed solution.\\nTechnical analysis.\\nIdentifying data of the company, its website, and its founders.\\n\\nThe startup presented in the book use LLM Applications to solve the described problems. If you are interested in learning more about LLM Applications or Artificial Intelligence applied to the company, here are some interesting links:\\n\\nCourses and Bootcamps to learn to create LLM Applications.\\nDevelopment of LLM Applications for your company.\\nDevelopment of LLM Applications for a new startup.\\nArtificial Intelligence consulting for businesses.\\nIn-Company custom Artificial Intelligence training.\\nSelection of Artificial Intelligence professionals, LLM Applications, Machine Learning, and Data Science for businesses.\\nExperimental projects of LLM Applications: contact between entrepreneurs and junior developers.\\nWe are looking for entrepreneurs interested in creating startups based on LLM Applications. We provide technical assistance and monitoring.\\nWe are looking for collaborators: Do you work in a training center, a consultancy/advisory service, or in a support center for entrepreneurs? We are interested in talking to you.\\n \\n\\n\\n\\n\\n\\n\\nPost Tags Post TagsAIartificial intelligence  \\n\\n\\n\\n\\n\\n\\n\\n\\nSearch for:\\n\\n\\n\\n\\n            Search        \\n\\n\\n\\n\\n\\n\\n\\n\\n\\n\\n\\n\\n\\nRelated PostsOnline Bootcamp: Understand and Build Professional AI Agents2025 \\nIn-Person Master: Understand and Build Professional AI Agents2025 \\nIn-Person Bootcamp: Understand and Build Professional AI Agents2025 \\nGenerative AI Newsletter: December 20242024 \\n\\n\\n\\nGo to the Main Page of our Blog\\n\\n \\n\\n\\n\\n\\n\\n\\n\\n\\n\\n\\n\\n AI Accelera: The Power of Generative AI. Training and Projects in more than 100 countries.\\nLegal Terms. Privacy Policy. Cookie Policy.\\n\\n  \\n\\n\\n\\n\\n\\n\\n\\n\\n\\n\\n\\n\\n\\n\\n\\n\\n\\n\\nContact San Francisco. Austin. Chicago. Miami. New York.\\n\\ninfo@aiaccelera.com\\n\\n\\n\\n\\n\\n\\n\\n \\n\\n\\n\\n\\n© 2024 AI Accelera\\n\\n\\n\\n\\n\\n\\n\\n\\n\\n\\n\\n\\n\\n\\n        This website uses cookies for proper functioning and analytical purposes.\\n          \\xa0\\xa0\\n          \\n      \\n\\nReject\\nAccept\\n\\n\\n\\nPrivacidad\\n\\n\\n\\n\\n\\n\\n\\n\\n\\n\\n\\n\\n\\n\\n\\n\\n\\n\\n\\n\\n\\n\\n\\n\\n\\n\\n\\n\\n\\n\\n\\n\\n\\n\\n\\n\\n\\n\\n\\n\\n\\n\\n\\n\\n\\n\\n\\n\\n\\n\\n\\n\\n\\n\\n\\n\\n\\n\\n\\n\\n\\n\\n\\n\\n\\n\\n\\n\\n\\n\\n\\n\\n\\n\\n\\n\\n\\n\\n\\n\\n\\n\\n\\n\\n\\n\\n\\n\\n\\n\\n\\n\\n\\n\\n\\n\\n\\n\\n\\n\\n\\n\\n\\n\\n\\n\\n\\n\\n\\n\\n\\n\\n\\n\\n\\n\\n\\n\\n\\n\\n\\n\\n\\n\\n\\n\\n\\n\\n\\n\\n\\n\\n\\n\\n\\n\\n\\n\\n\\n\\n\\n\\n\\n\\n\\n\\n\\n\\n\\n\\n\\n\\n\\n\\n\\n\\n\\n\\n\\n\\n\\n\\n\\n\\n\\n\\n\\n\\n\\n\\n\\n\\n\\n\\n\\n\\n\\n\\n')]"
      ]
     },
     "execution_count": 28,
     "metadata": {},
     "output_type": "execute_result"
    }
   ],
   "source": [
    "# loader = WebBaseLoader(\"https://aiaccelera.com/ai-consulting-for-businesses/\")\n",
    "# loader = WebBaseLoader(\"https://aiaccelera.com/generative-ai-consulting-for-businesses/\")\n",
    "loader = WebBaseLoader(URL_AIACCELERA_1)\n",
    "data = loader.load()\n",
    "data"
   ]
  },
  {
   "cell_type": "code",
   "execution_count": 29,
   "id": "6e92e5f2-3ecb-4a12-a715-f6699739e3f5",
   "metadata": {},
   "outputs": [
    {
     "name": "stdout",
     "output_type": "stream",
     "text": [
      "Loaded 1 document(s)\n"
     ]
    }
   ],
   "source": [
    "print(f\"Loaded {len(data)} document(s)\")\n",
    "# print(f\"Preview: {data[0].page_content[:500]}...\")\n",
    "# print(f\"Preview: {data[0].page_content}\")"
   ]
  },
  {
   "cell_type": "markdown",
   "id": "f422ed03-01c7-42bf-af70-e77276f31f3a",
   "metadata": {},
   "source": [
    "## Web Data Loading and Processing with WebBaseLoader"
   ]
  },
  {
   "cell_type": "code",
   "execution_count": 30,
   "id": "d21d58f3-1f7a-428a-826a-94a35791c8b8",
   "metadata": {},
   "outputs": [],
   "source": [
    "# This code:\n",
    "# 1. Uses WebBaseLoader to fetch content from the specified URL\n",
    "# 2. Splits the content into manageable chunks\n",
    "# 3. Creates embeddings using OpenAI's embedding API\n",
    "# 4. Stores these embeddings in a FAISS vector database\n",
    "# 5. Demonstrates a similarity search to find relevant content\n",
    "\n",
    "# Iinstall the required packages:\n",
    "# !pip install langchain langchain-community langchain-openai faiss-cpu"
   ]
  },
  {
   "cell_type": "code",
   "execution_count": 31,
   "id": "00337b8a-99ce-47e7-bcc5-abf1007b7295",
   "metadata": {},
   "outputs": [
    {
     "name": "stdout",
     "output_type": "stream",
     "text": [
      "Loaded 1 document(s)\n"
     ]
    }
   ],
   "source": [
    "from langchain_community.document_loaders import WebBaseLoader\n",
    "from langchain.text_splitter import RecursiveCharacterTextSplitter\n",
    "from langchain_openai import OpenAIEmbeddings\n",
    "from langchain_community.vectorstores import FAISS\n",
    "import os\n",
    "\n",
    "# Set your OpenAI API key (replace with your actual API key or load from environment)\n",
    "# os.environ[\"OPENAI_API_KEY\"] = \"your-api-key\"\n",
    "\n",
    "# 1. Load the webpage\n",
    "# loader = WebBaseLoader(\"https://aiaccelera.com/ai-consulting-for-businesses/\")\n",
    "loader = WebBaseLoader(URL_AIACCELERA_2)\n",
    "documents = loader.load()\n",
    "\n",
    "print(f\"Loaded {len(documents)} document(s)\")\n",
    "# print(f\"Preview: {documents[0].page_content[:500]}...\")"
   ]
  },
  {
   "cell_type": "code",
   "execution_count": 32,
   "id": "a799c0de-b129-46cf-938c-6078a2d8654d",
   "metadata": {},
   "outputs": [
    {
     "name": "stdout",
     "output_type": "stream",
     "text": [
      "Split into 23 chunks\n"
     ]
    }
   ],
   "source": [
    "# 2. Split the text into smaller chunks\n",
    "text_splitter = RecursiveCharacterTextSplitter(\n",
    "    chunk_size=1000,\n",
    "    chunk_overlap=200\n",
    ")\n",
    "splits = text_splitter.split_documents(documents)\n",
    "\n",
    "print(f\"Split into {len(splits)} chunks\")"
   ]
  },
  {
   "cell_type": "code",
   "execution_count": 33,
   "id": "0789a7d3-0628-45a5-94b1-5b98f6cfb919",
   "metadata": {},
   "outputs": [],
   "source": [
    "# 3. Create embeddings and store in a vector database\n",
    "embeddings = OpenAIEmbeddings()\n",
    "vectorstore = FAISS.from_documents(splits, embeddings)"
   ]
  },
  {
   "cell_type": "code",
   "execution_count": 34,
   "id": "1c2639e3-101d-4ab6-bd63-d87c1050da97",
   "metadata": {},
   "outputs": [],
   "source": [
    "# 4. Example: Search for relevant information\n",
    "query = \"What AI consulting services are offered?\"\n",
    "docs = vectorstore.similarity_search(query, k=3)"
   ]
  },
  {
   "cell_type": "code",
   "execution_count": 35,
   "id": "743c21da-b378-464c-8b1b-5554017328eb",
   "metadata": {},
   "outputs": [
    {
     "name": "stdout",
     "output_type": "stream",
     "text": [
      "\n",
      "Search results:\n",
      "\n",
      "Result 1:\n",
      "Generative AI Consulting for businesses\n",
      "\n",
      "\n",
      "\n",
      "\n",
      "\n",
      "\n",
      "\n",
      "\n",
      "\n",
      "\n",
      "\n",
      "\n",
      "\n",
      "\n",
      "\n",
      "\n",
      "\n",
      "\n",
      "\n",
      "\n",
      "\n",
      "\n",
      "\n",
      "\n",
      "\n",
      "\n",
      "\n",
      "\n",
      "\n",
      "\n",
      "\n",
      "\n",
      "\n",
      "\n",
      "\n",
      "\n",
      "\n",
      "\n",
      "\n",
      "\n",
      "\n",
      "\n",
      "\n",
      "\n",
      "\n",
      "\n",
      "\n",
      "\n",
      "\n",
      "\n",
      "\n",
      "\n",
      "\n",
      "\n",
      "\n",
      "\n",
      "\n",
      "\n",
      "\n",
      "\n",
      "\n",
      "\n",
      "\n",
      "\n",
      "\n",
      "\n",
      "\n",
      "\n",
      "\n",
      "\n",
      "\n",
      "\n",
      "\n",
      "\n",
      "\n",
      "\n",
      "                                    info@aiaccelera.com                                \n",
      "\n",
      "\n",
      "\n",
      "\n",
      "\n",
      "Spanish:\n",
      "  \n",
      "\n",
      "\n",
      "\n",
      "\n",
      "\n",
      "\n",
      "\n",
      "\n",
      "\n",
      "\n",
      "\n",
      "\n",
      "\n",
      "\n",
      "\n",
      "\n",
      "\n",
      "\n",
      "\n",
      "0\n",
      "\n",
      "\n",
      "\n",
      "\n",
      "\n",
      "\n",
      "\n",
      "\n",
      "Services  \n",
      "\n",
      "Online Bootcamp: Generative AI, LLM Ap...\n",
      "\n",
      "Result 2:\n",
      "Our Generative AI Apps development services....\n",
      "\n",
      "Result 3:\n",
      "Our AI development services empower businesses of all sizes to tap into the potential of this technology, enhancing operations and driving growth.We specialize in crafting tailored solutions that truly harness the power of generative AI. We work closely with you to bring your ideas to life.Generativ...\n"
     ]
    }
   ],
   "source": [
    "print(\"\\nSearch results:\")\n",
    "for i, doc in enumerate(docs):\n",
    "    print(f\"\\nResult {i+1}:\")\n",
    "    print(doc.page_content[:300] + \"...\")"
   ]
  }
 ],
 "metadata": {
  "kernelspec": {
   "display_name": "Python 3 (ipykernel)",
   "language": "python",
   "name": "python3"
  },
  "language_info": {
   "codemirror_mode": {
    "name": "ipython",
    "version": 3
   },
   "file_extension": ".py",
   "mimetype": "text/x-python",
   "name": "python",
   "nbconvert_exporter": "python",
   "pygments_lexer": "ipython3",
   "version": "3.11.11"
  }
 },
 "nbformat": 4,
 "nbformat_minor": 5
}
