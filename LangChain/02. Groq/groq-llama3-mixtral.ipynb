{
 "cells": [
  {
   "cell_type": "markdown",
   "id": "5cd35694-5f5a-4d16-8669-ec1f5bf43393",
   "metadata": {},
   "source": [
    "# Llama3 and Mixtral with Groq"
   ]
  },
  {
   "cell_type": "markdown",
   "id": "c06a1309-a5f5-4797-aab2-e90d77c2dde5",
   "metadata": {},
   "source": [
    "## Groq API Key\n",
    "https://console.groq.com/login"
   ]
  },
  {
   "cell_type": "markdown",
   "id": "be4c154f-c329-4148-a57d-ed18fcd05d32",
   "metadata": {},
   "source": [
    "## Install Groq"
   ]
  },
  {
   "cell_type": "code",
   "execution_count": 2,
   "id": "548ffc90-096d-45b1-be05-7440c9569611",
   "metadata": {},
   "outputs": [],
   "source": [
    "# !pip install langchain-groq"
   ]
  },
  {
   "cell_type": "markdown",
   "id": "819fad70-2d71-4e4a-b8a6-20285d7eb44f",
   "metadata": {},
   "source": [
    "## Use Groq in LangChain or CrewAI project"
   ]
  },
  {
   "cell_type": "code",
   "execution_count": 3,
   "id": "557fd363-6a52-49e3-b677-2fd9b2e2d7d1",
   "metadata": {},
   "outputs": [],
   "source": [
    "# from langchain_groq import ChatGroq"
   ]
  },
  {
   "cell_type": "code",
   "execution_count": 2,
   "id": "7ce029dd-1e8b-4b82-98f6-bf9bfd09ccc1",
   "metadata": {},
   "outputs": [],
   "source": [
    "# llm = ChatGroq(\n",
    "#     model=\"llama3-70b-8192\"\n",
    "# )"
   ]
  },
  {
   "cell_type": "code",
   "execution_count": 5,
   "id": "d2232591-6853-4840-b9d4-4b338a8d81d5",
   "metadata": {},
   "outputs": [],
   "source": [
    "# llm = ChatGroq(\n",
    "#     model=\"mixtral-8x7b-32768\"\n",
    "# )"
   ]
  },
  {
   "cell_type": "markdown",
   "id": "583dcd83-520b-4dc2-a160-1578314a847e",
   "metadata": {},
   "source": [
    "## Groq Rate limits\n",
    "https://console.groq.com/settings/limits"
   ]
  },
  {
   "cell_type": "markdown",
   "id": "5c4043b0-6f4e-4834-ac5c-8f3c1427c89d",
   "metadata": {},
   "source": [
    "## Groq Pricing\n",
    "https://groq.com/pricing/"
   ]
  },
  {
   "cell_type": "markdown",
   "id": "12947aab-2158-43a2-adce-940d80b2cb96",
   "metadata": {},
   "source": [
    "## Groq Playground\n",
    "https://console.groq.com/playground"
   ]
  },
  {
   "cell_type": "markdown",
   "id": "5dfe5db5-6991-45ab-b8c0-f5d0b9e5b7e5",
   "metadata": {},
   "source": [
    "## Groq Try it\n",
    "https://groq.com/"
   ]
  }
 ],
 "metadata": {
  "kernelspec": {
   "display_name": "Python 3 (ipykernel)",
   "language": "python",
   "name": "python3"
  },
  "language_info": {
   "codemirror_mode": {
    "name": "ipython",
    "version": 3
   },
   "file_extension": ".py",
   "mimetype": "text/x-python",
   "name": "python",
   "nbconvert_exporter": "python",
   "pygments_lexer": "ipython3",
   "version": "3.11.11"
  }
 },
 "nbformat": 4,
 "nbformat_minor": 5
}
