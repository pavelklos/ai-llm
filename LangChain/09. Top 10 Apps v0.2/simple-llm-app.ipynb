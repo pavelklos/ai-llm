{
 "cells": [
  {
   "cell_type": "markdown",
   "id": "5d733e1a-fff5-4739-b702-cc4af0a69d41",
   "metadata": {},
   "source": [
    "# How to build simple LLM App with LangChain"
   ]
  },
  {
   "cell_type": "markdown",
   "id": "57b470b3-1008-44d5-bc0f-35140a27e3ab",
   "metadata": {},
   "source": [
    "## Goal of App\n",
    "* Translate text from English into another language"
   ]
  },
  {
   "cell_type": "markdown",
   "id": "d0399355-dece-4701-9bf4-4c204fe74929",
   "metadata": {},
   "source": [
    "## Concepts included\n",
    "* Monitor with LangSmith\n",
    "* Connect with LLM\n",
    "* Use Prompt Template\n",
    "* Use Output Parser\n",
    "* Chain Prompt Template, LLM call and Output Parser\n",
    "* Deploy with LangServe"
   ]
  },
  {
   "cell_type": "code",
   "execution_count": 1,
   "id": "992ec4a9-aa01-4e44-aeb9-b9a1f3aa9e54",
   "metadata": {},
   "outputs": [],
   "source": [
    "import os\n",
    "from dotenv import load_dotenv, find_dotenv\n",
    "_ = load_dotenv(find_dotenv())\n",
    "openai_api_key = os.environ[\"OPENAI_API_KEY\"]"
   ]
  },
  {
   "cell_type": "code",
   "execution_count": 2,
   "id": "946dc1b5-f6b4-4122-80cb-c88dce6a2c7c",
   "metadata": {},
   "outputs": [],
   "source": [
    "MODEL_GPT = 'gpt-4o-mini'"
   ]
  },
  {
   "cell_type": "markdown",
   "id": "cc2af3ef-c2c7-445f-92bd-a29c68abce25",
   "metadata": {
    "jp-MarkdownHeadingCollapsed": true
   },
   "source": [
    "## Connect with LLM and ask it to translate sentence from English to Spanish"
   ]
  },
  {
   "cell_type": "code",
   "execution_count": 3,
   "id": "9afcbc7d-a816-41e3-925f-850883f5770d",
   "metadata": {},
   "outputs": [],
   "source": [
    "from langchain_openai import ChatOpenAI\n",
    "\n",
    "# llm = ChatOpenAI(model=\"gpt-3.5-turbo\")\n",
    "llm = ChatOpenAI(model=MODEL_GPT)"
   ]
  },
  {
   "cell_type": "code",
   "execution_count": 4,
   "id": "c5dc0613-fb6d-4c82-a614-9e7307714303",
   "metadata": {},
   "outputs": [],
   "source": [
    "from langchain_core.messages import HumanMessage, SystemMessage\n",
    "\n",
    "messagesToTheLLM = [\n",
    "    SystemMessage(content=\"Translate the following from English into Spanish\"),\n",
    "    HumanMessage(content=\"Generative AI is the greatest value-creation opportunity in Human History.\"),\n",
    "]"
   ]
  },
  {
   "cell_type": "markdown",
   "id": "479b36ec-341a-47bc-af32-30cfb939810d",
   "metadata": {},
   "source": [
    "### Step 1: call LLM"
   ]
  },
  {
   "cell_type": "code",
   "execution_count": 5,
   "id": "db815e32-8e60-46b3-8cce-fbf40e378397",
   "metadata": {},
   "outputs": [
    {
     "data": {
      "text/plain": [
       "AIMessage(content='La inteligencia artificial generativa es la mayor oportunidad de creación de valor en la historia de la humanidad.', additional_kwargs={'refusal': None}, response_metadata={'token_usage': {'completion_tokens': 21, 'prompt_tokens': 32, 'total_tokens': 53, 'completion_tokens_details': {'accepted_prediction_tokens': 0, 'audio_tokens': 0, 'reasoning_tokens': 0, 'rejected_prediction_tokens': 0}, 'prompt_tokens_details': {'audio_tokens': 0, 'cached_tokens': 0}}, 'model_name': 'gpt-4o-mini-2024-07-18', 'system_fingerprint': 'fp_06737a9306', 'finish_reason': 'stop', 'logprobs': None}, id='run-3b064189-182d-49e6-9cd3-b3aff58188b2-0', usage_metadata={'input_tokens': 32, 'output_tokens': 21, 'total_tokens': 53, 'input_token_details': {'audio': 0, 'cache_read': 0}, 'output_token_details': {'audio': 0, 'reasoning': 0}})"
      ]
     },
     "execution_count": 5,
     "metadata": {},
     "output_type": "execute_result"
    }
   ],
   "source": [
    "llm.invoke(messagesToTheLLM)"
   ]
  },
  {
   "cell_type": "markdown",
   "id": "9913fc8c-254f-410d-aa8f-35eb0898855e",
   "metadata": {},
   "source": [
    "### Track operation in LangSmith\n",
    "* [Open LangSmith here](https://smith.langchain.com/)"
   ]
  },
  {
   "cell_type": "markdown",
   "id": "b10f836a-a1bd-4458-8972-204d1dfef5dd",
   "metadata": {
    "jp-MarkdownHeadingCollapsed": true
   },
   "source": [
    "## Use Output Parser to format response of LLM as string of text"
   ]
  },
  {
   "cell_type": "code",
   "execution_count": 6,
   "id": "54fd7a7d-21ae-4131-bbce-8fba09482bef",
   "metadata": {},
   "outputs": [],
   "source": [
    "from langchain_core.output_parsers import StrOutputParser\n",
    "\n",
    "parser = StrOutputParser()"
   ]
  },
  {
   "cell_type": "markdown",
   "id": "b2df9f80-b57c-4486-b5f6-0c28065a5ddf",
   "metadata": {},
   "source": [
    "### Step 1: call LLM"
   ]
  },
  {
   "cell_type": "code",
   "execution_count": 7,
   "id": "c813944c-a65d-4b82-89b0-bcf034088493",
   "metadata": {},
   "outputs": [],
   "source": [
    "initialResponse = llm.invoke(messagesToTheLLM)"
   ]
  },
  {
   "cell_type": "markdown",
   "id": "a9cc331d-bf66-46fb-a527-dcbaab73d790",
   "metadata": {},
   "source": [
    "### Step 2: apply parser to format output"
   ]
  },
  {
   "cell_type": "code",
   "execution_count": 8,
   "id": "1dd7956e-4e5d-4ca8-b823-c508f2903883",
   "metadata": {},
   "outputs": [],
   "source": [
    "formattedResponse = parser.invoke(initialResponse)"
   ]
  },
  {
   "cell_type": "code",
   "execution_count": 9,
   "id": "c1077cf9-8e35-411e-9b57-89506c81d4e2",
   "metadata": {},
   "outputs": [
    {
     "name": "stdout",
     "output_type": "stream",
     "text": [
      "La inteligencia artificial generativa es la mayor oportunidad de creación de valor en la historia de la humanidad.\n"
     ]
    }
   ],
   "source": [
    "print(formattedResponse)"
   ]
  },
  {
   "cell_type": "markdown",
   "id": "c445f320-289d-4372-93eb-8e32b873b23c",
   "metadata": {
    "jp-MarkdownHeadingCollapsed": true
   },
   "source": [
    "## Chain the LLM Call and the Output Parser"
   ]
  },
  {
   "cell_type": "code",
   "execution_count": 10,
   "id": "07d2d4ed-11f7-41fa-ab1d-22fa4dcac792",
   "metadata": {},
   "outputs": [],
   "source": [
    "llmAndParserChained = llm | parser"
   ]
  },
  {
   "cell_type": "markdown",
   "id": "d23b3692-a5d7-4550-8717-cb48a8232cd7",
   "metadata": {},
   "source": [
    "### Steps 1 and 2: call LLM and apply parser to output"
   ]
  },
  {
   "cell_type": "code",
   "execution_count": 11,
   "id": "da6a7652-268e-42a1-ad80-518a186c07cf",
   "metadata": {},
   "outputs": [],
   "source": [
    "responseFromChain=llmAndParserChained.invoke(messagesToTheLLM)"
   ]
  },
  {
   "cell_type": "code",
   "execution_count": 12,
   "id": "ab7326c1-4d5a-40e7-9ac0-f04c3baaad7e",
   "metadata": {},
   "outputs": [
    {
     "name": "stdout",
     "output_type": "stream",
     "text": [
      "La inteligencia artificial generativa es la mayor oportunidad de creación de valor en la historia de la humanidad.\n"
     ]
    }
   ],
   "source": [
    "print(responseFromChain)"
   ]
  },
  {
   "cell_type": "markdown",
   "id": "93b4d263-909c-4bdb-b9f1-e512923c69e8",
   "metadata": {
    "jp-MarkdownHeadingCollapsed": true
   },
   "source": [
    "## Use Prompt Template with System Message and Variables"
   ]
  },
  {
   "cell_type": "code",
   "execution_count": 13,
   "id": "61100547-85b6-4bb3-a17d-11a5de63bed0",
   "metadata": {},
   "outputs": [],
   "source": [
    "from langchain_core.prompts import ChatPromptTemplate"
   ]
  },
  {
   "cell_type": "code",
   "execution_count": 14,
   "id": "0ed49b3b-c0c1-49cd-b52a-a526563c6b8f",
   "metadata": {},
   "outputs": [],
   "source": [
    "system_template = \"Translate the following text input into {language}:\""
   ]
  },
  {
   "cell_type": "code",
   "execution_count": 15,
   "id": "2a12e297-5ead-4c23-b91a-cc1d1c1aaef0",
   "metadata": {},
   "outputs": [],
   "source": [
    "prompt_template = ChatPromptTemplate.from_messages(\n",
    "    [\n",
    "        (\"system\", system_template), \n",
    "        (\"user\", \"{text_input}\")\n",
    "    ]\n",
    ")"
   ]
  },
  {
   "cell_type": "code",
   "execution_count": 16,
   "id": "785aeccb-fed1-4522-8f67-0ed0a05f6b71",
   "metadata": {},
   "outputs": [],
   "source": [
    "SecondChain = prompt_template | llm | parser"
   ]
  },
  {
   "cell_type": "code",
   "execution_count": 17,
   "id": "12eb314d-e386-4c82-bee8-ed5eb06898fd",
   "metadata": {},
   "outputs": [],
   "source": [
    "ResponseFromTheLLM = SecondChain.invoke(\n",
    "    {\n",
    "    \"language\": \"Spanish\",\n",
    "    \"text_input\": \"Now is the moment to learn Generative AI!\"\n",
    "    }\n",
    ")"
   ]
  },
  {
   "cell_type": "code",
   "execution_count": 18,
   "id": "3cc0527f-17b8-4f8c-9b5a-37c5efd18ae7",
   "metadata": {},
   "outputs": [
    {
     "name": "stdout",
     "output_type": "stream",
     "text": [
      "¡Ahora es el momento de aprender sobre IA Generativa!\n"
     ]
    }
   ],
   "source": [
    "print(ResponseFromTheLLM)"
   ]
  },
  {
   "cell_type": "markdown",
   "id": "ae9826d1-5d80-4456-86a6-bfbf69db51c0",
   "metadata": {},
   "source": [
    "## Deploy App using LangServe"
   ]
  },
  {
   "cell_type": "code",
   "execution_count": 19,
   "id": "8c9635ec-22b1-43e2-85f7-316b83380945",
   "metadata": {},
   "outputs": [],
   "source": [
    "# !pip install \"langserve[all]\""
   ]
  },
  {
   "cell_type": "code",
   "execution_count": 21,
   "id": "65a0f62a-6ddd-483a-b0d7-801b4bc4c77f",
   "metadata": {},
   "outputs": [
    {
     "name": "stderr",
     "output_type": "stream",
     "text": [
      "INFO:     Started server process [16248]\n",
      "INFO:     Waiting for application startup.\n",
      "INFO:     Application startup complete.\n",
      "INFO:     Uvicorn running on http://localhost:8000 (Press CTRL+C to quit)\n"
     ]
    },
    {
     "name": "stdout",
     "output_type": "stream",
     "text": [
      "\n",
      "     __          ___      .__   __.   _______      _______. _______ .______     ____    ____  _______\n",
      "    |  |        /   \\     |  \\ |  |  /  _____|    /       ||   ____||   _  \\    \\   \\  /   / |   ____|\n",
      "    |  |       /  ^  \\    |   \\|  | |  |  __     |   (----`|  |__   |  |_)  |    \\   \\/   /  |  |__\n",
      "    |  |      /  /_\\  \\   |  . `  | |  | |_ |     \\   \\    |   __|  |      /      \\      /   |   __|\n",
      "    |  `----./  _____  \\  |  |\\   | |  |__| | .----)   |   |  |____ |  |\\  \\----.  \\    /    |  |____\n",
      "    |_______/__/     \\__\\ |__| \\__|  \\______| |_______/    |_______|| _| `._____|   \\__/     |_______|\n",
      "    \n",
      "\u001b[1;32;40mLANGSERVE:\u001b[0m Playground for chain \"/chain/\" is live at:\n",
      "\u001b[1;32;40mLANGSERVE:\u001b[0m  │\n",
      "\u001b[1;32;40mLANGSERVE:\u001b[0m  └──> /chain/playground/\n",
      "\u001b[1;32;40mLANGSERVE:\u001b[0m\n",
      "\u001b[1;32;40mLANGSERVE:\u001b[0m See all available routes at /docs/\n",
      "INFO:     ::1:1748 - \"GET /chain/playground/ HTTP/1.1\" 200 OK\n",
      "INFO:     ::1:1748 - \"GET /chain/playground/assets/index-400979f0.js HTTP/1.1\" 200 OK\n",
      "INFO:     ::1:1749 - \"GET /chain/playground/assets/index-52e8ab2f.css HTTP/1.1\" 200 OK\n",
      "INFO:     ::1:1755 - \"POST /chain/stream_log HTTP/1.1\" 200 OK\n",
      "INFO:     ::1:1768 - \"GET /chain/c/N4XyA/playground HTTP/1.1\" 307 Temporary Redirect\n",
      "INFO:     ::1:1768 - \"GET /chain/c/N4XyA/playground/ HTTP/1.1\" 200 OK\n",
      "INFO:     ::1:1768 - \"GET /chain/playground/assets/index-400979f0.js HTTP/1.1\" 200 OK\n",
      "INFO:     ::1:1769 - \"GET /chain/playground/assets/index-52e8ab2f.css HTTP/1.1\" 200 OK\n",
      "INFO:     ::1:1768 - \"GET /chain/c/N4XyA/input_schema HTTP/1.1\" 200 OK\n"
     ]
    },
    {
     "name": "stderr",
     "output_type": "stream",
     "text": [
      "INFO:     Shutting down\n",
      "INFO:     Waiting for application shutdown.\n",
      "INFO:     Application shutdown complete.\n",
      "INFO:     Finished server process [16248]\n"
     ]
    }
   ],
   "source": [
    "from fastapi import FastAPI\n",
    "from langserve import add_routes\n",
    "from langchain_core.prompts import ChatPromptTemplate\n",
    "from langchain_core.output_parsers import StrOutputParser\n",
    "from langchain_openai import ChatOpenAI\n",
    "from dotenv import load_dotenv, find_dotenv\n",
    "\n",
    "import os\n",
    "\n",
    "_ = load_dotenv(find_dotenv())\n",
    "\n",
    "openai_api_key = os.environ[\"OPENAI_API_KEY\"]\n",
    "\n",
    "# llm = ChatOpenAI(model=\"gpt-3.5-turbo\")\n",
    "llm = ChatOpenAI(model=MODEL_GPT)\n",
    "\n",
    "parser = StrOutputParser()\n",
    "\n",
    "system_template = \"Translate the following into {language}:\"\n",
    "\n",
    "prompt_template = ChatPromptTemplate.from_messages([\n",
    "    ('system', system_template),\n",
    "    ('user', '{text}')\n",
    "])\n",
    "\n",
    "chain = prompt_template | llm | parser\n",
    "\n",
    "app = FastAPI(\n",
    "  title=\"simpleTranslator\",\n",
    "  version=\"1.0\",\n",
    "  description=\"A simple API server using LangChain's Runnable interfaces\",\n",
    ")\n",
    "\n",
    "add_routes(\n",
    "    app,\n",
    "    chain,\n",
    "    path=\"/chain\",\n",
    ")\n",
    "\n",
    "# [RuntimeError: asyncio.run() cannot be called from a running event loop]\n",
    "# if __name__ == \"__main__\":\n",
    "#     import uvicorn\n",
    "\n",
    "#     uvicorn.run(app, host=\"localhost\", port=8000)\n",
    "\n",
    "if __name__ == \"__main__\":\n",
    "    import uvicorn\n",
    "    \n",
    "    config = uvicorn.Config(app, host=\"localhost\", port=8000)\n",
    "    server = uvicorn.Server(config)\n",
    "    await server.serve()  # Use inside an async function"
   ]
  },
  {
   "cell_type": "markdown",
   "id": "7645a0cb-c045-4836-a619-63b76fcb09bf",
   "metadata": {},
   "source": [
    "### Run server\n",
    "* In terminal:\n",
    "    * python simpleTranslator.py\n",
    "* Check app in browser:\n",
    "    * [http://localhost:8000/](http://localhost:8000/)"
   ]
  },
  {
   "cell_type": "markdown",
   "id": "e003a928-db18-4c16-92e3-594180c4c5ae",
   "metadata": {},
   "source": [
    "### Try app using \"toy demo UI\" provided by LangServe Playground\n",
    "* Try app in browser:\n",
    "    * [http://localhost:8000/chain/playground/](http://localhost:8000/chain/playground/) "
   ]
  },
  {
   "cell_type": "markdown",
   "id": "9cc518dd-a621-4f64-850c-12632133e379",
   "metadata": {},
   "source": [
    "### We can use LangServe Playground from notebook"
   ]
  },
  {
   "cell_type": "code",
   "execution_count": 63,
   "id": "a67a8b87-dadf-448c-a639-168914356140",
   "metadata": {},
   "outputs": [
    {
     "data": {
      "text/plain": [
       "'La inteligencia artificial generativa es una oportunidad más grande que Internet.'"
      ]
     },
     "execution_count": 63,
     "metadata": {},
     "output_type": "execute_result"
    }
   ],
   "source": [
    "from langserve import RemoteRunnable\n",
    "\n",
    "remote_chain = RemoteRunnable(\"http://localhost:8000/chain/\")\n",
    "remote_chain.invoke({\"language\": \"Spanish\", \"text\": \"Generative AI is a bigger opportunity than Internet\"})"
   ]
  }
 ],
 "metadata": {
  "kernelspec": {
   "display_name": "Python 3 (ipykernel)",
   "language": "python",
   "name": "python3"
  },
  "language_info": {
   "codemirror_mode": {
    "name": "ipython",
    "version": 3
   },
   "file_extension": ".py",
   "mimetype": "text/x-python",
   "name": "python",
   "nbconvert_exporter": "python",
   "pygments_lexer": "ipython3",
   "version": "3.11.11"
  }
 },
 "nbformat": 4,
 "nbformat_minor": 5
}
