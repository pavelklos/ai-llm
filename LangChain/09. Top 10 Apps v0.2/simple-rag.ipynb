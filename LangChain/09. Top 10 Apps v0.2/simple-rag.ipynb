{
 "cells": [
  {
   "cell_type": "markdown",
   "id": "5d733e1a-fff5-4739-b702-cc4af0a69d41",
   "metadata": {},
   "source": [
    "# How to build simple RAG LLM App with LangChain"
   ]
  },
  {
   "cell_type": "markdown",
   "id": "d0399355-dece-4701-9bf4-4c204fe74929",
   "metadata": {},
   "source": [
    "## Concepts included\n",
    "* RAG"
   ]
  },
  {
   "cell_type": "code",
   "execution_count": 1,
   "id": "992ec4a9-aa01-4e44-aeb9-b9a1f3aa9e54",
   "metadata": {},
   "outputs": [],
   "source": [
    "import os\n",
    "from dotenv import load_dotenv, find_dotenv\n",
    "_ = load_dotenv(find_dotenv())\n",
    "openai_api_key = os.environ[\"OPENAI_API_KEY\"]"
   ]
  },
  {
   "cell_type": "code",
   "execution_count": 2,
   "id": "f733ab98-2ac3-42f2-b1c3-24b047711f51",
   "metadata": {},
   "outputs": [],
   "source": [
    "MODEL_GPT = 'gpt-4o-mini'"
   ]
  },
  {
   "cell_type": "code",
   "execution_count": 3,
   "id": "c03febb1-c3de-485a-ae2d-b68066790912",
   "metadata": {},
   "outputs": [
    {
     "name": "stdout",
     "output_type": "stream",
     "text": [
      "langchain                                0.3.13\n",
      "langchain-chroma                         0.1.4\n",
      "langchain-community                      0.3.13\n",
      "langchain-core                           0.3.43\n",
      "langchain-experimental                   0.3.4\n",
      "langchain-google-community               2.0.7\n",
      "langchain-groq                           0.2.5\n",
      "langchain-openai                         0.2.14\n",
      "langchain-text-splitters                 0.3.4\n",
      "langchainhub                             0.1.21\n"
     ]
    }
   ],
   "source": [
    "# !pip list | grep langchain\n",
    "!pip list | findstr langchain"
   ]
  },
  {
   "cell_type": "markdown",
   "id": "cc2af3ef-c2c7-445f-92bd-a29c68abce25",
   "metadata": {},
   "source": [
    "## Connect with LLM and start conversation with it"
   ]
  },
  {
   "cell_type": "code",
   "execution_count": 4,
   "id": "9afcbc7d-a816-41e3-925f-850883f5770d",
   "metadata": {},
   "outputs": [],
   "source": [
    "from langchain_openai import ChatOpenAI\n",
    "\n",
    "# llm = ChatOpenAI(model=\"gpt-3.5-turbo\")\n",
    "llm = ChatOpenAI(model=MODEL_GPT)"
   ]
  },
  {
   "cell_type": "markdown",
   "id": "9913fc8c-254f-410d-aa8f-35eb0898855e",
   "metadata": {},
   "source": [
    "### Track operation in LangSmith\n",
    "* [Open LangSmith here](https://smith.langchain.com/)"
   ]
  },
  {
   "cell_type": "code",
   "execution_count": 5,
   "id": "f1335eda-9f6e-4388-b228-36c464900f96",
   "metadata": {},
   "outputs": [],
   "source": [
    "# !pip install langchain-chroma langchain-community langchain-hub\n",
    "# !pip install langchainhub"
   ]
  },
  {
   "cell_type": "code",
   "execution_count": 6,
   "id": "d7929b56-bed5-47ec-868a-7e452a50f2f7",
   "metadata": {},
   "outputs": [
    {
     "data": {
      "text/plain": [
       "'The article discusses principles for startups, emphasizing the importance of creating products that people want and not overly focusing on immediate profitability. It suggests that successful businesses can operate with a charitable mindset, drawing parallels with companies like Craigslist. Ultimately, it explores the idea that effective business practices can resemble charitable operations while still achieving success.'"
      ]
     },
     "execution_count": 6,
     "metadata": {},
     "output_type": "execute_result"
    }
   ],
   "source": [
    "import bs4\n",
    "from langchain import hub\n",
    "from langchain_chroma import Chroma\n",
    "from langchain_community.document_loaders import TextLoader\n",
    "from langchain_core.output_parsers import StrOutputParser\n",
    "from langchain_core.runnables import RunnablePassthrough\n",
    "from langchain_openai import OpenAIEmbeddings\n",
    "from langchain_text_splitters import RecursiveCharacterTextSplitter\n",
    "\n",
    "# loader = TextLoader(\"./data/be-good.txt\")\n",
    "loader = TextLoader(\"../../data/be-good.txt\")\n",
    "\n",
    "docs = loader.load()\n",
    "\n",
    "text_splitter = RecursiveCharacterTextSplitter(chunk_size=1000, chunk_overlap=200)\n",
    "\n",
    "splits = text_splitter.split_documents(docs)\n",
    "\n",
    "vectorstore = Chroma.from_documents(documents=splits, embedding=OpenAIEmbeddings())\n",
    "\n",
    "retriever = vectorstore.as_retriever()\n",
    "\n",
    "prompt = hub.pull(\"rlm/rag-prompt\")\n",
    "\n",
    "def format_docs(docs):\n",
    "    return \"\\n\\n\".join(doc.page_content for doc in docs)\n",
    "\n",
    "\n",
    "rag_chain = (\n",
    "    {\"context\": retriever | format_docs, \"question\": RunnablePassthrough()}\n",
    "    | prompt\n",
    "    | llm\n",
    "    | StrOutputParser()\n",
    ")\n",
    "\n",
    "rag_chain.invoke(\"What is this article about?\")"
   ]
  },
  {
   "cell_type": "code",
   "execution_count": 7,
   "id": "10417aca-a172-48d1-9e01-0e40951058c8",
   "metadata": {},
   "outputs": [
    {
     "data": {
      "text/plain": [
       "'Tento článek se zabývá myšlenkou, že úspěšné podnikání může fungovat jako charita, přičemž zdůrazňuje, že je důležité vytvořit něco, co lidé chtějí. Autor diskutuje o příkladu Craigslistu, který sice není charitou, ale přistupuje k podnikání s benevolentním přístupem. Zároveň naznačuje, že dobré úmysly samy o sobě nezaručují pozitivní výsledky.'"
      ]
     },
     "execution_count": 7,
     "metadata": {},
     "output_type": "execute_result"
    }
   ],
   "source": [
    "rag_chain.invoke(\"What is this article about, answer in Czech language?\")"
   ]
  },
  {
   "cell_type": "markdown",
   "id": "3f8d8208-e9f3-46e4-b15c-61479b56b4ff",
   "metadata": {},
   "source": [
    "### Prompt we got from LangChain hub"
   ]
  },
  {
   "cell_type": "code",
   "execution_count": 8,
   "id": "aa11d60f-7cb0-4ca4-81c5-004d77aaac57",
   "metadata": {},
   "outputs": [
    {
     "data": {
      "text/plain": [
       "ChatPromptTemplate(input_variables=['context', 'question'], input_types={}, partial_variables={}, metadata={'lc_hub_owner': 'rlm', 'lc_hub_repo': 'rag-prompt', 'lc_hub_commit_hash': '50442af133e61576e74536c6556cefe1fac147cad032f4377b60c436e6cdcb6e'}, messages=[HumanMessagePromptTemplate(prompt=PromptTemplate(input_variables=['context', 'question'], input_types={}, partial_variables={}, template=\"You are an assistant for question-answering tasks. Use the following pieces of retrieved context to answer the question. If you don't know the answer, just say that you don't know. Use three sentences maximum and keep the answer concise.\\nQuestion: {question} \\nContext: {context} \\nAnswer:\"), additional_kwargs={})])"
      ]
     },
     "execution_count": 8,
     "metadata": {},
     "output_type": "execute_result"
    }
   ],
   "source": [
    "prompt"
   ]
  },
  {
   "cell_type": "code",
   "execution_count": 9,
   "id": "2b2e7a9c-36d0-42df-a4fa-04d4e458776d",
   "metadata": {},
   "outputs": [
    {
     "data": {
      "text/plain": [
       "['context', 'question']"
      ]
     },
     "execution_count": 9,
     "metadata": {},
     "output_type": "execute_result"
    }
   ],
   "source": [
    "prompt.input_variables"
   ]
  },
  {
   "cell_type": "code",
   "execution_count": 10,
   "id": "c1156e55-91dc-404d-8501-2ff53dcda582",
   "metadata": {},
   "outputs": [
    {
     "data": {
      "text/plain": [
       "[HumanMessagePromptTemplate(prompt=PromptTemplate(input_variables=['context', 'question'], input_types={}, partial_variables={}, template=\"You are an assistant for question-answering tasks. Use the following pieces of retrieved context to answer the question. If you don't know the answer, just say that you don't know. Use three sentences maximum and keep the answer concise.\\nQuestion: {question} \\nContext: {context} \\nAnswer:\"), additional_kwargs={})]"
      ]
     },
     "execution_count": 10,
     "metadata": {},
     "output_type": "execute_result"
    }
   ],
   "source": [
    "prompt.messages"
   ]
  }
 ],
 "metadata": {
  "kernelspec": {
   "display_name": "Python 3 (ipykernel)",
   "language": "python",
   "name": "python3"
  },
  "language_info": {
   "codemirror_mode": {
    "name": "ipython",
    "version": 3
   },
   "file_extension": ".py",
   "mimetype": "text/x-python",
   "name": "python",
   "nbconvert_exporter": "python",
   "pygments_lexer": "ipython3",
   "version": "3.11.11"
  }
 },
 "nbformat": 4,
 "nbformat_minor": 5
}
