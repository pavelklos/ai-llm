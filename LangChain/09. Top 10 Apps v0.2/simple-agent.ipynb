{
 "cells": [
  {
   "cell_type": "markdown",
   "id": "5d733e1a-fff5-4739-b702-cc4af0a69d41",
   "metadata": {},
   "source": [
    "# How to build simple Agent LLM App with LangGraph"
   ]
  },
  {
   "cell_type": "markdown",
   "id": "d0399355-dece-4701-9bf4-4c204fe74929",
   "metadata": {
    "jp-MarkdownHeadingCollapsed": true
   },
   "source": [
    "## Concepts included\n",
    "* LangGraph"
   ]
  },
  {
   "cell_type": "code",
   "execution_count": 2,
   "id": "992ec4a9-aa01-4e44-aeb9-b9a1f3aa9e54",
   "metadata": {},
   "outputs": [],
   "source": [
    "import os\n",
    "from dotenv import load_dotenv, find_dotenv\n",
    "_ = load_dotenv(find_dotenv())\n",
    "openai_api_key = os.environ[\"OPENAI_API_KEY\"]"
   ]
  },
  {
   "cell_type": "code",
   "execution_count": 4,
   "id": "c03febb1-c3de-485a-ae2d-b68066790912",
   "metadata": {},
   "outputs": [
    {
     "name": "stdout",
     "output_type": "stream",
     "text": [
      "langchain                 0.2.1\n",
      "langchain-community       0.2.1\n",
      "langchain-core            0.2.3\n",
      "langchain-openai          0.1.8\n",
      "langchain-text-splitters  0.2.0\n",
      "\n",
      "\u001b[1m[\u001b[0m\u001b[34;49mnotice\u001b[0m\u001b[1;39;49m]\u001b[0m\u001b[39;49m A new release of pip is available: \u001b[0m\u001b[31;49m23.1.2\u001b[0m\u001b[39;49m -> \u001b[0m\u001b[32;49m24.1\u001b[0m\n",
      "\u001b[1m[\u001b[0m\u001b[34;49mnotice\u001b[0m\u001b[1;39;49m]\u001b[0m\u001b[39;49m To update, run: \u001b[0m\u001b[32;49mpython3.11 -m pip install --upgrade pip\u001b[0m\n"
     ]
    }
   ],
   "source": [
    "!pip list | grep langchain"
   ]
  },
  {
   "cell_type": "markdown",
   "id": "cc2af3ef-c2c7-445f-92bd-a29c68abce25",
   "metadata": {
    "jp-MarkdownHeadingCollapsed": true
   },
   "source": [
    "## Connect with LLM and start conversation with it"
   ]
  },
  {
   "cell_type": "code",
   "execution_count": 6,
   "id": "9afcbc7d-a816-41e3-925f-850883f5770d",
   "metadata": {},
   "outputs": [],
   "source": [
    "from langchain_openai import ChatOpenAI\n",
    "\n",
    "llm = ChatOpenAI(model=\"gpt-3.5-turbo\")"
   ]
  },
  {
   "cell_type": "markdown",
   "id": "9913fc8c-254f-410d-aa8f-35eb0898855e",
   "metadata": {},
   "source": [
    "### Track operation in LangSmith\n",
    "* [Open LangSmith here](https://smith.langchain.com/)"
   ]
  },
  {
   "cell_type": "markdown",
   "id": "edabbbe2-3b88-4554-bb31-a135408a9495",
   "metadata": {},
   "source": [
    "## Agents\n",
    "* Agents use LLMs as reasoning engines to determine which actions to take"
   ]
  },
  {
   "cell_type": "markdown",
   "id": "3d0f80a4-02b5-4987-8f46-28cec86b4946",
   "metadata": {
    "jp-MarkdownHeadingCollapsed": true
   },
   "source": [
    "## Tool-using Agent\n",
    "* We will need to add our Tavily API key in .env file\n",
    "* TAVILY_API_KEY="
   ]
  },
  {
   "cell_type": "code",
   "execution_count": 7,
   "id": "ac0fe589-89fd-4edd-a526-c0f7e584612f",
   "metadata": {},
   "outputs": [],
   "source": [
    "#pip install langgraph"
   ]
  },
  {
   "cell_type": "markdown",
   "id": "6a5be8d9-3b54-4e65-beee-0df3237ad239",
   "metadata": {},
   "source": [
    "### Define tools"
   ]
  },
  {
   "cell_type": "code",
   "execution_count": 24,
   "id": "41791f51-0372-42ce-9fb5-237323408617",
   "metadata": {},
   "outputs": [
    {
     "data": {
      "text/plain": [
       "[{'url': 'https://www.nbcsports.com/soccer/news/euro-2024-player-power-rankings-who-are-the-top-20-stars',\n",
       "  'content': '4. Kevin de Bruyne (Belgium) 3. Rodri (Spain) 2. Harry Kane (England) 1. Kylian Mbappe (France) On the bubble: Andriy Yarmolenko, Alvaro Morata, Dani Olmo, Benjamin Sesko, Aleksandar Mitrovic, Bernardo Silva, Micky van de Ven, Jeremie Frimpong, Davide Frattesi, Leroy Sane, Manuel Neuer, Florian Wirtz, Antonio Rudiger, Khvicha Kvaratskhelia ...'},\n",
       " {'url': 'https://www.theringer.com/soccer/2024/6/12/24176241/euro-2024-power-rankings',\n",
       "  'content': '16. Ukraine (Group E) Ukraine has more talent than its underlying statistical profile would suggest it does. It is one of three teams to qualify with a negative xG differential in qualifying ...'}]"
      ]
     },
     "execution_count": 24,
     "metadata": {},
     "output_type": "execute_result"
    }
   ],
   "source": [
    "from langchain_community.tools.tavily_search import TavilySearchResults\n",
    "search = TavilySearchResults(max_results=2)\n",
    "search.invoke(\"Who are the top stars of the 2024 Eurocup?\")"
   ]
  },
  {
   "cell_type": "code",
   "execution_count": 10,
   "id": "69a2b11c-5c7c-40d8-aa37-5f6aeb4128c9",
   "metadata": {},
   "outputs": [],
   "source": [
    "tools = [search]"
   ]
  },
  {
   "cell_type": "code",
   "execution_count": 11,
   "id": "c232d6a6-5b2d-4764-b2ea-58a9546a9fc2",
   "metadata": {},
   "outputs": [],
   "source": [
    "# In order to enable this model to do tool calling we use .bind_tools to give language model knowledge of these tools\n",
    "\n",
    "llm_with_tools = llm.bind_tools(tools)"
   ]
  },
  {
   "cell_type": "markdown",
   "id": "a22e045c",
   "metadata": {
    "jp-MarkdownHeadingCollapsed": true
   },
   "source": [
    "## Create agent"
   ]
  },
  {
   "cell_type": "code",
   "execution_count": 12,
   "id": "3d358d2a-9b02-4761-b34c-66545149e4a3",
   "metadata": {},
   "outputs": [],
   "source": [
    "from langgraph.prebuilt import chat_agent_executor\n",
    "\n",
    "agent_executor = chat_agent_executor.create_tool_calling_executor(llm, tools)"
   ]
  },
  {
   "cell_type": "markdown",
   "id": "91674e8f",
   "metadata": {
    "jp-MarkdownHeadingCollapsed": true
   },
   "source": [
    "## Run agent"
   ]
  },
  {
   "cell_type": "code",
   "execution_count": 19,
   "id": "0074c0c0-ff35-42c4-b862-3b0aa6abbe54",
   "metadata": {},
   "outputs": [
    {
     "data": {
      "text/plain": [
       "[HumanMessage(content='Where is the soccer Eurocup 2024 played?', id='25bbe305-75d5-4442-ae81-94fcf4dda6bf'),\n",
       " AIMessage(content='', additional_kwargs={'tool_calls': [{'id': 'call_VLtoqg91gfUSTOai9oro2VeW', 'function': {'arguments': '{\"query\":\"Soccer Eurocup 2024 location\"}', 'name': 'tavily_search_results_json'}, 'type': 'function'}]}, response_metadata={'token_usage': {'completion_tokens': 25, 'prompt_tokens': 92, 'total_tokens': 117}, 'model_name': 'gpt-3.5-turbo', 'system_fingerprint': None, 'finish_reason': 'tool_calls', 'logprobs': None}, id='run-0ce3ef27-88f5-439c-b1e2-54179ebb6789-0', tool_calls=[{'name': 'tavily_search_results_json', 'args': {'query': 'Soccer Eurocup 2024 location'}, 'id': 'call_VLtoqg91gfUSTOai9oro2VeW'}], usage_metadata={'input_tokens': 92, 'output_tokens': 25, 'total_tokens': 117}),\n",
       " ToolMessage(content='[{\"url\": \"https://www.uefa.com/euro2024/news/0273-14ac084902cc-9ef59ec61319-1000--euro-2024-host-cities-venue-guide/\", \"content\": \"BVB Stadion Dortmund\\\\nBVB Stadion Dortmund history\\\\nOne of the most renowned venues in world football thanks to its famous \\'Yellow Wall\\' stand, the BVB Stadion Dortmund is one of the largest arenas at UEFA EURO 2024 and has hosted a string of World Cup and European football fixtures, including the 2001 UEFA Cup final between Liverpool and Deportivo Alav\\\\u00e9s.\\\\nEURO 2024 matches\\\\n15/06: Italy vs Albania\\\\u00a0(21:00)18/06: T\\\\u00fcrkiye vs Play-off winner C\\\\u00a0(18:00)22/06: T\\\\u00fcrkiye vs Portugal\\\\u00a0(18:00)25/06: France vs Play-off winner A\\\\u00a0(18:00)29/06: Round of 16 \\\\u2013 1A vs 2C (21:00)10/07: Semi-final (21:00)\\\\nD\\\\u00fcsseldorf\\\\nThe capital of North Rhine-Westphalia, D\\\\u00fcsseldorf has 650,000 inhabitants and more than 250 beer houses and restaurants in its Old Town, which has been dubbed \\'the longest bar in the world\\'.\\\\n It served up a memorable 2012 Champions League final, when Chelsea defied home advantage to beat Bayern on penalties, and held several UEFA EURO 2020 games, including Italy\\'s 2-1 quarter-final victory against Belgium.\\\\nEURO 2024 matches\\\\n14/06: Germany vs Scotland\\\\u00a0(21:00)17/06: Romania vs Play-off winner B\\\\u00a0(15:00)20/06: Slovenia vs Serbia (15:00)\\\\u00a025/06: Denmark vs Serbia\\\\u00a0(21:00)\\\\u00a002/07: Round of 16 \\\\u2013 1E vs 3A/B/C/D (18:00)09/07: Semi-final (21:00)\\\\nStuttgart\\\\nStuttgart is a major industrial city and home to two of the most famous car manufacturers in the world, Mercedes and Porsche, but visitors can also enjoy a rich winemaking and culinary scene, with Fl\\\\u00e4dlesuppe (pancake soup) among the local specialities.\\\\n Frankfurt Arena\\\\nFrankfurt Arena history\\\\nThe Frankfurt Arena, home of Eintracht Frankfurt, was built in 1925 and has hosted games at several major tournaments including the 1988 UEFA European Championship and the 2006 World Cup.\\\\nEURO 2024 matches\\\\n17/06: Belgium vs Slovakia\\\\u00a0(18:00)\\\\u00a020/06: Denmark vs England\\\\u00a0(18:00)23/06: Switzerland vs Germany\\\\u00a0(21:00)26/06: Slovakia vs Romania\\\\u00a0(18:00)01/07: Round of 16 \\\\u2013 1F vs 3A/B/C (21:00)\\\\n Selected for you\\\\nYour in-depth guide to EURO\\\\nEURO 2024 match schedule\\\\nEURO 2024 fixtures by venue\\\\nEURO 2024 fixtures by team\\\\nAlso visit\\\\nChange language\\\\nServices links and disclaimer\\\\n\\\\u00a9 1998-2024 UEFA. A vs Austria (18:00)25/06: Netherlands vs Austria (18:00)29/06: Round of 16 \\\\u2013 2A vs 2B (18:00)06/07: Quarter-final (21:00)14/07: Final (21:00)\\\\nCologne\\\\nA city with a rich history, Cologne sits on the River Rhine and is home to more than one million inhabitants, as well as Germany\\'s most visited landmark: the Cathedral Church of Saint Peter, a UNESCO World Heritage Site.\\\\n\"}, {\"url\": \"https://www.uefa.com/euro2024/news/0275-151eb1c333ea-d30deec67b13-1000--uefa-euro-2024-fixtures-when-and-where-are-the-matches/\", \"content\": \"When does the EURO 2024 round of 16 start?\\\\n29 June38 2A vs 2B (Berlin\\\\ufeff, 18:00)37 1A vs 2C (Dortmund, 21:00)\\\\n30 June40 1C vs 3D/E/F (Gelsenkirchen), 18:00)39 1B vs 3A/D/E/F (Cologne, 21:00)\\\\n1 July42 2D vs 2E (D\\\\u00fcsseldorf\\\\ufeff, 18:00)41 1F vs 3A/B/C (Frankfurt, 21:00)\\\\n2 July43 1E vs 3A/B/C/D (Munich, 18:00)44 1D vs 2F (Leipzig), 21:00)\\\\nRest days on 3 and 4 July\\\\nWhen do the EURO 2024 quarter-finals start?\\\\n5 July45 W39 vs W37 (Stuttgart, 18:00)46 W41 vs W42 (Hamburg, 21:00)\\\\n6 July48 W40 vs W38 (D\\\\u00fcsseldorf, 18:00)47 W43 vs W44 (Berlin, 21:00)\\\\nRest days on 7 and 8 July\\\\nWhen do the EURO 2024 semi-finals start?\\\\n9 July49 W45 vs W46 (Munich, 21:00)\\\\n10 July50 W47 vs W48 (Dortmund, 21:00)\\\\n 17 JuneE: Romania vs Play-off winner B (Munich, 15:00)E: Belgium vs Slovakia (Frankfurt, 18:00)D: Austria vs France (D\\\\u00fcsseldorf, 21:00)\\\\n18 JuneF: T\\\\u00fcrkiye vs Play-off winner C\\\\n(Dortmund, 18:00)F: Portugal vs Czechia (Leipzig, 21:00)\\\\n19 JuneB: Croatia vs Albania (Hamburg, 15:00)A: Germany vs Hungary (Stuttgart, 18:00)A: Scotland vs Switzerland (Cologne, 21:00)\\\\n20 JuneC: Slovenia vs Serbia (Munich, 15:00)C: Denmark vs England (Frankfurt, 18:00)B: Spain vs Italy (Gelsenkirchen, 21:00)\\\\n21 JuneE: Slovakia vs Play-off winner B (D\\\\u00fcsseldorf, 15:00)D: Play-off winner A vs Austria (Berlin, 18:00)D: Netherlands vs France (Leipzig, 21:00)\\\\n Albania vs Spain (D\\\\u00fcsseldorf, 21:00)\\\\n25 JuneD: Netherlands vs Austria (Berlin, 18:00)D: France vs Play-off winner A (Dortmund, 18:00)C: England vs Slovenia (Cologne, 21:00)C: Denmark vs Serbia (Munich, 21:00)\\\\n26 JuneE: Slovakia vs Romania (Frankfurt, 18:00)E: Play-off winner B vs Belgium (Stuttgart, 18:00)F: Czechia vs T\\\\u00fcrkiye (Hamburg, 21:00)F: Play-off winner C vs Portugal (Gelsenkirchen, 21:00)\\\\nRest days on 27 and 28 June\\\\n 22 JuneF: Play-off winner C vs Czechia (Hamburg, 15:00)F: T\\\\u00fcrkiye vs Portugal (Dortmund, 18:00)E: Belgium vs Romania (Cologne, 21:00)\\\\n23 JuneA: Switzerland vs Germany (Frankfurt, 21:00)A: Scotland vs Hungary (Stuttgart, 21:00)\\\\n24 JuneB: Croatia vs Italy (Leipzig, 21:00)B: When does EURO 2024 start?\\\\nGroup stage\\\\n14 JuneGroup A: Germany vs Scotland (Munich, 21:00)\\\\n15 JuneA: Hungary vs Switzerland (Cologne, 15:00)B: Spain vs Croatia (Berlin, 18:00)B: Italy vs Albania (Dortmund, 21:00)\\\\n\"}]', name='tavily_search_results_json', id='db3469bd-e898-4173-a06e-5fdfa66f10f0', tool_call_id='call_VLtoqg91gfUSTOai9oro2VeW'),\n",
       " AIMessage(content='The Soccer Eurocup 2024 matches are played in multiple cities in Germany. Some of the host cities for the EURO 2024 matches include Dortmund, Düsseldorf, Stuttgart, Frankfurt, and Cologne.', response_metadata={'token_usage': {'completion_tokens': 42, 'prompt_tokens': 1990, 'total_tokens': 2032}, 'model_name': 'gpt-3.5-turbo', 'system_fingerprint': None, 'finish_reason': 'stop', 'logprobs': None}, id='run-a9688b9a-722c-4359-9638-1ca956555ca5-0', usage_metadata={'input_tokens': 1990, 'output_tokens': 42, 'total_tokens': 2032})]"
      ]
     },
     "execution_count": 19,
     "metadata": {},
     "output_type": "execute_result"
    }
   ],
   "source": [
    "from langchain_core.messages import HumanMessage\n",
    "\n",
    "response = agent_executor.invoke({\"messages\": [HumanMessage(content=\"Where is the soccer Eurocup 2024 played?\")]})\n",
    "\n",
    "response[\"messages\"]"
   ]
  },
  {
   "cell_type": "code",
   "execution_count": 20,
   "id": "0e9691c4-3bf4-4216-b9c5-54f146071d09",
   "metadata": {},
   "outputs": [
    {
     "name": "stdout",
     "output_type": "stream",
     "text": [
      "{'agent': {'messages': [AIMessage(content='', additional_kwargs={'tool_calls': [{'id': 'call_LD97FzexV807GdQVgeqcl3IF', 'function': {'arguments': '{\"query\":\"2024 Eurocup final match date and location\"}', 'name': 'tavily_search_results_json'}, 'type': 'function'}]}, response_metadata={'token_usage': {'completion_tokens': 26, 'prompt_tokens': 96, 'total_tokens': 122}, 'model_name': 'gpt-3.5-turbo', 'system_fingerprint': None, 'finish_reason': 'tool_calls', 'logprobs': None}, id='run-633295c6-e95c-4cc9-95ff-eadc64c36098-0', tool_calls=[{'name': 'tavily_search_results_json', 'args': {'query': '2024 Eurocup final match date and location'}, 'id': 'call_LD97FzexV807GdQVgeqcl3IF'}], usage_metadata={'input_tokens': 96, 'output_tokens': 26, 'total_tokens': 122})]}}\n",
      "----\n",
      "{'tools': {'messages': [ToolMessage(content='[{\"url\": \"https://www.uefa.com/euro2024/news/0284-18bb952a9458-2a9e1ff202c4-1000--euro-2024-final-when-and-where-is-it/\", \"content\": \"The UEFA EURO 2024 final will take place on Sunday 14 July, with kick-off scheduled for 21:00 CET. The match will take place at Olympiastadion Berlin, the biggest stadium at the tournament with a ...\"}, {\"url\": \"https://www.uefa.com/euro2024/news/0275-151eb1c333ea-d30deec67b13-1000--uefa-euro-2024-fixtures-and-results-when-and-where-are-t/\", \"content\": \"When do the EURO 2024 quarter-finals start? 5 July 45 W39 vs W37 ( Stuttgart , 18:00) 46 W41 vs W42 ( Hamburg , 21:00) 6 July 48 W40 vs W38 ( D\\\\u00fcsseldorf , 18:00) 47 W43 vs W44 ( Berlin , 21:00)\"}]', name='tavily_search_results_json', tool_call_id='call_LD97FzexV807GdQVgeqcl3IF')]}}\n",
      "----\n",
      "{'agent': {'messages': [AIMessage(content='The 2024 Eurocup final match will take place on Sunday, 14th July, with kick-off scheduled for 21:00 CET. The match will be held at Olympiastadion Berlin, the biggest stadium at the tournament.', response_metadata={'token_usage': {'completion_tokens': 51, 'prompt_tokens': 388, 'total_tokens': 439}, 'model_name': 'gpt-3.5-turbo', 'system_fingerprint': None, 'finish_reason': 'stop', 'logprobs': None}, id='run-915934ec-fdea-4a88-bca9-1d2c0a76c946-0', usage_metadata={'input_tokens': 388, 'output_tokens': 51, 'total_tokens': 439})]}}\n",
      "----\n"
     ]
    }
   ],
   "source": [
    "for chunk in agent_executor.stream(\n",
    "    {\"messages\": [HumanMessage(content=\"When and where will it be the 2024 Eurocup final match?\")]}\n",
    "):\n",
    "    print(chunk)\n",
    "    print(\"----\")"
   ]
  }
 ],
 "metadata": {
  "kernelspec": {
   "display_name": "Python 3 (ipykernel)",
   "language": "python",
   "name": "python3"
  },
  "language_info": {
   "codemirror_mode": {
    "name": "ipython",
    "version": 3
   },
   "file_extension": ".py",
   "mimetype": "text/x-python",
   "name": "python",
   "nbconvert_exporter": "python",
   "pygments_lexer": "ipython3",
   "version": "3.11.11"
  }
 },
 "nbformat": 4,
 "nbformat_minor": 5
}
