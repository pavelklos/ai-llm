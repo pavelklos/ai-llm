{
 "cells": [
  {
   "cell_type": "markdown",
   "id": "5d733e1a-fff5-4739-b702-cc4af0a69d41",
   "metadata": {},
   "source": [
    "# How to build simple Agent LLM App with LangGraph"
   ]
  },
  {
   "cell_type": "markdown",
   "id": "d0399355-dece-4701-9bf4-4c204fe74929",
   "metadata": {},
   "source": [
    "## Concepts included\n",
    "* LangGraph"
   ]
  },
  {
   "cell_type": "code",
   "execution_count": 1,
   "id": "992ec4a9-aa01-4e44-aeb9-b9a1f3aa9e54",
   "metadata": {},
   "outputs": [],
   "source": [
    "import os\n",
    "from dotenv import load_dotenv, find_dotenv\n",
    "_ = load_dotenv(find_dotenv())\n",
    "openai_api_key = os.environ[\"OPENAI_API_KEY\"]"
   ]
  },
  {
   "cell_type": "code",
   "execution_count": 2,
   "id": "39fb5e70-56ed-4636-9fd2-9bb143003767",
   "metadata": {},
   "outputs": [],
   "source": [
    "MODEL_GPT = 'gpt-4o-mini'"
   ]
  },
  {
   "cell_type": "code",
   "execution_count": 3,
   "id": "c03febb1-c3de-485a-ae2d-b68066790912",
   "metadata": {},
   "outputs": [
    {
     "name": "stdout",
     "output_type": "stream",
     "text": [
      "langchain                                0.3.13\n",
      "langchain-chroma                         0.1.4\n",
      "langchain-community                      0.3.13\n",
      "langchain-core                           0.3.43\n",
      "langchain-experimental                   0.3.4\n",
      "langchain-google-community               2.0.7\n",
      "langchain-groq                           0.2.5\n",
      "langchain-openai                         0.2.14\n",
      "langchain-text-splitters                 0.3.4\n",
      "langchainhub                             0.1.21\n"
     ]
    }
   ],
   "source": [
    "# !pip list | grep langchain\n",
    "!pip list | findstr langchain"
   ]
  },
  {
   "cell_type": "markdown",
   "id": "cc2af3ef-c2c7-445f-92bd-a29c68abce25",
   "metadata": {},
   "source": [
    "## Connect with LLM and start conversation with it"
   ]
  },
  {
   "cell_type": "code",
   "execution_count": 4,
   "id": "9afcbc7d-a816-41e3-925f-850883f5770d",
   "metadata": {},
   "outputs": [],
   "source": [
    "from langchain_openai import ChatOpenAI\n",
    "\n",
    "# llm = ChatOpenAI(model=\"gpt-3.5-turbo\")\n",
    "llm = ChatOpenAI(model=MODEL_GPT)"
   ]
  },
  {
   "cell_type": "markdown",
   "id": "9913fc8c-254f-410d-aa8f-35eb0898855e",
   "metadata": {
    "jp-MarkdownHeadingCollapsed": true
   },
   "source": [
    "### Track operation in LangSmith\n",
    "* [Open LangSmith here](https://smith.langchain.com/)"
   ]
  },
  {
   "cell_type": "markdown",
   "id": "edabbbe2-3b88-4554-bb31-a135408a9495",
   "metadata": {},
   "source": [
    "## Agents\n",
    "* Agents use LLMs as reasoning engines to determine which actions to take"
   ]
  },
  {
   "cell_type": "markdown",
   "id": "3d0f80a4-02b5-4987-8f46-28cec86b4946",
   "metadata": {},
   "source": [
    "## Tool-using Agent\n",
    "* We will need to add our Tavily API key in .env file\n",
    "* TAVILY_API_KEY="
   ]
  },
  {
   "cell_type": "code",
   "execution_count": 5,
   "id": "ac0fe589-89fd-4edd-a526-c0f7e584612f",
   "metadata": {},
   "outputs": [],
   "source": [
    "#pip install langgraph"
   ]
  },
  {
   "cell_type": "markdown",
   "id": "6a5be8d9-3b54-4e65-beee-0df3237ad239",
   "metadata": {},
   "source": [
    "### Define tools"
   ]
  },
  {
   "cell_type": "code",
   "execution_count": 6,
   "id": "41791f51-0372-42ce-9fb5-237323408617",
   "metadata": {},
   "outputs": [
    {
     "data": {
      "text/plain": [
       "[{'url': 'https://www.nbcsports.com/soccer/news/euro-2024-player-power-rankings-who-are-the-top-20-stars',\n",
       "  'content': '- NBC Sports All Sports All Sports Fantasy Sports Basketball Player News All Sports Fantasy Sports Basketball Player News With Kylian Mbappe, Harry Kane and Kevin de Bruyne aiming to lead their teams to glory, plus ageing superstars like Toni Kroos and Cristiano Ronaldo still going strong and young stars Jude Bellingham, Florian Wirtz and Lamine Yamal set to take over, you can look all over the place for star performances this summer. How to watch Aston Villa vs Tottenham Hotspur live: Stream link, TV channel, team news, prediction How to watch Plymouth vs Liverpool live: FA Cup stream link, TV channel, team news, prediction Sports Sports Podcasts Add favorite players, teams, and leagues with an NBCUniversal Profile'},\n",
       " {'url': 'https://bleacherreport.com/articles/10124474-ranking-the-top-10-players-at-euro-2024',\n",
       "  'content': 'Ranking the Top 10 Players at Euro 2024 · 10. Florian Wirtz · 9. Phil Foden · 8. William Saliba · 7. Bernardo Silva · 6. Rodri.'}]"
      ]
     },
     "execution_count": 6,
     "metadata": {},
     "output_type": "execute_result"
    }
   ],
   "source": [
    "from langchain_community.tools.tavily_search import TavilySearchResults\n",
    "search = TavilySearchResults(max_results=2)\n",
    "search.invoke(\"Who are the top stars of the 2024 Eurocup?\")"
   ]
  },
  {
   "cell_type": "code",
   "execution_count": 7,
   "id": "69a2b11c-5c7c-40d8-aa37-5f6aeb4128c9",
   "metadata": {},
   "outputs": [],
   "source": [
    "tools = [search]"
   ]
  },
  {
   "cell_type": "code",
   "execution_count": 8,
   "id": "c232d6a6-5b2d-4764-b2ea-58a9546a9fc2",
   "metadata": {},
   "outputs": [],
   "source": [
    "# In order to enable this model to do tool calling we use .bind_tools to give language model knowledge of these tools\n",
    "\n",
    "llm_with_tools = llm.bind_tools(tools)"
   ]
  },
  {
   "cell_type": "markdown",
   "id": "a22e045c",
   "metadata": {},
   "source": [
    "## Create agent"
   ]
  },
  {
   "cell_type": "code",
   "execution_count": 9,
   "id": "3d358d2a-9b02-4761-b34c-66545149e4a3",
   "metadata": {},
   "outputs": [],
   "source": [
    "from langgraph.prebuilt import chat_agent_executor\n",
    "\n",
    "agent_executor = chat_agent_executor.create_tool_calling_executor(llm, tools)"
   ]
  },
  {
   "cell_type": "markdown",
   "id": "91674e8f",
   "metadata": {},
   "source": [
    "## Run agent"
   ]
  },
  {
   "cell_type": "code",
   "execution_count": 10,
   "id": "0074c0c0-ff35-42c4-b862-3b0aa6abbe54",
   "metadata": {},
   "outputs": [
    {
     "data": {
      "text/plain": [
       "[HumanMessage(content='Where is the soccer Eurocup 2024 played?', additional_kwargs={}, response_metadata={}, id='a5a0d3cc-8f18-4dee-ac7d-73c22c1e7b61'),\n",
       " AIMessage(content='', additional_kwargs={'tool_calls': [{'id': 'call_JKZo4O5GB16FSoGYh3I0JHDU', 'function': {'arguments': '{\"query\":\"Eurocup 2024 location\"}', 'name': 'tavily_search_results_json'}, 'type': 'function'}], 'refusal': None}, response_metadata={'token_usage': {'completion_tokens': 24, 'prompt_tokens': 90, 'total_tokens': 114, 'completion_tokens_details': {'accepted_prediction_tokens': 0, 'audio_tokens': 0, 'reasoning_tokens': 0, 'rejected_prediction_tokens': 0}, 'prompt_tokens_details': {'audio_tokens': 0, 'cached_tokens': 0}}, 'model_name': 'gpt-4o-mini-2024-07-18', 'system_fingerprint': 'fp_06737a9306', 'finish_reason': 'tool_calls', 'logprobs': None}, id='run-d0f04f76-3cb6-4590-b4c2-444b06f11efa-0', tool_calls=[{'name': 'tavily_search_results_json', 'args': {'query': 'Eurocup 2024 location'}, 'id': 'call_JKZo4O5GB16FSoGYh3I0JHDU', 'type': 'tool_call'}], usage_metadata={'input_tokens': 90, 'output_tokens': 24, 'total_tokens': 114, 'input_token_details': {'audio': 0, 'cache_read': 0}, 'output_token_details': {'audio': 0, 'reasoning': 0}}),\n",
       " ToolMessage(content='[{\"url\": \"https://www.foxsports.com/stories/soccer/euro-2024-locations-host-cities-and-stadiums\", \"content\": \"Euro 2024 locations, host cities and stadiums | FOX Sports UEFA Euro UEFA Euro Euro 2024 locations, host cities and stadiums Where is Euro 2024? The Munich Football Arena in Munich will host Germany\\'s opening match against Scotland. Where is the Euro 2024 Final? Berlin\\'s Olympiastadion will host the Euro 2024 Final, which will be held on July 14. Euro 2024 Locations and Stadiums Below is a list of the 2024 host cities as well as their stadiums and capacities: UEFA Euro Use of this website (including any and all parts and components) constitutes your acceptance of these Updated Terms of Use and Privacy Policy | Advertising Choices | Your Privacy Choices | Closed Captioning\"}, {\"url\": \"https://www.uefa.com/news-media/news/0273-14ac084902cc-9ef59ec61319-1000--euro-2024-host-cities-venue-guide/\", \"content\": \"EURO 2024 host cities: Venue guide | UEFA.com Discover the stadium capacity, history, fixtures and top tourist attractions for Berlin, Cologne, Munich, Frankfurt, Hamburg, Dortmund, Leipzig, Gelsenkirchen, Stuttgart and Düsseldorf with our venue guides. One of the most renowned venues in world football thanks to its famous \\'Yellow Wall\\' stand, the BVB Stadion Dortmund is one of the largest arenas at UEFA EURO 2024 and has hosted a string of World Cup and European football fixtures, including the 2001 UEFA Cup final between Liverpool and Deportivo Alavés. The Frankfurt Arena, home of Eintracht Frankfurt, was built in 1925 and has hosted games at several major tournaments including the 1988 UEFA European Championship and the 2006 World Cup. EURO 2024 matches Munich Football Arena hosted EURO 2020 games UEFA via Getty Images\"}]', name='tavily_search_results_json', id='4939c38e-e4e0-4968-b7b4-e763e2a55bba', tool_call_id='call_JKZo4O5GB16FSoGYh3I0JHDU', artifact={'query': 'Eurocup 2024 location', 'follow_up_questions': None, 'answer': None, 'images': [], 'results': [{'url': 'https://www.foxsports.com/stories/soccer/euro-2024-locations-host-cities-and-stadiums', 'title': 'Euro 2024 locations, host cities and stadiums - FOX Sports', 'content': \"Euro 2024 locations, host cities and stadiums | FOX Sports UEFA Euro UEFA Euro Euro 2024 locations, host cities and stadiums Where is Euro 2024? The Munich Football Arena in Munich will host Germany's opening match against Scotland. Where is the Euro 2024 Final? Berlin's Olympiastadion will host the Euro 2024 Final, which will be held on July 14. Euro 2024 Locations and Stadiums Below is a list of the 2024 host cities as well as their stadiums and capacities: UEFA Euro Use of this website (including any and all parts and components) constitutes your acceptance of these Updated Terms of Use and Privacy Policy | Advertising Choices | Your Privacy Choices | Closed Captioning\", 'score': 0.74363416, 'raw_content': None}, {'url': 'https://www.uefa.com/news-media/news/0273-14ac084902cc-9ef59ec61319-1000--euro-2024-host-cities-venue-guide/', 'title': 'EURO 2024 host cities: Venue guide - UEFA.com', 'content': \"EURO 2024 host cities: Venue guide | UEFA.com Discover the stadium capacity, history, fixtures and top tourist attractions for Berlin, Cologne, Munich, Frankfurt, Hamburg, Dortmund, Leipzig, Gelsenkirchen, Stuttgart and Düsseldorf with our venue guides. One of the most renowned venues in world football thanks to its famous 'Yellow Wall' stand, the BVB Stadion Dortmund is one of the largest arenas at UEFA EURO 2024 and has hosted a string of World Cup and European football fixtures, including the 2001 UEFA Cup final between Liverpool and Deportivo Alavés. The Frankfurt Arena, home of Eintracht Frankfurt, was built in 1925 and has hosted games at several major tournaments including the 1988 UEFA European Championship and the 2006 World Cup. EURO 2024 matches Munich Football Arena hosted EURO 2020 games UEFA via Getty Images\", 'score': 0.7152057, 'raw_content': None}], 'response_time': 2.06}),\n",
       " AIMessage(content='The UEFA Euro 2024 will be hosted in Germany, featuring several cities and stadiums. Key locations include:\\n\\n- **Opening Match**: Munich Football Arena in Munich\\n- **Final**: Olympiastadion in Berlin on July 14, 2024\\n\\nOther host cities include Cologne, Frankfurt, Hamburg, Dortmund, Leipzig, Gelsenkirchen, Stuttgart, and Düsseldorf. For more detailed information about the venues, you can check the complete guide [here](https://www.foxsports.com/stories/soccer/euro-2024-locations-host-cities-and-stadiums).', additional_kwargs={'refusal': None}, response_metadata={'token_usage': {'completion_tokens': 125, 'prompt_tokens': 541, 'total_tokens': 666, 'completion_tokens_details': {'accepted_prediction_tokens': 0, 'audio_tokens': 0, 'reasoning_tokens': 0, 'rejected_prediction_tokens': 0}, 'prompt_tokens_details': {'audio_tokens': 0, 'cached_tokens': 0}}, 'model_name': 'gpt-4o-mini-2024-07-18', 'system_fingerprint': 'fp_06737a9306', 'finish_reason': 'stop', 'logprobs': None}, id='run-f3275368-dc8e-4794-a148-4be37acfbbf1-0', usage_metadata={'input_tokens': 541, 'output_tokens': 125, 'total_tokens': 666, 'input_token_details': {'audio': 0, 'cache_read': 0}, 'output_token_details': {'audio': 0, 'reasoning': 0}})]"
      ]
     },
     "execution_count": 10,
     "metadata": {},
     "output_type": "execute_result"
    }
   ],
   "source": [
    "from langchain_core.messages import HumanMessage\n",
    "\n",
    "response = agent_executor.invoke({\"messages\": [HumanMessage(content=\"Where is the soccer Eurocup 2024 played?\")]})\n",
    "\n",
    "response[\"messages\"]"
   ]
  },
  {
   "cell_type": "code",
   "execution_count": 11,
   "id": "0e9691c4-3bf4-4216-b9c5-54f146071d09",
   "metadata": {},
   "outputs": [
    {
     "name": "stdout",
     "output_type": "stream",
     "text": [
      "{'agent': {'messages': [AIMessage(content='', additional_kwargs={'tool_calls': [{'id': 'call_PtTe1IYQVwadQq1aVPiCUYkk', 'function': {'arguments': '{\"query\":\"2024 Eurocup final match date and location\"}', 'name': 'tavily_search_results_json'}, 'type': 'function'}], 'refusal': None}, response_metadata={'token_usage': {'completion_tokens': 27, 'prompt_tokens': 94, 'total_tokens': 121, 'completion_tokens_details': {'accepted_prediction_tokens': 0, 'audio_tokens': 0, 'reasoning_tokens': 0, 'rejected_prediction_tokens': 0}, 'prompt_tokens_details': {'audio_tokens': 0, 'cached_tokens': 0}}, 'model_name': 'gpt-4o-mini-2024-07-18', 'system_fingerprint': 'fp_06737a9306', 'finish_reason': 'tool_calls', 'logprobs': None}, id='run-9cc49b64-4905-46de-b78f-cb9471d51f08-0', tool_calls=[{'name': 'tavily_search_results_json', 'args': {'query': '2024 Eurocup final match date and location'}, 'id': 'call_PtTe1IYQVwadQq1aVPiCUYkk', 'type': 'tool_call'}], usage_metadata={'input_tokens': 94, 'output_tokens': 27, 'total_tokens': 121, 'input_token_details': {'audio': 0, 'cache_read': 0}, 'output_token_details': {'audio': 0, 'reasoning': 0}})]}}\n",
      "----\n",
      "{'tools': {'messages': [ToolMessage(content='[{\"url\": \"https://www.forbes.com/sites/bradadgate/2024/07/03/where-to-watch-euro-cup-2024/\", \"content\": \"In November 2021 Fox Sports announced a six-year agreement with the Union of European Football Associations (UEFA) the governing body of the Euro Cup. Under the agreement, Fox Sports will television upwards of 1,500 soccer matches including the 2024- and 2028-Euro Cups. This year the 16-team tournament, hosted by the United States, started on June 20 and will conclude on July 14, the same day as the Euro Cup finale. During the 2024 Euro Cup, Fox announced they will televise the 2025 Women’s Euro Cup. The 16-team tournament will be hosted by Switzerland from July 2 to 27. On July 24, ten days after the finals match for the Euro Cup and Copa América and, two days before the Opening Ceremonies, will be the first men’s soccer match of the 2024 Summer Olympics in France.\"}, {\"url\": \"https://www.uefa.com/euro2024/news/0275-151eb1c333ea-d30deec67b13-1000--uefa-euro-2024-results-when-and-where-were-the-matches/\", \"content\": \"UEFA EURO 2024 results: When and where were the matches? | UEFA EURO 2024 | UEFA.com UEFA EURO 2024 UEFA EURO 2024 - UEFA EURO 2024 results: When and where were the matches? UEFA EURO 2024 results: When and where were the matches? UEFA EURO 2024 kicked off on Friday 14 June and ended with the final between Spain and England in Berlin on Sunday 14 July. Check out the full list of UEFA EURO 2024 fixtures and results. As part of UEFA\\'s commitment to making EURO 2024 a reference event for sustainability in sport, venues and matches were organised in regionalised clusters. Live 14/07/2024 Spain\\'s EURO 2024 results ------------------------- Check out Spain\\'s route to EURO 2024 glory in Germany. UEFA EURO 2024\"}]', name='tavily_search_results_json', id='d6349c13-dd9f-4caa-94bc-d49397c39118', tool_call_id='call_PtTe1IYQVwadQq1aVPiCUYkk', artifact={'query': '2024 Eurocup final match date and location', 'follow_up_questions': None, 'answer': None, 'images': [], 'results': [{'url': 'https://www.forbes.com/sites/bradadgate/2024/07/03/where-to-watch-euro-cup-2024/', 'title': 'Euro Cup Schedule: How To Watch The Remaining Games - Forbes', 'content': 'In November 2021 Fox Sports announced a six-year agreement with the Union of European Football Associations (UEFA) the governing body of the Euro Cup. Under the agreement, Fox Sports will television upwards of 1,500 soccer matches including the 2024- and 2028-Euro Cups. This year the 16-team tournament, hosted by the United States, started on June 20 and will conclude on July 14, the same day as the Euro Cup finale. During the 2024 Euro Cup, Fox announced they will televise the 2025 Women’s Euro Cup. The 16-team tournament will be hosted by Switzerland from July 2 to 27. On July 24, ten days after the finals match for the Euro Cup and Copa América and, two days before the Opening Ceremonies, will be the first men’s soccer match of the 2024 Summer Olympics in France.', 'score': 0.7813477, 'raw_content': None}, {'url': 'https://www.uefa.com/euro2024/news/0275-151eb1c333ea-d30deec67b13-1000--uefa-euro-2024-results-when-and-where-were-the-matches/', 'title': 'UEFA EURO 2024 results: When and where were the matches?', 'content': \"UEFA EURO 2024 results: When and where were the matches? | UEFA EURO 2024 | UEFA.com UEFA EURO 2024 UEFA EURO 2024 - UEFA EURO 2024 results: When and where were the matches? UEFA EURO 2024 results: When and where were the matches? UEFA EURO 2024 kicked off on Friday 14 June and ended with the final between Spain and England in Berlin on Sunday 14 July. Check out the full list of UEFA EURO 2024 fixtures and results. As part of UEFA's commitment to making EURO 2024 a reference event for sustainability in sport, venues and matches were organised in regionalised clusters. Live 14/07/2024 Spain's EURO 2024 results ------------------------- Check out Spain's route to EURO 2024 glory in Germany. UEFA EURO 2024\", 'score': 0.77096564, 'raw_content': None}], 'response_time': 1.39})]}}\n",
      "----\n",
      "{'agent': {'messages': [AIMessage(content='The final match of the 2024 UEFA Euro Cup will take place on July 14, 2024. The match will be held in Berlin, Germany.', additional_kwargs={'refusal': None}, response_metadata={'token_usage': {'completion_tokens': 35, 'prompt_tokens': 591, 'total_tokens': 626, 'completion_tokens_details': {'accepted_prediction_tokens': 0, 'audio_tokens': 0, 'reasoning_tokens': 0, 'rejected_prediction_tokens': 0}, 'prompt_tokens_details': {'audio_tokens': 0, 'cached_tokens': 0}}, 'model_name': 'gpt-4o-mini-2024-07-18', 'system_fingerprint': 'fp_06737a9306', 'finish_reason': 'stop', 'logprobs': None}, id='run-742e909f-5aad-4065-ba4f-b9f73c174c9c-0', usage_metadata={'input_tokens': 591, 'output_tokens': 35, 'total_tokens': 626, 'input_token_details': {'audio': 0, 'cache_read': 0}, 'output_token_details': {'audio': 0, 'reasoning': 0}})]}}\n",
      "----\n"
     ]
    }
   ],
   "source": [
    "for chunk in agent_executor.stream(\n",
    "    {\"messages\": [HumanMessage(content=\"When and where will it be the 2024 Eurocup final match?\")]}\n",
    "):\n",
    "    print(chunk)\n",
    "    print(\"----\")"
   ]
  }
 ],
 "metadata": {
  "kernelspec": {
   "display_name": "Python 3 (ipykernel)",
   "language": "python",
   "name": "python3"
  },
  "language_info": {
   "codemirror_mode": {
    "name": "ipython",
    "version": 3
   },
   "file_extension": ".py",
   "mimetype": "text/x-python",
   "name": "python",
   "nbconvert_exporter": "python",
   "pygments_lexer": "ipython3",
   "version": "3.11.11"
  }
 },
 "nbformat": 4,
 "nbformat_minor": 5
}
