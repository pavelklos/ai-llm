{
 "cells": [
  {
   "cell_type": "markdown",
   "id": "6d9ad44d-c674-4362-a889-0f1662815672",
   "metadata": {},
   "source": [
    "## App querying SQLite database using LangChain's SQLDatabaseChain"
   ]
  },
  {
   "cell_type": "code",
   "execution_count": 1,
   "id": "40b7cc9e-b1e4-488a-b1f1-e45f9d30f955",
   "metadata": {},
   "outputs": [],
   "source": [
    "# [REQUEST]\n",
    "#   Create sample code to query SQLite database by LLM, LangChain and SQLDatabaseChain?\n",
    "# [RESPONSE]\n",
    "#   I'll provide a comprehensive example of querying a SQLite database using\n",
    "#   LangChain's SQLDatabaseChain with step-by-step explanations:\n",
    "\n",
    "# [Install required packages]\n",
    "# pip install langchain langchain-community langchain-openai sqlalchemy"
   ]
  },
  {
   "cell_type": "markdown",
   "id": "1be75528-d183-464e-a1a5-c7997ef732b0",
   "metadata": {},
   "source": [
    "### Links\n",
    "- [**SQLDatabase** (LangChain v0.1)](https://python.langchain.com/v0.1/docs/integrations/toolkits/sql_database/)\n",
    "- [**SQLDatabase Toolkit** (LangChain latest)](https://python.langchain.com/docs/integrations/tools/sql_database/)"
   ]
  },
  {
   "cell_type": "code",
   "execution_count": 2,
   "id": "2ab4f01c-fc75-4d14-b550-caf5991c5262",
   "metadata": {},
   "outputs": [],
   "source": [
    "from langchain_community.utilities import SQLDatabase\n",
    "from langchain_openai import ChatOpenAI\n",
    "from langchain_experimental.sql import SQLDatabaseChain"
   ]
  },
  {
   "cell_type": "markdown",
   "id": "0623bc04-937e-490a-83a0-de2042a77d63",
   "metadata": {},
   "source": [
    "### Set up OpenAI API Key"
   ]
  },
  {
   "cell_type": "code",
   "execution_count": 3,
   "id": "a154d51f-5074-4056-be0b-84c25b50ac70",
   "metadata": {},
   "outputs": [],
   "source": [
    "# Set up OpenAI API Key\n",
    "# if \"OPENAI_API_KEY\" not in os.environ:\n",
    "#     os.environ[\"OPENAI_API_KEY\"] = getpass.getpass(\"Enter OpenAI API Key: \")"
   ]
  },
  {
   "cell_type": "code",
   "execution_count": 4,
   "id": "ae28cffc-a389-4c70-bff8-1cdc38f542f1",
   "metadata": {},
   "outputs": [],
   "source": [
    "from dotenv import load_dotenv, find_dotenv\n",
    "_ = load_dotenv(find_dotenv())\n",
    "# openai_api_key = os.environ[\"OPENAI_API_KEY\"]\n",
    "\n",
    "# load_dotenv(override = True)\n",
    "# api_key = os.getenv('OPENAI_API_KEY')\n",
    "\n",
    "MODEL_GPT=\"gpt-4o-mini\""
   ]
  },
  {
   "cell_type": "markdown",
   "id": "e965e027-7146-43e2-aaa6-e0c19bc1facb",
   "metadata": {},
   "source": [
    "### 1. Create a connection to the SQLite database"
   ]
  },
  {
   "cell_type": "code",
   "execution_count": 5,
   "id": "3628dc63-b9a4-4a73-b25c-1815f8a2f2c2",
   "metadata": {},
   "outputs": [],
   "source": [
    "# 1. Create a connection to the SQLite database\n",
    "# Replace 'path/to/your/database.db' with the actual path to your SQLite database\n",
    "# db = SQLDatabase.from_uri(\"sqlite:///path/to/your/database.db\")\n",
    "sqlite_db_path = \"../../data/street_tree_db.sqlite\"\n",
    "db = SQLDatabase.from_uri(f\"sqlite:///{sqlite_db_path}\")"
   ]
  },
  {
   "cell_type": "markdown",
   "id": "e239303c-d1ea-4ebb-9091-c93341b21b45",
   "metadata": {},
   "source": [
    "### 2. Initialize the Language Model"
   ]
  },
  {
   "cell_type": "code",
   "execution_count": 6,
   "id": "c7b4e396-7bc9-4e43-b064-29fafaecb4c7",
   "metadata": {},
   "outputs": [],
   "source": [
    "# 2. Initialize the Language Model\n",
    "# You can adjust the temperature and model as needed\n",
    "llm = ChatOpenAI(\n",
    "    # model=\"gpt-3.5-turbo\",  # Choose your preferred OpenAI model\n",
    "    model=MODEL_GPT,  # Choose your preferred OpenAI model\n",
    "    temperature=0  # Set to 0 for more deterministic responses\n",
    ")"
   ]
  },
  {
   "cell_type": "markdown",
   "id": "14a47b8b-2c57-4328-b120-f164372f1c69",
   "metadata": {},
   "source": [
    "### 3. Create the SQL Database Chain"
   ]
  },
  {
   "cell_type": "code",
   "execution_count": 7,
   "id": "2e53325b-32ac-4352-bb78-19882b6e49ee",
   "metadata": {},
   "outputs": [],
   "source": [
    "# 3. Create the SQL Database Chain\n",
    "db_chain = SQLDatabaseChain.from_llm(\n",
    "    llm, \n",
    "    db, \n",
    "    verbose=True  # Enables detailed output of the chain's reasoning\n",
    ")"
   ]
  },
  {
   "cell_type": "markdown",
   "id": "5b957bf3-04f0-4fa5-a909-7516b39a8375",
   "metadata": {},
   "source": [
    "### 4. Example queries"
   ]
  },
  {
   "cell_type": "code",
   "execution_count": 8,
   "id": "fc96e91c-3363-4408-a40a-5592b1bd5f23",
   "metadata": {},
   "outputs": [],
   "source": [
    "# 4. Example queries\n",
    "def query_database(question):\n",
    "    \"\"\"\n",
    "    Helper function to run queries against the database.\n",
    "    \n",
    "    Args:\n",
    "        question (str): Natural language question about the database\n",
    "    \n",
    "    Returns:\n",
    "        The answer to the query\n",
    "    \"\"\"\n",
    "    try:\n",
    "        # result = db_chain.run(question)\n",
    "        result = db_chain.invoke(question)\n",
    "        return result\n",
    "    except Exception as e:\n",
    "        print(f\"An error occurred: {e}\")\n",
    "        return None"
   ]
  },
  {
   "cell_type": "markdown",
   "id": "4ba5356f-8112-4a90-9b38-f4a95461370e",
   "metadata": {},
   "source": [
    "### 5. Example usage"
   ]
  },
  {
   "cell_type": "code",
   "execution_count": 9,
   "id": "bb67b2cf-e44b-438c-85f5-de11841b6f9c",
   "metadata": {},
   "outputs": [
    {
     "name": "stdout",
     "output_type": "stream",
     "text": [
      "\n",
      "Query: How many species of trees are in San Francisco?\n",
      "\n",
      "\n",
      "\u001b[1m> Entering new SQLDatabaseChain chain...\u001b[0m\n",
      "How many species of trees are in San Francisco?\n",
      "\u001b[32;1m\u001b[1;3m```sql\n",
      "SELECT DISTINCT \"qSpecies\" FROM street_trees;\n",
      "```\u001b[0mAn error occurred: (sqlite3.OperationalError) near \"```sql\n",
      "SELECT DISTINCT \"qSpecies\" FROM street_trees;\n",
      "```\": syntax error\n",
      "[SQL: ```sql\n",
      "SELECT DISTINCT \"qSpecies\" FROM street_trees;\n",
      "```]\n",
      "(Background on this error at: https://sqlalche.me/e/20/e3q8)\n",
      "Result: None\n"
     ]
    }
   ],
   "source": [
    "# 5. Example usage\n",
    "if __name__ == \"__main__\":\n",
    "    # Example queries\n",
    "    # queries = [\n",
    "    #     \"What is the total number of records in the Customers table?\",\n",
    "    #     \"List the top 3 most expensive products\",\n",
    "    #     \"Find the average price of products in each category\"\n",
    "    # ]\n",
    "\n",
    "    # \"How many species of trees are in San Francisco?\"\n",
    "    # 'SQLQuery: SELECT COUNT(DISTINCT \"qSpecies\") AS \"SpeciesCount\" FROM street_trees;'\n",
    "    queries = [\n",
    "        \"How many species of trees are in San Francisco?\"\n",
    "    ]\n",
    "    \n",
    "    # Run each query and print results\n",
    "    for query in queries:\n",
    "        print(f\"\\nQuery: {query}\")\n",
    "        result = query_database(query)\n",
    "        print(f\"Result: {result}\")"
   ]
  },
  {
   "cell_type": "markdown",
   "id": "c714f095-69a6-473c-aa7b-4ac2e2a3e4bf",
   "metadata": {
    "jp-MarkdownHeadingCollapsed": true
   },
   "source": [
    "## [chatbot-database.py]"
   ]
  },
  {
   "cell_type": "code",
   "execution_count": 10,
   "id": "c2185959-8495-47e9-b47b-ff787264b8e8",
   "metadata": {},
   "outputs": [],
   "source": [
    "# # Import required libraries\n",
    "# from langchain_community.utilities import SQLDatabase\n",
    "# from langchain_openai import ChatOpenAI\n",
    "# from langchain_experimental.sql import SQLDatabaseChain\n",
    "\n",
    "# # 1. Create a connection to the SQLite database\n",
    "# # Replace 'path/to/your/database.db' with the actual path to your SQLite database\n",
    "# db = SQLDatabase.from_uri(\"sqlite:///path/to/your/database.db\")\n",
    "\n",
    "# # 2. Initialize the Language Model\n",
    "# # You can adjust the temperature and model as needed\n",
    "# llm = ChatOpenAI(\n",
    "#     model=\"gpt-3.5-turbo\",  # Choose your preferred OpenAI model\n",
    "#     temperature=0  # Set to 0 for more deterministic responses\n",
    "# )\n",
    "\n",
    "# # 3. Create the SQL Database Chain\n",
    "# db_chain = SQLDatabaseChain.from_llm(\n",
    "#     llm, \n",
    "#     db, \n",
    "#     verbose=True  # Enables detailed output of the chain's reasoning\n",
    "# )\n",
    "\n",
    "# # 4. Example queries\n",
    "# def query_database(question):\n",
    "#     \"\"\"\n",
    "#     Helper function to run queries against the database\n",
    "    \n",
    "#     Args:\n",
    "#         question (str): Natural language question about the database\n",
    "    \n",
    "#     Returns:\n",
    "#         The answer to the query\n",
    "#     \"\"\"\n",
    "#     try:\n",
    "#         result = db_chain.run(question)\n",
    "#         return result\n",
    "#     except Exception as e:\n",
    "#         print(f\"An error occurred: {e}\")\n",
    "#         return None\n",
    "\n",
    "# # 5. Example usage\n",
    "# if __name__ == \"__main__\":\n",
    "#     # Example queries\n",
    "#     queries = [\n",
    "#         \"What is the total number of records in the Customers table?\",\n",
    "#         \"List the top 3 most expensive products\",\n",
    "#         \"Find the average price of products in each category\"\n",
    "#     ]\n",
    "    \n",
    "#     # Run each query and print results\n",
    "#     for query in queries:\n",
    "#         print(f\"\\nQuery: {query}\")\n",
    "#         result = query_database(query)\n",
    "#         print(f\"Result: {result}\")\n",
    "\n",
    "# # [Error Handling Example]\n",
    "# # def safe_query_database(question):\n",
    "# #     try:\n",
    "# #         # Add input sanitization if needed\n",
    "# #         if not question or len(question) > 500:\n",
    "# #             raise ValueError(\"Invalid query length\")\n",
    "        \n",
    "# #         result = db_chain.run(question)\n",
    "# #         return result\n",
    "# #     except Exception as e:\n",
    "# #         print(f\"Query failed: {e}\")\n",
    "# #         # Log the error or handle it appropriately\n",
    "# #         return None\n"
   ]
  },
  {
   "cell_type": "markdown",
   "id": "9a754b9c-27af-4e17-94b5-7682cecdc30e",
   "metadata": {},
   "source": [
    "## Build a Question/Answering system over SQL data\n",
    "- https://python.langchain.com/docs/tutorials/sql_qa/\n",
    "- **Chinook Database**\n",
    "  - https://github.com/lerocha/chinook-database\n",
    "  - https://github.com/lerocha/chinook-database/tree/master/ChinookDatabase/DataSources\n",
    "  - https://github.com/lerocha/chinook-database/blob/master/ChinookDatabase/DataSources/Chinook_Sqlite.sqlite\n",
    "  - https://github.com/lerocha/chinook-database/blob/master/ChinookDatabase/DataSources/Chinook_Sqlite.sql\n",
    "  - https://www.sqlitetutorial.net/sqlite-sample-database/"
   ]
  },
  {
   "cell_type": "markdown",
   "id": "35f13bca-d261-4aff-b933-d19e0f91cad0",
   "metadata": {},
   "source": [
    "### Setup"
   ]
  },
  {
   "cell_type": "markdown",
   "id": "e2d12864-b6a8-43f7-bc77-8a760bf15c14",
   "metadata": {},
   "source": [
    "#### Sample data"
   ]
  },
  {
   "cell_type": "code",
   "execution_count": 11,
   "id": "63cea6b4-1a0f-4dd3-8fb9-752ca1250527",
   "metadata": {},
   "outputs": [
    {
     "name": "stdout",
     "output_type": "stream",
     "text": [
      "sqlite\n",
      "['Album', 'Artist', 'Customer', 'Employee', 'Genre', 'Invoice', 'InvoiceLine', 'MediaType', 'Playlist', 'PlaylistTrack', 'Track']\n",
      "<class 'str'>\n",
      "[(1, 'AC/DC'), (2, 'Accept'), (3, 'Aerosmith'), (4, 'Alanis Morissette'), (5, 'Alice In Chains'), (6, 'Antônio Carlos Jobim'), (7, 'Apocalyptica'), (8, 'Audioslave'), (9, 'BackBeat'), (10, 'Billy Cobham')]\n"
     ]
    }
   ],
   "source": [
    "from langchain_community.utilities import SQLDatabase\n",
    "\n",
    "# db = SQLDatabase.from_uri(\"sqlite:///Chinook.db\")\n",
    "sqlite_db_path = \"../../data/Chinook.sqlite\"\n",
    "db = SQLDatabase.from_uri(f\"sqlite:///{sqlite_db_path}\")\n",
    "\n",
    "# sqlite_db_path = \"../../data/street_tree_db.sqlite\"\n",
    "# db = SQLDatabase.from_uri(f\"sqlite:///{sqlite_db_path}\")\n",
    "\n",
    "print(db.dialect)\n",
    "print(db.get_usable_table_names())\n",
    "# db.run(\"SELECT * FROM Artist LIMIT 10;\")\n",
    "result = db.run(\"SELECT * FROM Artist LIMIT 10;\")\n",
    "# result = db.run(\"SELECT * FROM street_trees LIMIT 1;\")\n",
    "print(type(result))\n",
    "print(result)"
   ]
  },
  {
   "cell_type": "markdown",
   "id": "46529b54-dbe1-4673-9324-35cce9d056a8",
   "metadata": {},
   "source": [
    "### Chains"
   ]
  },
  {
   "cell_type": "markdown",
   "id": "35e2df1b-7eaf-4e71-b83b-22efcbc1ceac",
   "metadata": {},
   "source": [
    "#### Application state"
   ]
  },
  {
   "cell_type": "code",
   "execution_count": 12,
   "id": "154d27f4-56a1-4804-946b-4d1a5933640a",
   "metadata": {},
   "outputs": [],
   "source": [
    "from typing_extensions import TypedDict\n",
    "\n",
    "class State(TypedDict):\n",
    "    question: str\n",
    "    query: str\n",
    "    result: str\n",
    "    answer: str"
   ]
  },
  {
   "cell_type": "markdown",
   "id": "6149d168-8e20-426b-ac3e-803441a67015",
   "metadata": {},
   "source": [
    "#### Convert question to SQL query"
   ]
  },
  {
   "cell_type": "code",
   "execution_count": 13,
   "id": "b10e852c-65f1-433c-92c9-d79cd33eda3a",
   "metadata": {},
   "outputs": [],
   "source": [
    "import getpass\n",
    "import os\n",
    "\n",
    "if not os.environ.get(\"OPENAI_API_KEY\"):\n",
    "  os.environ[\"OPENAI_API_KEY\"] = getpass.getpass(\"Enter API key for OpenAI: \")\n",
    "\n",
    "from langchain.chat_models import init_chat_model\n",
    "\n",
    "llm = init_chat_model(\"gpt-4o-mini\", model_provider=\"openai\")"
   ]
  },
  {
   "cell_type": "code",
   "execution_count": 14,
   "id": "8725cc7c-a6af-49af-9a9f-1fdc44f3cb6d",
   "metadata": {},
   "outputs": [
    {
     "name": "stdout",
     "output_type": "stream",
     "text": [
      "================================\u001b[1m System Message \u001b[0m================================\n",
      "\n",
      "Given an input question, create a syntactically correct \u001b[33;1m\u001b[1;3m{dialect}\u001b[0m query to run to help find the answer. Unless the user specifies in his question a specific number of examples they wish to obtain, always limit your query to at most \u001b[33;1m\u001b[1;3m{top_k}\u001b[0m results. You can order the results by a relevant column to return the most interesting examples in the database.\n",
      "\n",
      "Never query for all the columns from a specific table, only ask for a the few relevant columns given the question.\n",
      "\n",
      "Pay attention to use only the column names that you can see in the schema description. Be careful to not query for columns that do not exist. Also, pay attention to which column is in which table.\n",
      "\n",
      "Only use the following tables:\n",
      "\u001b[33;1m\u001b[1;3m{table_info}\u001b[0m\n",
      "\n",
      "Question: \u001b[33;1m\u001b[1;3m{input}\u001b[0m\n"
     ]
    }
   ],
   "source": [
    "from langchain import hub\n",
    "\n",
    "query_prompt_template = hub.pull(\"langchain-ai/sql-query-system-prompt\")\n",
    "\n",
    "assert len(query_prompt_template.messages) == 1\n",
    "query_prompt_template.messages[0].pretty_print()"
   ]
  },
  {
   "cell_type": "code",
   "execution_count": 15,
   "id": "4e10e516-42d2-4e3d-8690-5526e988e4fc",
   "metadata": {},
   "outputs": [],
   "source": [
    "from typing_extensions import Annotated\n",
    "\n",
    "class QueryOutput(TypedDict):\n",
    "    \"\"\"Generated SQL query.\"\"\"\n",
    "\n",
    "    query: Annotated[str, ..., \"Syntactically valid SQL query.\"]\n",
    "\n",
    "def write_query(state: State):\n",
    "    \"\"\"Generate SQL query to fetch information.\"\"\"\n",
    "    prompt = query_prompt_template.invoke(\n",
    "        {\n",
    "            \"dialect\": db.dialect,\n",
    "            \"top_k\": 10,\n",
    "            \"table_info\": db.get_table_info(),\n",
    "            \"input\": state[\"question\"],\n",
    "        }\n",
    "    )\n",
    "    structured_llm = llm.with_structured_output(QueryOutput)\n",
    "    result = structured_llm.invoke(prompt)\n",
    "    return {\"query\": result[\"query\"]}"
   ]
  },
  {
   "cell_type": "code",
   "execution_count": 16,
   "id": "06a9ce61-2586-4404-99a6-25040be91fc8",
   "metadata": {},
   "outputs": [
    {
     "data": {
      "text/plain": [
       "{'query': 'SELECT COUNT(*) AS TotalEmployees FROM Employee;'}"
      ]
     },
     "execution_count": 16,
     "metadata": {},
     "output_type": "execute_result"
    }
   ],
   "source": [
    "write_query({\"question\": \"How many Employees are there?\"})"
   ]
  },
  {
   "cell_type": "markdown",
   "id": "22f83bf0-4ca5-42c3-af0e-3a5485bc20d3",
   "metadata": {},
   "source": [
    "#### Execute query"
   ]
  },
  {
   "cell_type": "code",
   "execution_count": 17,
   "id": "a64bddf5-976a-443e-8e71-718b758a76d4",
   "metadata": {},
   "outputs": [],
   "source": [
    "from langchain_community.tools.sql_database.tool import QuerySQLDatabaseTool\n",
    "\n",
    "def execute_query(state: State):\n",
    "    \"\"\"Execute SQL query.\"\"\"\n",
    "    execute_query_tool = QuerySQLDatabaseTool(db=db)\n",
    "    return {\"result\": execute_query_tool.invoke(state[\"query\"])}"
   ]
  },
  {
   "cell_type": "code",
   "execution_count": 18,
   "id": "ab80d8b8-a075-4e79-a6e6-408dbe16175a",
   "metadata": {},
   "outputs": [
    {
     "data": {
      "text/plain": [
       "{'result': '[(8,)]'}"
      ]
     },
     "execution_count": 18,
     "metadata": {},
     "output_type": "execute_result"
    }
   ],
   "source": [
    "execute_query({\"query\": \"SELECT COUNT(EmployeeId) AS EmployeeCount FROM Employee;\"})"
   ]
  },
  {
   "cell_type": "markdown",
   "id": "b698c577-c5e4-4a43-917a-861121478fcb",
   "metadata": {},
   "source": [
    "#### Generate answer"
   ]
  },
  {
   "cell_type": "code",
   "execution_count": 19,
   "id": "3b57a5f8-79c1-47e0-87ed-d3e750ce676d",
   "metadata": {},
   "outputs": [],
   "source": [
    "def generate_answer(state: State):\n",
    "    \"\"\"Answer question using retrieved information as context.\"\"\"\n",
    "    prompt = (\n",
    "        \"Given the following user question, corresponding SQL query, \"\n",
    "        \"and SQL result, answer the user question.\\n\\n\"\n",
    "        f'Question: {state[\"question\"]}\\n'\n",
    "        f'SQL Query: {state[\"query\"]}\\n'\n",
    "        f'SQL Result: {state[\"result\"]}'\n",
    "    )\n",
    "    response = llm.invoke(prompt)\n",
    "    return {\"answer\": response.content}"
   ]
  },
  {
   "cell_type": "markdown",
   "id": "d59a598c-fbcd-4449-ba29-4ca107c483f7",
   "metadata": {},
   "source": [
    "#### Orchestrating with LangGraph"
   ]
  },
  {
   "cell_type": "code",
   "execution_count": 20,
   "id": "9476b5ef-c205-4299-bee8-29f6128c0fb3",
   "metadata": {},
   "outputs": [],
   "source": [
    "from langgraph.graph import START, StateGraph\n",
    "\n",
    "graph_builder = StateGraph(State).add_sequence(\n",
    "    [write_query, execute_query, generate_answer]\n",
    ")\n",
    "graph_builder.add_edge(START, \"write_query\")\n",
    "graph = graph_builder.compile()"
   ]
  },
  {
   "cell_type": "code",
   "execution_count": 21,
   "id": "0031ed72-deda-4c5f-852d-3b4650256674",
   "metadata": {},
   "outputs": [],
   "source": [
    "# LangGraph also comes with built-in utilities for visualizing the control flow of your application:\n",
    "# from IPython.display import Image, display\n",
    "\n",
    "# display(Image(graph.get_graph().draw_mermaid_png()))"
   ]
  },
  {
   "cell_type": "code",
   "execution_count": 22,
   "id": "6925a282-59ff-4daf-b0d9-1e9f7adf6c84",
   "metadata": {},
   "outputs": [
    {
     "name": "stdout",
     "output_type": "stream",
     "text": [
      "{'write_query': {'query': 'SELECT COUNT(*) AS NumberOfEmployees FROM Employee;'}}\n",
      "{'execute_query': {'result': '[(8,)]'}}\n",
      "{'generate_answer': {'answer': 'There are 8 employees.'}}\n"
     ]
    }
   ],
   "source": [
    "for step in graph.stream(\n",
    "    {\"question\": \"How many employees are there?\"}, stream_mode=\"updates\"\n",
    "):\n",
    "    print(step)"
   ]
  },
  {
   "cell_type": "markdown",
   "id": "b067b865-bdd1-43ac-b536-f1f3a3a3f571",
   "metadata": {},
   "source": [
    "#### Human-in-the-loop with (user approval)"
   ]
  },
  {
   "cell_type": "code",
   "execution_count": 23,
   "id": "449fc910-845f-4762-a939-1128969029a0",
   "metadata": {},
   "outputs": [],
   "source": [
    "from langgraph.checkpoint.memory import MemorySaver\n",
    "\n",
    "memory = MemorySaver()\n",
    "graph = graph_builder.compile(checkpointer=memory, interrupt_before=[\"execute_query\"])\n",
    "\n",
    "# Now that we're using persistence, we need to specify a thread ID\n",
    "# so that we can continue the run after review.\n",
    "config = {\"configurable\": {\"thread_id\": \"1\"}}"
   ]
  },
  {
   "cell_type": "code",
   "execution_count": 24,
   "id": "0fa337f9-7da2-42ed-8578-4680aa0f858b",
   "metadata": {},
   "outputs": [],
   "source": [
    "# LangGraph also comes with built-in utilities for visualizing the control flow of your application:\n",
    "# from IPython.display import Image, display\n",
    "\n",
    "# display(Image(graph.get_graph().draw_mermaid_png()))"
   ]
  },
  {
   "cell_type": "code",
   "execution_count": 25,
   "id": "3e793901-9aa9-44a5-807b-e2a450901453",
   "metadata": {},
   "outputs": [
    {
     "name": "stdout",
     "output_type": "stream",
     "text": [
      "{'write_query': {'query': 'SELECT COUNT(*) AS EmployeeCount FROM Employee;'}}\n",
      "{'__interrupt__': ()}\n"
     ]
    },
    {
     "name": "stdin",
     "output_type": "stream",
     "text": [
      "Do you want to go to execute query? (yes/no):  yes\n"
     ]
    },
    {
     "name": "stdout",
     "output_type": "stream",
     "text": [
      "{'execute_query': {'result': '[(8,)]'}}\n",
      "{'generate_answer': {'answer': 'There are 8 employees.'}}\n"
     ]
    }
   ],
   "source": [
    "for step in graph.stream(\n",
    "    {\"question\": \"How many employees are there?\"},\n",
    "    config,\n",
    "    stream_mode=\"updates\",\n",
    "):\n",
    "    print(step)\n",
    "\n",
    "try:\n",
    "    user_approval = input(\"Do you want to go to execute query? (yes/no): \")\n",
    "except Exception:\n",
    "    user_approval = \"no\"\n",
    "\n",
    "if user_approval.lower() == \"yes\":\n",
    "    # If approved, continue the graph execution\n",
    "    for step in graph.stream(None, config, stream_mode=\"updates\"):\n",
    "        print(step)\n",
    "else:\n",
    "    print(\"Operation cancelled by user.\")"
   ]
  },
  {
   "cell_type": "markdown",
   "id": "c1b91094-05de-4a3c-8ff0-416a2353ea96",
   "metadata": {
    "jp-MarkdownHeadingCollapsed": true
   },
   "source": [
    "### Agents [TODO:]\n",
    "- https://python.langchain.com/docs/tutorials/sql_qa/#agents"
   ]
  }
 ],
 "metadata": {
  "kernelspec": {
   "display_name": "Python 3 (ipykernel)",
   "language": "python",
   "name": "python3"
  },
  "language_info": {
   "codemirror_mode": {
    "name": "ipython",
    "version": 3
   },
   "file_extension": ".py",
   "mimetype": "text/x-python",
   "name": "python",
   "nbconvert_exporter": "python",
   "pygments_lexer": "ipython3",
   "version": "3.11.11"
  }
 },
 "nbformat": 4,
 "nbformat_minor": 5
}
