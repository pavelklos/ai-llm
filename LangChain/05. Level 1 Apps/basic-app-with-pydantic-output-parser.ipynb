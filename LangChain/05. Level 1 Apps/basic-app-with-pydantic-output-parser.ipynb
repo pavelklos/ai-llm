{
 "cells": [
  {
   "cell_type": "code",
   "execution_count": 1,
   "id": "2159418c-785c-41b9-a70e-93b68af860eb",
   "metadata": {},
   "outputs": [],
   "source": [
    "import os\n",
    "from dotenv import load_dotenv, find_dotenv\n",
    "_ = load_dotenv(find_dotenv())\n",
    "openai_api_key = os.environ[\"OPENAI_API_KEY\"]"
   ]
  },
  {
   "cell_type": "code",
   "execution_count": 2,
   "id": "4727f41a-a8de-41aa-9700-db32b5b7a453",
   "metadata": {},
   "outputs": [],
   "source": [
    "MODEL_GPT = 'gpt-4o-mini'"
   ]
  },
  {
   "cell_type": "markdown",
   "id": "9a585baf-8c28-4ad5-8244-f97a9c1c5788",
   "metadata": {},
   "source": [
    "## Basic app with Pydantic Output Parser"
   ]
  },
  {
   "cell_type": "code",
   "execution_count": 3,
   "id": "e0511c81-d855-4499-8c24-bb49f4d84755",
   "metadata": {},
   "outputs": [],
   "source": [
    "from langchain.output_parsers import PydanticOutputParser"
   ]
  },
  {
   "cell_type": "code",
   "execution_count": 4,
   "id": "cd1196db-00b8-4a32-aca6-fcfc6f92def3",
   "metadata": {},
   "outputs": [],
   "source": [
    "# from langchain_core.pydantic_v1 import BaseModel, Field, validator\n",
    "from pydantic import BaseModel, Field, validator"
   ]
  },
  {
   "cell_type": "code",
   "execution_count": 5,
   "id": "053dfea3-5fbf-45ed-9a55-16a53e5e40fd",
   "metadata": {},
   "outputs": [],
   "source": [
    "from typing import List"
   ]
  },
  {
   "cell_type": "markdown",
   "id": "08694f04-1a3f-4810-919f-b5ab09f46bd7",
   "metadata": {},
   "source": [
    "### Define desired output data structure"
   ]
  },
  {
   "cell_type": "code",
   "execution_count": 6,
   "id": "2e8294ac-179b-44b7-bf03-eff1d26c726f",
   "metadata": {},
   "outputs": [],
   "source": [
    "# class Suggestions_Output_Structure(BaseModel):\n",
    "#     words: List[str] = Field(\n",
    "#         description=\"list of substitute words based on the context\"\n",
    "#     )\n",
    "#     reasons: List[str] = Field(\n",
    "#         description=\"the reasoning of why this word fits the context\"\n",
    "#     )\n",
    "\n",
    "#     #Throw error if the substitute word starts with a number\n",
    "#     @validator('words')\n",
    "#     def not_start_with_number(cls, info):\n",
    "#         for item in info:\n",
    "#             if item[0].isnumeric():\n",
    "#                 raise ValueError(\"ERROR: The word cannot start with a number\")\n",
    "#         return info\n",
    "\n",
    "#     @validator('reasons')\n",
    "#     def end_with_dot(cls, info):\n",
    "#       for idx, item in enumerate(info):\n",
    "#         if item[-1] != \".\":\n",
    "#           info[idx] += \".\"\n",
    "#       return info\n",
    "\n",
    "# [Pydantic V2: Migration Guide]\n",
    "# - https://docs.pydantic.dev/2.10/migration/\n",
    "\n",
    "from pydantic import BaseModel, Field, field_validator\n",
    "from typing import List\n",
    "\n",
    "class Suggestions_Output_Structure(BaseModel):\n",
    "    words: List[str] = Field(\n",
    "        description=\"list of substitute words based on the context\"\n",
    "    )\n",
    "    reasons: List[str] = Field(\n",
    "        description=\"the reasoning of why this word fits the context\"\n",
    "    )\n",
    "\n",
    "    @field_validator('words', mode='before')\n",
    "    @classmethod\n",
    "    def not_start_with_number(cls, v):\n",
    "        for item in v:\n",
    "            if item[0].isdigit():\n",
    "                raise ValueError(\"ERROR: The word cannot start with a number\")\n",
    "        return v\n",
    "\n",
    "    @field_validator('reasons', mode='before')\n",
    "    @classmethod\n",
    "    def end_with_dot(cls, v):\n",
    "        return [item if item.endswith('.') else item + '.' for item in v]\n"
   ]
  },
  {
   "cell_type": "markdown",
   "id": "684e0d6a-7d38-40a5-8b6f-9bc7f887ce83",
   "metadata": {},
   "source": [
    "### Create parser"
   ]
  },
  {
   "cell_type": "code",
   "execution_count": 7,
   "id": "4a45a456-4e73-429d-a1d8-2ca14174b153",
   "metadata": {},
   "outputs": [],
   "source": [
    "my_parser = PydanticOutputParser(\n",
    "    pydantic_object=Suggestions_Output_Structure\n",
    ")"
   ]
  },
  {
   "cell_type": "markdown",
   "id": "e43294a2-690d-4cf6-847e-b732f82a7cdc",
   "metadata": {},
   "source": [
    "### Determine input"
   ]
  },
  {
   "cell_type": "code",
   "execution_count": 8,
   "id": "5a643143-b855-47ef-b09a-1644d2a84bf7",
   "metadata": {},
   "outputs": [],
   "source": [
    "from langchain.prompts import PromptTemplate"
   ]
  },
  {
   "cell_type": "code",
   "execution_count": 9,
   "id": "e74c587b-b5a3-45d1-a97b-a0f7cac147ff",
   "metadata": {},
   "outputs": [],
   "source": [
    "my_template = \"\"\"\n",
    "Offer a list of suggestions to substitute the specified\n",
    "target_word based on the present context and the reasoning\n",
    "for each word.\n",
    "\n",
    "{format_instructions}\n",
    "\n",
    "target_word={target_word}\n",
    "context={context}\n",
    "\"\"\""
   ]
  },
  {
   "cell_type": "code",
   "execution_count": 10,
   "id": "7cf7c200-76f4-4087-9d93-9dd2504ed983",
   "metadata": {},
   "outputs": [],
   "source": [
    "my_prompt = PromptTemplate(\n",
    "    template=my_template,\n",
    "    input_variables=[\"target_word\", \"context\"],\n",
    "    partial_variables={\n",
    "        \"format_instructions\": my_parser.get_format_instructions()\n",
    "    }\n",
    ")"
   ]
  },
  {
   "cell_type": "code",
   "execution_count": 11,
   "id": "c700df91-5747-482e-bf7b-5f7c9e7c676b",
   "metadata": {},
   "outputs": [],
   "source": [
    "user_input = my_prompt.format_prompt(\n",
    "    target_word=\"loyalty\",\n",
    "    context=\"\"\"\n",
    "    The loyalty of the soldier was so great that\n",
    "    even under severe torture, he refused to betray\n",
    "    his comrades.\n",
    "    \"\"\"\n",
    ")"
   ]
  },
  {
   "cell_type": "code",
   "execution_count": 12,
   "id": "bd72d57e-9dd8-4103-b51e-858ac74d1b26",
   "metadata": {},
   "outputs": [],
   "source": [
    "# from langchain_openai import OpenAI\n",
    "from langchain_openai import ChatOpenAI"
   ]
  },
  {
   "cell_type": "code",
   "execution_count": 13,
   "id": "38ea700b-8f06-4bf6-a211-e9bf95e987f8",
   "metadata": {},
   "outputs": [],
   "source": [
    "# llm = OpenAI()\n",
    "llm = ChatOpenAI(model=MODEL_GPT)"
   ]
  },
  {
   "cell_type": "code",
   "execution_count": 14,
   "id": "337e9608-2159-4f30-bafa-e844407f86bf",
   "metadata": {},
   "outputs": [],
   "source": [
    "# output = llm(user_input.to_string())\n",
    "output = llm.invoke(user_input.to_string())"
   ]
  },
  {
   "cell_type": "markdown",
   "id": "435f9602-3f50-43ad-9a6b-bd951b086305",
   "metadata": {},
   "source": [
    "### Apply parser to get desired output structure"
   ]
  },
  {
   "cell_type": "code",
   "execution_count": 15,
   "id": "a3681d65-432b-4b97-a9eb-98ca5203e29b",
   "metadata": {},
   "outputs": [
    {
     "name": "stdout",
     "output_type": "stream",
     "text": [
      "content='```json\\n{\\n  \"words\": [\"fidelity\", \"devotion\", \"allegiance\", \"faithfulness\", \"commitment\"],\\n  \"reasons\": [\\n    \"Fidelity captures the idea of being faithful to a person or cause, similar to the soldier\\'s unwavering support.\",\\n    \"Devotion emphasizes a strong love or loyalty, reflecting the soldier\\'s dedication to his comrades.\",\\n    \"Allegiance refers to the loyalty owed to one\\'s country or comrades, making it a fitting substitute in a military context.\",\\n    \"Faithfulness suggests a steadfastness and reliability in one\\'s commitments, aligning with the soldier\\'s character.\",\\n    \"Commitment embodies the idea of being dedicated to a cause or person, resonating with the soldier\\'s resolve.\"\\n  ]\\n}\\n```' additional_kwargs={'refusal': None} response_metadata={'token_usage': {'completion_tokens': 155, 'prompt_tokens': 279, 'total_tokens': 434, 'completion_tokens_details': {'accepted_prediction_tokens': 0, 'audio_tokens': 0, 'reasoning_tokens': 0, 'rejected_prediction_tokens': 0}, 'prompt_tokens_details': {'audio_tokens': 0, 'cached_tokens': 0}}, 'model_name': 'gpt-4o-mini-2024-07-18', 'system_fingerprint': 'fp_06737a9306', 'finish_reason': 'stop', 'logprobs': None} id='run-c197a024-0648-425d-91e7-219c39822c8f-0' usage_metadata={'input_tokens': 279, 'output_tokens': 155, 'total_tokens': 434, 'input_token_details': {'audio': 0, 'cache_read': 0}, 'output_token_details': {'audio': 0, 'reasoning': 0}}\n"
     ]
    }
   ],
   "source": [
    "print(output)"
   ]
  },
  {
   "cell_type": "code",
   "execution_count": 16,
   "id": "ebb47216-96c8-4cd0-8a24-c245149390a8",
   "metadata": {},
   "outputs": [
    {
     "name": "stdout",
     "output_type": "stream",
     "text": [
      "```json\n",
      "{\n",
      "  \"words\": [\"fidelity\", \"devotion\", \"allegiance\", \"faithfulness\", \"commitment\"],\n",
      "  \"reasons\": [\n",
      "    \"Fidelity captures the idea of being faithful to a person or cause, similar to the soldier's unwavering support.\",\n",
      "    \"Devotion emphasizes a strong love or loyalty, reflecting the soldier's dedication to his comrades.\",\n",
      "    \"Allegiance refers to the loyalty owed to one's country or comrades, making it a fitting substitute in a military context.\",\n",
      "    \"Faithfulness suggests a steadfastness and reliability in one's commitments, aligning with the soldier's character.\",\n",
      "    \"Commitment embodies the idea of being dedicated to a cause or person, resonating with the soldier's resolve.\"\n",
      "  ]\n",
      "}\n",
      "```\n"
     ]
    }
   ],
   "source": [
    "print(output.content)"
   ]
  },
  {
   "cell_type": "code",
   "execution_count": 17,
   "id": "417115f0-db98-4acc-a5a9-632c0859c143",
   "metadata": {},
   "outputs": [
    {
     "data": {
      "text/plain": [
       "Suggestions_Output_Structure(words=['fidelity', 'devotion', 'allegiance', 'faithfulness', 'commitment'], reasons=[\"Fidelity captures the idea of being faithful to a person or cause, similar to the soldier's unwavering support.\", \"Devotion emphasizes a strong love or loyalty, reflecting the soldier's dedication to his comrades.\", \"Allegiance refers to the loyalty owed to one's country or comrades, making it a fitting substitute in a military context.\", \"Faithfulness suggests a steadfastness and reliability in one's commitments, aligning with the soldier's character.\", \"Commitment embodies the idea of being dedicated to a cause or person, resonating with the soldier's resolve.\"])"
      ]
     },
     "execution_count": 17,
     "metadata": {},
     "output_type": "execute_result"
    }
   ],
   "source": [
    "# my_parser.parse(output)\n",
    "my_parser.parse(output.content)"
   ]
  }
 ],
 "metadata": {
  "kernelspec": {
   "display_name": "Python 3 (ipykernel)",
   "language": "python",
   "name": "python3"
  },
  "language_info": {
   "codemirror_mode": {
    "name": "ipython",
    "version": 3
   },
   "file_extension": ".py",
   "mimetype": "text/x-python",
   "name": "python",
   "nbconvert_exporter": "python",
   "pygments_lexer": "ipython3",
   "version": "3.11.11"
  }
 },
 "nbformat": 4,
 "nbformat_minor": 5
}
